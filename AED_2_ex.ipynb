{
  "nbformat": 4,
  "nbformat_minor": 0,
  "metadata": {
    "colab": {
      "name": "AED_2_ex.ipynb",
      "provenance": [],
      "authorship_tag": "ABX9TyOTViWqjqcSRENSNYP7eRYb",
      "include_colab_link": true
    },
    "kernelspec": {
      "name": "ir",
      "display_name": "R"
    },
    "language_info": {
      "name": "R"
    }
  },
  "cells": [
    {
      "cell_type": "markdown",
      "metadata": {
        "id": "view-in-github",
        "colab_type": "text"
      },
      "source": [
        "<a href=\"https://colab.research.google.com/github/Rogerio-mack/Analise_Exploratoria_de_Dados/blob/main/AED_2_ex.ipynb\" target=\"_parent\"><img src=\"https://colab.research.google.com/assets/colab-badge.svg\" alt=\"Open In Colab\"/></a>"
      ]
    },
    {
      "cell_type": "markdown",
      "metadata": {
        "id": "eVOmaNaGmcfP"
      },
      "source": [
        "<img src=\"http://meusite.mackenzie.br/rogerio/mackenzie_logo/UPM.2_horizontal_vermelho.jpg\"  width=300, align=\"right\">\n",
        "<br>\n",
        "<br>\n",
        "<br>\n",
        "<br>\n",
        "<br>"
      ]
    },
    {
      "cell_type": "markdown",
      "metadata": {
        "id": "sIMlkw_fmcfX"
      },
      "source": [
        "# Programação em R\n",
        "---"
      ]
    },
    {
      "cell_type": "markdown",
      "metadata": {
        "id": "Ee-OUv_QmcfY"
      },
      "source": [
        "Aqui você vai fazer algumas explorações de dados fazendo seleções e empregando o que você já aprendeu de R."
      ]
    },
    {
      "cell_type": "markdown",
      "metadata": {
        "id": "I8swFGMhmcfY"
      },
      "source": [
        "# Exercícios \n",
        "\n",
        "Após fazer os exercícios **responda o questionário correspondente no Moodle**."
      ]
    },
    {
      "cell_type": "markdown",
      "metadata": {
        "id": "a2DItQ6GmcfY"
      },
      "source": [
        "# **CASE** Seguros\n",
        "\n",
        "Considere a seguinte base de dados de seguros:\n",
        "\n",
        "http://meusite.mackenzie.br/rogerio/data_load/insurance.csv\n",
        "\n",
        "e responda as perguntas a seguir."
      ]
    },
    {
      "cell_type": "markdown",
      "metadata": {
        "id": "W5cnIf5tmcfa"
      },
      "source": [
        "# Exercício 0\n",
        "Antes de começar acesse os dados"
      ]
    },
    {
      "cell_type": "markdown",
      "metadata": {
        "id": "2_WNgl5MnMt3"
      },
      "source": [
        "# Exercicio 1\n",
        "Qual a quantidade de registros da base de dados? "
      ]
    },
    {
      "cell_type": "markdown",
      "metadata": {
        "id": "_Ld3OYwzoGaP"
      },
      "source": [
        "# Exercicio 2\n",
        "Quais são os atributos numéricos e categóricos (assumem valores não numéricos)  na base? Quantos há de cada?  "
      ]
    },
    {
      "cell_type": "markdown",
      "metadata": {
        "id": "F8IRkeYrqNCz"
      },
      "source": [
        "# Exercicio 3\n",
        "Quantas regiões estão presentes na base de dados? \n",
        "\n",
        "Dica: empregue `table( )` ou `unique( )`"
      ]
    },
    {
      "cell_type": "markdown",
      "metadata": {
        "id": "q7tEVO3SrUWt"
      },
      "source": [
        "# Exercício 4\n",
        "\n",
        "Empregue `summary()` para obter estatísticas sumarizadas dos dados. Qual a média de idade dos segurados?"
      ]
    },
    {
      "cell_type": "markdown",
      "metadata": {
        "id": "m44WNwUQsBby"
      },
      "source": [
        "# Exercício 5\n",
        "\n",
        "Empregue `mean()` para a média das cobranças (charges) dos segurados."
      ]
    },
    {
      "cell_type": "markdown",
      "metadata": {
        "id": "r-oG2OR3mcfb"
      },
      "source": [
        "# Exercício 6\n",
        "Qual a quantidade de segurados fumantes?"
      ]
    },
    {
      "cell_type": "markdown",
      "metadata": {
        "id": "_2fuwrVCtjDJ"
      },
      "source": [
        "# Exercício 7\n",
        "Qual o percentual de segurados fumantes?"
      ]
    },
    {
      "cell_type": "markdown",
      "metadata": {
        "id": "J2VDx0F2mcfc"
      },
      "source": [
        "# Exercício 8\n",
        "Qual o percentual de segurados fumantes do sexo feminino?"
      ]
    },
    {
      "cell_type": "markdown",
      "metadata": {
        "id": "WJ-x-Ty1mcfc"
      },
      "source": [
        "# Exercício 9\n",
        "Qual a média de despesas dos segurados com menos de 21 anos?"
      ]
    },
    {
      "cell_type": "markdown",
      "metadata": {
        "id": "XDwg68b9mcfc"
      },
      "source": [
        "# Exercício 10 \n",
        "Qual o percentual de cobranças (com relação ao total da base) para seguradas com idade < 25 anos? "
      ]
    }
  ]
}