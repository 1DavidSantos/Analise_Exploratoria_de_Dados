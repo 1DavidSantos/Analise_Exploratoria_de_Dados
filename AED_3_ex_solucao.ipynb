{
  "nbformat": 4,
  "nbformat_minor": 0,
  "metadata": {
    "colab": {
      "name": "AED_3_ex_solucao",
      "provenance": [],
      "authorship_tag": "ABX9TyNMEbObLe+bYMX9Opqxi3hQ",
      "include_colab_link": true
    },
    "kernelspec": {
      "name": "ir",
      "display_name": "R"
    },
    "language_info": {
      "name": "R"
    }
  },
  "cells": [
    {
      "cell_type": "markdown",
      "metadata": {
        "id": "view-in-github",
        "colab_type": "text"
      },
      "source": [
        "<a href=\"https://colab.research.google.com/github/Rogerio-mack/Analise_Exploratoria_de_Dados/blob/main/AED_3_ex_solucao.ipynb\" target=\"_parent\"><img src=\"https://colab.research.google.com/assets/colab-badge.svg\" alt=\"Open In Colab\"/></a>"
      ]
    },
    {
      "cell_type": "markdown",
      "metadata": {
        "id": "40b90843"
      },
      "source": [
        "<img src=\"http://meusite.mackenzie.br/rogerio/mackenzie_logo/UPM.2_horizontal_vermelho.jpg\"  width=300, align=\"right\">\n",
        "<br>\n",
        "<br>\n",
        "<br>\n",
        "<br>\n",
        "<br>\n",
        "\n",
        "# Estatística Descritiva em R\n",
        "---"
      ]
    },
    {
      "cell_type": "markdown",
      "metadata": {
        "id": "f59d854c"
      },
      "source": [
        "# Exercícios"
      ]
    },
    {
      "cell_type": "markdown",
      "metadata": {
        "id": "6a28cc58"
      },
      "source": [
        "## Exercício 1\n",
        "\n",
        "Considere a base."
      ]
    },
    {
      "cell_type": "code",
      "metadata": {
        "kernel": "R",
        "tags": [
          "report_cell"
        ],
        "id": "272f6582",
        "colab": {
          "base_uri": "https://localhost:8080/",
          "height": 303
        },
        "outputId": "3276ee30-c03b-42b1-b6aa-7e3cdaadd047"
      },
      "source": [
        "df = read.csv('http://meusite.mackenzie.br/rogerio/TIC/Life_Expectancy_Data.csv')\n",
        "df = na.omit(df)\n",
        "head(df)"
      ],
      "execution_count": 1,
      "outputs": [
        {
          "output_type": "display_data",
          "data": {
            "text/plain": [
              "  Country     Year Status     Life.expectancy Adult.Mortality infant.deaths\n",
              "1 Afghanistan 2015 Developing 65.0            263             62           \n",
              "2 Afghanistan 2014 Developing 59.9            271             64           \n",
              "3 Afghanistan 2013 Developing 59.9            268             66           \n",
              "4 Afghanistan 2012 Developing 59.5            272             69           \n",
              "5 Afghanistan 2011 Developing 59.2            275             71           \n",
              "6 Afghanistan 2010 Developing 58.8            279             74           \n",
              "  Alcohol percentage.expenditure Hepatitis.B Measles ⋯ Polio Total.expenditure\n",
              "1 0.01    71.279624              65          1154    ⋯  6    8.16             \n",
              "2 0.01    73.523582              62           492    ⋯ 58    8.18             \n",
              "3 0.01    73.219243              64           430    ⋯ 62    8.13             \n",
              "4 0.01    78.184215              67          2787    ⋯ 67    8.52             \n",
              "5 0.01     7.097109              68          3013    ⋯ 68    7.87             \n",
              "6 0.01    79.679367              66          1989    ⋯ 66    9.20             \n",
              "  Diphtheria HIV.AIDS GDP       Population thinness..1.19.years\n",
              "1 65         0.1      584.25921 33736494   17.2                \n",
              "2 62         0.1      612.69651   327582   17.5                \n",
              "3 64         0.1      631.74498 31731688   17.7                \n",
              "4 67         0.1      669.95900  3696958   17.9                \n",
              "5 68         0.1       63.53723  2978599   18.2                \n",
              "6 66         0.1      553.32894  2883167   18.4                \n",
              "  thinness.5.9.years Income.composition.of.resources Schooling\n",
              "1 17.3               0.479                           10.1     \n",
              "2 17.5               0.476                           10.0     \n",
              "3 17.7               0.470                            9.9     \n",
              "4 18.0               0.463                            9.8     \n",
              "5 18.2               0.454                            9.5     \n",
              "6 18.4               0.448                            9.2     "
            ],
            "text/latex": "A data.frame: 6 × 22\n\\begin{tabular}{r|lllllllllllllllllllll}\n  & Country & Year & Status & Life.expectancy & Adult.Mortality & infant.deaths & Alcohol & percentage.expenditure & Hepatitis.B & Measles & ⋯ & Polio & Total.expenditure & Diphtheria & HIV.AIDS & GDP & Population & thinness..1.19.years & thinness.5.9.years & Income.composition.of.resources & Schooling\\\\\n  & <chr> & <int> & <chr> & <dbl> & <int> & <int> & <dbl> & <dbl> & <int> & <int> & ⋯ & <int> & <dbl> & <int> & <dbl> & <dbl> & <dbl> & <dbl> & <dbl> & <dbl> & <dbl>\\\\\n\\hline\n\t1 & Afghanistan & 2015 & Developing & 65.0 & 263 & 62 & 0.01 & 71.279624 & 65 & 1154 & ⋯ &  6 & 8.16 & 65 & 0.1 & 584.25921 & 33736494 & 17.2 & 17.3 & 0.479 & 10.1\\\\\n\t2 & Afghanistan & 2014 & Developing & 59.9 & 271 & 64 & 0.01 & 73.523582 & 62 &  492 & ⋯ & 58 & 8.18 & 62 & 0.1 & 612.69651 &   327582 & 17.5 & 17.5 & 0.476 & 10.0\\\\\n\t3 & Afghanistan & 2013 & Developing & 59.9 & 268 & 66 & 0.01 & 73.219243 & 64 &  430 & ⋯ & 62 & 8.13 & 64 & 0.1 & 631.74498 & 31731688 & 17.7 & 17.7 & 0.470 &  9.9\\\\\n\t4 & Afghanistan & 2012 & Developing & 59.5 & 272 & 69 & 0.01 & 78.184215 & 67 & 2787 & ⋯ & 67 & 8.52 & 67 & 0.1 & 669.95900 &  3696958 & 17.9 & 18.0 & 0.463 &  9.8\\\\\n\t5 & Afghanistan & 2011 & Developing & 59.2 & 275 & 71 & 0.01 &  7.097109 & 68 & 3013 & ⋯ & 68 & 7.87 & 68 & 0.1 &  63.53723 &  2978599 & 18.2 & 18.2 & 0.454 &  9.5\\\\\n\t6 & Afghanistan & 2010 & Developing & 58.8 & 279 & 74 & 0.01 & 79.679367 & 66 & 1989 & ⋯ & 66 & 9.20 & 66 & 0.1 & 553.32894 &  2883167 & 18.4 & 18.4 & 0.448 &  9.2\\\\\n\\end{tabular}\n",
            "text/markdown": "\nA data.frame: 6 × 22\n\n| <!--/--> | Country &lt;chr&gt; | Year &lt;int&gt; | Status &lt;chr&gt; | Life.expectancy &lt;dbl&gt; | Adult.Mortality &lt;int&gt; | infant.deaths &lt;int&gt; | Alcohol &lt;dbl&gt; | percentage.expenditure &lt;dbl&gt; | Hepatitis.B &lt;int&gt; | Measles &lt;int&gt; | ⋯ ⋯ | Polio &lt;int&gt; | Total.expenditure &lt;dbl&gt; | Diphtheria &lt;int&gt; | HIV.AIDS &lt;dbl&gt; | GDP &lt;dbl&gt; | Population &lt;dbl&gt; | thinness..1.19.years &lt;dbl&gt; | thinness.5.9.years &lt;dbl&gt; | Income.composition.of.resources &lt;dbl&gt; | Schooling &lt;dbl&gt; |\n|---|---|---|---|---|---|---|---|---|---|---|---|---|---|---|---|---|---|---|---|---|---|\n| 1 | Afghanistan | 2015 | Developing | 65.0 | 263 | 62 | 0.01 | 71.279624 | 65 | 1154 | ⋯ |  6 | 8.16 | 65 | 0.1 | 584.25921 | 33736494 | 17.2 | 17.3 | 0.479 | 10.1 |\n| 2 | Afghanistan | 2014 | Developing | 59.9 | 271 | 64 | 0.01 | 73.523582 | 62 |  492 | ⋯ | 58 | 8.18 | 62 | 0.1 | 612.69651 |   327582 | 17.5 | 17.5 | 0.476 | 10.0 |\n| 3 | Afghanistan | 2013 | Developing | 59.9 | 268 | 66 | 0.01 | 73.219243 | 64 |  430 | ⋯ | 62 | 8.13 | 64 | 0.1 | 631.74498 | 31731688 | 17.7 | 17.7 | 0.470 |  9.9 |\n| 4 | Afghanistan | 2012 | Developing | 59.5 | 272 | 69 | 0.01 | 78.184215 | 67 | 2787 | ⋯ | 67 | 8.52 | 67 | 0.1 | 669.95900 |  3696958 | 17.9 | 18.0 | 0.463 |  9.8 |\n| 5 | Afghanistan | 2011 | Developing | 59.2 | 275 | 71 | 0.01 |  7.097109 | 68 | 3013 | ⋯ | 68 | 7.87 | 68 | 0.1 |  63.53723 |  2978599 | 18.2 | 18.2 | 0.454 |  9.5 |\n| 6 | Afghanistan | 2010 | Developing | 58.8 | 279 | 74 | 0.01 | 79.679367 | 66 | 1989 | ⋯ | 66 | 9.20 | 66 | 0.1 | 553.32894 |  2883167 | 18.4 | 18.4 | 0.448 |  9.2 |\n\n",
            "text/html": [
              "<table class=\"dataframe\">\n",
              "<caption>A data.frame: 6 × 22</caption>\n",
              "<thead>\n",
              "\t<tr><th></th><th scope=col>Country</th><th scope=col>Year</th><th scope=col>Status</th><th scope=col>Life.expectancy</th><th scope=col>Adult.Mortality</th><th scope=col>infant.deaths</th><th scope=col>Alcohol</th><th scope=col>percentage.expenditure</th><th scope=col>Hepatitis.B</th><th scope=col>Measles</th><th scope=col>⋯</th><th scope=col>Polio</th><th scope=col>Total.expenditure</th><th scope=col>Diphtheria</th><th scope=col>HIV.AIDS</th><th scope=col>GDP</th><th scope=col>Population</th><th scope=col>thinness..1.19.years</th><th scope=col>thinness.5.9.years</th><th scope=col>Income.composition.of.resources</th><th scope=col>Schooling</th></tr>\n",
              "\t<tr><th></th><th scope=col>&lt;chr&gt;</th><th scope=col>&lt;int&gt;</th><th scope=col>&lt;chr&gt;</th><th scope=col>&lt;dbl&gt;</th><th scope=col>&lt;int&gt;</th><th scope=col>&lt;int&gt;</th><th scope=col>&lt;dbl&gt;</th><th scope=col>&lt;dbl&gt;</th><th scope=col>&lt;int&gt;</th><th scope=col>&lt;int&gt;</th><th scope=col>⋯</th><th scope=col>&lt;int&gt;</th><th scope=col>&lt;dbl&gt;</th><th scope=col>&lt;int&gt;</th><th scope=col>&lt;dbl&gt;</th><th scope=col>&lt;dbl&gt;</th><th scope=col>&lt;dbl&gt;</th><th scope=col>&lt;dbl&gt;</th><th scope=col>&lt;dbl&gt;</th><th scope=col>&lt;dbl&gt;</th><th scope=col>&lt;dbl&gt;</th></tr>\n",
              "</thead>\n",
              "<tbody>\n",
              "\t<tr><th scope=row>1</th><td>Afghanistan</td><td>2015</td><td>Developing</td><td>65.0</td><td>263</td><td>62</td><td>0.01</td><td>71.279624</td><td>65</td><td>1154</td><td>⋯</td><td> 6</td><td>8.16</td><td>65</td><td>0.1</td><td>584.25921</td><td>33736494</td><td>17.2</td><td>17.3</td><td>0.479</td><td>10.1</td></tr>\n",
              "\t<tr><th scope=row>2</th><td>Afghanistan</td><td>2014</td><td>Developing</td><td>59.9</td><td>271</td><td>64</td><td>0.01</td><td>73.523582</td><td>62</td><td> 492</td><td>⋯</td><td>58</td><td>8.18</td><td>62</td><td>0.1</td><td>612.69651</td><td>  327582</td><td>17.5</td><td>17.5</td><td>0.476</td><td>10.0</td></tr>\n",
              "\t<tr><th scope=row>3</th><td>Afghanistan</td><td>2013</td><td>Developing</td><td>59.9</td><td>268</td><td>66</td><td>0.01</td><td>73.219243</td><td>64</td><td> 430</td><td>⋯</td><td>62</td><td>8.13</td><td>64</td><td>0.1</td><td>631.74498</td><td>31731688</td><td>17.7</td><td>17.7</td><td>0.470</td><td> 9.9</td></tr>\n",
              "\t<tr><th scope=row>4</th><td>Afghanistan</td><td>2012</td><td>Developing</td><td>59.5</td><td>272</td><td>69</td><td>0.01</td><td>78.184215</td><td>67</td><td>2787</td><td>⋯</td><td>67</td><td>8.52</td><td>67</td><td>0.1</td><td>669.95900</td><td> 3696958</td><td>17.9</td><td>18.0</td><td>0.463</td><td> 9.8</td></tr>\n",
              "\t<tr><th scope=row>5</th><td>Afghanistan</td><td>2011</td><td>Developing</td><td>59.2</td><td>275</td><td>71</td><td>0.01</td><td> 7.097109</td><td>68</td><td>3013</td><td>⋯</td><td>68</td><td>7.87</td><td>68</td><td>0.1</td><td> 63.53723</td><td> 2978599</td><td>18.2</td><td>18.2</td><td>0.454</td><td> 9.5</td></tr>\n",
              "\t<tr><th scope=row>6</th><td>Afghanistan</td><td>2010</td><td>Developing</td><td>58.8</td><td>279</td><td>74</td><td>0.01</td><td>79.679367</td><td>66</td><td>1989</td><td>⋯</td><td>66</td><td>9.20</td><td>66</td><td>0.1</td><td>553.32894</td><td> 2883167</td><td>18.4</td><td>18.4</td><td>0.448</td><td> 9.2</td></tr>\n",
              "</tbody>\n",
              "</table>\n"
            ]
          },
          "metadata": {}
        }
      ]
    },
    {
      "cell_type": "markdown",
      "metadata": {
        "id": "a753b0a8"
      },
      "source": [
        "1. Explore os dados. Quantos registros, quantidade de atributos, período etc.\n",
        "\n",
        "**Solução**"
      ]
    },
    {
      "cell_type": "code",
      "metadata": {
        "kernel": "R",
        "tags": [
          "report_cell"
        ],
        "id": "dfd0d747",
        "colab": {
          "base_uri": "https://localhost:8080/",
          "height": 119
        },
        "outputId": "c8797684-6306-4658-d86e-4b792b161719"
      },
      "source": [
        "nrow(df)\n",
        "ncol(df)\n",
        "table(df$Status)\n",
        "unique(df$Year)"
      ],
      "execution_count": 2,
      "outputs": [
        {
          "output_type": "display_data",
          "data": {
            "text/plain": [
              "[1] 1649"
            ],
            "text/latex": "1649",
            "text/markdown": "1649",
            "text/html": [
              "1649"
            ]
          },
          "metadata": {}
        },
        {
          "output_type": "display_data",
          "data": {
            "text/plain": [
              "[1] 22"
            ],
            "text/latex": "22",
            "text/markdown": "22",
            "text/html": [
              "22"
            ]
          },
          "metadata": {}
        },
        {
          "output_type": "display_data",
          "data": {
            "text/plain": [
              "\n",
              " Developed Developing \n",
              "       242       1407 "
            ]
          },
          "metadata": {}
        },
        {
          "output_type": "display_data",
          "data": {
            "text/plain": [
              " [1] 2015 2014 2013 2012 2011 2010 2009 2008 2007 2006 2005 2004 2003 2002 2001\n",
              "[16] 2000"
            ],
            "text/latex": "\\begin{enumerate*}\n\\item 2015\n\\item 2014\n\\item 2013\n\\item 2012\n\\item 2011\n\\item 2010\n\\item 2009\n\\item 2008\n\\item 2007\n\\item 2006\n\\item 2005\n\\item 2004\n\\item 2003\n\\item 2002\n\\item 2001\n\\item 2000\n\\end{enumerate*}\n",
            "text/markdown": "1. 2015\n2. 2014\n3. 2013\n4. 2012\n5. 2011\n6. 2010\n7. 2009\n8. 2008\n9. 2007\n10. 2006\n11. 2005\n12. 2004\n13. 2003\n14. 2002\n15. 2001\n16. 2000\n\n\n",
            "text/html": [
              "<style>\n",
              ".list-inline {list-style: none; margin:0; padding: 0}\n",
              ".list-inline>li {display: inline-block}\n",
              ".list-inline>li:not(:last-child)::after {content: \"\\00b7\"; padding: 0 .5ex}\n",
              "</style>\n",
              "<ol class=list-inline><li>2015</li><li>2014</li><li>2013</li><li>2012</li><li>2011</li><li>2010</li><li>2009</li><li>2008</li><li>2007</li><li>2006</li><li>2005</li><li>2004</li><li>2003</li><li>2002</li><li>2001</li><li>2000</li></ol>\n"
            ]
          },
          "metadata": {}
        }
      ]
    },
    {
      "cell_type": "markdown",
      "metadata": {
        "id": "e787ab6a"
      },
      "source": [
        "2. Selecione somente os dados de 2014 e empregue eles nos exercícios a seguir. Verifique a quantidade de registros resultante.\n",
        "\n",
        "**Solução**"
      ]
    },
    {
      "cell_type": "code",
      "metadata": {
        "kernel": "R",
        "tags": [
          "report_cell"
        ],
        "id": "645df6e3",
        "colab": {
          "base_uri": "https://localhost:8080/",
          "height": 34
        },
        "outputId": "22feef7c-6213-4c3a-ec6c-9dd4f3489da7"
      },
      "source": [
        "df = df[df$Year == 2014,]\n",
        "nrow(df)"
      ],
      "execution_count": 3,
      "outputs": [
        {
          "output_type": "display_data",
          "data": {
            "text/plain": [
              "[1] 131"
            ],
            "text/latex": "131",
            "text/markdown": "131",
            "text/html": [
              "131"
            ]
          },
          "metadata": {}
        }
      ]
    },
    {
      "cell_type": "markdown",
      "metadata": {
        "id": "8639f6db"
      },
      "source": [
        "3. Qual a média de Expectativa de Vida para os países em desenvolvimento e desenvolvidos em 2014?\n",
        "\n",
        "**Solução**"
      ]
    },
    {
      "cell_type": "code",
      "metadata": {
        "kernel": "R",
        "tags": [
          "report_cell"
        ],
        "id": "9b5fa218",
        "colab": {
          "base_uri": "https://localhost:8080/"
        },
        "outputId": "63f17a8e-d92d-4836-efd2-8364099d13e3"
      },
      "source": [
        "for (s in unique(df$Status)){\n",
        "  cat('\\n', s , '\\n',  mean(df[df$Status == s, ]$Life.expectancy) )\n",
        "}"
      ],
      "execution_count": 4,
      "outputs": [
        {
          "output_type": "stream",
          "name": "stdout",
          "text": [
            "\n",
            " Developing \n",
            " 68.7375\n",
            " Developed \n",
            " 81.02632"
          ]
        }
      ]
    },
    {
      "cell_type": "markdown",
      "metadata": {
        "id": "f416dd8f"
      },
      "source": [
        "4. Qual a média, mediana e quartis de BMI e Expectativa de Vida para os países desenvolvidos em 2014?\n",
        "\n",
        "**Solução**"
      ]
    },
    {
      "cell_type": "code",
      "metadata": {
        "kernel": "R",
        "tags": [
          "report_cell"
        ],
        "id": "6c706ab8",
        "colab": {
          "base_uri": "https://localhost:8080/",
          "height": 136
        },
        "outputId": "285325d8-5f76-44b1-82e4-3db4cb891be0"
      },
      "source": [
        "summary( df[df$Status == 'Developed', c('BMI','Life.expectancy')] )"
      ],
      "execution_count": 5,
      "outputs": [
        {
          "output_type": "display_data",
          "data": {
            "text/plain": [
              "      BMI        Life.expectancy\n",
              " Min.   : 6.70   Min.   :73.40  \n",
              " 1st Qu.:59.40   1st Qu.:77.55  \n",
              " Median :61.90   Median :81.70  \n",
              " Mean   :53.73   Mean   :81.03  \n",
              " 3rd Qu.:63.25   3rd Qu.:82.65  \n",
              " Max.   :69.20   Max.   :89.00  "
            ]
          },
          "metadata": {}
        }
      ]
    },
    {
      "cell_type": "markdown",
      "metadata": {
        "id": "205b69b7"
      },
      "source": [
        "5. Qual a média e desvio padrão para os valores de BMI e Expectativa de Vida para os países em desenvolvimento e desenvolvidos em 2014?\n",
        "\n",
        "**Solução**"
      ]
    },
    {
      "cell_type": "code",
      "metadata": {
        "kernel": "R",
        "tags": [
          "report_cell"
        ],
        "id": "124c21e2",
        "colab": {
          "base_uri": "https://localhost:8080/"
        },
        "outputId": "cc8c79f3-7c50-4a2b-83c0-2c1a09f5a18c"
      },
      "source": [
        "for (s in unique(df$Status)){\n",
        "  cat('\\n', s , '\\nLife',  mean(df[df$Status == s, ]$Life.expectancy),\n",
        "      sd(df[df$Status == s, ]$Life.expectancy))\n",
        "  cat('\\nBMI',  mean(df[df$Status == s, ]$BMI),\n",
        "      sd(df[df$Status == s, ]$BMI))\n",
        "}"
      ],
      "execution_count": 6,
      "outputs": [
        {
          "output_type": "stream",
          "name": "stdout",
          "text": [
            "\n",
            " Developing \n",
            "Life 68.7375 7.802784\n",
            "BMI 38.22679 19.91127\n",
            " Developed \n",
            "Life 81.02632 4.803337\n",
            "BMI 53.73158 21.0463"
          ]
        }
      ]
    },
    {
      "cell_type": "markdown",
      "metadata": {
        "id": "8c9ba974"
      },
      "source": [
        "6. Existe correlação significativa entre BMI e Expectativa de Vida para os desenvolvidos em 2014?\n",
        "\n",
        "**Solução**"
      ]
    },
    {
      "cell_type": "code",
      "metadata": {
        "kernel": "R",
        "tags": [
          "report_cell"
        ],
        "id": "d784be70",
        "colab": {
          "base_uri": "https://localhost:8080/",
          "height": 34
        },
        "outputId": "ba70b950-6b98-4278-ee48-5403d7844369"
      },
      "source": [
        "cor(df[df$Status == 'Developed', ]$Life.expectancy,df[df$Status == 'Developed', , ]$BMI)\n",
        "# Próximo de 0, não existe correlação"
      ],
      "execution_count": 7,
      "outputs": [
        {
          "output_type": "display_data",
          "data": {
            "text/plain": [
              "[1] -0.05476602"
            ],
            "text/latex": "-0.0547660248913801",
            "text/markdown": "-0.0547660248913801",
            "text/html": [
              "-0.0547660248913801"
            ]
          },
          "metadata": {}
        }
      ]
    },
    {
      "cell_type": "markdown",
      "metadata": {
        "id": "410a2c2b"
      },
      "source": [
        "7. E para países em desenvolvimento, existe correlação significativa entre BMI e Expectativa de Vida em 2014?\n",
        "\n",
        "**Solução**"
      ]
    },
    {
      "cell_type": "code",
      "metadata": {
        "kernel": "R",
        "tags": [
          "report_cell"
        ],
        "id": "70b8aefe",
        "colab": {
          "base_uri": "https://localhost:8080/",
          "height": 34
        },
        "outputId": "21154dec-62ea-4cbf-f847-2fbd05757c10"
      },
      "source": [
        "cor(df[df$Status == 'Developing', ]$Life.expectancy,df[df$Status == 'Developing', , ]$BMI)\n",
        "# Próximo de 1, existe correlação positiva!"
      ],
      "execution_count": 8,
      "outputs": [
        {
          "output_type": "display_data",
          "data": {
            "text/plain": [
              "[1] 0.5730623"
            ],
            "text/latex": "0.573062271063731",
            "text/markdown": "0.573062271063731",
            "text/html": [
              "0.573062271063731"
            ]
          },
          "metadata": {}
        }
      ]
    },
    {
      "cell_type": "markdown",
      "metadata": {
        "id": "e9193695"
      },
      "source": [
        "8. Leia os dados novamente com todos os anos. Existem *outliers* de BMI e Expectativa de Vida no conjunto de todos os países? Se sim, quantos dados são outliers? (empregue o critério dos interquartis)\n",
        "\n",
        "DICA: empregue o comando `df = na.omit(df)` para eliminar valores ausentes nos dados como fizemos no início do exercício.\n",
        "\n",
        "**Solução**"
      ]
    },
    {
      "cell_type": "code",
      "metadata": {
        "colab": {
          "base_uri": "https://localhost:8080/",
          "height": 34
        },
        "id": "Y2FDBWa3iLQh",
        "outputId": "e4d6e54e-0f68-4e6e-b362-1a660612148f"
      },
      "source": [
        "df = read.csv('http://meusite.mackenzie.br/rogerio/TIC/Life_Expectancy_Data.csv')\n",
        "df = na.omit(df)\n",
        "\n",
        "require(stats)\n",
        "iqr = IQR(df$BMI)\n",
        "\n",
        "nrow(df[ (df$BMI > quantile(df$BMI,0.75) + 1.5*iqr) |\n",
        "          (df$BMI < quantile(df$BMI,0.25) - 1.5*iqr), ])\n",
        "\n",
        "# iqr = IQR(df$Life.expectancy)"
      ],
      "execution_count": 27,
      "outputs": [
        {
          "output_type": "display_data",
          "data": {
            "text/plain": [
              "[1] 0"
            ],
            "text/latex": "0",
            "text/markdown": "0",
            "text/html": [
              "0"
            ]
          },
          "metadata": {}
        }
      ]
    },
    {
      "cell_type": "code",
      "metadata": {
        "colab": {
          "base_uri": "https://localhost:8080/",
          "height": 34
        },
        "id": "pJV7bA20iNix",
        "outputId": "6d54f272-6a88-461a-9796-83dd0473bde5"
      },
      "source": [
        "quantile(df$BMI,0.25)"
      ],
      "execution_count": 26,
      "outputs": [
        {
          "output_type": "display_data",
          "data": {
            "text/plain": [
              " 25% \n",
              "19.5 "
            ],
            "text/latex": "\\textbf{25\\textbackslash{}\\%:} 19.5",
            "text/markdown": "**25%:** 19.5",
            "text/html": [
              "<strong>25%:</strong> 19.5"
            ]
          },
          "metadata": {}
        }
      ]
    },
    {
      "cell_type": "code",
      "metadata": {
        "kernel": "R",
        "tags": [
          "report_cell"
        ],
        "id": "88523863",
        "colab": {
          "base_uri": "https://localhost:8080/",
          "height": 1000
        },
        "outputId": "66c4d6b1-4f3d-443c-ee4c-651358cdfed9"
      },
      "source": [
        "df = read.csv('http://meusite.mackenzie.br/rogerio/TIC/Life_Expectancy_Data.csv')\n",
        "df = na.omit(df)\n",
        "head(df)\n",
        "\n",
        "boxplot(df$BMI)\n",
        "boxplot(df$Life.expectancy)\n",
        "\n",
        "require(stats)\n",
        "iqr = IQR(df$BMI)\n",
        "\n",
        "nrow(df[ (df$BMI > quantile(df$BMI,0.75) + 1.5*iqr) |\n",
        "          (df$BMI < quantile(df$BMI,0.25) - 1.5*iqr), ])\n",
        "\n",
        "iqr = IQR(df$Life.expectancy)\n",
        "\n",
        "nrow(df[ (df$Life.expectancy > quantile(df$Life.expectancy,0.75) + 1.5*iqr) |\n",
        "          (df$Life.expectancy < quantile(df$Life.expectancy,0.25) - 1.5*iqr), ])\n",
        "\n",
        "# existem outliers somente para Life.expectancy, 39 valores"
      ],
      "execution_count": 28,
      "outputs": [
        {
          "output_type": "display_data",
          "data": {
            "text/plain": [
              "  Country     Year Status     Life.expectancy Adult.Mortality infant.deaths\n",
              "1 Afghanistan 2015 Developing 65.0            263             62           \n",
              "2 Afghanistan 2014 Developing 59.9            271             64           \n",
              "3 Afghanistan 2013 Developing 59.9            268             66           \n",
              "4 Afghanistan 2012 Developing 59.5            272             69           \n",
              "5 Afghanistan 2011 Developing 59.2            275             71           \n",
              "6 Afghanistan 2010 Developing 58.8            279             74           \n",
              "  Alcohol percentage.expenditure Hepatitis.B Measles ⋯ Polio Total.expenditure\n",
              "1 0.01    71.279624              65          1154    ⋯  6    8.16             \n",
              "2 0.01    73.523582              62           492    ⋯ 58    8.18             \n",
              "3 0.01    73.219243              64           430    ⋯ 62    8.13             \n",
              "4 0.01    78.184215              67          2787    ⋯ 67    8.52             \n",
              "5 0.01     7.097109              68          3013    ⋯ 68    7.87             \n",
              "6 0.01    79.679367              66          1989    ⋯ 66    9.20             \n",
              "  Diphtheria HIV.AIDS GDP       Population thinness..1.19.years\n",
              "1 65         0.1      584.25921 33736494   17.2                \n",
              "2 62         0.1      612.69651   327582   17.5                \n",
              "3 64         0.1      631.74498 31731688   17.7                \n",
              "4 67         0.1      669.95900  3696958   17.9                \n",
              "5 68         0.1       63.53723  2978599   18.2                \n",
              "6 66         0.1      553.32894  2883167   18.4                \n",
              "  thinness.5.9.years Income.composition.of.resources Schooling\n",
              "1 17.3               0.479                           10.1     \n",
              "2 17.5               0.476                           10.0     \n",
              "3 17.7               0.470                            9.9     \n",
              "4 18.0               0.463                            9.8     \n",
              "5 18.2               0.454                            9.5     \n",
              "6 18.4               0.448                            9.2     "
            ],
            "text/latex": "A data.frame: 6 × 22\n\\begin{tabular}{r|lllllllllllllllllllll}\n  & Country & Year & Status & Life.expectancy & Adult.Mortality & infant.deaths & Alcohol & percentage.expenditure & Hepatitis.B & Measles & ⋯ & Polio & Total.expenditure & Diphtheria & HIV.AIDS & GDP & Population & thinness..1.19.years & thinness.5.9.years & Income.composition.of.resources & Schooling\\\\\n  & <chr> & <int> & <chr> & <dbl> & <int> & <int> & <dbl> & <dbl> & <int> & <int> & ⋯ & <int> & <dbl> & <int> & <dbl> & <dbl> & <dbl> & <dbl> & <dbl> & <dbl> & <dbl>\\\\\n\\hline\n\t1 & Afghanistan & 2015 & Developing & 65.0 & 263 & 62 & 0.01 & 71.279624 & 65 & 1154 & ⋯ &  6 & 8.16 & 65 & 0.1 & 584.25921 & 33736494 & 17.2 & 17.3 & 0.479 & 10.1\\\\\n\t2 & Afghanistan & 2014 & Developing & 59.9 & 271 & 64 & 0.01 & 73.523582 & 62 &  492 & ⋯ & 58 & 8.18 & 62 & 0.1 & 612.69651 &   327582 & 17.5 & 17.5 & 0.476 & 10.0\\\\\n\t3 & Afghanistan & 2013 & Developing & 59.9 & 268 & 66 & 0.01 & 73.219243 & 64 &  430 & ⋯ & 62 & 8.13 & 64 & 0.1 & 631.74498 & 31731688 & 17.7 & 17.7 & 0.470 &  9.9\\\\\n\t4 & Afghanistan & 2012 & Developing & 59.5 & 272 & 69 & 0.01 & 78.184215 & 67 & 2787 & ⋯ & 67 & 8.52 & 67 & 0.1 & 669.95900 &  3696958 & 17.9 & 18.0 & 0.463 &  9.8\\\\\n\t5 & Afghanistan & 2011 & Developing & 59.2 & 275 & 71 & 0.01 &  7.097109 & 68 & 3013 & ⋯ & 68 & 7.87 & 68 & 0.1 &  63.53723 &  2978599 & 18.2 & 18.2 & 0.454 &  9.5\\\\\n\t6 & Afghanistan & 2010 & Developing & 58.8 & 279 & 74 & 0.01 & 79.679367 & 66 & 1989 & ⋯ & 66 & 9.20 & 66 & 0.1 & 553.32894 &  2883167 & 18.4 & 18.4 & 0.448 &  9.2\\\\\n\\end{tabular}\n",
            "text/markdown": "\nA data.frame: 6 × 22\n\n| <!--/--> | Country &lt;chr&gt; | Year &lt;int&gt; | Status &lt;chr&gt; | Life.expectancy &lt;dbl&gt; | Adult.Mortality &lt;int&gt; | infant.deaths &lt;int&gt; | Alcohol &lt;dbl&gt; | percentage.expenditure &lt;dbl&gt; | Hepatitis.B &lt;int&gt; | Measles &lt;int&gt; | ⋯ ⋯ | Polio &lt;int&gt; | Total.expenditure &lt;dbl&gt; | Diphtheria &lt;int&gt; | HIV.AIDS &lt;dbl&gt; | GDP &lt;dbl&gt; | Population &lt;dbl&gt; | thinness..1.19.years &lt;dbl&gt; | thinness.5.9.years &lt;dbl&gt; | Income.composition.of.resources &lt;dbl&gt; | Schooling &lt;dbl&gt; |\n|---|---|---|---|---|---|---|---|---|---|---|---|---|---|---|---|---|---|---|---|---|---|\n| 1 | Afghanistan | 2015 | Developing | 65.0 | 263 | 62 | 0.01 | 71.279624 | 65 | 1154 | ⋯ |  6 | 8.16 | 65 | 0.1 | 584.25921 | 33736494 | 17.2 | 17.3 | 0.479 | 10.1 |\n| 2 | Afghanistan | 2014 | Developing | 59.9 | 271 | 64 | 0.01 | 73.523582 | 62 |  492 | ⋯ | 58 | 8.18 | 62 | 0.1 | 612.69651 |   327582 | 17.5 | 17.5 | 0.476 | 10.0 |\n| 3 | Afghanistan | 2013 | Developing | 59.9 | 268 | 66 | 0.01 | 73.219243 | 64 |  430 | ⋯ | 62 | 8.13 | 64 | 0.1 | 631.74498 | 31731688 | 17.7 | 17.7 | 0.470 |  9.9 |\n| 4 | Afghanistan | 2012 | Developing | 59.5 | 272 | 69 | 0.01 | 78.184215 | 67 | 2787 | ⋯ | 67 | 8.52 | 67 | 0.1 | 669.95900 |  3696958 | 17.9 | 18.0 | 0.463 |  9.8 |\n| 5 | Afghanistan | 2011 | Developing | 59.2 | 275 | 71 | 0.01 |  7.097109 | 68 | 3013 | ⋯ | 68 | 7.87 | 68 | 0.1 |  63.53723 |  2978599 | 18.2 | 18.2 | 0.454 |  9.5 |\n| 6 | Afghanistan | 2010 | Developing | 58.8 | 279 | 74 | 0.01 | 79.679367 | 66 | 1989 | ⋯ | 66 | 9.20 | 66 | 0.1 | 553.32894 |  2883167 | 18.4 | 18.4 | 0.448 |  9.2 |\n\n",
            "text/html": [
              "<table class=\"dataframe\">\n",
              "<caption>A data.frame: 6 × 22</caption>\n",
              "<thead>\n",
              "\t<tr><th></th><th scope=col>Country</th><th scope=col>Year</th><th scope=col>Status</th><th scope=col>Life.expectancy</th><th scope=col>Adult.Mortality</th><th scope=col>infant.deaths</th><th scope=col>Alcohol</th><th scope=col>percentage.expenditure</th><th scope=col>Hepatitis.B</th><th scope=col>Measles</th><th scope=col>⋯</th><th scope=col>Polio</th><th scope=col>Total.expenditure</th><th scope=col>Diphtheria</th><th scope=col>HIV.AIDS</th><th scope=col>GDP</th><th scope=col>Population</th><th scope=col>thinness..1.19.years</th><th scope=col>thinness.5.9.years</th><th scope=col>Income.composition.of.resources</th><th scope=col>Schooling</th></tr>\n",
              "\t<tr><th></th><th scope=col>&lt;chr&gt;</th><th scope=col>&lt;int&gt;</th><th scope=col>&lt;chr&gt;</th><th scope=col>&lt;dbl&gt;</th><th scope=col>&lt;int&gt;</th><th scope=col>&lt;int&gt;</th><th scope=col>&lt;dbl&gt;</th><th scope=col>&lt;dbl&gt;</th><th scope=col>&lt;int&gt;</th><th scope=col>&lt;int&gt;</th><th scope=col>⋯</th><th scope=col>&lt;int&gt;</th><th scope=col>&lt;dbl&gt;</th><th scope=col>&lt;int&gt;</th><th scope=col>&lt;dbl&gt;</th><th scope=col>&lt;dbl&gt;</th><th scope=col>&lt;dbl&gt;</th><th scope=col>&lt;dbl&gt;</th><th scope=col>&lt;dbl&gt;</th><th scope=col>&lt;dbl&gt;</th><th scope=col>&lt;dbl&gt;</th></tr>\n",
              "</thead>\n",
              "<tbody>\n",
              "\t<tr><th scope=row>1</th><td>Afghanistan</td><td>2015</td><td>Developing</td><td>65.0</td><td>263</td><td>62</td><td>0.01</td><td>71.279624</td><td>65</td><td>1154</td><td>⋯</td><td> 6</td><td>8.16</td><td>65</td><td>0.1</td><td>584.25921</td><td>33736494</td><td>17.2</td><td>17.3</td><td>0.479</td><td>10.1</td></tr>\n",
              "\t<tr><th scope=row>2</th><td>Afghanistan</td><td>2014</td><td>Developing</td><td>59.9</td><td>271</td><td>64</td><td>0.01</td><td>73.523582</td><td>62</td><td> 492</td><td>⋯</td><td>58</td><td>8.18</td><td>62</td><td>0.1</td><td>612.69651</td><td>  327582</td><td>17.5</td><td>17.5</td><td>0.476</td><td>10.0</td></tr>\n",
              "\t<tr><th scope=row>3</th><td>Afghanistan</td><td>2013</td><td>Developing</td><td>59.9</td><td>268</td><td>66</td><td>0.01</td><td>73.219243</td><td>64</td><td> 430</td><td>⋯</td><td>62</td><td>8.13</td><td>64</td><td>0.1</td><td>631.74498</td><td>31731688</td><td>17.7</td><td>17.7</td><td>0.470</td><td> 9.9</td></tr>\n",
              "\t<tr><th scope=row>4</th><td>Afghanistan</td><td>2012</td><td>Developing</td><td>59.5</td><td>272</td><td>69</td><td>0.01</td><td>78.184215</td><td>67</td><td>2787</td><td>⋯</td><td>67</td><td>8.52</td><td>67</td><td>0.1</td><td>669.95900</td><td> 3696958</td><td>17.9</td><td>18.0</td><td>0.463</td><td> 9.8</td></tr>\n",
              "\t<tr><th scope=row>5</th><td>Afghanistan</td><td>2011</td><td>Developing</td><td>59.2</td><td>275</td><td>71</td><td>0.01</td><td> 7.097109</td><td>68</td><td>3013</td><td>⋯</td><td>68</td><td>7.87</td><td>68</td><td>0.1</td><td> 63.53723</td><td> 2978599</td><td>18.2</td><td>18.2</td><td>0.454</td><td> 9.5</td></tr>\n",
              "\t<tr><th scope=row>6</th><td>Afghanistan</td><td>2010</td><td>Developing</td><td>58.8</td><td>279</td><td>74</td><td>0.01</td><td>79.679367</td><td>66</td><td>1989</td><td>⋯</td><td>66</td><td>9.20</td><td>66</td><td>0.1</td><td>553.32894</td><td> 2883167</td><td>18.4</td><td>18.4</td><td>0.448</td><td> 9.2</td></tr>\n",
              "</tbody>\n",
              "</table>\n"
            ]
          },
          "metadata": {}
        },
        {
          "output_type": "display_data",
          "data": {
            "image/png": "[encoded data removed]",
            "text/plain": [
              "plot without title"
            ]
          },
          "metadata": {
            "image/png": {
              "width": 420,
              "height": 420
            }
          }
        },
        {
          "output_type": "display_data",
          "data": {
            "text/plain": [
              "[1] 0"
            ],
            "text/latex": "0",
            "text/markdown": "0",
            "text/html": [
              "0"
            ]
          },
          "metadata": {}
        },
        {
          "output_type": "display_data",
          "data": {
            "text/plain": [
              "[1] 39"
            ],
            "text/latex": "39",
            "text/markdown": "39",
            "text/html": [
              "39"
            ]
          },
          "metadata": {}
        },
        {
          "output_type": "display_data",
          "data": {
            "image/png": "[encoded data removed]",
            "text/plain": [
              "plot without title"
            ]
          },
          "metadata": {
            "image/png": {
              "width": 420,
              "height": 420
            }
          }
        }
      ]
    },
    {
      "cell_type": "markdown",
      "metadata": {
        "id": "5ea04792"
      },
      "source": [
        "9. Qual a média de Expectativa de Vida com e sem *outliers* (lembre-se de considerar aqui a base completa)?\n",
        "\n",
        "**Solução**"
      ]
    },
    {
      "cell_type": "code",
      "metadata": {
        "kernel": "R",
        "tags": [
          "report_cell"
        ],
        "id": "36786d0f",
        "colab": {
          "base_uri": "https://localhost:8080/",
          "height": 51
        },
        "outputId": "f7a4651a-7b07-47da-9bd8-92e62d97a5a8"
      },
      "source": [
        "require(stats)\n",
        "iqr = IQR(df$Life.expectancy)\n",
        "\n",
        "mean(df[ - ( (df$Life.expectancy > quantile(df$Life.expectancy,0.75) + 1.5*iqr) |\n",
        "          (df$Life.expectancy < quantile(df$Life.expectancy,0.25) - 1.5*iqr) ), ]$Life.expectancy)\n",
        "\n",
        "mean(df$Life.expectancy)"
      ],
      "execution_count": 29,
      "outputs": [
        {
          "output_type": "display_data",
          "data": {
            "text/plain": [
              "[1] 69.30492"
            ],
            "text/latex": "69.3049150485437",
            "text/markdown": "69.3049150485437",
            "text/html": [
              "69.3049150485437"
            ]
          },
          "metadata": {}
        },
        {
          "output_type": "display_data",
          "data": {
            "text/plain": [
              "[1] 69.3023"
            ],
            "text/latex": "69.3023044269254",
            "text/markdown": "69.3023044269254",
            "text/html": [
              "69.3023044269254"
            ]
          },
          "metadata": {}
        }
      ]
    },
    {
      "cell_type": "markdown",
      "metadata": {
        "id": "d7d98fd4"
      },
      "source": [
        "## Exercício 2\n",
        "Considere a base."
      ]
    },
    {
      "cell_type": "code",
      "metadata": {
        "kernel": "R",
        "tags": [
          "report_cell"
        ],
        "id": "c5aeb361",
        "colab": {
          "base_uri": "https://localhost:8080/",
          "height": 283
        },
        "outputId": "54e845b0-f40f-4377-e956-22591c81eca2"
      },
      "source": [
        "library(MASS)\n",
        "# help(painters)\n",
        "painters = na.omit(painters)\n",
        "head(painters)"
      ],
      "execution_count": 22,
      "outputs": [
        {
          "output_type": "display_data",
          "data": {
            "text/plain": [
              "              Composition Drawing Colour Expression School Score\n",
              "Da Udine      10           8      16      3         A      37   \n",
              "Da Vinci      15          16       4     14         A      49   \n",
              "Del Piombo     8          13      16      7         A      44   \n",
              "Del Sarto     12          16       9      8         A      45   \n",
              "Fr. Penni      0          15       8      0         A      23   \n",
              "Guilio Romano 15          16       4     14         A      49   "
            ],
            "text/latex": "A data.frame: 6 × 6\n\\begin{tabular}{r|llllll}\n  & Composition & Drawing & Colour & Expression & School & Score\\\\\n  & <int> & <int> & <int> & <int> & <fct> & <int>\\\\\n\\hline\n\tDa Udine & 10 &  8 & 16 &  3 & A & 37\\\\\n\tDa Vinci & 15 & 16 &  4 & 14 & A & 49\\\\\n\tDel Piombo &  8 & 13 & 16 &  7 & A & 44\\\\\n\tDel Sarto & 12 & 16 &  9 &  8 & A & 45\\\\\n\tFr. Penni &  0 & 15 &  8 &  0 & A & 23\\\\\n\tGuilio Romano & 15 & 16 &  4 & 14 & A & 49\\\\\n\\end{tabular}\n",
            "text/markdown": "\nA data.frame: 6 × 6\n\n| <!--/--> | Composition &lt;int&gt; | Drawing &lt;int&gt; | Colour &lt;int&gt; | Expression &lt;int&gt; | School &lt;fct&gt; | Score &lt;int&gt; |\n|---|---|---|---|---|---|---|\n| Da Udine | 10 |  8 | 16 |  3 | A | 37 |\n| Da Vinci | 15 | 16 |  4 | 14 | A | 49 |\n| Del Piombo |  8 | 13 | 16 |  7 | A | 44 |\n| Del Sarto | 12 | 16 |  9 |  8 | A | 45 |\n| Fr. Penni |  0 | 15 |  8 |  0 | A | 23 |\n| Guilio Romano | 15 | 16 |  4 | 14 | A | 49 |\n\n",
            "text/html": [
              "<table class=\"dataframe\">\n",
              "<caption>A data.frame: 6 × 6</caption>\n",
              "<thead>\n",
              "\t<tr><th></th><th scope=col>Composition</th><th scope=col>Drawing</th><th scope=col>Colour</th><th scope=col>Expression</th><th scope=col>School</th><th scope=col>Score</th></tr>\n",
              "\t<tr><th></th><th scope=col>&lt;int&gt;</th><th scope=col>&lt;int&gt;</th><th scope=col>&lt;int&gt;</th><th scope=col>&lt;int&gt;</th><th scope=col>&lt;fct&gt;</th><th scope=col>&lt;int&gt;</th></tr>\n",
              "</thead>\n",
              "<tbody>\n",
              "\t<tr><th scope=row>Da Udine</th><td>10</td><td> 8</td><td>16</td><td> 3</td><td>A</td><td>37</td></tr>\n",
              "\t<tr><th scope=row>Da Vinci</th><td>15</td><td>16</td><td> 4</td><td>14</td><td>A</td><td>49</td></tr>\n",
              "\t<tr><th scope=row>Del Piombo</th><td> 8</td><td>13</td><td>16</td><td> 7</td><td>A</td><td>44</td></tr>\n",
              "\t<tr><th scope=row>Del Sarto</th><td>12</td><td>16</td><td> 9</td><td> 8</td><td>A</td><td>45</td></tr>\n",
              "\t<tr><th scope=row>Fr. Penni</th><td> 0</td><td>15</td><td> 8</td><td> 0</td><td>A</td><td>23</td></tr>\n",
              "\t<tr><th scope=row>Guilio Romano</th><td>15</td><td>16</td><td> 4</td><td>14</td><td>A</td><td>49</td></tr>\n",
              "</tbody>\n",
              "</table>\n"
            ]
          },
          "metadata": {}
        }
      ]
    },
    {
      "cell_type": "markdown",
      "metadata": {
        "id": "a5925025"
      },
      "source": [
        "1. Quantos tipos de escolas de pintores existem?\n",
        "\n",
        "**Solução**"
      ]
    },
    {
      "cell_type": "code",
      "metadata": {
        "kernel": "R",
        "tags": [
          "report_cell"
        ],
        "id": "5ce2e9f8",
        "colab": {
          "base_uri": "https://localhost:8080/",
          "height": 102
        },
        "outputId": "8db9c595-c44d-4804-d776-1c506421ff29"
      },
      "source": [
        "unique(painters$School)\n",
        "table(painters$School)"
      ],
      "execution_count": 12,
      "outputs": [
        {
          "output_type": "display_data",
          "data": {
            "text/plain": [
              "[1] A B C D E F G H\n",
              "Levels: A B C D E F G H"
            ],
            "text/latex": "\\begin{enumerate*}\n\\item A\n\\item B\n\\item C\n\\item D\n\\item E\n\\item F\n\\item G\n\\item H\n\\end{enumerate*}\n\n\\emph{Levels}: \\begin{enumerate*}\n\\item 'A'\n\\item 'B'\n\\item 'C'\n\\item 'D'\n\\item 'E'\n\\item 'F'\n\\item 'G'\n\\item 'H'\n\\end{enumerate*}\n",
            "text/markdown": "1. A\n2. B\n3. C\n4. D\n5. E\n6. F\n7. G\n8. H\n\n\n\n**Levels**: 1. 'A'\n2. 'B'\n3. 'C'\n4. 'D'\n5. 'E'\n6. 'F'\n7. 'G'\n8. 'H'\n\n\n",
            "text/html": [
              "<style>\n",
              ".list-inline {list-style: none; margin:0; padding: 0}\n",
              ".list-inline>li {display: inline-block}\n",
              ".list-inline>li:not(:last-child)::after {content: \"\\00b7\"; padding: 0 .5ex}\n",
              "</style>\n",
              "<ol class=list-inline><li>A</li><li>B</li><li>C</li><li>D</li><li>E</li><li>F</li><li>G</li><li>H</li></ol>\n",
              "\n",
              "<details>\n",
              "\t<summary style=display:list-item;cursor:pointer>\n",
              "\t\t<strong>Levels</strong>:\n",
              "\t</summary>\n",
              "\t<style>\n",
              "\t.list-inline {list-style: none; margin:0; padding: 0}\n",
              "\t.list-inline>li {display: inline-block}\n",
              "\t.list-inline>li:not(:last-child)::after {content: \"\\00b7\"; padding: 0 .5ex}\n",
              "\t</style>\n",
              "\t<ol class=list-inline><li>'A'</li><li>'B'</li><li>'C'</li><li>'D'</li><li>'E'</li><li>'F'</li><li>'G'</li><li>'H'</li></ol>\n",
              "</details>"
            ]
          },
          "metadata": {}
        },
        {
          "output_type": "display_data",
          "data": {
            "text/plain": [
              "\n",
              " A  B  C  D  E  F  G  H \n",
              "10  6  6 10  7  4  7  4 "
            ]
          },
          "metadata": {}
        }
      ]
    },
    {
      "cell_type": "markdown",
      "metadata": {
        "id": "f34b2b9c"
      },
      "source": [
        "2. Qual a *moda* das escolas de pintores?\n",
        "\n",
        "**Solução**"
      ]
    },
    {
      "cell_type": "code",
      "metadata": {
        "kernel": "R",
        "tags": [
          "report_cell"
        ],
        "id": "8cb121c2",
        "colab": {
          "base_uri": "https://localhost:8080/",
          "height": 68
        },
        "outputId": "290a8b4c-85b4-48ac-b921-bb29450bb44b"
      },
      "source": [
        "table(painters$School)\n",
        "# Podemos ver que 'D' é o valor mais frequente"
      ],
      "execution_count": 13,
      "outputs": [
        {
          "output_type": "display_data",
          "data": {
            "text/plain": [
              "\n",
              " A  B  C  D  E  F  G  H \n",
              "10  6  6 10  7  4  7  4 "
            ]
          },
          "metadata": {}
        }
      ]
    },
    {
      "cell_type": "markdown",
      "metadata": {
        "id": "7c3ba180"
      },
      "source": [
        "3. Quantos pintores estão acima da média em composição?\n",
        "\n",
        "**Solução**"
      ]
    },
    {
      "cell_type": "code",
      "metadata": {
        "kernel": "R",
        "tags": [
          "report_cell"
        ],
        "id": "40273b8e",
        "colab": {
          "base_uri": "https://localhost:8080/",
          "height": 34
        },
        "outputId": "a71f7c8f-e246-4b2e-c764-21e61d5b67e6"
      },
      "source": [
        "nrow(painters[painters$Composition >= mean(painters$Composition), ])"
      ],
      "execution_count": 14,
      "outputs": [
        {
          "output_type": "display_data",
          "data": {
            "text/plain": [
              "[1] 31"
            ],
            "text/latex": "31",
            "text/markdown": "31",
            "text/html": [
              "31"
            ]
          },
          "metadata": {}
        }
      ]
    },
    {
      "cell_type": "markdown",
      "metadata": {
        "id": "c947d621"
      },
      "source": [
        "4. Qual o pintor ou pintores com maior pontuação considerando todos os critérios? Não há muita surpresa aqui não?\n",
        "\n",
        "DICA: crie uma nota com a soma de todas as pontuações dos pintores.\n",
        "\n",
        "**Solução**"
      ]
    },
    {
      "cell_type": "code",
      "metadata": {
        "kernel": "R",
        "tags": [
          "report_cell"
        ],
        "id": "8bdc564f",
        "colab": {
          "base_uri": "https://localhost:8080/",
          "height": 425
        },
        "outputId": "e4b73fec-7e73-49b0-8dd7-8c8e7f4674bf"
      },
      "source": [
        "painters['Score'] = painters[,c(1)] + painters[,c(2)] + painters[,c(3)] + painters[,c(4)]\n",
        "head(painters)\n",
        "painters[painters$Score == max(painters$Score), ]"
      ],
      "execution_count": 15,
      "outputs": [
        {
          "output_type": "display_data",
          "data": {
            "text/plain": [
              "              Composition Drawing Colour Expression School Score\n",
              "Da Udine      10           8      16      3         A      37   \n",
              "Da Vinci      15          16       4     14         A      49   \n",
              "Del Piombo     8          13      16      7         A      44   \n",
              "Del Sarto     12          16       9      8         A      45   \n",
              "Fr. Penni      0          15       8      0         A      23   \n",
              "Guilio Romano 15          16       4     14         A      49   "
            ],
            "text/latex": "A data.frame: 6 × 6\n\\begin{tabular}{r|llllll}\n  & Composition & Drawing & Colour & Expression & School & Score\\\\\n  & <int> & <int> & <int> & <int> & <fct> & <int>\\\\\n\\hline\n\tDa Udine & 10 &  8 & 16 &  3 & A & 37\\\\\n\tDa Vinci & 15 & 16 &  4 & 14 & A & 49\\\\\n\tDel Piombo &  8 & 13 & 16 &  7 & A & 44\\\\\n\tDel Sarto & 12 & 16 &  9 &  8 & A & 45\\\\\n\tFr. Penni &  0 & 15 &  8 &  0 & A & 23\\\\\n\tGuilio Romano & 15 & 16 &  4 & 14 & A & 49\\\\\n\\end{tabular}\n",
            "text/markdown": "\nA data.frame: 6 × 6\n\n| <!--/--> | Composition &lt;int&gt; | Drawing &lt;int&gt; | Colour &lt;int&gt; | Expression &lt;int&gt; | School &lt;fct&gt; | Score &lt;int&gt; |\n|---|---|---|---|---|---|---|\n| Da Udine | 10 |  8 | 16 |  3 | A | 37 |\n| Da Vinci | 15 | 16 |  4 | 14 | A | 49 |\n| Del Piombo |  8 | 13 | 16 |  7 | A | 44 |\n| Del Sarto | 12 | 16 |  9 |  8 | A | 45 |\n| Fr. Penni |  0 | 15 |  8 |  0 | A | 23 |\n| Guilio Romano | 15 | 16 |  4 | 14 | A | 49 |\n\n",
            "text/html": [
              "<table class=\"dataframe\">\n",
              "<caption>A data.frame: 6 × 6</caption>\n",
              "<thead>\n",
              "\t<tr><th></th><th scope=col>Composition</th><th scope=col>Drawing</th><th scope=col>Colour</th><th scope=col>Expression</th><th scope=col>School</th><th scope=col>Score</th></tr>\n",
              "\t<tr><th></th><th scope=col>&lt;int&gt;</th><th scope=col>&lt;int&gt;</th><th scope=col>&lt;int&gt;</th><th scope=col>&lt;int&gt;</th><th scope=col>&lt;fct&gt;</th><th scope=col>&lt;int&gt;</th></tr>\n",
              "</thead>\n",
              "<tbody>\n",
              "\t<tr><th scope=row>Da Udine</th><td>10</td><td> 8</td><td>16</td><td> 3</td><td>A</td><td>37</td></tr>\n",
              "\t<tr><th scope=row>Da Vinci</th><td>15</td><td>16</td><td> 4</td><td>14</td><td>A</td><td>49</td></tr>\n",
              "\t<tr><th scope=row>Del Piombo</th><td> 8</td><td>13</td><td>16</td><td> 7</td><td>A</td><td>44</td></tr>\n",
              "\t<tr><th scope=row>Del Sarto</th><td>12</td><td>16</td><td> 9</td><td> 8</td><td>A</td><td>45</td></tr>\n",
              "\t<tr><th scope=row>Fr. Penni</th><td> 0</td><td>15</td><td> 8</td><td> 0</td><td>A</td><td>23</td></tr>\n",
              "\t<tr><th scope=row>Guilio Romano</th><td>15</td><td>16</td><td> 4</td><td>14</td><td>A</td><td>49</td></tr>\n",
              "</tbody>\n",
              "</table>\n"
            ]
          },
          "metadata": {}
        },
        {
          "output_type": "display_data",
          "data": {
            "text/plain": [
              "        Composition Drawing Colour Expression School Score\n",
              "Raphael 17          18      12     18         A      65   \n",
              "Rubens  18          13      17     17         G      65   "
            ],
            "text/latex": "A data.frame: 2 × 6\n\\begin{tabular}{r|llllll}\n  & Composition & Drawing & Colour & Expression & School & Score\\\\\n  & <int> & <int> & <int> & <int> & <fct> & <int>\\\\\n\\hline\n\tRaphael & 17 & 18 & 12 & 18 & A & 65\\\\\n\tRubens & 18 & 13 & 17 & 17 & G & 65\\\\\n\\end{tabular}\n",
            "text/markdown": "\nA data.frame: 2 × 6\n\n| <!--/--> | Composition &lt;int&gt; | Drawing &lt;int&gt; | Colour &lt;int&gt; | Expression &lt;int&gt; | School &lt;fct&gt; | Score &lt;int&gt; |\n|---|---|---|---|---|---|---|\n| Raphael | 17 | 18 | 12 | 18 | A | 65 |\n| Rubens | 18 | 13 | 17 | 17 | G | 65 |\n\n",
            "text/html": [
              "<table class=\"dataframe\">\n",
              "<caption>A data.frame: 2 × 6</caption>\n",
              "<thead>\n",
              "\t<tr><th></th><th scope=col>Composition</th><th scope=col>Drawing</th><th scope=col>Colour</th><th scope=col>Expression</th><th scope=col>School</th><th scope=col>Score</th></tr>\n",
              "\t<tr><th></th><th scope=col>&lt;int&gt;</th><th scope=col>&lt;int&gt;</th><th scope=col>&lt;int&gt;</th><th scope=col>&lt;int&gt;</th><th scope=col>&lt;fct&gt;</th><th scope=col>&lt;int&gt;</th></tr>\n",
              "</thead>\n",
              "<tbody>\n",
              "\t<tr><th scope=row>Raphael</th><td>17</td><td>18</td><td>12</td><td>18</td><td>A</td><td>65</td></tr>\n",
              "\t<tr><th scope=row>Rubens</th><td>18</td><td>13</td><td>17</td><td>17</td><td>G</td><td>65</td></tr>\n",
              "</tbody>\n",
              "</table>\n"
            ]
          },
          "metadata": {}
        }
      ]
    },
    {
      "cell_type": "markdown",
      "metadata": {
        "id": "dd395e34"
      },
      "source": [
        "5. Explore a mediana e média através das notas de Composição e Colour dos pintores.\n",
        "\n",
        "**Solução**"
      ]
    },
    {
      "cell_type": "code",
      "metadata": {
        "kernel": "R",
        "tags": [
          "report_cell"
        ],
        "id": "5ed86236",
        "colab": {
          "base_uri": "https://localhost:8080/",
          "height": 437
        },
        "outputId": "38409e84-b09c-41b3-adb2-dae122341859"
      },
      "source": [
        "# Faremos uma exploração gráfica empregando vários recursos avançados aqui apenas para \n",
        "# você 'visualizar' as relações entre a média e mediana, o que pode ser bastante útil \n",
        "# para você. Mas sua solução solução pode mesmo ser simples e apenas comparar os valores. ;-)\n",
        "\n",
        "par(mfrow = c(1, 2))\n",
        "x = painters$Colour\n",
        "h = hist(x, col=\"lightblue\", xlab=\"Colour scores\", main=\"Média e Mediana\", xlim=c(0,30))\n",
        "xfit = seq(min(x)-3*sd(x),max(x)+4*sd(x),length=100)\n",
        "yfit = dnorm(xfit,mean=mean(x),sd=sd(x))\n",
        "yfit = yfit*diff(h$mids[1:2])*length(x)\n",
        "lines(xfit, yfit, col=\"black\", lwd=1)\n",
        "abline(v=mean(painters$Colour),col='red',lty = 2, lwd = 2)\n",
        "abline(v=median(painters$Colour),col='darkblue',lty = 2, lwd = 2)\n",
        "\n",
        "x = painters$Composition\n",
        "h = hist(x, col=\"lightblue\", xlab=\"Composition Scores\", main=\"Média e Mediana\", xlim=c(0,30))\n",
        "xfit = seq(min(x)-3*sd(x),max(x)+4*sd(x),length=100)\n",
        "yfit = dnorm(xfit,mean=mean(x),sd=sd(x))\n",
        "yfit = yfit*diff(h$mids[1:2])*length(x)\n",
        "lines(xfit, yfit, col=\"black\", lwd=1)\n",
        "abline(v=mean(painters$Colour),col='red',lty = 2, lwd = 2)\n",
        "abline(v=median(painters$Colour),col='darkblue',lty = 2, lwd = 2)"
      ],
      "execution_count": 16,
      "outputs": [
        {
          "output_type": "display_data",
          "data": {
            "image/png": "[encoded data removed]",
            "text/plain": [
              "Plot with title “Média e Mediana”"
            ]
          },
          "metadata": {
            "image/png": {
              "width": 420,
              "height": 420
            }
          }
        }
      ]
    },
    {
      "cell_type": "markdown",
      "metadata": {
        "id": "a79ecaa2"
      },
      "source": [
        "## Exercício 3\n",
        "\n",
        "> *Os exercícios a seguir são conceituais e não requerem qualquer código.*\n",
        "\n",
        "1. A mediana e desvio padrão são estatísticas que ajudam a compreender:\n",
        "\n",
        "  a. A centralidade e dispersão dos dados\n",
        "\n",
        "  b. A centralidade dos dados\n",
        "\n",
        "  c. A dispersão dos dados\n",
        "\n",
        "  d. A posição dos dados\n",
        "\n",
        "  e. Nenhuma das alternativas\n",
        "\n",
        "**Solução**"
      ]
    },
    {
      "cell_type": "code",
      "metadata": {
        "kernel": "R",
        "tags": [
          "report_cell"
        ],
        "id": "4ce99485"
      },
      "source": [
        "# a"
      ],
      "execution_count": 17,
      "outputs": []
    },
    {
      "cell_type": "markdown",
      "metadata": {
        "id": "2a80438f"
      },
      "source": [
        "2. Um conjunto de dados com um desvio padrão alto:\n",
        "\n",
        "  a. Está mais concentrado\n",
        "\n",
        "  b. É mais disperso\n",
        "\n",
        "  c. Apresenta média e medianas próximas\n",
        "\n",
        "  d. Apresenta média e medianas distantes\n",
        "  \n",
        "  e. Nenhuma das alternativas\n",
        "\n",
        "**Solução**"
      ]
    },
    {
      "cell_type": "code",
      "metadata": {
        "kernel": "R",
        "tags": [
          "report_cell"
        ],
        "id": "4af2f576"
      },
      "source": [
        "# b"
      ],
      "execution_count": 18,
      "outputs": []
    },
    {
      "cell_type": "markdown",
      "metadata": {
        "id": "4e00fcb2"
      },
      "source": [
        "3. Uma correlação, entre duas variáveis, próxima de zero indica que:\n",
        "\n",
        "  a. As variáveis são independentes\n",
        "\n",
        "  b. As variáveis não tem relação\n",
        "\n",
        "  c. As variáveis não tem relação linear\n",
        "\n",
        "  d. As variáveis apresentam valores muito iguais\n",
        "  \n",
        "  e. Nenhuma das alternativas\n",
        "\n",
        "**Solução**"
      ]
    },
    {
      "cell_type": "code",
      "metadata": {
        "kernel": "R",
        "tags": [
          "report_cell"
        ],
        "id": "f1a55d69"
      },
      "source": [
        "# c"
      ],
      "execution_count": 19,
      "outputs": []
    },
    {
      "cell_type": "markdown",
      "metadata": {
        "id": "fa9238ca"
      },
      "source": [
        "4. Outliers nos dados ser encontrados por:\n",
        "\n",
        "  a. Erros de medida\n",
        "\n",
        "  b. Erro na entrada dos dados\n",
        "\n",
        "  c. Ruído nos dados (interferências)\n",
        "\n",
        "  d. Valores legítimos mas que de fato se destacam do padrão dos dados\n",
        "\n",
        "  e. Todas as alternativas\n",
        "\n",
        "**Solução**"
      ]
    },
    {
      "cell_type": "code",
      "metadata": {
        "kernel": "R",
        "tags": [
          "report_cell"
        ],
        "id": "5bd0037d"
      },
      "source": [
        "# e"
      ],
      "execution_count": 20,
      "outputs": []
    },
    {
      "cell_type": "markdown",
      "metadata": {
        "id": "010143b6"
      },
      "source": [
        "5. Sobre o desvio padrão:\n",
        "\n",
        "  i. Diferentemente da variância encontra-se na mesma unidade que os dados\n",
        "\n",
        "  ii. É igual ao quadrado da variância\n",
        "\n",
        "  iii. É uma medida de dispersão dos dados\n",
        "\n",
        "  São corretas:\n",
        "\n",
        "  a. Somente i\n",
        "\n",
        "  b. Somente i, ii\n",
        "\n",
        "  c. Somente i, iii\n",
        "\n",
        "  d. Somente ii, iii\n",
        "\n",
        "  e. Todas\n",
        "\n",
        "**Solução**"
      ]
    },
    {
      "cell_type": "code",
      "metadata": {
        "kernel": "R",
        "tags": [
          "report_cell"
        ],
        "id": "3795b3cc"
      },
      "source": [
        "# c"
      ],
      "execution_count": 21,
      "outputs": []
    }
  ]
}