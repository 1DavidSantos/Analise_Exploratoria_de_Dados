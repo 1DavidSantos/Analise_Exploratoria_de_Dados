{
  "nbformat": 4,
  "nbformat_minor": 0,
  "metadata": {
    "colab": {
      "name": "AED_5_ex_solucao.ipynb",
      "provenance": [],
      "authorship_tag": "ABX9TyMNBta71Mf1Fb/vFrVfjyNr",
      "include_colab_link": true
    },
    "kernelspec": {
      "name": "ir",
      "display_name": "R"
    },
    "language_info": {
      "name": "R"
    }
  },
  "cells": [
    {
      "cell_type": "markdown",
      "metadata": {
        "id": "view-in-github",
        "colab_type": "text"
      },
      "source": [
        "<a href=\"https://colab.research.google.com/github/Rogerio-mack/Analise_Exploratoria_de_Dados/blob/main/AED_5_ex_solucao.ipynb\" target=\"_parent\"><img src=\"https://colab.research.google.com/assets/colab-badge.svg\" alt=\"Open In Colab\"/></a>"
      ]
    },
    {
      "cell_type": "markdown",
      "metadata": {
        "id": "40b90843"
      },
      "source": [
        "<img src=\"http://meusite.mackenzie.br/rogerio/mackenzie_logo/UPM.2_horizontal_vermelho.jpg\"  width=300, align=\"right\">\n",
        "<br>\n",
        "<br>\n",
        "<br>\n",
        "<br>\n",
        "<br>\n",
        "\n",
        "# Conceitos de Probabilidade e Distribuições\n",
        "---"
      ]
    },
    {
      "cell_type": "markdown",
      "metadata": {
        "id": "29a85f58"
      },
      "source": [
        "# Exercícios"
      ]
    },
    {
      "cell_type": "markdown",
      "metadata": {
        "id": "4ab18812"
      },
      "source": [
        "## Exercício 1\n",
        "\n",
        "1.1. Em uma companhia de Seguros 80% das pessoas que compram seguro de veículos são homens. Se 100 proprietários de seguros forem selecionados aleatoriamente, encontre a probabilidade de que exatamente 12 sejam mulheres.\n",
        "\n",
        "**Dica** Empregue a distribuição binomial\n",
        "\n",
        "**Solução**"
      ]
    },
    {
      "cell_type": "code",
      "metadata": {
        "kernel": "R",
        "tags": [
          "report_cell"
        ],
        "id": "34a75c53",
        "colab": {
          "base_uri": "https://localhost:8080/",
          "height": 68
        },
        "outputId": "85918e8e-e734-4910-ed6a-e7cbcd3ef430"
      },
      "source": [
        "dbinom(12,size=100,prob=0.2)   # probabilidade de serem mulheres = 1 - 0.8\n",
        "\n",
        "# a probabilidade de x <= 12\n",
        "pbinom(12,size=100,prob=0.2)   # probabilidade de serem mulheres = 1 - 0.8\n",
        "\n",
        "p = 0\n",
        "for (i in c(0:12)) p = p + dbinom(i,size=100,prob=0.2)\n",
        "p"
      ],
      "execution_count": 1,
      "outputs": [
        {
          "output_type": "display_data",
          "data": {
            "text/plain": [
              "[1] 0.01275388"
            ],
            "text/latex": "0.0127538768732753",
            "text/markdown": "0.0127538768732753",
            "text/html": [
              "0.0127538768732753"
            ]
          },
          "metadata": {}
        },
        {
          "output_type": "display_data",
          "data": {
            "text/plain": [
              "[1] 0.02532875"
            ],
            "text/latex": "0.025328753221397",
            "text/markdown": "0.025328753221397",
            "text/html": [
              "0.025328753221397"
            ]
          },
          "metadata": {}
        },
        {
          "output_type": "display_data",
          "data": {
            "text/plain": [
              "[1] 0.02532875"
            ],
            "text/latex": "0.025328753221397",
            "text/markdown": "0.025328753221397",
            "text/html": [
              "0.025328753221397"
            ]
          },
          "metadata": {}
        }
      ]
    },
    {
      "cell_type": "markdown",
      "metadata": {
        "id": "4befd60c"
      },
      "source": [
        "1.2. Mensalmente a empresa vai sortear grupos de 100 clientes e enviar brindes para as clientes do sexo feminino. Quantos brindes para mulheres devem ser comprados para garantir em 95% dos grupos sorteados?\n",
        "\n",
        "**Solução**"
      ]
    },
    {
      "cell_type": "code",
      "metadata": {
        "kernel": "R",
        "tags": [
          "report_cell"
        ],
        "id": "f19d5614",
        "colab": {
          "base_uri": "https://localhost:8080/",
          "height": 34
        },
        "outputId": "d27845c3-ab57-45f4-b0c8-85bd722dc57c"
      },
      "source": [
        "qbinom(0.95,size=100,prob=0.2) # probibalidade de serem mulheres = 1 - 0.8"
      ],
      "execution_count": 2,
      "outputs": [
        {
          "output_type": "display_data",
          "data": {
            "text/plain": [
              "[1] 27"
            ],
            "text/latex": "27",
            "text/markdown": "27",
            "text/html": [
              "27"
            ]
          },
          "metadata": {}
        }
      ]
    },
    {
      "cell_type": "markdown",
      "metadata": {
        "id": "685a0322"
      },
      "source": [
        "1.3.* Mensalmente a empresa vai sortear grupos de 100 clientes e enviar brindes para as clientes do sexo feminino. Dentre os brindes haverá viagem em grupo. Há entretanto uma limitação de 18 passageiros para o pacote de viagem. Qual o percentual de grupos deve ser atendido com esse número?\n",
        "\n",
        "**Solução**"
      ]
    },
    {
      "cell_type": "code",
      "metadata": {
        "kernel": "R",
        "tags": [
          "report_cell"
        ],
        "id": "5b5f0cb3",
        "colab": {
          "base_uri": "https://localhost:8080/",
          "height": 34
        },
        "outputId": "e9a35eaa-c44d-4093-a379-174a8c2706cd"
      },
      "source": [
        "pbinom(18,size=100,prob=0.2) # probibalidade de serem mulheres = 1 - 0.8"
      ],
      "execution_count": 3,
      "outputs": [
        {
          "output_type": "display_data",
          "data": {
            "text/plain": [
              "[1] 0.3620871"
            ],
            "text/latex": "0.362087083833635",
            "text/markdown": "0.362087083833635",
            "text/html": [
              "0.362087083833635"
            ]
          },
          "metadata": {}
        }
      ]
    },
    {
      "cell_type": "markdown",
      "metadata": {
        "id": "96fb4985"
      },
      "source": [
        "1.4.* A empresa deveria rever a campanha de viagens, por exemplo incluindo mais um transporte para 18 passageiros? Se sim, qual o percentual passaria a ser atendido.\n",
        "\n",
        "**Solução**"
      ]
    },
    {
      "cell_type": "code",
      "metadata": {
        "kernel": "R",
        "tags": [
          "report_cell"
        ],
        "id": "c9a8b019",
        "colab": {
          "base_uri": "https://localhost:8080/",
          "height": 34
        },
        "outputId": "914b7376-78fa-447e-d245-fe65e00d874a"
      },
      "source": [
        "pbinom(36,size=100,prob=0.2) # probabilidade de serem mulheres = 1 - 0.8"
      ],
      "execution_count": 4,
      "outputs": [
        {
          "output_type": "display_data",
          "data": {
            "text/plain": [
              "[1] 0.9999381"
            ],
            "text/latex": "0.999938148259599",
            "text/markdown": "0.999938148259599",
            "text/html": [
              "0.999938148259599"
            ]
          },
          "metadata": {}
        }
      ]
    },
    {
      "cell_type": "code",
      "metadata": {
        "kernel": "R",
        "tags": [
          "report_cell"
        ],
        "id": "c78accb3",
        "colab": {
          "base_uri": "https://localhost:8080/",
          "height": 437
        },
        "outputId": "4a8e8c6b-16d7-4b66-fa1a-bb4074593a21"
      },
      "source": [
        "# opcional a parte gráfica\n",
        "n = 100\n",
        "p = 0.2\n",
        "\n",
        "prob = pbinom(c(0:n), n, p)\n",
        "\n",
        "barplot(prob,\n",
        "        names.arg = seq(0,n,1),\n",
        "        xlab = 'Quantidade de Seguradas',\n",
        "        ylab = 'Função de Probabilidade Acumulada',\n",
        "        col='lightyellow',\n",
        "        cex.names = 0.8)\n",
        "t = paste('CDF, Binom(n=',n,'p=',p,')')\n",
        "title(t)\n",
        "\n",
        "abline(v=12,col='red',lty='dotted',lwd=2)\n",
        "abline(v=27,col='red',lty='dotted',lwd=2)\n",
        "abline(v=18,col='red',lty='dotted',lwd=2)\n",
        "abline(v=36,col='red',lty='dotted',lwd=2)"
      ],
      "execution_count": 5,
      "outputs": [
        {
          "output_type": "display_data",
          "data": {
            "image/png": "[encoded data removed]",
            "text/plain": [
              "Plot with title “CDF, Binom(n= 100 p= 0.2 )”"
            ]
          },
          "metadata": {
            "image/png": {
              "width": 420,
              "height": 420
            }
          }
        }
      ]
    },
    {
      "cell_type": "markdown",
      "metadata": {
        "id": "3b6fec91"
      },
      "source": [
        "## Exercício 2\n",
        "\n",
        "2.1. Uma bateria (pilha) tem duração média de 60 horas com uma distribuição normal desvio padrão de 3 horas. Qual é a probabilidade de uma bateria durar menos de 65 horas?\n",
        "\n",
        "**Dica** menos de 65h = até 65h (estamos trabalhando com dados contínuos)\n",
        "\n",
        "**Solução**"
      ]
    },
    {
      "cell_type": "code",
      "metadata": {
        "kernel": "R",
        "tags": [
          "report_cell"
        ],
        "id": "d9997e9a",
        "colab": {
          "base_uri": "https://localhost:8080/",
          "height": 34
        },
        "outputId": "d267e8e6-0dd5-475b-c097-3e00136b3e60"
      },
      "source": [
        "pnorm(65,mean=60,sd=3)"
      ],
      "execution_count": 6,
      "outputs": [
        {
          "output_type": "display_data",
          "data": {
            "text/plain": [
              "[1] 0.9522096"
            ],
            "text/latex": "0.952209647727185",
            "text/markdown": "0.952209647727185",
            "text/html": [
              "0.952209647727185"
            ]
          },
          "metadata": {}
        }
      ]
    },
    {
      "cell_type": "markdown",
      "metadata": {
        "id": "4a595dd5"
      },
      "source": [
        "2.2. Qual a probabilidade da pilha durar mais que a média?\n",
        "\n",
        "**Solução**"
      ]
    },
    {
      "cell_type": "code",
      "metadata": {
        "kernel": "R",
        "tags": [
          "report_cell"
        ],
        "id": "218a6e83",
        "colab": {
          "base_uri": "https://localhost:8080/",
          "height": 34
        },
        "outputId": "6504ba1f-c2dd-48b0-cb1f-e348f0b14dc8"
      },
      "source": [
        "1 - pnorm(60,mean=60,sd=3)"
      ],
      "execution_count": 7,
      "outputs": [
        {
          "output_type": "display_data",
          "data": {
            "text/plain": [
              "[1] 0.5"
            ],
            "text/latex": "0.5",
            "text/markdown": "0.5",
            "text/html": [
              "0.5"
            ]
          },
          "metadata": {}
        }
      ]
    },
    {
      "cell_type": "markdown",
      "metadata": {
        "id": "fd3942c6"
      },
      "source": [
        "2.3.* Qual a probabilidade da pilha durar mais que 65h?\n",
        "\n",
        "**Solução**"
      ]
    },
    {
      "cell_type": "code",
      "metadata": {
        "kernel": "R",
        "tags": [
          "report_cell"
        ],
        "id": "281db7de",
        "colab": {
          "base_uri": "https://localhost:8080/",
          "height": 34
        },
        "outputId": "50af9337-17dc-4421-bfea-753010c2a914"
      },
      "source": [
        "1 - pnorm(65,mean=60,sd=3)"
      ],
      "execution_count": 8,
      "outputs": [
        {
          "output_type": "display_data",
          "data": {
            "text/plain": [
              "[1] 0.04779035"
            ],
            "text/latex": "0.0477903522728147",
            "text/markdown": "0.0477903522728147",
            "text/html": [
              "0.0477903522728147"
            ]
          },
          "metadata": {}
        }
      ]
    },
    {
      "cell_type": "markdown",
      "metadata": {
        "id": "fc42d84f"
      },
      "source": [
        "## Exercício 3\n",
        "\n",
        "3.1.* Um servidor tem duração média de 18000 horas ininterruptas de operação, sem falhas de Hardware, com uma distribuição normal de desvio padrão de 500 horas. Em um novo Data Center foram instalados 1000 desses servidores. A empresa quer fazer uma reserva para as manutenções. Quantos servidores é esperado apresentar falhas até o segundo ano?\n",
        "\n",
        "**Dica** 1 ano = 365*24 horas\n",
        "\n",
        "**Solução**"
      ]
    },
    {
      "cell_type": "code",
      "metadata": {
        "kernel": "R",
        "tags": [
          "report_cell"
        ],
        "id": "ecfa95a0",
        "colab": {
          "base_uri": "https://localhost:8080/",
          "height": 34
        },
        "outputId": "6eda9df6-4810-4cb7-aa90-be7181982672"
      },
      "source": [
        "pnorm(365*24*2,mean=18000,sd=500) * 1000\n",
        "\n",
        "# multiplicando o percentual por 1000 pois foram perguntadas as quantidades"
      ],
      "execution_count": 9,
      "outputs": [
        {
          "output_type": "display_data",
          "data": {
            "text/plain": [
              "[1] 168.5276"
            ],
            "text/latex": "168.527607466838",
            "text/markdown": "168.527607466838",
            "text/html": [
              "168.527607466838"
            ]
          },
          "metadata": {}
        }
      ]
    },
    {
      "cell_type": "markdown",
      "metadata": {
        "id": "23efa25b"
      },
      "source": [
        "3.2.* Quantos servidores devem apresentar falha no terceiro ano?\n",
        "\n",
        "**Solução**"
      ]
    },
    {
      "cell_type": "code",
      "metadata": {
        "kernel": "R",
        "tags": [
          "report_cell"
        ],
        "id": "08ae78c6",
        "colab": {
          "base_uri": "https://localhost:8080/",
          "height": 34
        },
        "outputId": "d068b13b-e4c5-40cd-9720-111931266150"
      },
      "source": [
        "1000 * (pnorm(365*24*3,mean=18000,sd=500) - pnorm(365*24*2,mean=18000,sd=500))"
      ],
      "execution_count": 10,
      "outputs": [
        {
          "output_type": "display_data",
          "data": {
            "text/plain": [
              "[1] 831.4724"
            ],
            "text/latex": "831.472392533162",
            "text/markdown": "831.472392533162",
            "text/html": [
              "831.472392533162"
            ]
          },
          "metadata": {}
        }
      ]
    },
    {
      "cell_type": "markdown",
      "metadata": {
        "id": "5ae95555"
      },
      "source": [
        "## Exercício 4\n",
        "\n",
        "4.1. Notas de rendimento escolar, vestibulares e concursos em geral seguem uma distribuição normal, do mesmo modo que o QI. Neste ano a pontuação média para uma determinada carreira foi de 72 pontos com um desvio padrão de 12. Qual o percentual de de alunos com 84 ou mais pontos nesse exame?\n",
        "\n",
        "**Solução**"
      ]
    },
    {
      "cell_type": "code",
      "metadata": {
        "kernel": "R",
        "tags": [
          "report_cell"
        ],
        "id": "685ea49f",
        "colab": {
          "base_uri": "https://localhost:8080/",
          "height": 51
        },
        "outputId": "3b30da52-b533-4b8e-b9d1-4ee95ebe9f57"
      },
      "source": [
        "1 - pnorm(84, mean=72, sd=12)\n",
        "\n",
        "# Ou alternativamente esta sintaxe\n",
        "pnorm(84, mean=72, sd=12, lower.tail=FALSE)"
      ],
      "execution_count": 11,
      "outputs": [
        {
          "output_type": "display_data",
          "data": {
            "text/plain": [
              "[1] 0.1586553"
            ],
            "text/latex": "0.158655253931457",
            "text/markdown": "0.158655253931457",
            "text/html": [
              "0.158655253931457"
            ]
          },
          "metadata": {}
        },
        {
          "output_type": "display_data",
          "data": {
            "text/plain": [
              "[1] 0.1586553"
            ],
            "text/latex": "0.158655253931457",
            "text/markdown": "0.158655253931457",
            "text/html": [
              "0.158655253931457"
            ]
          },
          "metadata": {}
        }
      ]
    },
    {
      "cell_type": "markdown",
      "metadata": {
        "id": "d0632394"
      },
      "source": [
        "4.2.* Qual é a porcentagem de alunos com até 70 pontos no exame?\n",
        "\n",
        "**Solução**"
      ]
    },
    {
      "cell_type": "code",
      "metadata": {
        "kernel": "R",
        "tags": [
          "report_cell"
        ],
        "id": "c01f96c6",
        "colab": {
          "base_uri": "https://localhost:8080/",
          "height": 34
        },
        "outputId": "d7e248d0-b5fe-48a3-96fb-a1d1d3bc1986"
      },
      "source": [
        "pnorm(70, mean=72, sd=12)"
      ],
      "execution_count": 12,
      "outputs": [
        {
          "output_type": "display_data",
          "data": {
            "text/plain": [
              "[1] 0.4338162"
            ],
            "text/latex": "0.433816167389096",
            "text/markdown": "0.433816167389096",
            "text/html": [
              "0.433816167389096"
            ]
          },
          "metadata": {}
        }
      ]
    },
    {
      "cell_type": "markdown",
      "metadata": {
        "id": "b4b08964"
      },
      "source": [
        "4.3.* Qual a nota dos alunos abaixo e acima dos percentis de 10% e 90% de notas?"
      ]
    },
    {
      "cell_type": "markdown",
      "metadata": {
        "id": "DhrplxFPU2YP"
      },
      "source": [
        "**Dica** empregue `round()` para arredondar o valor para pontos inteiros\n",
        "\n",
        "**Solução**"
      ]
    },
    {
      "cell_type": "code",
      "metadata": {
        "jupyter": {
          "source_hidden": true
        },
        "kernel": "R",
        "tags": [
          "report_cell"
        ],
        "id": "6b4258e6",
        "colab": {
          "base_uri": "https://localhost:8080/",
          "height": 51
        },
        "outputId": "07559f0e-38c1-4749-d5f4-1a274cc23d81"
      },
      "source": [
        "round( qnorm(0.1, mean=72, sd=12) , 0 )\n",
        "round( qnorm(0.9, mean=72, sd=12) , 0 )"
      ],
      "execution_count": 14,
      "outputs": [
        {
          "output_type": "display_data",
          "data": {
            "text/plain": [
              "[1] 57"
            ],
            "text/latex": "57",
            "text/markdown": "57",
            "text/html": [
              "57"
            ]
          },
          "metadata": {}
        },
        {
          "output_type": "display_data",
          "data": {
            "text/plain": [
              "[1] 87"
            ],
            "text/latex": "87",
            "text/markdown": "87",
            "text/html": [
              "87"
            ]
          },
          "metadata": {}
        }
      ]
    },
    {
      "cell_type": "markdown",
      "metadata": {
        "id": "f295f42b"
      },
      "source": [
        "4.4.* Qual a nota de corte para abranger 75% dos candidatos para uma segunda fase?"
      ]
    },
    {
      "cell_type": "markdown",
      "metadata": {
        "id": "0gQ9S8ZiU70v"
      },
      "source": [
        "**Dica** empregue `round()` para arredondar o valor para pontos inteiros\n",
        "\n",
        "**Dica** veja que a nota de corte permite que mais alunos participem da segunda fase. É, portanto, em geral um valor abaixo da média!\n",
        "\n",
        "**Solução**"
      ]
    },
    {
      "cell_type": "code",
      "metadata": {
        "jupyter": {
          "source_hidden": true
        },
        "kernel": "R",
        "tags": [
          "report_cell"
        ],
        "id": "b1e7b7b3",
        "colab": {
          "base_uri": "https://localhost:8080/",
          "height": 34
        },
        "outputId": "066b67df-f4b0-46aa-f06c-e4ddd7717b3f"
      },
      "source": [
        "round( qnorm(0.25, mean=72, sd=12) , 0 )"
      ],
      "execution_count": 16,
      "outputs": [
        {
          "output_type": "display_data",
          "data": {
            "text/plain": [
              "[1] 64"
            ],
            "text/latex": "64",
            "text/markdown": "64",
            "text/html": [
              "64"
            ]
          },
          "metadata": {}
        }
      ]
    },
    {
      "cell_type": "code",
      "metadata": {
        "kernel": "R",
        "tags": [
          "report_cell"
        ],
        "id": "d442fe3e",
        "colab": {
          "base_uri": "https://localhost:8080/",
          "height": 437
        },
        "outputId": "3a985674-eb34-4e01-9b18-1ac06090cdd0"
      },
      "source": [
        "# Parte gráfica opcional\n",
        "\n",
        "prob = c(0)\n",
        "\n",
        "mu = 72\n",
        "sigma = 12\n",
        "\n",
        "x =seq(mu - 3*sigma,mu + 3*sigma,0.2)\n",
        "prob = pnorm(x, mean=mu, sd=sigma)\n",
        "\n",
        "par(mfrow = c(1, 2))\n",
        "\n",
        "plot(x,\n",
        "     prob,\n",
        "     type='l',\n",
        "     xlab = 'Nota do Vestibular',\n",
        "     ylab = 'Função Acumulada de Probabilidade',\n",
        "     col='darkblue')\n",
        "t = paste('CDF, Norm(mean=', mu ,'sd=', sigma, ')')\n",
        "title(t)\n",
        "\n",
        "abline(v=84,col='red',lty='dotted',lwd=1.5)\n",
        "abline(v=70,col='red',lty='dotted',lwd=1.5)\n",
        "abline(v=80,col='red',lty='dotted',lwd=1.5)\n",
        "\n",
        "prob = seq(0,1,0.02)\n",
        "valor = qnorm(prob, mean=mu, sd=sigma)\n",
        "\n",
        "plot(prob,\n",
        "     valor,\n",
        "     type='l',\n",
        "     ylab = 'Nota do Vestibular',\n",
        "     xlab = 'Probabilidade Acumulada Inversa',\n",
        "     col='black')\n",
        "t = paste('ICDF, Norm(mean=', mu ,'sd=', sigma, ')')\n",
        "title(t)\n",
        "\n",
        "text(0.4,qnorm(0.25, mean=mu, sd=sigma)+2,round(qnorm(0.25, mean=mu, sd=sigma),0))\n",
        "\n",
        "abline(h=qnorm(0.25, mean=mu, sd=sigma),col='red',lty='dotted',lwd=1.5)\n",
        "abline(v=0.25,col='red',lty='dotted',lwd=1.5)"
      ],
      "execution_count": 17,
      "outputs": [
        {
          "output_type": "display_data",
          "data": {
            "image/png": "[encoded data removed]",
            "text/plain": [
              "Plot with title “ICDF, Norm(mean= 72 sd= 12 )”"
            ]
          },
          "metadata": {
            "image/png": {
              "width": 420,
              "height": 420
            }
          }
        }
      ]
    },
    {
      "cell_type": "markdown",
      "metadata": {
        "id": "a438399e"
      },
      "source": [
        "## Exercício 5"
      ]
    },
    {
      "cell_type": "markdown",
      "metadata": {
        "id": "Lb76vdQoVBIX"
      },
      "source": [
        "5.1.* Nos gráficos abaixo você encontra valores aleatórios gerados para diferentes distribuições que, assim como a distribuição binomial e normal, aparecem para um grande número de problemas. Note que empregamos a função `r-<nome-da-distribuição>` e para cada uma delas você encontrará também as funções de densidade de probabilidade (`d-<nome-da-distribuição>`), probabilidade acumulada (`p-<nome-da-distribuição>`) e quartis (`q-<nome-da-distribuição>`).\n",
        "\n",
        "Agora, observe as distribuições abaixo e responda: que 3 distribuições estariam mais próximas de representar (a) a distribuição de renda entre os brasileiros e (b) a altura em cm dos brasileiros? (considere apenas a forma das curvas, os valores empregados foram aleatórios e não estão centrados na renda ou altura dos brasileiros)."
      ]
    },
    {
      "cell_type": "code",
      "metadata": {
        "jupyter": {
          "source_hidden": true
        },
        "kernel": "R",
        "tags": [
          "report_cell"
        ],
        "id": "1c19404c",
        "colab": {
          "base_uri": "https://localhost:8080/",
          "height": 437
        },
        "outputId": "95ff6edc-dd7c-4792-f9f8-9fc50b99cd0d"
      },
      "source": [
        "par(mfrow = c(2, 3))\n",
        "set.seed(1234)\n",
        "plot(density(rexp(n=1000,rate=1/3)),main='exp')\n",
        "plot(density(rf(n=1000,df1=100,df2=10)),main='F')\n",
        "plot(density(rgamma(n=1000,shape=1)),main='gamma')\n",
        "plot(density(rpois(n=1000,lambda=10)),main='poisson')\n",
        "plot(density(rchisq(n=1000,df=20)),main='Chi 2')\n",
        "plot(density(rt(n=1000,df=10)),main='t-Student')"
      ],
      "execution_count": 19,
      "outputs": [
        {
          "output_type": "display_data",
          "data": {
            "image/png": "[encoded data removed]",
            "text/plain": [
              "Plot with title “t-Student”"
            ]
          },
          "metadata": {
            "image/png": {
              "width": 420,
              "height": 420
            }
          }
        }
      ]
    },
    {
      "cell_type": "markdown",
      "metadata": {
        "id": "8a5994d8"
      },
      "source": [
        "**Solução**"
      ]
    },
    {
      "cell_type": "markdown",
      "metadata": {
        "id": "HbySCX4LVHEI"
      },
      "source": [
        "As 3 primeiras (exp, F e gamma) com assimetria negativa encontram-se mais próximo de representar a desigualdade de renda no Brasil. As 3 seguintes (poisson, Chi 2,  t-Student) são distribuições simétricas e estão mais próximas de representar a  distribuição de altura dos brasileiros.\n",
        "\n",
        "Aqui trata-se aqui apenas de um exercício para explorar a forma das distribuições, e a distribuição correta de cada um desses problemas não é necessariamente nenhuma delas. Por exemplo, a altura dos brasileiros, segue uma distribuição normal."
      ]
    },
    {
      "cell_type": "markdown",
      "metadata": {
        "id": "ShLwDcznEA3I"
      },
      "source": [
        "## Exercício 6\n",
        "\n",
        "6.1.* Uma distribuição uniforme é aquela em que todos os valores tem a mesma probabilidade de ocorrer. Entretanto, não existem quaisquer situações práticas em que isso ocorre. Verdadeiro ou Falso?\n",
        "\n"
      ]
    },
    {
      "cell_type": "markdown",
      "metadata": {
        "id": "4tb2bhF4EPMe"
      },
      "source": [
        "**Solução**\n",
        "\n",
        "Pense nos valores de um dado honesto ou uma moeda (cara-coroa). Todos os possíveis valores em cada caso têm as mesmas probabilidades formando uma distribuição em formato de 'caixa'. "
      ]
    },
    {
      "cell_type": "markdown",
      "metadata": {
        "id": "ftpc1LAYE4JG"
      },
      "source": [
        "6.2.* Considere sucessivas jogadas de um dado. De acordo com a lei dos grandes números podemos afirmar que: \n",
        "\n",
        "a. A probabilidade de termos o número 6 é mais próxima de 1/6 a medida que mais vezes repetimos as jogadas\n",
        "\n",
        "b. A razão de vezes que o número 6 aparece é mais próxima de 1/6 a medida que mais vezes repetimos as jogadas\n",
        "\n",
        "c. A probabilidade de termos o número 6 é mais próxima de 1/2 a medida que mais vezes repetimos as jogadas\n",
        "\n",
        "d. A razão de vezes que o número 6 aparece é mais próxima de 1/2 a medida que mais vezes repetimos as jogadas\n",
        "\n",
        "e. Nenhuma das alternativas, isso está mais relacionado ao teorema central do limite\n",
        "\n",
        "\n",
        "**Solução** \n",
        "\n",
        "b. \n",
        "\n",
        "\n",
        "6.3.* Considere o teorema central do limite. Podemos afirmar que: \n",
        "\n",
        "  i. É um outro nome dado à lei dos grandes números\n",
        "  \n",
        "  ii. Ele é importante por que relaciona a distribuição normal a uma série de problemas\n",
        "  \n",
        "  iii. Ele se aplica somente a dados com distribuição normal\n",
        "\n",
        "Estão corretas:\n",
        "\n",
        "a. Todas as alternativas\n",
        "\n",
        "b. Somente ii\n",
        "\n",
        "c. Somente iii\n",
        "\n",
        "d. Somente i, iii\n",
        "\n",
        "e. Somente ii, iii\n",
        " \n",
        "**Solução** \n",
        "\n",
        "b. \n",
        "\n",
        "\n",
        "6.4.* Considere o teorema central do limite. Podemos afirmar que: \n",
        "\n",
        "  i. Ele associa a média de variáveis à distribuição normal para quaisquer distribuições dessas variáveis \n",
        "\n",
        "  ii. Ele relaciona as distribuições normal e t-Student para grandes amostras  \n",
        "\n",
        "  iii. Ele permite afirmar que a média dos resultados dos lançamentos de uma dado terá uma distribuição com média 3.5\n",
        "\n",
        "Estão corretas:\n",
        "\n",
        "a. Todas as alternativas\n",
        "\n",
        "b. Somente ii\n",
        "\n",
        "c. Somente iii\n",
        "\n",
        "d. Somente i, iii\n",
        "\n",
        "e. Somente ii, iii\n",
        " \n",
        "**Solução** \n",
        "\n",
        "d. \n",
        "\n",
        "\n",
        "6.5.* Considere as seguintes afirmativas sobre o z-score: \n",
        "\n",
        "  i. É uma medida de dispersão de uma variável aleatória\n",
        "\n",
        "  ii. Fornece quantos desvios padrão um dado valor está distante em relação à média \n",
        "  \n",
        "  iii. Pode ser empregado para compararmos diferentes conjuntos de dados\n",
        " \n",
        "Estão corretas:\n",
        "\n",
        "a. Todas as alternativas\n",
        "\n",
        "b. Somente ii\n",
        "\n",
        "c. Somente iii\n",
        "\n",
        "d. Somente i, iii\n",
        "\n",
        "e. Somente ii, iii\n",
        " \n",
        "**Solução** \n",
        "\n",
        "e.  \n",
        "\n",
        "\n",
        "6.6.* Assinale a alternativa que contenha somente distribuições simétricas:\n",
        "\n",
        "a. normal, t-Student, chi-quadrado, poisson\n",
        "\n",
        "b. normal, t-Student, chi-quadrado, binomial\n",
        "\n",
        "c. normal, t-Student, uniforme, binomial\n",
        "\n",
        "d. normal, t-Student, poisson\n",
        "\n",
        "e. normal, t-Student, uniforme, binomial, poisson\n",
        "\n",
        "**Solução** \n",
        "\n",
        "c.  \n",
        "\n"
      ]
    }
  ]
}