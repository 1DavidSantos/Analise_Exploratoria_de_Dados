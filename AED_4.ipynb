{
  "nbformat": 4,
  "nbformat_minor": 0,
  "metadata": {
    "colab": {
      "name": "AED_4.ipynb",
      "provenance": [],
      "authorship_tag": "ABX9TyMZzl87l3V7/zCFp4oEvH1J",
      "include_colab_link": true
    },
    "kernelspec": {
      "name": "ir",
      "display_name": "R"
    },
    "language_info": {
      "name": "R"
    }
  },
  "cells": [
    {
      "cell_type": "markdown",
      "metadata": {
        "id": "view-in-github",
        "colab_type": "text"
      },
      "source": [
        "<a href=\"https://colab.research.google.com/github/Rogerio-mack/Analise_Exploratoria_de_Dados/blob/main/AED_4.ipynb\" target=\"_parent\"><img src=\"https://colab.research.google.com/assets/colab-badge.svg\" alt=\"Open In Colab\"/></a>"
      ]
    },
    {
      "cell_type": "markdown",
      "metadata": {
        "id": "40b90843"
      },
      "source": [
        "<img src=\"http://meusite.mackenzie.br/rogerio/mackenzie_logo/UPM.2_horizontal_vermelho.jpg\"  width=300, align=\"right\">\n",
        "<br>\n",
        "<br>\n",
        "<br>\n",
        "<br>\n",
        "<br>\n",
        "\n",
        "# Distribuições de Probabilidade\n",
        "---"
      ]
    },
    {
      "cell_type": "markdown",
      "metadata": {
        "id": "e6ddf797"
      },
      "source": [
        "Vamos introduzir aqui a noções de probabilidade e inferência estatística. Você vai conhecer aqui as principais distribuições de probabilidades. Aqui você aprenderá como caracterizar diferentes distribuições de probabilidades e como empregar essas distribuições para fazer inferências sobre os dados. Você vai ainda aplicar esse conceitos em conjuntos de dados com R."
      ]
    },
    {
      "cell_type": "markdown",
      "metadata": {
        "id": "31459bad"
      },
      "source": [
        "## Introdução"
      ]
    },
    {
      "cell_type": "markdown",
      "metadata": {
        "id": "9ae5830f"
      },
      "source": [
        "No capítulo anterior você aprendeu a visualizar distribuições dos dados empregando histrogramas e gráficos de densidade. Deve ter notado também a importância da distribuição para o entendimento dos dados e análise gráfica permite distinguir entre distribuições simétricas, em calda à direita (assimetria negativa, com a média é em geral menor que a mediana) ou à direita etc. Algumas dessas distribuições são bastante comuns e aparecem com frequencia em uma série de problemas práticos, como a *distribuição normal* que você já deve ter ouvido falar em algum momento, no dia-a-dia, na escola ou no trabalho, e entender sobre essas distribuições permitirá você fazer *inferências* importantes sobre os dados como estimar um valor mais provável."
      ]
    },
    {
      "cell_type": "markdown",
      "metadata": {
        "id": "10408582"
      },
      "source": [
        "## Probabilidade"
      ]
    },
    {
      "cell_type": "markdown",
      "metadata": {
        "id": "98bc3bde"
      },
      "source": [
        "Imagine uma caixa com 10 bolas de bilhar, 5 vermelhas, 2 azuis e 3 amarelas. Abaixo você pode ver representada a frequencia, isto é quantidade, de cada uma das cores na caixa."
      ]
    },
    {
      "cell_type": "code",
      "metadata": {
        "kernel": "R",
        "tags": [
          "report_cell"
        ],
        "id": "131bb964"
      },
      "source": [
        "barplot(c(5,2,3),\n",
        "        names.arg=c('vermelha','azul','amarela'),\n",
        "        col=c('red','blue','yellow'))\n",
        "title('Proporção das Bolas na Caixa pelas Quantidades (frequencia)')"
      ],
      "execution_count": null,
      "outputs": []
    },
    {
      "cell_type": "markdown",
      "metadata": {
        "id": "2f6a1d4b"
      },
      "source": [
        "Imagine agora que você vai tirar uma bola da caixa sem olhar para bola que irá retirar. Qual cor você imagina será mais provável de você retirar da caixa?\n",
        "Se você respondeu *vermelha* você certamente já tem a intuição do que é a probabilidade de um evento. A probabilidade, em uma perspectiva que podemos dizer *frequentista*, considera a frequencia (as quantidades) que ocorrem de cada valor, sendo o caso mais provável a cor que aparece em maior proporção. No caso do nosso exemplo, a probabilidade de você tirar cada uma das cores é dada por:\n",
        "\n",
        "$$ p(X=vermelha) = \\frac{\\text{bolas vermelhas}}{\\text{total de bolas}} = 5/10 = 0.5  $$\n",
        "\n",
        "$$ p(X=azul) = \\frac{\\text{bolas azuis}}{\\text{total de bolas}} = 2/10 = 0.2  $$\n",
        "\n",
        "$$ p(X=amarela) = \\frac{\\text{bolas amarelas}}{\\text{total de bolas}} = 3/10 = 0.3  $$\n",
        "\n",
        "E podemos então dizer que a probabilidade de um evento, um valor $x_i$, é dada por:\n",
        "\n",
        "$$ p(X=x_i) = \\frac{\\text{nr de casos de } x_i}{\\text{nr de todos casos possíveis}} $$\n",
        "\n",
        "Você pode notar também que a soma da probabilidade de todos os casos é 1.\n",
        "\n",
        "$$ p(X=vermelha) + p(X=azul) + p(X=amarela) = 0.5 + 0.3 + 0.2 = 1  $$\n",
        "\n",
        "Este é um resultado não ocorre só para o nosso exemplo. Em qualquer caso a soma das probabilidades de todos eventos possíveis é 1, e podemos escrever isso de modo geral como:\n",
        "\n",
        "$$ \\sum_i^n p(X=x_i) = 1 $$\n",
        "\n",
        "Podemos agora, de forma semelhante ao que fizemos com as quantidades,  representar a *proporção* ou a probabilidade de cada cor, dividindo a frequencia de cada cor pelo total de bolas na caixa."
      ]
    },
    {
      "cell_type": "code",
      "metadata": {
        "kernel": "R",
        "tags": [
          "report_cell"
        ],
        "id": "bdebedf2"
      },
      "source": [
        "barplot(c(5/10,2/10,3/10),\n",
        "        names.arg=c('vermelha','azul','amarela'),\n",
        "        col=c('red','blue','yellow'))\n",
        "title('Proporção das Bolas na Caixa')"
      ],
      "execution_count": null,
      "outputs": []
    },
    {
      "cell_type": "markdown",
      "metadata": {
        "id": "f1169187"
      },
      "source": [
        "Você acaba de descobrir uma função de probabilidades e isso vai ajudar você a entender as distribuições de probabilidade."
      ]
    },
    {
      "cell_type": "markdown",
      "metadata": {
        "id": "f91e7714"
      },
      "source": [
        "## Distribuições de Probabilidade"
      ]
    },
    {
      "cell_type": "markdown",
      "metadata": {
        "id": "a5421d46"
      },
      "source": [
        "As distribuições de probabilidade são um conceito fundamental em estatística. Para dados univariados, funções de distribuição de probabilidades fornecem um modelo de distribuição dos dados, e ela ainda são a base para o cálculo de intervalos de confiança e os testes de hipóteses, desempenhando um papel fundamental na inferência estatística, simulações etc.\n",
        "\n",
        "A definição matemática de uma **função de probabilidade discreta**, $p(x)$, é uma\n",
        "função com as seguintes propriedades:\n",
        "\n",
        "1. Fornece $p(x_i)$ a probabilidade de que $x_i$ possa assumir um determinado valor:\n",
        "\n",
        "$$ P[ X = x_i ] = p(x_i) $$\n",
        "\n",
        "2. $p(x)$ é não negativo para todo valor $x$.\n",
        "\n",
        "$$ p(x_i) \\ge 0 \\text{ , para } \\forall i$$\n",
        "\n",
        "3. A soma de $p(x)$ para todos os valores possíveis de $x_i$ é 1\n",
        "\n",
        "$$ \\sum_i p(x_i) = 1$$\n",
        "\n",
        "E como consequência de 2. e 3. temos $0 \\le p(x_i) \\le 1$ para $\\forall i$.\n",
        "\n",
        "Pelo nosso exemplos da caixa com bolas coloridas é exatamente o que você esperava encontrar, não é mesmo?\n",
        "\n",
        "Uma função de probabilidade discreta é um função que pode assumir um número discreto de valores (não necessariamente finitos). No nosso exemplo, existem somente 3 casos correspondente às 3 cores na caixa. Mas de modo análogo podemos também **definir funções de probabilidades contínuas**, e com suas correspondentes distribuições.\n",
        "\n",
        "1. $$ P[ a \\le x \\le b ] = \\int_a^b p(x) $$\n",
        "\n",
        "2. $$ p(x) \\ge 0 \\text{ , para } \\forall x$$\n",
        "\n",
        "3. $$ \\int_{-\\infty}^{+\\infty} p(x) = 1$$\n",
        "\n",
        "Para essas funções $P(x)$ podemos criar gráficos que são bastante úteis para entendermos os dados envolvidos. Um gráfico que exibe a probabilidade $P(X=x)$ para cada valor de $x$ é um **gráfico de densidade de probabilidade** e ainda é comum empregarmos um **gráfico de densidade de probabilidade acumulada** exibindo os valores de $P(X \\le x)$ para todo $x$.\n",
        "\n",
        "<br>\n",
        "<br>\n",
        "<img src=\"http://meusite.mackenzie.br/rogerio/PEA/PDF_CDF_popup_1.png\" width=300, align=\"center\">\n",
        "<img src=\"http://meusite.mackenzie.br/rogerio/PEA/PDF_CDF_popup_2.png\" width=300, align=\"center\">\n",
        "<img src=\"http://meusite.mackenzie.br/rogerio/PEA/PDF_CDF_popup_3.png\" width=300, align=\"center\">\n",
        "<br>\n",
        "<br>\n",
        "Brown, R. J.[**Connecting the CDF and the PDF**](http://demonstrations.wolfram.com/ConnectingTheCDFAndThePDF/)\n",
        "*Wolfram Demonstrations Project*.\n",
        "<br>\n",
        "<br>\n",
        "\n",
        "Essas funções são normalmente conhecidas como **PDF** (do inglês, Probability Density Function) e **CDF** (do inglês, Cumulative Density Function). E talvez você queira explorar aqui em [Connecting the CDF and the PDF](https://demonstrations.wolfram.com/ConnectingTheCDFAndThePDF/) como essas funções se relacionam.\n",
        "\n",
        "É importante você notar que, assim como no caso discreto, em que a somatória de todos os valores de probabilidade possíveis é 1, para o caso contínuo, $ \\int_{-\\infty}^{+\\infty} p(x) = 1$, isso significa que a área sob a curva da PDF tem valor 1."
      ]
    },
    {
      "cell_type": "markdown",
      "metadata": {
        "id": "0b8a6c32"
      },
      "source": [
        "## Função de Probabilidade Discreta: Distribuição Binomial"
      ]
    },
    {
      "cell_type": "markdown",
      "metadata": {
        "id": "156e989a"
      },
      "source": [
        "Considere que você vai jogar uma moeda e deseja saber qual a probabilidade de obter 7 caras ou mais em 20 lançamentos. Esses lançamentos de moeda seguem uma distribuição conhecida como Binomial e podemos empregar a fórmula:\n",
        "\n",
        "$$P(k) = \\frac{{n!}}{{k!\\left( {n - k} \\right)!}}p^k (1 - p)^{n - k} = \\left( {\\begin{array}{*{20}c} n \\\\ k \\\\ \\end{array}} \\right)p^k (1 - p)^{n - k}$$\n",
        "\n",
        "para calcular a probabilidade $p(7)$ de até 7 caras, onde $p$ é a probabilidade de se obter cara ($0.5$ se a moeda é não viciada) e $n$ o número de lançamentos.\n",
        "\n",
        "Você não precisa se preocupar compreender completamente essa função agora, mesmo por quê empregaremos o R para fazer esses cálculos para você. O seu objetivo agora é entender *o quê* podemos fazer se conhecemos essa função? Você pode, por hora, pensar nessa função como um fórmula, havendo uma fórmula para cada tipo de distribuição diferente. Entender o que podemos fazer essas funções vai então motivá-lo a compreendê-las melhor.\n",
        "\n",
        "Podemos então construir os gráficos PDF e CDF dessa distribuição e isso ajudará você a compreender e explorar esse problema."
      ]
    },
    {
      "cell_type": "code",
      "metadata": {
        "kernel": "R",
        "tags": [
          "report_cell"
        ],
        "id": "2b5745d8"
      },
      "source": [
        "n = 20\n",
        "p = 0.5\n",
        "\n",
        "prob = c(0)\n",
        "\n",
        "pmf <- function(k, n, p){\n",
        "  return ( factorial(n) / ( ( factorial(k) * factorial(n - k) ) ) * p**k * (1-p)**(n-k) )\n",
        "}\n",
        "\n",
        "for (k in c(0:n)){\n",
        "  prob[k+1] = pmf(k, n, p)\n",
        "}\n",
        "\n",
        "barplot(prob,\n",
        "        names.arg = seq(0,n,1),\n",
        "        xlab = 'Quantidade de Caras',\n",
        "        ylab = 'Função Densidade de Probabilidade',\n",
        "        col='lightblue',\n",
        "        cex.names = 0.8)\n",
        "title('PDF, Binom(n=20, p=0.5)')"
      ],
      "execution_count": null,
      "outputs": []
    },
    {
      "cell_type": "markdown",
      "metadata": {
        "id": "ad970cbd"
      },
      "source": [
        "O gráfico acima exibe a função de densidade de probabilidade, isto é, a probabilidade de obtermos **até** um determinado número de caras ao longo dos 20 lançamentos.\n",
        "\n",
        "Vamos explorar um pouco esse gráfico. Por exemplo, você pode notar que a probabilidade de termos **até** uma única cara nos lançamentos é muito baixa, afinal você precisaria que os 19 demais lançamentos retornassem todos coroa. A probabilidade aumenta até 10, o quê também é esperado, já que em média, sendo a uma moeda sem vício, a chance de se obter cara é de 50% e 10 corresponderia à metade dos 20 lançamentos.\n",
        "\n",
        "Mas para muitas distribuições, como esta, o R já fornece a função de probabilidades.\n",
        "\n",
        "```\n",
        "dbinom(x, size, prob, log = FALSE)\n",
        "```\n",
        "Veja `help('pbinom')`.\n",
        "\n",
        "Assim, podemos reescrever o código acima como:"
      ]
    },
    {
      "cell_type": "code",
      "metadata": {
        "kernel": "R",
        "tags": [
          "report_cell"
        ],
        "id": "33326153"
      },
      "source": [
        "n = 20\n",
        "p = 0.5\n",
        "\n",
        "prob = c(0)\n",
        "\n",
        "for (k in c(0:n)){\n",
        "  prob[k+1] = dbinom(k, n, p)\n",
        "}\n",
        "\n",
        "barplot(prob,\n",
        "        names.arg = seq(0,n,1),\n",
        "        xlab = 'Quantidade de Caras',\n",
        "        ylab = 'Função Densidade de Probabilidade',\n",
        "        col='lightblue',\n",
        "        cex.names = 0.8)\n",
        "title('PDF, Binom(n=20, p=0.5)')"
      ],
      "execution_count": null,
      "outputs": []
    },
    {
      "cell_type": "markdown",
      "metadata": {
        "id": "6e44e27c"
      },
      "source": [
        "E você verá que outras distribuições a função de **d**istribuição de probabilidades também será **d**<nome-da-distribuição>, por exemplo `dnorm()` para a distribuição normal. Mas voltaremos nisso mais adiante.\n",
        "\n",
        "Mas esse gráfico permite você entender muito mais. A probabilidade de termos até 7 caras nos lançamentos é a soma das probabilidades de termos até 1, 2,... e 7 lançamentos, o que é representado no gráficos pela área ou 'soma' das barras até o valor 7. De fato, você verá mais adiante, que nas distribuições contínuas podemos calcular essa área para obtermos as probabilidades."
      ]
    },
    {
      "cell_type": "code",
      "metadata": {
        "kernel": "R",
        "tags": [
          "report_cell"
        ],
        "id": "cc59561b"
      },
      "source": [
        "n = 20\n",
        "p = 0.5\n",
        "\n",
        "prob = c(0)\n",
        "\n",
        "for (k in c(0:n)){\n",
        "  prob[k+1] = dbinom(k, n, p)\n",
        "}\n",
        "\n",
        "barplot(prob,\n",
        "        names.arg = seq(0,n,1),\n",
        "        xlab = 'Quantidade de Caras',\n",
        "        ylab = 'Função Densidade de Probabilidade',\n",
        "        col=c( rep('green',8) , rep('lightblue',n-8) ),\n",
        "        cex.names = 0.8)\n",
        "title('PDF, Binom(n=20, p=0.5)')"
      ],
      "execution_count": null,
      "outputs": []
    },
    {
      "cell_type": "markdown",
      "metadata": {
        "id": "689398b9"
      },
      "source": [
        "Assim, podemos calcular:\n",
        "\n",
        "$$P(k \\le 7) = P(k=0) + P(k=1) + ... + P(k=7) = 0.131588$$"
      ]
    },
    {
      "cell_type": "code",
      "metadata": {
        "kernel": "R",
        "tags": [
          "report_cell"
        ],
        "id": "53171dba"
      },
      "source": [
        "n = 20\n",
        "p = 0.5\n",
        "\n",
        "p7 = 0\n",
        "\n",
        "for (k in c(0:7)){\n",
        "  p7 = p7 + dbinom(k, n, p)\n",
        "}\n",
        "\n",
        "print(p7)"
      ],
      "execution_count": null,
      "outputs": []
    },
    {
      "cell_type": "markdown",
      "metadata": {
        "id": "7b55b881"
      },
      "source": [
        "E se você, por exemplo, quiser saber a probabilidade de ter exatamente entre 7 e 9 caras nos lançamentos basta obter a 'soma' (equivalente à área sob a curva em uma distribuição contínua) sob o gráfico entre os valores 7 e 9. E assim, obtemos:\n",
        "\n",
        "$$P(7 \\le k \\le 9) = P(k=7) + P(k=8) + P(k=9) = 0.3542...$$"
      ]
    },
    {
      "cell_type": "code",
      "metadata": {
        "kernel": "R",
        "tags": [
          "report_cell"
        ],
        "id": "a5115f1c"
      },
      "source": [
        "n = 20\n",
        "p = 0.5\n",
        "\n",
        "# Este código, está correto, mas em R podemos substituir por uma única linha\n",
        "# pois as operações são aplicadas a todo um vetor\n",
        "#-------------------------------------------------------------------------------\n",
        "# prob = c(0)\n",
        "\n",
        "# for (k in c(0:n)){\n",
        "#   prob[k+1] = dbinom(k, n, p)\n",
        "# }\n",
        "\n",
        "# Assim, agora que você já entendeu o que estamos fazendo, podemos empregar\n",
        "# para obter os valores de dbinom para os valores de c(0:n):\n",
        "#-------------------------------------------------------------------------------\n",
        "prob = dbinom(c(0:n), n, p)\n",
        "\n",
        "# e empregaremos esse modo daqui para diante\n",
        "\n",
        "p7_9 = 0\n",
        "\n",
        "for (k in c(7,8,9)){\n",
        "  p7_9 = p7_9 + dbinom(k, n, p)\n",
        "}\n",
        "\n",
        "barplot(prob,\n",
        "        names.arg = seq(0,n,1),\n",
        "        xlab = 'Quantidade de Caras',\n",
        "        ylab = 'Função Densidade de Probabilidade',\n",
        "        col=c( rep('lightblue',7) , rep('green',10-7),  rep('lightblue',n-10) ),\n",
        "        cex.names = 0.8)\n",
        "title('PDF, Binom(n=20, p=0.5)')\n",
        "text(20,0.1,p7_9)"
      ],
      "execution_count": null,
      "outputs": []
    },
    {
      "cell_type": "markdown",
      "metadata": {
        "id": "cb773a8c"
      },
      "source": [
        "o gráfico acima empregamos o **gráfico de densidade de probabilidade** com valores de $P(X = x)$, mas como você notou a soma de várias probabilidades $P(X = x_1) + P(X = x_2) + ... + P(X = x_n)$ parece ser bastante útil e por isso uma outra forma de representarmos essas probabilidades é empregar um **gráfico de densidade de probabilidade acumulada** exibindo os valores de $P(X \\le x)$ para todo $x$. Assim o gráfico fornece na posição 7 exatamente o valor de $P(X \\le 7) $, isto é, a probabilidade acumulada $P(X \\le 7) = P(x=0) + P(x=1) + ... + P(x=7)$.\n",
        "\n",
        "Assim como para funções de distribuição, o R também fornece a função de Função de Probabilidade Acumulada para várias distribuições e, para a distribuição binomial empregamos:\n",
        "\n",
        "```\n",
        "pbinom(q, size, prob, lower.tail = TRUE, log.p = FALSE)\n",
        "```\n",
        "Veja `help('pbinom')`.\n",
        "\n",
        "Para outras distribuições a função de probabilidade acumulada também será **p**<nome-da-distribuição>. Por exemplo `pnorm()` para a distribuição normal.\n",
        "\n",
        "Assim, podemos obter o gráfico de Probabilidade Acumulada:"
      ]
    },
    {
      "cell_type": "code",
      "metadata": {
        "kernel": "R",
        "tags": [
          "report_cell"
        ],
        "id": "b477ee0e"
      },
      "source": [
        "n = 20\n",
        "p = 0.5\n",
        "\n",
        "prob = pbinom(c(0:n), n, p)\n",
        "\n",
        "barplot(prob,\n",
        "        names.arg = seq(0,n,1),\n",
        "        xlab = 'Quantidade de Caras',\n",
        "        ylab = 'Função de Probabilidade Acumulada',\n",
        "        col='lightblue',\n",
        "        cex.names = 0.8)\n",
        "title('CDF, Binom(n=20, p=0.5)')\n",
        "\n",
        "text(4,pbinom(7, n, p)+0.1,round(pbinom(7, n, p),4))\n",
        "abline(h=pbinom(7, n, p),col='red',lty='dotted',lwd=1.5)\n",
        "abline(v=7+2,col='red',lty='dotted',lwd=1.5)"
      ],
      "execution_count": null,
      "outputs": []
    },
    {
      "cell_type": "markdown",
      "metadata": {
        "id": "daa33d95"
      },
      "source": [
        "A função de probabilidade acumulada permite então obter diretamente a probabilidade de até 7 caras $P(x \\le 7)$. Assim o cálculo é diretamente obtido:"
      ]
    },
    {
      "cell_type": "code",
      "metadata": {
        "kernel": "R",
        "tags": [
          "report_cell"
        ],
        "id": "59f31398"
      },
      "source": [
        "pbinom(7, n, p)"
      ],
      "execution_count": null,
      "outputs": []
    },
    {
      "cell_type": "markdown",
      "metadata": {
        "id": "51c3c4eb"
      },
      "source": [
        "E ainda podemos obter a probabilidade de termos exatos 7 a 9 caras:\n",
        "\n",
        "$$ P(7 \\le x \\le 9) = P(x \\le 9) - P(x \\le 6) = 0.3542...$$"
      ]
    },
    {
      "cell_type": "code",
      "metadata": {
        "kernel": "R",
        "tags": [
          "report_cell"
        ],
        "id": "4814a077"
      },
      "source": [
        "pbinom(9, n, p) - pbinom(6, n, p)"
      ],
      "execution_count": null,
      "outputs": []
    },
    {
      "cell_type": "markdown",
      "metadata": {
        "id": "53fd97cb"
      },
      "source": [
        "Embora este seja um exemplo simples, uma série de problemas práticos estão associados a esta mesma função de distribuição de probabilidades. Por exemplo você pode pensar na probabilidade de se obter até 10 peças com defeito em um lote de 100 peças adquiridas sabendo que a média de defeitos do fabricante é de 1% nas peças produzidas. Ou, para estimar atrasos ou o retrabalho em desenvolvimento de software nos próximos meses, obtendo a probabilidade de ser necessário mais de 5 correções de programas de software a cada lote 100 desenvolvidos por uma fábrica de software que apresenta em média 5% de retrabalho com esse fornecedor."
      ]
    },
    {
      "cell_type": "markdown",
      "metadata": {
        "id": "dc3a99b5"
      },
      "source": [
        "## Função de Probabilidade Contínua: Distribuição Normal"
      ]
    },
    {
      "cell_type": "markdown",
      "metadata": {
        "id": "a209ec23"
      },
      "source": [
        "Também bastante comum é a correspondente contínua da distribuição binomial, a distribuição normal. Essa distribuição é bastante popular e talvez você até mesmo já tenha ouvido falar dela. Sua importância e popularidade reside no fato de estar associada a uma série de fenômenos naturais e bastante comuns. Por exemplo medidas como altura, peso, circunferência toráxica ou o número do calçado das pessoas seguem uma distribuição normal (dependendo do contexto, como na física e engenharia, podemos usar o termo Gaussiana). Você poderia, então, empregar isso para definir as melhores quantidades de cada número de sapato ou de tamanhos de camisa a serem fabricados, uma vez que a procura desses produtos depende das medidas das pessoas que vão adquirir esses produtos (e de fato é em geral assim que é feito!). Mas não são somente medidas do ser humano que seguem essa distribuição e podemos também encontrar essa mesma distribuição no peso de sementes na agricultura, notas nos resultados do vestibular ou de um concurso, velocidade dos veículos em uma estrada, medidas do coeficiente de inteligência (*QI*) ou ainda no peso de bebês recém nascidos.\n",
        "\n",
        "Diferentemente da distribuição binomial que envolve a probabilidade de valores discretos (inteiros, como as quantidades de lançamentos de uma moeda) a distribuição normal está associada a valores contínuos. O peso e altura de uma pessoa, ou o peso de um recém nascido, pode assumir quaisquer valores em um intervalo contínuo. Por exemplo, medindo-se o peso de vários bebês recém nascidos você deve encontrar uma média em tôrno de 3Kg, mas pode encontrar *qualquer* valor em torno dessa média, por exemplo no intervalo $[0.8 , 6.0]$, e não é difícil imaginar que valores cada vez maiores (ou menores) sejam cada vez menos prováveis.\n",
        "\n",
        "$$P(x) = \\frac{1}{\\sigma \\sqrt{2\\pi}}e^{ - ( x - \\mu )^2  / {2\\sigma ^2}}$$\n",
        "\n",
        "onde $\\mu$ é a média da população e $\\sigma$ o desvio padrão.\n",
        "\n",
        "Da mesma forma que antes, não é importante que você compreenda essa fórmula agora e você aprenderá como empregar o R para fazer esses cálculos. Mas vamos no concentrar novamente em entender *o quê* podemos fazer se conhecemos essa função.\n",
        "\n",
        "Do mesmo modo que na distribuição contínua podemos os gráficos PDF e CDF dessa distribuição.\n",
        "\n",
        "Sabendo que a média de peso de recém nascidos é de 3kg com um desvio padrão de 1Kg, empregamos isso para gerar uma amostra hipotética de peso de 100 bebês com uma distribuição normal e comparar isso à distribuição normal ideal."
      ]
    },
    {
      "cell_type": "code",
      "metadata": {
        "kernel": "R",
        "tags": [
          "report_cell"
        ],
        "id": "f49e5c65"
      },
      "source": [
        "set.seed(seed=1234) # fixa a semente de geração aleatória\n",
        "\n",
        "mu = 3\n",
        "sigma = 1\n",
        "\n",
        "valores = rnorm(n=100,mean=mu,sd=sigma)\n",
        "\n",
        "hist(valores, breaks=20, freq=FALSE, col='lightblue',\n",
        "      main = 'PDF, N(mu=3, sigma=1)',\n",
        "      xlab = 'Peso dos Recém Nascidos',\n",
        "      ylab = 'Função Densidade de Probabilidade')\n",
        "\n",
        "# add a 'best fit' line\n",
        "y = ((1 / (sqrt(2 * pi) * sigma)) *\n",
        "     exp(-0.5 * (1 / sigma * (seq(0,6,0.05) - mu))**2))\n",
        "lines(seq(0,6,0.05), y, col='red',lty='dashed',lwd=1.5)"
      ],
      "execution_count": null,
      "outputs": []
    },
    {
      "cell_type": "markdown",
      "metadata": {
        "id": "95291d34"
      },
      "source": [
        "A função,\n",
        "\n",
        "```\n",
        "rnorm(n, mean = 0, sd = 1)\n",
        "\n",
        "```\n",
        "Veja o `help(rnorm)`."
      ]
    },
    {
      "cell_type": "code",
      "metadata": {
        "jupyter": {
          "source_hidden": true
        },
        "kernel": "Markdown",
        "tags": [
          "report_output"
        ],
        "id": "ecbbebb4"
      },
      "source": [
        "%expand `r ` --in R\n",
        "Gera valores aleatórios com a distribuição normal com a média e desvio padrão indicados. Segue o mesmo esquema das funções anteriores, valores **r**andômicos são gerados com `rnorm` com distribuição normal, **r**<nome-da-distribuição> para outras distribuições. Por exemplo, `rbinom()` para a distribuição binomial, mas obviamente você notou que as funções têm parâmetros que diferem para cada tipo de distribuição.\n",
        "\n",
        "De forma análoga ao caso discreto, a área sob o gráfico da PDF pode ser empregada para o cálculo da probabilidade de um evento e você pode obter a probabilidade de nascimento de um bebê de até 2kg obtendo a área sob a curva até o valor 2.\n",
        "\n",
        "No gráfico abaixo empregamos a função de densidade de probabilidade (PDF) da distribuição normal `dnorm()` de modo análogo ao que empregamos anteriormente para a distribuição binomial, com `dbinom()`. É importante que você note que cada tipo de distribuição apresenta parâmetros diferentes. Enquanto, no caso discreto, a distribuição binomial tinha parâmetros como a quantidade de eventos e sua probabilidade, a distribuição normal tem como parâmetros a média e o desvio padrão."
      ],
      "execution_count": null,
      "outputs": []
    },
    {
      "cell_type": "code",
      "metadata": {
        "jupyter": {
          "source_hidden": true
        },
        "kernel": "R",
        "tags": [
          "report_cell"
        ],
        "id": "fa8ed0e5"
      },
      "source": [
        "prob = c(0)\n",
        "\n",
        "mu = 3\n",
        "sigma = 1\n",
        "\n",
        "prob = dnorm(seq(0,6,0.05), mean=mu, sd=sigma)\n",
        "\n",
        "barplot(prob,\n",
        "        names.arg = seq(0,6,0.05),\n",
        "        xlab = 'Peso dos Recém Nascidos',\n",
        "        ylab = 'Função Densidade de Probabilidade',\n",
        "        col='lightblue')\n",
        "title('PDF, Norm(mean=3,sd=1)')"
      ],
      "execution_count": null,
      "outputs": []
    },
    {
      "cell_type": "markdown",
      "metadata": {
        "id": "4946a37f"
      },
      "source": [
        "Mas sendo valores contínuos é mais adequado neste caso empregarmos a função `plot()` no lugar de um histograma."
      ]
    },
    {
      "cell_type": "code",
      "metadata": {
        "kernel": "R",
        "tags": [
          "report_cell"
        ],
        "id": "2aaad5fa"
      },
      "source": [
        "prob = c(0)\n",
        "\n",
        "mu = 3\n",
        "sigma = 1\n",
        "\n",
        "prob = dnorm(seq(0,6,0.05), mean=mu, sd=sigma)\n",
        "\n",
        "plot(seq(0,6,0.05),\n",
        "        prob,\n",
        "        type='l',\n",
        "        xlab = 'Peso dos Recém Nascidos',\n",
        "        ylab = 'Função Densidade de Probabilidade',\n",
        "        col='darkblue')\n",
        "title('PDF, Norm(mean=3,sd=1)')"
      ],
      "execution_count": null,
      "outputs": []
    },
    {
      "cell_type": "markdown",
      "metadata": {
        "id": "aba45e75"
      },
      "source": [
        "Agora, de forma análoga ao caso discreto, a área sob o gráfico da PDF pode ser empregada para o cálculo da probabilidade de um evento e você pode obter a probabilidade de nascimento de um bebê de até 2kg obtendo a área sob a curva até o valor 2."
      ]
    },
    {
      "cell_type": "code",
      "metadata": {
        "kernel": "R",
        "tags": [
          "report_cell"
        ],
        "id": "5b96b03b"
      },
      "source": [
        "prob = c(0)\n",
        "\n",
        "mu = 3\n",
        "sigma = 1\n",
        "\n",
        "x =seq(0,6,0.05)\n",
        "prob = dnorm(x, mean=mu, sd=sigma)\n",
        "\n",
        "plot(x,\n",
        "     prob,\n",
        "     type='l',\n",
        "     xlab = 'Peso dos Recém Nascidos',\n",
        "     ylab = 'Função Densidade de Probabilidade',\n",
        "     col='darkblue')\n",
        "title('PDF, Norm(mean=3,sd=1)')\n",
        "\n",
        "lb = 0 # limite inferior\n",
        "ub = 2 # limite superior\n",
        "\n",
        "i <- x >= lb & x <= ub\n",
        "lines(x, prob)                                       # desenha as linhas limite\n",
        "polygon(c(lb,x[i],ub), c(0,prob[i],0), col=\"green\")  # preenche a área sob a curva"
      ],
      "execution_count": null,
      "outputs": []
    },
    {
      "cell_type": "markdown",
      "metadata": {
        "id": "78a22acf"
      },
      "source": [
        "O cálculo dessa área não é tão simples quanto a soma dos valores das probabilidades discretas que fizemos anteriormente. Mas você pode lançar mão função de probabilidades acumulada. Assim como no caso discreto a função **p**<nome-da-distribuição>:\n",
        "\n",
        "```\n",
        "pnorm(q, mean = 0, sd = 1, lower.tail = TRUE, log.p = FALSE)\n",
        "```\n",
        "\n",
        "fornece o valor da função de probabilidade acumulada e podemos então calcular,\n",
        "\n",
        "$$P( x \\le 2) = 0.1586$$\n",
        "para uma distribuição normal com média 3 e desvio padrão 1:"
      ]
    },
    {
      "cell_type": "code",
      "metadata": {
        "kernel": "R",
        "tags": [
          "report_cell"
        ],
        "id": "ebc04fa9"
      },
      "source": [
        "pnorm(2,mean=3,sd=1)"
      ],
      "execution_count": null,
      "outputs": []
    },
    {
      "cell_type": "markdown",
      "metadata": {
        "id": "add77b8e"
      },
      "source": [
        "E também construir o gráfico de CDF correspondente:"
      ]
    },
    {
      "cell_type": "code",
      "metadata": {
        "kernel": "R",
        "tags": [
          "report_cell"
        ],
        "id": "830a21ed"
      },
      "source": [
        "prob = c(0)\n",
        "\n",
        "mu = 3\n",
        "sigma = 1\n",
        "\n",
        "x =seq(0,6,0.05)\n",
        "prob = pnorm(x, mean=mu, sd=sigma)\n",
        "\n",
        "plot(x,\n",
        "     prob,\n",
        "     type='l',\n",
        "     xlab = 'Peso dos Recém Nascidos',\n",
        "     ylab = 'Função Densidade de Probabilidade',\n",
        "     col='darkblue')\n",
        "title('PDF, Norm(mean=3,sd=1)')\n",
        "\n",
        "text(4,pnorm(2,mean=3,sd=1)+0.1,round(pnorm(2,mean=3,sd=1),4))\n",
        "\n",
        "abline(h=pnorm(2,mean=3,sd=1),col='red',lty='dotted',lwd=1.5)\n",
        "abline(v=2,col='red',lty='dotted',lwd=1.5)"
      ],
      "execution_count": null,
      "outputs": []
    },
    {
      "cell_type": "markdown",
      "metadata": {
        "id": "a47ccfb9"
      },
      "source": [
        "Como no caso discreto podemos também calcular a probabilidade de intervalos, como a probabilidade de que o recém nascido tenha exatamente entre 2.5 e 4.0kg."
      ]
    },
    {
      "cell_type": "code",
      "metadata": {
        "kernel": "R",
        "tags": [
          "report_cell"
        ],
        "id": "22220a94"
      },
      "source": [
        "prob = c(0)\n",
        "\n",
        "mu = 3\n",
        "sigma = 1\n",
        "\n",
        "x =seq(0,6,0.05)\n",
        "prob = dnorm(x, mean=mu, sd=sigma)\n",
        "\n",
        "plot(x,\n",
        "     prob,\n",
        "     type='l',\n",
        "     xlab = 'Peso dos Recém Nascidos',\n",
        "     ylab = 'Função Densidade de Probabilidade',\n",
        "     col='darkblue')\n",
        "title('PDF, Norm(mean=3,sd=1)')\n",
        "\n",
        "lb = 2.5 # limite inferior\n",
        "ub = 4 # limite superior\n",
        "\n",
        "i <- x >= lb & x <= ub\n",
        "lines(x, prob)                                       # desenha as linhas limite\n",
        "polygon(c(lb,x[i],ub), c(0,prob[i],0), col=\"green\")  # preenche a área sob a curva\n",
        "\n",
        "p_intervalo = pnorm(4,mean=3,sd=1) - pnorm(2.5,mean=3,sd=1)\n",
        "text(3.2,0.2, round(p_intervalo,4))"
      ],
      "execution_count": null,
      "outputs": []
    },
    {
      "cell_type": "markdown",
      "metadata": {
        "id": "b2a5f40b"
      },
      "source": [
        "$$ P(2.5 \\le x \\le 4) = P(x \\le 4) - P(x \\le 2.5) = 0.5328$$"
      ]
    },
    {
      "cell_type": "code",
      "metadata": {
        "kernel": "R",
        "tags": [
          "report_cell"
        ],
        "id": "0d122405"
      },
      "source": [
        "pnorm(4,mean=3,sd=1) - pnorm(2.5,mean=3,sd=1)"
      ],
      "execution_count": null,
      "outputs": []
    },
    {
      "cell_type": "markdown",
      "metadata": {
        "id": "215af23c"
      },
      "source": [
        "## PDF, CDF e ICDF"
      ]
    },
    {
      "cell_type": "markdown",
      "metadata": {
        "id": "9bb6d717"
      },
      "source": [
        "Há ainda uma outra função importante. A ICDF é a função de distribuição acumulada inversa e dá o valor associado a uma certa probabilidade acumulada. Pegue o exemplo anterior, com 0.15 de chance (probabilidade) até que peso podemos esperar dos bebês?"
      ]
    },
    {
      "cell_type": "code",
      "metadata": {
        "kernel": "R",
        "tags": [
          "report_cell"
        ],
        "id": "a35eefa8"
      },
      "source": [
        "qnorm(0.15,mean=3,sd=1)"
      ],
      "execution_count": null,
      "outputs": []
    },
    {
      "cell_type": "markdown",
      "metadata": {
        "id": "3460ba83"
      },
      "source": [
        "Não é surpresa que o valor é bastante próximo do peso de 2Kg já que essa é a probabilidade de crianças até 2Kg que obtivemos foi:"
      ]
    },
    {
      "cell_type": "code",
      "metadata": {
        "kernel": "R",
        "tags": [
          "report_cell"
        ],
        "id": "f53ea40a"
      },
      "source": [
        "pnorm(2,mean=3,sd=1)"
      ],
      "execution_count": null,
      "outputs": []
    },
    {
      "cell_type": "markdown",
      "metadata": {
        "id": "a71880e9"
      },
      "source": [
        "E podemos ainda fazer para obter o valor exato:"
      ]
    },
    {
      "cell_type": "code",
      "metadata": {
        "kernel": "R",
        "tags": [
          "report_cell"
        ],
        "id": "b007d243"
      },
      "source": [
        "qnorm( pnorm(2,mean=3,sd=1) ,mean=3,sd=1)"
      ],
      "execution_count": null,
      "outputs": []
    },
    {
      "cell_type": "markdown",
      "metadata": {
        "id": "3c585d87"
      },
      "source": [
        "Podemos também construir um gráfico da ICDF e resumir as funções que empregamos até aqui nos seguintes programas:"
      ]
    },
    {
      "cell_type": "code",
      "metadata": {
        "kernel": "R",
        "tags": [
          "report_cell"
        ],
        "id": "96a36e45"
      },
      "source": [
        "prob = c(0)\n",
        "\n",
        "mu = 0           # Aqui empregaremos média 0\n",
        "sigma = 1\n",
        "\n",
        "x = seq(mu - 3.5*sigma,mu + 3.5*sigma,0.05)\n",
        "\n",
        "par(mfrow = c(1, 3))\n",
        "\n",
        "prob = dnorm(x, mean=mu, sd=sigma)\n",
        "plot(x,\n",
        "     prob,\n",
        "     type='l',\n",
        "     xlab = 'Valor',\n",
        "     ylab = 'Função Densidade de Probabilidade',\n",
        "     col='darkblue')\n",
        "title('PDF, Norm(mean=0,sd=1)')\n",
        "\n",
        "prob = pnorm(x, mean=mu, sd=sigma)\n",
        "plot(x,\n",
        "     prob,\n",
        "     type='l',\n",
        "     xlab = 'Valor',\n",
        "     ylab = 'Função Probabilidade Acumulada',\n",
        "     col='darkblue')\n",
        "title('CDF, Norm(mean=0,sd=1)')\n",
        "\n",
        "prob = seq(0,1,0.05)\n",
        "valor = qnorm(prob, mean=mu, sd=sigma)\n",
        "plot(prob,\n",
        "     valor,\n",
        "     type='l',\n",
        "     ylab = 'Valor',\n",
        "     xlab = 'Probabilidade Acumulada Inversa',\n",
        "     col='darkblue')\n",
        "title('ICDF, Norm(mean=0,sd=1)')"
      ],
      "execution_count": null,
      "outputs": []
    },
    {
      "cell_type": "markdown",
      "metadata": {
        "id": "db1e2e71"
      },
      "source": [
        "Ou para o caso discreto,"
      ]
    },
    {
      "cell_type": "code",
      "metadata": {
        "kernel": "R",
        "tags": [
          "report_cell"
        ],
        "id": "31cb897f"
      },
      "source": [
        "n = 50           # Aqui com 50 lançamentos\n",
        "p = 0.5\n",
        "\n",
        "prob = c(0)\n",
        "\n",
        "par(mfrow = c(1, 3))\n",
        "\n",
        "x = c(0:n)\n",
        "prob = dbinom(x, n, p)\n",
        "\n",
        "barplot(prob,\n",
        "        names.arg = x,\n",
        "        xlab = 'Valor',\n",
        "        ylab = 'Função Densidade de Probabilidade',\n",
        "        col='lightblue',\n",
        "        cex.names = 0.8)\n",
        "title('PDF, Binom(n=50,p=0.5)')\n",
        "\n",
        "x = c(0:n)\n",
        "prob = pbinom(x, n, p)\n",
        "\n",
        "barplot(prob,\n",
        "        names.arg = x,\n",
        "        xlab = 'Valor',\n",
        "        ylab = 'Função Probabilidade Acumulada',\n",
        "        col='lightblue',\n",
        "        cex.names = 0.8)\n",
        "title('CDF, Binom(n=50,p=0.5)')\n",
        "\n",
        "prob = seq(0,1,0.05)\n",
        "valor = qbinom(prob, n, p)\n",
        "\n",
        "plot(prob,\n",
        "     valor,\n",
        "     type='l',\n",
        "     ylab = 'Valor',\n",
        "     xlab = 'Probabilidade Acumulada Inversa',\n",
        "     col='darkblue')\n",
        "title('ICDF, Binom(n=50,p=0.5)')"
      ],
      "execution_count": null,
      "outputs": []
    },
    {
      "cell_type": "markdown",
      "metadata": {
        "id": "1da9a2e3"
      },
      "source": [
        "## Resumo das Funções de Probabilidade em R"
      ]
    },
    {
      "cell_type": "markdown",
      "metadata": {
        "id": "421a1f66"
      },
      "source": [
        "Como vimos você encontra funções equivalentes em R para:\n",
        "\n",
        "* Funções (de Densidade) de Probabilidade\n",
        "* Funções de Probabilidade Acumulada\n",
        "* Geração aleatória de valores\n",
        "\n",
        "para as distribuições binomial e normal:\n",
        "\n",
        "```\n",
        "dbinom(x, size, prob, log = FALSE)\n",
        "pbinom(q, size, prob, lower.tail = TRUE, log.p = FALSE)\n",
        "rbinom(n, size, prob)\n",
        "\n",
        "dnorm(x, mean = 0, sd = 1, log = FALSE)\n",
        "pnorm(q, mean = 0, sd = 1, lower.tail = TRUE, log.p = FALSE)\n",
        "rnorm(n, mean = 0, sd = 1)\n",
        "```\n",
        "\n",
        "Mas existem outros tipos de distribuições e ainda uma outra função, inversa da função de probabilidade acumulada (retorna o valor de uma variável para uma determinada probabilidade) e que veremos mais adiante. O quadro abaixo resume essas funções e as principais distribuições.\n",
        "\n",
        "<h4>Table 1:Funções de Distribuição de Probabilidade em R</h4>\n",
        "<table>\n",
        "<thead>\n",
        "<tr class=\"header\">\n",
        "<th align=\"left\">Name</th>\n",
        "<th align=\"left\">Probability Density</th>\n",
        "<th align=\"left\">Cumulative Distribution</th>\n",
        "<th align=\"left\">Quantile</th>\n",
        "</tr>\n",
        "</thead>\n",
        "<tbody>\n",
        "<tr class=\"odd\">\n",
        "<td align=\"left\">Normal</td>\n",
        "<td align=\"left\">dnorm(Z,mean,sd)</td>\n",
        "<td align=\"left\">pnorm(Z,mean,sd)</td>\n",
        "<td align=\"left\">qnorm(Q,mean,sd)</td>\n",
        "</tr>\n",
        "<tr class=\"even\">\n",
        "<td align=\"left\">Poisson</td>\n",
        "<td align=\"left\">dpois(N,lambda)</td>\n",
        "<td align=\"left\">ppois(N,lambda)</td>\n",
        "<td align=\"left\">qpois(Q,lambda)</td>\n",
        "</tr>\n",
        "<tr class=\"odd\">\n",
        "<td align=\"left\">Binomial</td>\n",
        "<td align=\"left\">dbinom(N,size,prob)</td>\n",
        "<td align=\"left\">pbinom(N,size,prob)</td>\n",
        "<td align=\"left\">qbinom(Q,size,prob)</td>\n",
        "</tr>\n",
        "<tr class=\"even\">\n",
        "<td align=\"left\">Exponential</td>\n",
        "<td align=\"left\">dexp(N,rate)</td>\n",
        "<td align=\"left\">pexp(N,rate)</td>\n",
        "<td align=\"left\">qexp(Q,rate)</td>\n",
        "</tr>\n",
        "<tr class=\"odd\">\n",
        "<td align=\"left\"><span class=\"math\">\\(\\chi^2\\)</span></td>\n",
        "<td align=\"left\">dchisq(X,df)</td>\n",
        "<td align=\"left\">pchisq(X.df)</td>\n",
        "<td align=\"left\">qchisq(X,df)</td>\n",
        "</tr>\n",
        "</tbody>\n",
        "</table>\n",
        "\n",
        "E talvez você prefira empregar a seguinte dica prática:\n",
        "\n",
        "**Dica prática:**\n",
        "\n",
        "\"d\" = **d**ensidade de probabilidade\n",
        "\"p\" = **p**robabilidade acumulada\n",
        "\"q\" = **q**uartis (probabilidade acumulada inversa)\n",
        "\"r\" = **r**andom values"
      ]
    },
    {
      "cell_type": "markdown",
      "metadata": {
        "id": "bccdcaa8"
      },
      "source": [
        "## Exemplo: Preços da Gasolina"
      ]
    },
    {
      "cell_type": "markdown",
      "metadata": {
        "id": "c90023b3"
      },
      "source": [
        "Uma empresa de pagamentos eletrônicos divulgou um levantamento do preço da gasolina no país. O preço médio encontrado foi de R\\$ 4.651 com um desvio padrão de 0.198. Os dados levaram em conta cerca de 20 mil postos de combustível. De acordo com eles, o Acre tem a gasolina mais cara (R\\$ 5.115 / l), e Santa Catarina, a mais barata (média de média de R\\$ 4.185 / l). Considerando uma distribuição normal do preços da gasolina podemos então fazer uma série de análises.\n",
        "\n",
        "* Qual a probabilidade de encontrarmos o preço da gasolina abaixo de R\\$ 5.000 o litro?"
      ]
    },
    {
      "cell_type": "code",
      "metadata": {
        "kernel": "R",
        "tags": [
          "report_cell"
        ],
        "id": "f23b5d36"
      },
      "source": [
        "mu = 4.651\n",
        "sigma = 0.198\n",
        "\n",
        "pnorm(5, mean=4.651, sd=sigma)"
      ],
      "execution_count": null,
      "outputs": []
    },
    {
      "cell_type": "markdown",
      "metadata": {
        "id": "da6cb573"
      },
      "source": [
        "* Qual a probabilidade de encontrarmos o preço da gasolina maior que o preço médio do Acre, de R\\$ 5.115 o litro?"
      ]
    },
    {
      "cell_type": "code",
      "metadata": {
        "kernel": "R",
        "tags": [
          "report_cell"
        ],
        "id": "011cdf66"
      },
      "source": [
        "mu = 4.651\n",
        "sigma = 0.198\n",
        "\n",
        "1 - pnorm(5.115, mean=4.651, sd=sigma)"
      ],
      "execution_count": null,
      "outputs": []
    },
    {
      "cell_type": "markdown",
      "metadata": {
        "id": "116de187"
      },
      "source": [
        "* Qual o preço máximo você colocaria no litro da gasolina para garantir estar entre os 85% preços mais baixos e assim garantir uma maior procura do seu produto?"
      ]
    },
    {
      "cell_type": "code",
      "metadata": {
        "kernel": "R",
        "tags": [
          "report_cell"
        ],
        "id": "94f8010d"
      },
      "source": [
        "mu = 4.651\n",
        "sigma = 0.198\n",
        "\n",
        "qnorm(0.85, mean=4.651, sd=sigma)"
      ],
      "execution_count": null,
      "outputs": []
    },
    {
      "cell_type": "markdown",
      "metadata": {
        "id": "187c2f7f"
      },
      "source": [
        "Graficamente podemos representar as soluções como abaixo. Mas veja que demos as respostas sem a necessidade de exibi-las ou solucionar graficamente. De fato não é necessário e é bastante complicado produzir gráficos desse modo, e esses gráficos estão aqui apenas para ajudá-lo a compreender a solução. Note também que empregamos do CDF (o gráfico de probabilidade acumulada) e a região colorida da curva está indicando apenas o lado a que corresponde a probabilidade indicada e não a área da curva, o que só empregamos para gráficos de densidade de probabilidade (PDF)."
      ]
    },
    {
      "cell_type": "code",
      "metadata": {
        "kernel": "R",
        "tags": [
          "report_cell"
        ],
        "id": "ea8d48aa"
      },
      "source": [
        "prob = c(0)\n",
        "\n",
        "mu = 4.651\n",
        "sigma = 0.198\n",
        "\n",
        "x =seq(mu - 3*sigma,mu + 3*sigma,0.001)\n",
        "prob = pnorm(x, mean=mu, sd=sigma)\n",
        "\n",
        "par(mfrow = c(1, 3))\n",
        "\n",
        "plot(x,\n",
        "     prob,\n",
        "     type='l',\n",
        "     xlab = 'Preço do Combustível',\n",
        "     ylab = 'Função Acumulada de Probabilidade',\n",
        "     col='darkblue')\n",
        "t = paste('CDF, Norm(mean=', mu ,'sd=', sigma, ')')\n",
        "title(t)\n",
        "\n",
        "text(4.5,pnorm(5, mean=mu, sd=sigma)-0.1,round(pnorm(5, mean=mu, sd=sigma),4))\n",
        "\n",
        "abline(h=pnorm(5, mean=mu, sd=sigma),col='red',lty='dotted',lwd=1.5)\n",
        "abline(v=5,col='red',lty='dotted',lwd=1.5)\n",
        "\n",
        "lb = 0 # limite inferior\n",
        "ub = 5 # limite superior\n",
        "\n",
        "i <- x >= lb & x <= ub\n",
        "lines(x, prob)                                       # desenha as linhas limite\n",
        "polygon(c(lb,x[i],ub), c(0,prob[i],0),\n",
        "        col=\"red\")  # preenche a área sob a curva\n",
        "\n",
        "plot(x,\n",
        "     prob,\n",
        "     type='l',\n",
        "     xlab = 'Preço do Combustível',\n",
        "     ylab = 'Função Acumulada de Probabilidade',\n",
        "     col='darkblue')\n",
        "t = paste('CDF, Norm(mean=', mu ,'sd=', sigma, ')')\n",
        "title(t)\n",
        "\n",
        "text(4.6,pnorm(5.115, mean=mu, sd=sigma)-0.1,\n",
        "     paste('1 - ', round(pnorm(5.115, mean=mu, sd=sigma),4),' = ',\n",
        "     round(1-pnorm(5.115, mean=mu, sd=sigma),4)))\n",
        "\n",
        "abline(h=pnorm(5.115, mean=mu, sd=sigma),col='red',lty='dotted',lwd=1.5)\n",
        "abline(v=5.115,col='red',lty='dotted',lwd=1.5)\n",
        "\n",
        "lb = 5.115 # limite inferior\n",
        "ub = max(x) # limite superior\n",
        "\n",
        "i <- x >= lb & x <= ub\n",
        "lines(x, prob)                                       # desenha as linhas limite\n",
        "polygon(c(lb,x[i],ub), c(0,prob[i],0),\n",
        "        col=\"red\")  # preenche a área sob a curva\n",
        "\n",
        "\n",
        "prob = seq(0,1,0.001)\n",
        "valor = qnorm(prob, mean=mu, sd=sigma)\n",
        "\n",
        "plot(prob,\n",
        "     valor,\n",
        "     type='l',\n",
        "     ylab = 'Preço do Combustível',\n",
        "     xlab = 'Probabilidade Acumulada Inversa',\n",
        "     col='black')\n",
        "t = paste('ICDF, Norm(mean=', mu ,'sd=', sigma, ')')\n",
        "title(t)\n",
        "\n",
        "text(0.4,qnorm(0.85, mean=mu, sd=sigma)+0.1,round(qnorm(0.85, mean=mu, sd=sigma),3))\n",
        "\n",
        "abline(h=qnorm(0.85, mean=mu, sd=sigma),col='red',lty='dotted',lwd=1.5)\n",
        "abline(v=0.85,col='red',lty='dotted',lwd=1.5)"
      ],
      "execution_count": null,
      "outputs": []
    },
    {
      "cell_type": "markdown",
      "metadata": {
        "id": "129a615c"
      },
      "source": [
        "## Referências"
      ]
    },
    {
      "cell_type": "markdown",
      "metadata": {
        "id": "5dd0b931"
      },
      "source": [
        "Navarro, Danielle, **Learning Statistics with R**, disponível em: https://learningstatisticswithr.com/ ( LSR version 0.6 (pdf) ). Acesso: 26/02/2021.\n",
        "Alternativamente em formato bookdown: https://learningstatisticswithr.com/book/ Acesso: 07/03/2021.\n",
        "\n",
        "Wickham, H., Grolemund, G. **R for Data Science**. O'Reilly Media, Inc., 2016.\n",
        "\n",
        "Glen, S. **Welcome to Statistics How To!** From StatisticsHowTo.com: Elementary Statistics for the rest of us!  disponível em: https://www.statisticshowto.com/ Acesso: 09/03/2021.\n",
        "\n",
        "Brown, R. J.**Connecting the CDF and the PDF** disponível em:\n",
        "http://demonstrations.wolfram.com/ConnectingTheCDFAndThePDF/\n",
        "*Wolfram Demonstrations Project*. Published: November 2 2007 Acesso: 09/03/2021."
      ]
    }
  ]
}