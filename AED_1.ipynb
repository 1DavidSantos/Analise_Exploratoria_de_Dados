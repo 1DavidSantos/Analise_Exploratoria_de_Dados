{
  "nbformat": 4,
  "nbformat_minor": 0,
  "metadata": {
    "colab": {
      "name": "AED_1.ipynb",
      "provenance": [],
      "authorship_tag": "ABX9TyPPswCWQD/PPSq0KbL0rIOn",
      "include_colab_link": true
    },
    "kernelspec": {
      "name": "ir",
      "display_name": "R"
    },
    "language_info": {
      "name": "R"
    }
  },
  "cells": [
    {
      "cell_type": "markdown",
      "metadata": {
        "id": "view-in-github",
        "colab_type": "text"
      },
      "source": [
        "<a href=\"https://colab.research.google.com/github/Rogerio-mack/Analise_Exploratoria_de_Dados/blob/main/AED_1.ipynb\" target=\"_parent\"><img src=\"https://colab.research.google.com/assets/colab-badge.svg\" alt=\"Open In Colab\"/></a>"
      ]
    },
    {
      "cell_type": "markdown",
      "metadata": {
        "id": "40b90843"
      },
      "source": [
        "<img src=\"http://meusite.mackenzie.br/rogerio/mackenzie_logo/UPM.2_horizontal_vermelho.jpg\"  width=300, align=\"right\">\n",
        "<br>\n",
        "<br>\n",
        "<br>\n",
        "<br>\n",
        "<br>\n",
        "\n",
        "# Probabilidade, Estatística e Introdução ao R\n",
        "---"
      ]
    },
    {
      "cell_type": "markdown",
      "metadata": {
        "id": "ceae2670"
      },
      "source": [
        "Aqui você entenderá a importância da estatística e da probabilidade para análise de dados e irá aprender como empregar o R para extrair importantes informações sobre os dados. Você iniciará pelos comandos e estruturas básicas da linguagem como variáveis, atribuições e operações aritméticas. É esperado que você já tenha alguma familiaridade com linguagens de programação. Você aprenderá como acessar grandes conjuntos de dados, a fazer seleções de instâncias e atributos de interesse, e obter estatísticas básicas sobre esses dados."
      ]
    },
    {
      "cell_type": "markdown",
      "metadata": {
        "id": "6e229c43"
      },
      "source": [
        "## Introdução"
      ]
    },
    {
      "cell_type": "markdown",
      "metadata": {
        "id": "46e28c6a"
      },
      "source": [
        "Probabilidade e estatística são uma base importante para diferentes os campos da ciência da computação, engenharias,\n",
        "tecnologia da informação e ciências, humanas e biológicas etc. são também a base do que atualmente chamamos Ciência\n",
        "de Dados, com intersecções com o aprendizado de máquina, inteligência artificial e muitas outras áreas. São conceitos fundamentais para compreendermos quaisquer conjuntos de dados e que envolvem estatística descritiva de dados, uso de amostras, análise de distribuições, correlação e além de técnicas de inferência, como regressão e teste de hipóteses, instrumentos úteis, se não essenciais, para a tomada de decisões.\n",
        "\n",
        "Para aplicarmos esses conceitos você irá empregar a linguagem R. R é uma linguagem de código aberto (*open source*) com uma série de recursos para Análise de Dados, incluindo funções estatísticas e de visualização dos dados, e de amplo uso no mercado em diversas áreas."
      ]
    },
    {
      "cell_type": "markdown",
      "metadata": {
        "id": "3bd5e99d"
      },
      "source": [
        "## Introdução ao R"
      ]
    },
    {
      "cell_type": "markdown",
      "metadata": {
        "id": "7c7158ff"
      },
      "source": [
        "Aqui você terá uma introdução à linguagem R e ao ambiente R Studio. É esperado que você tenha nesse ponto já tenha familiaridade com alguma linguagem de programa (Python, C++, Java) e editores de programação. Assim faremos uma introdução baseada em exemplos, assumindo que você já tem os conceitos básicos como variáveis, tipos de dados, atribuição, controles de fluxo em programas etc.\n",
        "\n",
        "Você pode nesse ponto preferir acessar outros materiais da internet com cursos, vídeo aulas etc. e você pode ficar a vontade para buscar outras formas para se familiarizar com a linguagem R."
      ]
    },
    {
      "cell_type": "markdown",
      "metadata": {
        "id": "53fed9e8"
      },
      "source": [
        "### Acessando o RStudio\n",
        "\n",
        "\n",
        "Neste curso você pode empregar o [RStudio Cloud](https://rstudio.cloud/) é um ambiente em nuvem, gratuíto, para o desenvolvimento de aplicações. Se prefirir o uso de um ambiente local acesse [R Project](https://cran.r-project.org/mirrors.html) e [RStudio](https://rstudio.com/products/rstudio/download/#download) fazendo a instalação do R e depois do RStudio.\n",
        "\n",
        "\n",
        "Semelhante a outros editores de linguagem de programação você encontra no RStudio uma barra de opções (arquivo, edit, code, view, ...) e áreas de trabalho:\n",
        "\n",
        "* Uma área para edição dos programas\n",
        "* Uma console para comandos e saídas dos programas\n",
        "* Uma área de arquivos, plots etc.\n",
        "* Uma área de objetos, onde você pode inspecionar o estado de suas variáveis"
      ]
    },
    {
      "cell_type": "markdown",
      "metadata": {
        "id": "55b8d8d9"
      },
      "source": [
        "### Help\n",
        "\n",
        "Antes de começar, o R fornece documentação extensa. Por exemplo, inserindo `?C` ou `help(c)` no prompt da console exibe a documentação da função c em R."
      ]
    },
    {
      "cell_type": "code",
      "metadata": {
        "kernel": "R",
        "tags": [
          "report_cell"
        ],
        "id": "7ffa2e0c"
      },
      "source": [
        "help(table)"
      ],
      "execution_count": null,
      "outputs": []
    },
    {
      "cell_type": "markdown",
      "metadata": {
        "id": "92ec19c8"
      },
      "source": [
        "E se você não tiver certeza do nome da função pode realizar uma pesquisa com a função `apropos`."
      ]
    },
    {
      "cell_type": "code",
      "metadata": {
        "kernel": "R",
        "tags": [
          "report_cell"
        ],
        "id": "918ccc3c"
      },
      "source": [
        "apropos('nova')"
      ],
      "execution_count": null,
      "outputs": []
    },
    {
      "cell_type": "markdown",
      "metadata": {
        "id": "2dc3666f"
      },
      "source": [
        "###  Aritmética com R\n",
        "\n",
        "Em sua forma mais básica, R pode ser usado como uma calculadora simples empregando os operadores  `+, -, *, /, ^` (potência) ou `%%` (módulo).\n",
        "\n",
        "E você pode executar esses comandos na console:"
      ]
    },
    {
      "cell_type": "code",
      "metadata": {
        "kernel": "R",
        "tags": [
          "report_cell"
        ],
        "id": "db3c23ba"
      },
      "source": [
        "# Uma adição\n",
        "5  +  3\n",
        "# Uma subtração\n",
        "5  -  3\n",
        "# Uma multiplicação\n",
        "3  *  5\n",
        "# Uma divisão\n",
        "( 5  +  5 ) /  2"
      ],
      "execution_count": null,
      "outputs": []
    },
    {
      "cell_type": "markdown",
      "metadata": {
        "id": "c26a08f1"
      },
      "source": [
        "###  Atribuição de variável\n",
        "\n",
        "Uma variável, como em outras linguagens, permite que você armazene um valor ou um objeto e empregar o nome dessa variável para acesso aos valores armazenados. Os valores são atribuídos com `<-`, ou **indiferentemente**, com `=` (a partir de todas as versões mais recentes de R). Prefira empregar o `=`."
      ]
    },
    {
      "cell_type": "code",
      "metadata": {
        "kernel": "R",
        "tags": [
          "report_cell"
        ],
        "id": "b12ea2d5"
      },
      "source": [
        "# São equivalentes\n",
        "my_var1 <- 4\n",
        "my_var2 = 4"
      ],
      "execution_count": null,
      "outputs": []
    },
    {
      "cell_type": "markdown",
      "metadata": {
        "id": "d6d7c73d"
      },
      "source": [
        "O R implementa, tipos fracos, a exemplo do Python em que o tipo da variável é definido dinamicamente sem a necessidade de declaração da variável.\n",
        "\n",
        "Os valores podem ser exibidos automaticamente a partir do nome da variável. Mas somente a última saída é exibida."
      ]
    },
    {
      "cell_type": "code",
      "metadata": {
        "kernel": "R",
        "tags": [
          "report_cell"
        ],
        "id": "70f83834"
      },
      "source": [
        "my_var1\n",
        "my_var2"
      ],
      "execution_count": null,
      "outputs": []
    },
    {
      "cell_type": "markdown",
      "metadata": {
        "id": "1268cbdb"
      },
      "source": [
        "Ou você pode optar pelo print dos valores."
      ]
    },
    {
      "cell_type": "code",
      "metadata": {
        "kernel": "R",
        "tags": [
          "report_cell"
        ],
        "id": "d0afa3de"
      },
      "source": [
        "print(my_var1)\n",
        "print(my_var2)"
      ],
      "execution_count": null,
      "outputs": []
    },
    {
      "cell_type": "markdown",
      "metadata": {
        "id": "09db0b7d"
      },
      "source": [
        "Observe que o R é sensível a maiúsculas e minúsculas! Assim:"
      ]
    },
    {
      "cell_type": "code",
      "metadata": {
        "kernel": "R",
        "tags": [
          "report_cell"
        ],
        "id": "b4fc88c1"
      },
      "source": [
        "My_var = 5\n",
        "my_var = 4\n",
        "print(My_var == my_var)"
      ],
      "execution_count": null,
      "outputs": []
    },
    {
      "cell_type": "markdown",
      "metadata": {
        "id": "c0388d40"
      },
      "source": [
        "###  Tipos de dados básicos em R\n",
        "\n",
        "\n",
        "Alguns dos tipos mais básicos são:"
      ]
    },
    {
      "cell_type": "code",
      "metadata": {
        "kernel": "R",
        "tags": [
          "report_cell"
        ],
        "id": "37b38009"
      },
      "source": [
        "my_numeric  =  42.55\n",
        "\n",
        "my_text = \"algum texto\"\n",
        "\n",
        "my_caracter = 'a'\n",
        "\n",
        "my_logical  = TRUE # Boolean\n",
        "\n",
        "sprintf(\"Valores = %s , %s , %s , %d\", my_numeric, my_text, my_caracter, my_logical)\n",
        "\n",
        "sprintf(\"Tipos = %s , %s , %s , %s\", class(my_numeric), class(my_text), class(my_caracter), class(my_logical))"
      ],
      "execution_count": null,
      "outputs": []
    },
    {
      "cell_type": "markdown",
      "metadata": {
        "id": "a2193bc2"
      },
      "source": [
        "Aspas simples ou duplas são usadas indiferentemente. O comando `sprintf` permite a formatação da saída em C-Style e o comando `class` pode ser empregado para exibir a classe ou tipo de dado."
      ]
    },
    {
      "cell_type": "markdown",
      "metadata": {
        "id": "aa6e1d98"
      },
      "source": [
        "### Vetores\n",
        "\n",
        "Um tipo de dado essencial em R são os vetores. Lembre-se, o R é uma linguagem para trabalhar com coleções de dados, e a coleção mais simples são os vetores. Para criar esses vetores você pode empregar o comando `c( )`, que significa **combine**, e são estruturas bastante semelhantes as listas em Python (embora não possuam os mesmos métodos)."
      ]
    },
    {
      "cell_type": "code",
      "metadata": {
        "kernel": "R",
        "tags": [
          "report_cell"
        ],
        "id": "f1ac517d"
      },
      "source": [
        "vetor_numerico = c(1, 2, 3)\n",
        "\n",
        "vetor_caracter = c(\"a\", \"b\", \"c\")\n",
        "\n",
        "vetor_mix = c(1, 'a', TRUE)\n",
        "\n",
        "cat('Tipos = ', class(vetor_numerico), class(vetor_caracter), class(vetor_mix))\n",
        "\n",
        "help(cat)"
      ],
      "execution_count": null,
      "outputs": []
    },
    {
      "cell_type": "markdown",
      "metadata": {
        "id": "080217ce"
      },
      "source": [
        "Como você pode ver acima os vetores podem ter vários tipos de dados e assumem o tipo mais abrangente. O comando `cat( )` 'Concatenate and Print' é empregado aqui para exibir os tipos de dados como alternativa ao `print()` e `sprintf()` usados anteriormente.\n",
        "\n",
        "Como nos arrays de outras liguagens os vetores são listas ordenadas e indexadas e você pode acessar e alterar os valores referenciando o índice dos elementos."
      ]
    },
    {
      "cell_type": "code",
      "metadata": {
        "kernel": "R",
        "tags": [
          "report_cell"
        ],
        "id": "37f39b52"
      },
      "source": [
        "cat('Antes: ', vetor_numerico, '\\n')\n",
        "vetor_numerico[2] = 99\n",
        "cat('Depois: ', vetor_numerico, '\\n')\n",
        "\n",
        "for (i in 1:3) cat('\\n', vetor_numerico[i])"
      ],
      "execution_count": null,
      "outputs": []
    },
    {
      "cell_type": "markdown",
      "metadata": {
        "id": "658cc76f"
      },
      "source": [
        "Você deve notar que os índices começam por 1 (diferentemente de listas em Python que iniciam com 0), e abaixo você encontra algumas formas que serão úteis para inicializar vetores."
      ]
    },
    {
      "cell_type": "code",
      "metadata": {
        "kernel": "R",
        "tags": [
          "report_cell"
        ],
        "id": "eda40fd1"
      },
      "source": [
        "x = c(1,-2,3)\n",
        "y = seq(1,10,0.5)\n",
        "z = c(1:10)\n",
        "t = rep(c(1,2),each=3) # bem sofisticado aqui... :-)\n",
        "\n",
        "cat('x= ', x, '\\ny= ', y, '\\nz= ', z, '\\nt= ', t)"
      ],
      "execution_count": null,
      "outputs": []
    },
    {
      "cell_type": "markdown",
      "metadata": {
        "id": "1b2afdfe"
      },
      "source": [
        "O R, muito mais orientado a trabalhar com coleções de dados que com variáveis simples, permite que uma série de funções sejam aplicadas diretamente às coleções sem a necessidade de iterações (loops), sendo assim mais próximo do comportamento de listas em Python do que o que seria como seria comum em arrays de C++ ou Java.\n",
        "\n",
        "Assim, no lugar de:"
      ]
    },
    {
      "cell_type": "code",
      "metadata": {
        "kernel": "R",
        "tags": [
          "report_cell"
        ],
        "id": "a86d031c"
      },
      "source": [
        "x = seq(1,10,1)\n",
        "cat('Antes ', x)\n",
        "\n",
        "for (i in 1:10){           # C++ e Java arrays funcionam desse modo\n",
        "  x[i] = x[i] + 1\n",
        "}\n",
        "\n",
        "cat('\\nDepois ', x)"
      ],
      "execution_count": null,
      "outputs": []
    },
    {
      "cell_type": "markdown",
      "metadata": {
        "id": "774da620"
      },
      "source": [
        "Você pode simplesmente pode escrever:"
      ]
    },
    {
      "cell_type": "code",
      "metadata": {
        "kernel": "R",
        "tags": [
          "report_cell"
        ],
        "id": "ba4f485d"
      },
      "source": [
        "x = seq(1,10,1)\n",
        "cat('Antes ', x)\n",
        "\n",
        "x = x + 1                  # em R a operação + é feita para todos elementos da coleção sem a necessidade das iterações\n",
        "\n",
        "cat('\\nDepois ', x)"
      ],
      "execution_count": null,
      "outputs": []
    },
    {
      "cell_type": "markdown",
      "metadata": {
        "id": "28129ea8"
      },
      "source": [
        "E de modo análogo outras operações:"
      ]
    },
    {
      "cell_type": "code",
      "metadata": {
        "kernel": "R",
        "tags": [
          "report_cell"
        ],
        "id": "02e38788"
      },
      "source": [
        "x = seq(1,10,1)\n",
        "cat('Antes ', x)\n",
        "\n",
        "cat('\\nDepois... \\n')\n",
        "\n",
        "print(2*x)\n",
        "print(x+1)\n",
        "print(sum(x))\n",
        "print(max(x), min(x))\n",
        "print(sqrt(x))"
      ],
      "execution_count": null,
      "outputs": []
    },
    {
      "cell_type": "markdown",
      "metadata": {
        "id": "f8cdfefb"
      },
      "source": [
        "O que se aplica também para funções lógicas:"
      ]
    },
    {
      "cell_type": "code",
      "metadata": {
        "kernel": "R",
        "tags": [
          "report_cell"
        ],
        "id": "69001fc1"
      },
      "source": [
        "x = seq(1,10,1)\n",
        "\n",
        "print(x > 5)"
      ],
      "execution_count": null,
      "outputs": []
    },
    {
      "cell_type": "markdown",
      "metadata": {
        "id": "55d549fb"
      },
      "source": [
        "o que fornece uma forma bastante prática para você fazer a seleção de valores em uma coleção:"
      ]
    },
    {
      "cell_type": "code",
      "metadata": {
        "kernel": "R",
        "tags": [
          "report_cell"
        ],
        "id": "2c8baf43"
      },
      "source": [
        "x = seq(1,10,1)\n",
        "\n",
        "L = x > 5          # vetor lógico selecionando os índices que correspondem a valores > 5\n",
        "\n",
        "print(x[L])"
      ],
      "execution_count": null,
      "outputs": []
    },
    {
      "cell_type": "markdown",
      "metadata": {
        "id": "7a8397b5"
      },
      "source": [
        "### Matrizes e Arrays\n",
        "\n",
        "Matrizes e Arrays também podem ser criados. As matrizes são coleções de 2 dimensões, enquanto os arrays são generalizações de matrizes para mais (ou menos) de 2 dimensões. Mas essas estruturas serão pouco empregadas aqui, sendo muito mais frequente o uso de vetores."
      ]
    },
    {
      "cell_type": "code",
      "metadata": {
        "kernel": "R",
        "tags": [
          "report_cell"
        ],
        "id": "bcf8bf30"
      },
      "source": [
        "X = matrix(c(1,2,3,4,5,6),nrow=2,ncol=3); X                # Uma matriz 2x3\n",
        "\n",
        "X = array(c(1,2,3,4,5,6,7,8,9,10,1,1),dim=c(3,2,2)); X     # Um array: 2 matrizes 3x2"
      ],
      "execution_count": null,
      "outputs": []
    },
    {
      "cell_type": "markdown",
      "metadata": {
        "id": "09d1805e"
      },
      "source": [
        "### Fatores\n",
        "\n",
        "Para lidar com medições nas escalas nominais e ordinais o R fornece vetores de tipo fator. Um fator é uma variável que pode assumir apenas um número discreto (finito) de valores distintos (os `levels`). Para criar um fator você pode aplicar a função `factor` a um vetor de qualquer classe:"
      ]
    },
    {
      "cell_type": "code",
      "metadata": {
        "kernel": "R",
        "tags": [
          "report_cell"
        ],
        "id": "eff91e9a"
      },
      "source": [
        "# gender com 5 \"male\" e 10 \"female\"\n",
        "gender = c(rep(\"male\",5), rep(\"female\", 10))\n",
        "\n",
        "sprintf(gender, '\\n', class(gender) , '\\n')                   # como vetor\n",
        "\n",
        "gender = factor(gender)                                       # como factor\n",
        "sprintf(as.character(gender), '\\n', class(gender) , '\\n')\n",
        "\n",
        "# factor faz com que os valores sejam armazenados internamente 1=female, 2=male internally (ordem alfabética) e o R tratará gender como uma variável nominal e não como caracteres!\n",
        "\n",
        "cat(gender, '\\n')\n",
        "summary(gender)"
      ],
      "execution_count": null,
      "outputs": []
    },
    {
      "cell_type": "markdown",
      "metadata": {
        "id": "40e87ff7"
      },
      "source": [
        "O uso de fatores envolve uma série detalhes e por hora é suficiente você saber que existem essas coleções que criam valores nominais e ordinais."
      ]
    },
    {
      "cell_type": "code",
      "metadata": {
        "kernel": "R",
        "tags": [
          "report_cell"
        ],
        "id": "2daeeb6e"
      },
      "source": [
        "rating = c(rep(\"large\",1), rep(\"medium\",2), rep(\"small\",3))\n",
        "rating = ordered(rating)\n",
        "print(rating)"
      ],
      "execution_count": null,
      "outputs": []
    },
    {
      "cell_type": "markdown",
      "metadata": {
        "id": "19bee048"
      },
      "source": [
        "### Caracteres\n",
        "\n",
        "Vale a pena também você olhar algumas funções úteis para a manipulação de caracteres em R como a conversão para caracteres, a concatenação de strings e substrings:"
      ]
    },
    {
      "cell_type": "code",
      "metadata": {
        "kernel": "R",
        "tags": [
          "report_cell"
        ],
        "id": "5225a6f7"
      },
      "source": [
        "x = as.character(3.14) # converte para caracteres\n",
        "cat(x, class(x), '\\n')\n",
        "\n",
        "y = paste('Universidade','Presbiteriana','Mackenzie') # concatena strings\n",
        "print(y)\n",
        "\n",
        "print( substr (y, start = 14, stop = 26) ) # substring"
      ],
      "execution_count": null,
      "outputs": []
    },
    {
      "cell_type": "markdown",
      "metadata": {
        "id": "4612079f"
      },
      "source": [
        "### Input pelo teclado"
      ]
    },
    {
      "cell_type": "code",
      "metadata": {
        "jupyter": {
          "source_hidden": true
        },
        "kernel": "Markdown",
        "tags": [
          "report_output"
        ],
        "id": "c770a56c"
      },
      "source": [
        "%expand `r ` --in R\n",
        "Você pode fazer a entrada de dados pelo teclado pode ser feita através do comando `readline`, o que é equivalente ao comando `input` do Python."
      ],
      "execution_count": null,
      "outputs": []
    },
    {
      "cell_type": "code",
      "metadata": {
        "jupyter": {
          "source_hidden": true
        },
        "kernel": "R",
        "tags": [
          "report_cell"
        ],
        "id": "e69ca3b3"
      },
      "source": [
        "nome =  readline(prompt=\"Entre com seu nome: \")\n",
        "idade =  as.numeric(readline(prompt=\"Entre com sua idade: \"))\n",
        "\n",
        "cat('nome: ', nome, 'idade: ', idade, '\\n')"
      ],
      "execution_count": null,
      "outputs": []
    },
    {
      "cell_type": "markdown",
      "metadata": {
        "id": "d18fbfe7"
      },
      "source": [
        "### Estruturas de controle de fluxo\n",
        "\n",
        "Estruturas e controle de fluxo como `for, while, if` são bastante análogas às outras linguagens inclusive na sintaxe:\n",
        "\n",
        "```\n",
        "if(cond) expr\n",
        "if(cond) cons.expr  else  alt.expr\n",
        "\n",
        "for(var in seq) expr\n",
        "\n",
        "while(cond) expr\n",
        "\n",
        "repeat expr\n",
        "\n",
        "break\n",
        "next\n",
        "```\n",
        "\n",
        "Você pode ver alguns exemplos abaixo, mas vamos deixar para você explorar melhor esses comandos sugerindo que você comece pelo `help('for')`."
      ]
    },
    {
      "cell_type": "code",
      "metadata": {
        "kernel": "R",
        "tags": [
          "report_cell"
        ],
        "id": "666c67b9"
      },
      "source": [
        "for(i in 1:5) print(1:i)\n",
        "\n",
        "for(n in c(2,5,10,20,50)) {\n",
        "   x = stats::rnorm(n)\n",
        "   cat(n, \": \", sum(x^2), \"\\n\", sep = \"\")\n",
        "}\n",
        "\n",
        "f = factor(sample(letters[1:5], 10, replace = TRUE))\n",
        "for(i in unique(f)) print(i)\n",
        "\n",
        "a = 5; b = 6\n",
        "if (a < b) print('menor') else print('maior')"
      ],
      "execution_count": null,
      "outputs": []
    },
    {
      "cell_type": "markdown",
      "metadata": {
        "id": "0d700775"
      },
      "source": [
        "E você pode empregar `{}` para definir blocos de instruções que são executadas em conjunto."
      ]
    },
    {
      "cell_type": "markdown",
      "metadata": {
        "id": "84381d8f"
      },
      "source": [
        "### Pacotes\n",
        "\n",
        "Existem muitos pacotes que implementam funcionalidades adicionais ao R e você empregará alguns deles ao longo do curso. Você deve empregar o comando `library()` para 'importar' as funcionalidades de uma biblioteca já instalada. Caso o pacote ainda não tenha sido instalado você deverá usar o `install.packages()`, mas este último comando, em geral, precisa ser feito uma única vez no seu ambiente."
      ]
    },
    {
      "cell_type": "code",
      "metadata": {
        "kernel": "R",
        "tags": [
          "report_cell"
        ],
        "id": "df429cb4"
      },
      "source": [
        "# install.packages('ggplot2')  # comentado aqui\n",
        "library(ggplot2)"
      ],
      "execution_count": null,
      "outputs": []
    },
    {
      "cell_type": "markdown",
      "metadata": {
        "id": "e3800b04"
      },
      "source": [
        "O comando acima instala e importa um pacote bastante popular para gráficos e visualização de dados em R."
      ]
    },
    {
      "cell_type": "markdown",
      "metadata": {
        "id": "ef42e2c3"
      },
      "source": [
        "### Outros recursos\n",
        "\n",
        "O R possui ainda muito mais recursos do quê você aprendeu aqui, como recursos para orientação a objetos, suporte a operações em arquivos etc. Mas o aprendizado de uma linguagem, assim como aprender uma língua, não pode ser feito de uma única vez e requer o uso e a prática, e aqui você tem mais do que o suficiente para prosseguir no uso do R. E você ainda pode acessar a [documentação do R](https://cran.r-project.org/doc/manuals/r-release/R-intro.html)."
      ]
    },
    {
      "cell_type": "markdown",
      "metadata": {
        "id": "552f107c"
      },
      "source": [
        "## Dataframes"
      ]
    },
    {
      "cell_type": "markdown",
      "metadata": {
        "id": "36acb416"
      },
      "source": [
        "Uma das formas mais comuns de tratarmos dados em R são os dataframes. O dataframes são tabelas de dados semelhantes às que você encontra em um banco de dados relacional (SQL). Eles são uma lista ou coleção de vetores de igual comprimento."
      ]
    },
    {
      "cell_type": "code",
      "metadata": {
        "kernel": "R",
        "tags": [
          "report_cell"
        ],
        "id": "88d551de"
      },
      "source": [
        "nr = c(1, 2, 3)\n",
        "nome = c(\"Ana\", \"Adriana\", \"Daniel\")\n",
        "estudante = c(TRUE, FALSE, TRUE)\n",
        "idade = c(15, 18, 17)\n",
        "df = data.frame (nr, nome, estudante, idade)\n",
        "\n",
        "print(df)"
      ],
      "execution_count": null,
      "outputs": []
    },
    {
      "cell_type": "markdown",
      "metadata": {
        "id": "6bc7b080"
      },
      "source": [
        "### Vetor de Coluna\n",
        "\n",
        "De modo semelhante ao SQL você pode referenciar os atributos (as colunas) a partir do nome da coluna como vetores."
      ]
    },
    {
      "cell_type": "code",
      "metadata": {
        "kernel": "R",
        "tags": [
          "report_cell"
        ],
        "id": "759aaf5c"
      },
      "source": [
        "print(df$nome)\n",
        "print(df$idade)"
      ],
      "execution_count": null,
      "outputs": []
    },
    {
      "cell_type": "markdown",
      "metadata": {
        "id": "23ce97d0"
      },
      "source": [
        "Note que em R empregamos o símbolo '$' referenciar o atributo no lugar de '.', como é empregado em geral para fazer referências de objetos.\n",
        "\n",
        "Cada atributo sendo um vetor você pode aplicar todas as funções que são aplicáveis a vetores para esses atributos, e você pode ver algumas das funções que empregamos anteriormente aqui:"
      ]
    },
    {
      "cell_type": "code",
      "metadata": {
        "kernel": "R",
        "tags": [
          "report_cell"
        ],
        "id": "f775e6c4"
      },
      "source": [
        "sprintf('Idade mínima: %d', min(df$idade))\n",
        "sprintf('Idade média: %.2f', mean(df$idade))\n",
        "\n",
        "print('Antes: ')\n",
        "print(df)\n",
        "\n",
        "# Somando 1 na idade\n",
        "df$idade = df$idade + 1\n",
        "\n",
        "print('Depois: ')\n",
        "print(df)"
      ],
      "execution_count": null,
      "outputs": []
    },
    {
      "cell_type": "markdown",
      "metadata": {
        "id": "88af037f"
      },
      "source": [
        "Ou ainda operações lógicas:"
      ]
    },
    {
      "cell_type": "code",
      "metadata": {
        "kernel": "R",
        "tags": [
          "report_cell"
        ],
        "id": "b88cba25"
      },
      "source": [
        "print(df$idade >= 18)"
      ],
      "execution_count": null,
      "outputs": []
    },
    {
      "cell_type": "markdown",
      "metadata": {
        "id": "bd0bff98"
      },
      "source": [
        "Você verá como empregar isso abaixo para a seleção de linhas de uma tabela."
      ]
    },
    {
      "cell_type": "markdown",
      "metadata": {
        "id": "45ae0419"
      },
      "source": [
        "### Selecionando dados de um dataframe\n",
        "\n",
        "Uma das operações mais importantes sobre os dados é a seleção de dados de interesse. Você pode estar interessado somente em algumas linhas do seu conjunto de dado como 'os alunos mais de 18 anos', 'os clientes do estado de São Paulo', 'os produtos com preço abaixo de ...' determinado valor, ou ainda querer selecionar somente alguns atributos do conjunto de dados.\n",
        "\n",
        "Nos exemplos a seguir vamos empregar o `mtcars` um dos [datasets built-in](http://stat.ethz.ch/R-manual/R-patched/library/datasets/html/00Index.html) do R. Mais adiante você aprenderá como importar dados de fontes próprias."
      ]
    },
    {
      "cell_type": "markdown",
      "metadata": {
        "id": "c79829b5"
      },
      "source": [
        "### Características dos dados\n",
        "\n",
        "Os comandos abaixo permitem explorar a estrutura básica de um dataset, como o número de linhas, colunas, tipos de dados etc. e você provavelmente começará uma exploração de dados por esses comandos para entender a estrutura dos dados em mãos antes de selecionar e analisar de fato os dados.\n",
        "\n",
        "Você pode executar cada um dos comandos em separado para exibir suas saídas."
      ]
    },
    {
      "cell_type": "code",
      "metadata": {
        "kernel": "R",
        "tags": [
          "report_cell"
        ],
        "id": "f60cc68d"
      },
      "source": [
        "# execute cada um dos comandos isoladamente\n",
        "head(mtcars)     # cabeçalho do dataframe\n",
        "tail(mtcars)     # final do dataframe\n",
        "dim(mtcars)      # Dimensões\n",
        "ncol(mtcars)     # nr de colunas\n",
        "nrow(mtcars)     # nr de linhas\n",
        "names(mtcars)    # nome das colunas\n",
        "rownames(mtcars) # nome das linhas\n",
        "str(mtcars)      # Estrutura dos dados, como exibido no RStudio na janela superior direita\n",
        "summary(mtcars)  # Summary statistics"
      ],
      "execution_count": null,
      "outputs": []
    },
    {
      "cell_type": "markdown",
      "metadata": {
        "id": "ef0700a6"
      },
      "source": [
        "### Seleção de Linhas e Colunas\n",
        "\n",
        "Sendo uma estrutura de duas dimensões os dados de um dataframe podem ser referenciados do seguinte modo:\n",
        "\n",
        "```\n",
        "dataframe [ linhas , colunas ]\n",
        "```\n",
        "\n",
        "Onde `linhas` e `colunas` podem conter uma ou mais posições (uma seleção de dados). É comum também nos referirmos à seleção de dados como 'slice' (fatias) de dados.\n",
        "\n",
        "A seleção de colunas pode ser feita referenciando o nome ou a posição dos atributos. E você deve notar a vírgula indicando que, neste caso, não há nenhum filtro para linhas. Você deve executar isoladamente cada um dos comandos abaixo para exibir as saídas. As 3 seleções de `mtcars` produzem a mesma seleção de atributos."
      ]
    },
    {
      "cell_type": "code",
      "metadata": {
        "kernel": "R",
        "tags": [
          "report_cell"
        ],
        "id": "171f6f17"
      },
      "source": [
        "# execute cada um dos comandos isoladamente\n",
        "print(names(mtcars))\n",
        "mtcars[ , c('cyl','disp','hp')]\n",
        "mtcars[ , c(2,3,4)]\n",
        "mtcars[ , c(2:4)]"
      ],
      "execution_count": null,
      "outputs": []
    },
    {
      "cell_type": "markdown",
      "metadata": {
        "id": "f6e1ea75"
      },
      "source": [
        "A seleção de linhas pode ser feita indicando-se a posição da linha ou, o que é mais interessante, um predicado de seleção."
      ]
    },
    {
      "cell_type": "code",
      "metadata": {
        "kernel": "R",
        "tags": [
          "report_cell"
        ],
        "id": "5740de4b"
      },
      "source": [
        "# execute cada um dos comandos isoladamente\n",
        "mtcars[ 1:6, ]                 # equivalente a head(mtcars)\n",
        "mtcars[ mtcars$cyl > 6, ]      # exibe somente veículos com mais de 6 cilindros"
      ],
      "execution_count": null,
      "outputs": []
    },
    {
      "cell_type": "markdown",
      "metadata": {
        "id": "a01a3c12"
      },
      "source": [
        "Você pode agora combinar a seleção de linhas e colunas para trazer quaisquer 'fatias' de seu interesse dos dados."
      ]
    },
    {
      "cell_type": "code",
      "metadata": {
        "kernel": "R",
        "tags": [
          "report_cell"
        ],
        "id": "e321d209"
      },
      "source": [
        "# execute cada um dos comandos isoladamente\n",
        "mtcars[ mtcars$cyl > 6 & mtcars$am == 1, c('cyl','mpg','am') ]      # exibe somente veículos com mais de 6 cilindros e transmissão am"
      ],
      "execution_count": null,
      "outputs": []
    },
    {
      "cell_type": "markdown",
      "metadata": {
        "id": "87dda2a0"
      },
      "source": [
        "Ou ainda selecionar um único vetor de dados desse modo:"
      ]
    },
    {
      "cell_type": "code",
      "metadata": {
        "kernel": "R",
        "tags": [
          "report_cell"
        ],
        "id": "abb03a82"
      },
      "source": [
        "# execute cada um dos comandos isoladamente\n",
        "mtcars[ mtcars$cyl > 6 & mtcars$am == 1, ]$hp     # exibe somente o vetor de valores hp para veículos com mais de 6 cilindros e transmissão am"
      ],
      "execution_count": null,
      "outputs": []
    },
    {
      "cell_type": "markdown",
      "metadata": {
        "id": "7dacdce3"
      },
      "source": [
        "Como a seleção de dados de um dataframe retorna também um dataframe, você pode empregar a seleção para produzir dataframes próprios com os seus dados de interesse."
      ]
    },
    {
      "cell_type": "code",
      "metadata": {
        "kernel": "R",
        "tags": [
          "report_cell"
        ],
        "id": "38b737a7"
      },
      "source": [
        "# execute cada um dos comandos isoladamente\n",
        "\n",
        "my_mtcars = mtcars[ mtcars$cyl > 6 & mtcars$am == 1, c('cyl','mpg','am') ]\n",
        "\n",
        "head(my_mtcars)\n",
        "nrow(my_mtcars)\n",
        "summary(my_mtcars)\n",
        "\n",
        "print( my_mtcars[ my_mtcars$mpg > 15, ]) # todos os comandos aplicáveis a um dataframe são aplicáveis em my_mtcars"
      ],
      "execution_count": null,
      "outputs": []
    },
    {
      "cell_type": "markdown",
      "metadata": {
        "id": "1d05c655"
      },
      "source": [
        "### Importando um dataframe\n",
        "\n",
        "O R permite importar dataframes de diferentes fontes de dados como bases SQL, arquivos .xlsx, .csv, .json etc. sendo necessário para alguns tipos de dados pacotes específicos para as funções e por hora vamos nos limitar a empregar arquivos com extensão .csv.\n",
        "\n",
        "Você poderá fazer acesso a eles indicando uma `url` de origem dos dados um diretório local na sua máquina. Se estiver empregando o RStudio.Cloud, lembre-se que sua máquina R encontra-se na nuvem e para o acesso 'local' é necessário o upload do arquivo."
      ]
    },
    {
      "cell_type": "code",
      "metadata": {
        "kernel": "R",
        "tags": [
          "report_cell"
        ],
        "id": "cbb31c50"
      },
      "source": [
        "surveys = read.csv(\"https://github.com/csc-training/da-with-r/raw/master/DataFiles/portal_data_joined.csv\")\n",
        "\n",
        "head(surveys)\n",
        "summary(surveys)"
      ],
      "execution_count": null,
      "outputs": []
    },
    {
      "cell_type": "markdown",
      "metadata": {
        "id": "fa24d435"
      },
      "source": [
        "## Referências"
      ]
    },
    {
      "cell_type": "markdown",
      "metadata": {
        "id": "1a0e3199"
      },
      "source": [
        "Devore, Jay L. **Probabilidade e Estatística para Engenharia e Ciências**. Trad. Solange Aparecida Visconte. Cengage, 2018.\n",
        "\n",
        "Navarro, Danielle, **Learning Statistics with R**, disponível em: https://learningstatisticswithr.com/ ( LSR version 0.6 (pdf) ). Acesso: 26/02/2021.\n",
        "\n",
        "Wickham, H., Grolemund, G. **R for Data Science**. O'Reilly Media, Inc., 2016."
      ]
    }
  ]
}