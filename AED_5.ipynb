{
  "nbformat": 4,
  "nbformat_minor": 5,
  "metadata": {
    "Rmd_chunk_options": {
      "author": "Rogério de Oliveira",
      "date": "`r Sys.Date()`",
      "description": "Curso de Probabilidade e Estatística Aplicada.",
      "title": "Probabilidade e Estatística - Aula 5"
    },
    "kernelspec": {
      "display_name": "SoS",
      "language": "sos",
      "name": "sos"
    },
    "language_info": {
      "file_extension": ".sos",
      "mimetype": "text/x-sos",
      "name": "sos",
      "nbconvert_exporter": "sos_notebook.converter.SoS_Exporter",
      "pygments_lexer": "python"
    },
    "sos": {
      "kernels": [
        [
          "SoS",
          "sos",
          "",
          ""
        ],
        [
          "R",
          "ir",
          "",
          ""
        ]
      ]
    },
    "colab": {
      "name": "AED_5.ipynb",
      "provenance": [],
      "include_colab_link": true
    }
  },
  "cells": [
    {
      "cell_type": "markdown",
      "metadata": {
        "id": "view-in-github",
        "colab_type": "text"
      },
      "source": [
        "<a href=\"https://colab.research.google.com/github/Rogerio-mack/Analise_Exploratoria_de_Dados/blob/main/AED_5.ipynb\" target=\"_parent\"><img src=\"https://colab.research.google.com/assets/colab-badge.svg\" alt=\"Open In Colab\"/></a>"
      ]
    },
    {
      "cell_type": "markdown",
      "metadata": {
        "id": "40b90843"
      },
      "source": [
        "<img src=\"http://meusite.mackenzie.br/rogerio/mackenzie_logo/UPM.2_horizontal_vermelho.jpg\"  width=300, align=\"right\">\n",
        "<br>\n",
        "<br>\n",
        "<br>\n",
        "<br>\n",
        "<br>\n",
        "\n",
        "# Inferência Estatística\n",
        "---"
      ],
      "id": "40b90843"
    },
    {
      "cell_type": "markdown",
      "metadata": {
        "id": "3e8f2167"
      },
      "source": [
        "Você já aprendeu o que são as as distribuições de probabilidade e algumas de suas funções mais importantes como as funções de densidade e probabilidade acumulada. Com isso já somos capazes de 'inferir' sobre a probabilidade de alguns eventos. Mas podemos fazer ainda mais. Aqui você vai aprender alguns resultados importantes para a inferência estatística como a Lei dos Grandes Números e o Teorema Central do Limite. Vai também explorar outras distribuições, e conhecer a distribuição t-Student que tem um papel bastante importante em muitos testes de hipóteses que serão vistos a seguir."
      ],
      "id": "3e8f2167"
    },
    {
      "cell_type": "markdown",
      "metadata": {
        "id": "1abd29b3"
      },
      "source": [
        "## Introdução"
      ],
      "id": "1abd29b3"
    },
    {
      "cell_type": "markdown",
      "metadata": {
        "id": "78dcad6b"
      },
      "source": [
        "A ideia central da inferência estatística é que podemos estimar ou *inferir* características de uma população a partir de uma amostra dessa população. Isto é, não precisamos acessar ou medir toda a população! A partir de uma amostra, podemos estimar os parâmetros de uma população, como por exemplo a média e a variância. A Lei dos Grandes números afirma que a medida que crescemos a amostra esses parâmetros da amostra tendem aos mesmos parâmetros da população e Teorema do Limite Central destaca a importância da distribuição normal para a inferência de parâmetros."
      ],
      "id": "78dcad6b"
    },
    {
      "cell_type": "markdown",
      "metadata": {
        "id": "1d032b14"
      },
      "source": [
        "## Lei dos Grandes Números e o Teorema Central do Limite"
      ],
      "id": "1d032b14"
    },
    {
      "cell_type": "markdown",
      "metadata": {
        "id": "eb88ac8e"
      },
      "source": [
        "Uma das principais atividades da estatística é a generalização dos resultados obtidos em uma amostra para população de onde obtivemos a amostra. Isto é, você faz uma inferência dos resultados da população com base nos dados da amostra. Por exemplo, você pode inferir a média de peso dos recém nascidos com base em uma amostra de, digamos, 30 bebês, e as distribuições de probabilidade têm um papel fundamental nessa tarefa de inferência.\n",
        "\n",
        "A Lei dos Grandes Números e o Teorema Central do Limite são dois teoremas fundamentais da teoria da probabilidade para inferência estatística. Eles impactam no tamanho amostral e como usamos a distribuição normal para fazer inferências.\n",
        "\n",
        "A **Lei dos Grandes Números (LGN)**, afirma que a média dos resultados de um experimento realizado repetidas vezes *tende* a se aproximar do valor esperado à medida que novas tentativas se sucedem. Isto, é, a média amostral *tende* ou **converge** à média populacional à medida que mais experimentos são realizados. Em outras palavras, quanto maior a amostra, mais os resultados se aproximam dos resultados da população.\n",
        "\n",
        "Uma demonstração simples pode ser feita pelo jogo de moedas. Em uma moeda não viciada sabe-se que há uma probabilidade de 0.5 do resultado ser cara (valor 1) e a mesma probabilidade 0.5 de ser coroa (valor 0). Então, se assumirmos $S_n$ como o número de caras de cada experimento $X_i$:\n",
        "\n",
        "$$S_n = X_1 + X_2 + ... + X_n$$\n",
        "A razão de caras no momento $n$ é dada por:\n",
        "\n",
        "$$R_n = \\frac{S_n}{n}$$\n",
        "e, pela **Lei dos Grandes Números (LGN)**, quanto maior o número de experimentos mais próximo da probabilidade 0.5 será o nosso resultado:\n",
        "\n",
        "$$ \\lim_{n \\rightarrow \\infty } R_n = p$$\n",
        "Você pode observar essa *convergência* para o valor 0.5 no gráfico a seguir onde simulamos 200 lançamentos de uma moeda."
      ],
      "id": "eb88ac8e"
    },
    {
      "cell_type": "code",
      "metadata": {
        "kernel": "R",
        "tags": [
          "report_cell"
        ],
        "id": "911b0f30"
      },
      "source": [
        "set.seed(1234)\n",
        "lanctos = as.numeric(runif(200) >= 0.5)\n",
        "print(lanctos[1:100])\n",
        "\n",
        "media = c(0)\n",
        "\n",
        "for (i in 1:200){\n",
        "  media[i] = sum(lanctos[1:i]) / i\n",
        "}\n",
        "\n",
        "plot(media,type='l',main='Média dos Lançamentos de uma Moeda',\n",
        "     ylim=c(0,1),\n",
        "     xlab='Lançamentos',\n",
        "     ylab='R_n')\n",
        "abline(h=0.5,col='red',lty='dotted',lwd=2)\n",
        "text(194,0.6, 'p = 0.5', font=2, cex=1)"
      ],
      "id": "911b0f30",
      "execution_count": null,
      "outputs": []
    },
    {
      "cell_type": "markdown",
      "metadata": {
        "id": "38c96014"
      },
      "source": [
        "O **Teorema Central do Limite (TCL)** é um outro resultado importante e foi considerado como “Central” pelo matemático George Pólya. Esse teorema afirma que a distribuição da média de um grande número de variáveis aleatórias independentes e identicamente distribuídas será aproximadamente normal, independentemente da distribuição subjacente (dessas variáveis).\n",
        "\n",
        "Por isso você verá que a distribuição normal é utilizada para inferência e em muitos testes estatísticos."
      ],
      "id": "38c96014"
    },
    {
      "cell_type": "code",
      "metadata": {
        "kernel": "R",
        "tags": [
          "report_cell"
        ],
        "id": "7a207fe0"
      },
      "source": [
        "layout.matrix <- matrix(c(1, 1, 1, 0), nrow = 2, ncol = 2)\n",
        "\n",
        "layout(mat = layout.matrix,\n",
        "       heights = c(2, 2), # Heights of the two rows\n",
        "       widths = c(2, 2)) # Widths of the two columns\n",
        "\n",
        "set.seed(1234)\n",
        "hist(sample(1:6,100, replace=TRUE),\n",
        "     breaks=c(0,1,2,3,4,5,6),\n",
        "     main='Lançamentos 1',\n",
        "     xlab='resultados')\n",
        "\n",
        "set.seed(1984)\n",
        "hist(sample(1:6,100, replace=TRUE),\n",
        "     breaks=c(0,1,2,3,4,5,6),\n",
        "     main='Lançamentos 2',\n",
        "     xlab='resultados')\n",
        "\n",
        "set.seed(7777)\n",
        "hist(sample(1:6,100, replace=TRUE),\n",
        "     breaks=c(0,1,2,3,4,5,6),\n",
        "     main='Lançamentos 3',\n",
        "     xlab='resultados')"
      ],
      "id": "7a207fe0",
      "execution_count": null,
      "outputs": []
    },
    {
      "cell_type": "markdown",
      "metadata": {
        "id": "c892daf3"
      },
      "source": [
        "Vamos considerar o experimento acima de lançamento de um dado não viciado.\n",
        "Como cada resultado de 1 a 6 tem probabilidade 1/6 de ocorrer **essa é uma distribuição uniforme** (importante: note aqui, todos os valores tem a mesma probabilidade e, portanto, o gráfico de densidade de probabilidade tem um formato de caixa ou retângulo, e também denominamos essa distribuição de retangular).\n",
        "\n",
        "Acima você encontra os resultados de 3 experimentos de 100 lançamentos cada. Note o formato das distribuições em 'caixa'.\n",
        "\n",
        "O que o **Teorema Central do Limite** afirma é que se fizermos vários desses experimentos, a média desses experimentos terá uma distribuição normal. Veja abaixo a simulação de 1000 experimentos de 100 lançamentos cada e a distribuição da média obtida>"
      ],
      "id": "c892daf3"
    },
    {
      "cell_type": "code",
      "metadata": {
        "kernel": "R",
        "tags": [
          "report_cell"
        ],
        "id": "781f11f1"
      },
      "source": [
        "set.seed(1234)\n",
        "media = c(0)\n",
        "\n",
        "for (i in 1:1000){\n",
        "  media[i] = mean(sample(1:6,100, replace=TRUE))\n",
        "}\n",
        "\n",
        "hist(media,\n",
        "     main='Média dos Experimentos\\n (média dos valores obtidos em cada lançamento)',\n",
        "     xlab='Média dos Valores')"
      ],
      "id": "781f11f1",
      "execution_count": null,
      "outputs": []
    },
    {
      "cell_type": "markdown",
      "metadata": {
        "id": "17ba51e7"
      },
      "source": [
        "Um resultado surpreendente não acha? Sim, veja que essa **distribuição normal** ocorre independentemente da distribuição subjacente das variáveis que apresentam, neste caso, uma distribuição uniforme, mas poderiam apresentar qualquer outra forma de distribuição."
      ],
      "id": "17ba51e7"
    },
    {
      "cell_type": "markdown",
      "metadata": {
        "id": "5bbb41cc"
      },
      "source": [
        "## Regra Prática"
      ],
      "id": "5bbb41cc"
    },
    {
      "cell_type": "markdown",
      "metadata": {
        "id": "82803c23"
      },
      "source": [
        "Uma característica importante da distribuição normal (e outras distribuições simétricas) é uma regra empírica que descrevemos a seguir.\n",
        "\n",
        "De com essa regra, em uma variável aleatória normalmente distribuída, cerca de 68% das observações estará contida no intervalo de -1 a +1 desvio-padrão ($\\sigma$), 95% das observações estará entre $-2\\sigma$ e $+2\\sigma$ e cerca de 99.7% das observações estará entre $-3\\sigma$ e +3$+3\\sigma$ desvios-padrão."
      ],
      "id": "82803c23"
    },
    {
      "cell_type": "code",
      "metadata": {
        "kernel": "R",
        "tags": [
          "report_cell"
        ],
        "id": "97eba302"
      },
      "source": [
        "library(latex2exp)\n",
        "\n",
        "# par(mfrow = c(1, 3))\n",
        "layout.matrix <- matrix(c(1, 1, 1, 0), nrow = 2, ncol = 2)\n",
        "\n",
        "layout(mat = layout.matrix,\n",
        "       heights = c(2, 2), # Heights of the two rows\n",
        "       widths = c(2, 2)) # Widths of the two columns\n",
        "\n",
        "prob = c(0)\n",
        "\n",
        "mu = 0\n",
        "sigma = 1\n",
        "\n",
        "x =seq(-4,4,0.05)\n",
        "prob = dnorm(x, mean=mu, sd=sigma)\n",
        "\n",
        "plot(x,\n",
        "     prob,\n",
        "     type='l',\n",
        "     xlab = 'z-score',\n",
        "     ylab = 'Função Densidade de Probabilidade',\n",
        "     col='darkblue')\n",
        "title('PDF, Norm(mean=0,sd=1)')\n",
        "\n",
        "lb = -1 # limite inferior\n",
        "ub = 1 # limite superior\n",
        "\n",
        "i <- x >= lb & x <= ub\n",
        "lines(x, prob)                                       # desenha as linhas limite\n",
        "polygon(c(lb,x[i],ub), c(0,prob[i],0), col=\"green\")  # preenche a área sob a curva\n",
        "\n",
        "p_intervalo = pnorm(1,mean=0,sd=1) - pnorm(-1,mean=0,sd=1)\n",
        "text(0,0.2, round(p_intervalo,4), font=2)\n",
        "text(-1.4,0.05, TeX('$- \\\\sigma$'), font=2, cex=1.5)\n",
        "text(1.3,0.05, TeX('$+ \\\\sigma$'), font=2, cex=1.5)\n",
        "\n",
        "prob = c(0)\n",
        "\n",
        "mu = 0\n",
        "sigma = 1\n",
        "\n",
        "x =seq(-4,4,0.05)\n",
        "prob = dnorm(x, mean=mu, sd=sigma)\n",
        "\n",
        "plot(x,\n",
        "     prob,\n",
        "     type='l',\n",
        "     xlab = 'z-score',\n",
        "     ylab = 'Função Densidade de Probabilidade',\n",
        "     col='darkblue')\n",
        "title('PDF, Norm(mean=0,sd=1)')\n",
        "\n",
        "lb = -2 # limite inferior\n",
        "ub = 2 # limite superior\n",
        "\n",
        "i <- x >= lb & x <= ub\n",
        "lines(x, prob)                                       # desenha as linhas limite\n",
        "polygon(c(lb,x[i],ub), c(0,prob[i],0), col=\"green\")  # preenche a área sob a curva\n",
        "\n",
        "p_intervalo = pnorm(2,mean=0,sd=1) - pnorm(-2,mean=0,sd=1)\n",
        "text(0,0.2, round(p_intervalo,4), font=2)\n",
        "text(-2.4,0.05, TeX('$- 2\\\\sigma$'), font=2, cex=1.5)\n",
        "text(2.3,0.05, TeX('$+ 2\\\\sigma$'), font=2, cex=1.5)\n",
        "\n",
        "prob = c(0)\n",
        "\n",
        "mu = 0\n",
        "sigma = 1\n",
        "\n",
        "x =seq(-4,4,0.05)\n",
        "prob = dnorm(x, mean=mu, sd=sigma)\n",
        "\n",
        "plot(x,\n",
        "     prob,\n",
        "     type='l',\n",
        "     xlab = 'z-score',\n",
        "     ylab = 'Função Densidade de Probabilidade',\n",
        "     col='darkblue')\n",
        "title('PDF, Norm(mean=0,sd=1)')\n",
        "\n",
        "lb = -3 # limite inferior\n",
        "ub = 3 # limite superior\n",
        "\n",
        "i <- x >= lb & x <= ub\n",
        "lines(x, prob)                                       # desenha as linhas limite\n",
        "polygon(c(lb,x[i],ub), c(0,prob[i],0), col=\"green\")  # preenche a área sob a curva\n",
        "\n",
        "p_intervalo = pnorm(3,mean=0,sd=1) - pnorm(-3,mean=0,sd=1)\n",
        "text(0,0.2, round(p_intervalo,4), font=2)\n",
        "text(-3.4,0.05, TeX('$- 3\\\\sigma$'), font=2, cex=1.5)\n",
        "text(3.3,0.05, TeX('$+ 3\\\\sigma$'), font=2, cex=1.5)"
      ],
      "id": "97eba302",
      "execution_count": null,
      "outputs": []
    },
    {
      "cell_type": "markdown",
      "metadata": {
        "id": "fc66a6bb"
      },
      "source": [
        "Importante você notar que com outras distribuições o resultado vai ser diferente!"
      ],
      "id": "fc66a6bb"
    },
    {
      "cell_type": "markdown",
      "metadata": {
        "id": "8933e0d5"
      },
      "source": [
        "## z-score ou escore padrão"
      ],
      "id": "8933e0d5"
    },
    {
      "cell_type": "markdown",
      "metadata": {
        "id": "33171c67"
      },
      "source": [
        "O z-score é uma medida importante em estatística para compararmos valores de diferentes conjuntos de dados. Ele nos dá **quantos desvios padrões um dado valor está distante em relação à média**, um z-score positivo indica um valor acima da média (e negativos, abaixo). Ele pode ser calculado como:\n",
        "\n",
        "$$ z = \\frac{x - \\mu}{\\sigma} $$\n",
        "\n",
        "onde $\\mu$ é a média dos valores e $\\sigma$ o desvio padrão.\n",
        "\n",
        "Veja um exemplo. Suponha dois jogadores de poker que apresentam o seguinte histórico de desempenho.\n",
        "\n",
        "Jogador 1: vence 70% das vezes com um desvio padrão de 20%.\n",
        "Jogador 2: vence 40% das vezes com um desvio padrão de 10%.\n",
        "\n",
        "Em um determinado campeonato o jogador 1 teve 75% de acertos e o jogador 2, 65%. Qual dos jogadores apresentou nesse campeonato um desempenho acima do esperado (isto é superior ao seu histórico)?\n",
        "\n",
        "Embora o jogador 1 tenha tido um desempenho melhor, o jogador 2 acertou 25% a mais do que seria esperado\n",
        "já que seu desempenho histórico é de 40% $\\pm$ 10%, tendo 2.5 $\\times$ desvios padrão acima da sua média histórica, enquanto o jogador 2 teve um desempenho apenas 0.25 $\\times$ desvios padrão acima da sua média e não foi, portanto, dos seus campeonatos mais felizes ao contrário do jogador 2.\n",
        "\n",
        "Um **erro comum** é pensarmos que o z-score é uma medida de dispersão de uma amostra. Mas basta voltarmos para definição para vermos que não é, ele é uma medida de **quantos desvios padrões um dado valor está distante em relação à média**. Mas essa medida tem um papel importante nas definições que seguem, da distribuição chi-quadrado até a importante distribuição de t-student."
      ],
      "id": "33171c67"
    },
    {
      "cell_type": "markdown",
      "metadata": {
        "id": "4e9815c9"
      },
      "source": [
        "## Distribuição chi-quadrado"
      ],
      "id": "4e9815c9"
    },
    {
      "cell_type": "markdown",
      "metadata": {
        "id": "913dc837"
      },
      "source": [
        "Considere $X$ uma variável aleatória com distribuição normal $N(\\mu, \\sigma)$ e $ z = \\frac{x - \\mu}{\\sigma} $ a correspondente variável normal padronizada. A variável aleatória $z^2$ é uma variável aleatória com uma distribuição que denominamos distribuição qui-quadrado com um grau de liberdade.\n",
        "\n",
        "Grau de liberdade é um conceito bastante complexo de estatística. Considere um conjunto de dados qualquer, os graus de liberdade é o número de valores deste conjunto de dados que podem variar\n",
        "após terem sido impostas certas restrições a todos os valores. Para dar um exemplo, considere que 10 estudantes obtiveram em um teste média 7.0. Assim, a soma das 10 notas deve ser 70 (essa será a restrição). Você terá, então, 10 − 1 = 9 graus de liberdade, pois as nove primeiras notas podem ser escolhidas aleatoriamente, contudo a 10a nota deve ser igual a [70 − (soma das 9 primeiras)]. É algo bem abstrato e aqui, em geral, bastará você pensar em que o grau de liberdade como o número de amostras menos 1. O grau de liberdade aparece nas funções de distribuição em R como `df` (degrees of freedom).\n",
        "\n",
        "Veja abaixo uma distribuição de probabilidades chi-quadrado com 10 graus de liberdade."
      ],
      "id": "913dc837"
    },
    {
      "cell_type": "code",
      "metadata": {
        "kernel": "R",
        "tags": [
          "report_cell"
        ],
        "id": "0e1ca852"
      },
      "source": [
        "library(latex2exp)\n",
        "\n",
        "prob = c(0)\n",
        "\n",
        "x = seq(0,60,1)\n",
        "prob = dchisq(x, df=10)\n",
        "\n",
        "par(mfrow = c(1, 2))\n",
        "\n",
        "plot(x,\n",
        "     prob,\n",
        "     type='l',\n",
        "     xlab = 'Valor',\n",
        "     ylab = 'Função Densidade de Probabilidade',\n",
        "     col='darkblue')\n",
        "title('PDF, Chi-quadrado(df=10)')\n",
        "\n",
        "lb = 10 # limite inferior\n",
        "ub = 20 # limite superior\n",
        "\n",
        "i <- x >= lb & x <= ub\n",
        "lines(x, prob)                                       # desenha as linhas limite\n",
        "polygon(c(lb,x[i],ub), c(0,prob[i],0), col=\"green\")  # preenche a área sob a curva\n",
        "\n",
        "p_intervalo = pchisq(20,df=10) - pchisq(10,df=10)\n",
        "text(30,0.02, round(p_intervalo,2))\n",
        "\n",
        "prob = pchisq(x, df=10)\n",
        "plot(x,\n",
        "     prob,\n",
        "     type='l',\n",
        "     xlab = 'valor',\n",
        "     ylab = 'Função Probabilidade Acumulada',\n",
        "     col='darkblue')\n",
        "title('CDF, Chi-quadrado(df=10)')"
      ],
      "id": "0e1ca852",
      "execution_count": null,
      "outputs": []
    },
    {
      "cell_type": "markdown",
      "metadata": {
        "id": "1e750495"
      },
      "source": [
        "## Distribuição t-Student"
      ],
      "id": "1e750495"
    },
    {
      "cell_type": "markdown",
      "metadata": {
        "id": "02d5df65"
      },
      "source": [
        "A distribuição t de Student, ou simplesmente t-Student, é uma das distribuições mais utilizadas na estatística com aplicações desde a modelagem estatística até testes de hipóteses que você vai ver a seguir.\n",
        "\n",
        "Suponha que uma variável aleatória $Z$ tenha a distribuição normal padrão e outra variável aleatória $V$ tenha a distribuição Chi-Quadrado com $m$ graus de liberdade.$Z$ e $V$ são ainda independentes e, então, a seguinte $t$ segue uma distribuição t-Student com $m$ graus de liberdade.\n",
        "\n",
        "\n",
        "$$ t = \\frac{Z}{\\sqrt{V/m}}$$\n",
        "\n",
        "A t-Student tem uma série de propriedades importantes que você deve saber:\n",
        "\n",
        "1. Cada grau de liberdade dá origem a uma distribuição t diferente.\n",
        "2. A função densidade tem a mesma forma em sino da distribuição Normal,\n",
        "mas reflete uma maior variabilidade (com curvas mais alargadas) que é de\n",
        "se esperar em amostras pequenas.\n",
        "3. A distribuição t-Student se aproxima da normal quando aumenta o número\n",
        "de graus de liberdade.\n",
        "\n",
        "Na prática a distribuição t-Student é empregada fazermos inferências de uma variável com uma distribuição supostamente normal, mas que temos acesso somente a uma amostra dos dados (e não aos dados de toda a população). Por isso a distribuição t-Student se aproxima da normal a medida que aumentamos o número\n",
        "de graus de liberdade, o que é o mesmo que dizer que aumentamos o número de amostras (lembre: que os graus de liberdade são dados por $n-1$ para $n$ amostras!). E você pode observar que $n=30$ amostras já são amostras suficientemente grandes que aproximam bastante bem a distribuição normal."
      ],
      "id": "02d5df65"
    },
    {
      "cell_type": "code",
      "metadata": {
        "kernel": "R",
        "tags": [
          "report_cell"
        ],
        "id": "4bee7128"
      },
      "source": [
        "library(latex2exp)\n",
        "\n",
        "prob = c(0)\n",
        "\n",
        "x = seq(-4,4,0.01)\n",
        "\n",
        "prob = dnorm(x)\n",
        "plot(x,\n",
        "     prob,\n",
        "     type='l',lty=2, lwd=1,\n",
        "     xlab = 'Valor',\n",
        "     ylab = 'Função Densidade de Probabilidade',\n",
        "     col='black',\n",
        "     ylim=c(0,0.45))\n",
        "title('PDF, t-Student e Normal')\n",
        "\n",
        "cores = c('darkblue', 'red', 'blue', 'green', 'magenta')\n",
        "color = 2\n",
        "\n",
        "for (df in c(2,5,15,30)){\n",
        "prob = dt(x, df=df)\n",
        "\n",
        "lines(x, prob, col=cores[color])\n",
        "color = color + 1\n",
        "\n",
        "\n",
        "}\n",
        "\n",
        "legend(\"topright\", legend=c('N(0,1)','df=2','df=5','df=15','df=30'),\n",
        "       title='Distributions',\n",
        "       col=c('black', 'red', 'blue', 'green', 'magenta'), lty = c(2,1,1,1,1), cex=0.8)"
      ],
      "id": "4bee7128",
      "execution_count": null,
      "outputs": []
    },
    {
      "cell_type": "markdown",
      "metadata": {
        "id": "af42ce21"
      },
      "source": [
        "## Outras Distribuições"
      ],
      "id": "af42ce21"
    },
    {
      "cell_type": "markdown",
      "metadata": {
        "id": "3ef8e49e"
      },
      "source": [
        "Exitem muitas outras distribuições importantes, mas para concluir antes de vermos alguns exemplos, vamos ver apenas mais duas distribuições bastantes empregadas, a distribuição de Poisson e a Exponencial. Com isso você já terá um ferramental bastante grande e poderá explorar outras distribuições quando precisar."
      ],
      "id": "3ef8e49e"
    },
    {
      "cell_type": "markdown",
      "metadata": {
        "id": "36d052f8"
      },
      "source": [
        "### Distribuição de Poisson\n",
        "\n",
        "A distribuição de Poisson é a distribuição de probabilidade da ocorrência de eventos independentes em um intervalo. Se $\\lambda$ é a ocorrência média por intervalo, então a probabilidade de ter $x$ ocorrências dentro de um determinado intervalo é:\n",
        "\n",
        "$$ P(x) = \\frac{\\lambda^x e^{-\\lambda}}{x!} $$\n",
        "onde $x = 0,1,2,...$.\n",
        "\n",
        "Novamente, felizmente, temos o R para fazer esses cálculos para nós de forma prática. Vamos ver um exemplo de aplicação dessa distribuição.\n",
        "\n",
        "Suponha que você no seu negócio faz 30 vendas de aparelhos celulares por semana. Qual é a probabilidade de você fazer 25 a 35 vendas em uma dada semana?\n",
        "\n",
        "A distribuição de probabilidades é dada por uma distribuição de Poisson como abaixo."
      ],
      "id": "36d052f8"
    },
    {
      "cell_type": "code",
      "metadata": {
        "kernel": "R",
        "tags": [
          "report_cell"
        ],
        "id": "f65cf89c"
      },
      "source": [
        "library(latex2exp)\n",
        "\n",
        "prob = c(0)\n",
        "\n",
        "x = seq(0,60,1)\n",
        "prob = dpois(x, lambda=30)\n",
        "\n",
        "par(mfrow = c(1, 2))\n",
        "\n",
        "plot(x,\n",
        "     prob,\n",
        "     type='l',\n",
        "     xlab = 'Quantidade de Vendas',\n",
        "     ylab = 'Função Densidade de Probabilidade',\n",
        "     col='darkblue')\n",
        "title('PDF, Poisson(lambda=30)')\n",
        "\n",
        "lb = 25 # limite inferior\n",
        "ub = 35 # limite superior\n",
        "\n",
        "i <- x >= lb & x <= ub\n",
        "lines(x, prob)                                       # desenha as linhas limite\n",
        "polygon(c(lb,x[i],ub), c(0,prob[i],0), col=\"green\")  # preenche a área sob a curva\n",
        "\n",
        "p_intervalo = ppois(35,lambda=30) - ppois(25,lambda=30)\n",
        "text(30,0.02, round(p_intervalo,2))\n",
        "\n",
        "prob = ppois(x, lambda=30)\n",
        "plot(x,\n",
        "     prob,\n",
        "     type='l',\n",
        "     xlab = 'Quantidade de Vendas',\n",
        "     ylab = 'Função Probabilidade Acumulada',\n",
        "     col='darkblue')\n",
        "title('CDF, Poisson(lambda=30)')"
      ],
      "id": "f65cf89c",
      "execution_count": null,
      "outputs": []
    },
    {
      "cell_type": "markdown",
      "metadata": {
        "id": "cdf7b223"
      },
      "source": [
        "### Distribuição Exponencial\n",
        "\n",
        "A distribuição exponencial descreve o tempo de chegada de uma sequência de eventos independentes recorrentes aleatoriamente. Se $\\mu$ é o tempo médio de espera para a próxima recorrência do evento, sua função de densidade é dada por:\n",
        "\n",
        "$$ P(x) = \\left\\{\\begin{array}{lll}  \\frac{1}{\\mu} e^{-\\frac{x}{\\mu}} , \\text{     quando  } x \\ge 0\n",
        "\\\\ 0 , \\text{     quando  } x \\lt 0\n",
        "\n",
        "\\end{array}\n",
        "\\right.\n",
        "\n",
        "   $$\n",
        "\n",
        "Abaixo a distribuição para $\\mu = 0.25$."
      ],
      "id": "cdf7b223"
    },
    {
      "cell_type": "code",
      "metadata": {
        "kernel": "R",
        "tags": [
          "report_cell"
        ],
        "id": "20d4e446"
      },
      "source": [
        "library(latex2exp)\n",
        "\n",
        "prob = c(0)\n",
        "\n",
        "x = seq(0,60,1)\n",
        "prob = dexp(x, rate=0.25)\n",
        "\n",
        "par(mfrow = c(1, 2))\n",
        "\n",
        "plot(x,\n",
        "     prob,\n",
        "     type='l',\n",
        "     xlab = 'Quantidade de Vendas',\n",
        "     ylab = 'Função Densidade de Probabilidade',\n",
        "     col='darkblue')\n",
        "title('PDF, Exp(mu=1)')\n",
        "\n",
        "prob = pexp(x, rate=0.25)\n",
        "plot(x,\n",
        "     prob,\n",
        "     type='l',\n",
        "     xlab = 'Quantidade de Vendas',\n",
        "     ylab = 'Função Probabilidade Acumulada',\n",
        "     col='darkblue')\n",
        "title('CDF, Exp(mu=1)')"
      ],
      "id": "20d4e446",
      "execution_count": null,
      "outputs": []
    },
    {
      "cell_type": "markdown",
      "metadata": {
        "id": "375dcb97"
      },
      "source": [
        "O quadro abaixo mais uma vez resume as principais distribuições de probabilidade com seus comandos em R e acrescentamos a distribuição t-student. O comando `help(\"distribution\")` pode auxiliar você para explorar outras distribuições em R.\n",
        "\n",
        "<h4>Table 1:Funções de Distribuição de Probabilidade em R</h4>\n",
        "<table>\n",
        "<thead>\n",
        "<tr class=\"header\">\n",
        "<th align=\"left\">Name</th>\n",
        "<th align=\"left\">Probability Density</th>\n",
        "<th align=\"left\">Cumulative Distribution</th>\n",
        "<th align=\"left\">Quantile</th>\n",
        "</tr>\n",
        "</thead>\n",
        "<tbody>\n",
        "<tr class=\"odd\">\n",
        "<td align=\"left\">Normal</td>\n",
        "<td align=\"left\">dnorm(Z,mean,sd)</td>\n",
        "<td align=\"left\">pnorm(Z,mean,sd)</td>\n",
        "<td align=\"left\">qnorm(Q,mean,sd)</td>\n",
        "</tr>\n",
        "<tr class=\"even\">\n",
        "<td align=\"left\">Poisson</td>\n",
        "<td align=\"left\">dpois(N,lambda)</td>\n",
        "<td align=\"left\">ppois(N,lambda)</td>\n",
        "<td align=\"left\">qpois(Q,lambda)</td>\n",
        "</tr>\n",
        "<tr class=\"odd\">\n",
        "<td align=\"left\">Binomial</td>\n",
        "<td align=\"left\">dbinom(N,size,prob)</td>\n",
        "<td align=\"left\">pbinom(N,size,prob)</td>\n",
        "<td align=\"left\">qbinom(Q,size,prob)</td>\n",
        "</tr>\n",
        "<tr class=\"even\">\n",
        "<td align=\"left\">Exponential</td>\n",
        "<td align=\"left\">dexp(N,rate)</td>\n",
        "<td align=\"left\">pexp(N,rate)</td>\n",
        "<td align=\"left\">qexp(Q,rate)</td>\n",
        "</tr>\n",
        "<tr class=\"odd\">\n",
        "<td align=\"left\"><span class=\"math\">\\(\\chi^2\\)</span></td>\n",
        "<td align=\"left\">dchisq(X,df)</td>\n",
        "<td align=\"left\">pchisq(X.df)</td>\n",
        "<td align=\"left\">qchisq(X,df)</td>\n",
        "</tr>\n",
        "<tr class=\"even\">\n",
        "<td align=\"left\">t-Student</td>\n",
        "<td align=\"left\">dt(X,df)</td>\n",
        "<td align=\"left\">pt(X.df)</td>\n",
        "<td align=\"left\">qt(X,df)</td>\n",
        "</tr>\n",
        "</tbody>\n",
        "</table>\n",
        "\n",
        "E talvez você prefira empregar a seguinte dica prática:\n",
        "\n",
        "**Dica prática:**\n",
        "\n",
        "\"d\" = **d**ensidade de probabilidade\n",
        "\"p\" = **p**robabilidade acumulada\n",
        "\"q\" = **q**uartis (probabilidade acumulada inversa)\n",
        "\"r\" = **r**andom values"
      ],
      "id": "375dcb97"
    },
    {
      "cell_type": "markdown",
      "metadata": {
        "id": "9d21d9c1"
      },
      "source": [
        "## Exemplo: Fila do Caixa"
      ],
      "id": "9d21d9c1"
    },
    {
      "cell_type": "markdown",
      "metadata": {
        "id": "c6c2857f"
      },
      "source": [
        "Suponha que o tempo médio de checkout de um caixa eletrônico é de 5 minutos.\n",
        "\n",
        "* Encontre a probabilidade do check-out de um cliente ser concluído em menos de dois minutos.\n",
        "\n",
        "A taxa de processamento do checkout é 1 sob o tempo médio de conclusão do checkout. Assim, são efetuados 1/5 check-outs por minuto, sendo essa a taxa a ser aplicada a função de probabilidade acumulada permite calcular $P( x \\le 2)$."
      ],
      "id": "c6c2857f"
    },
    {
      "cell_type": "code",
      "metadata": {
        "kernel": "R",
        "tags": [
          "report_cell"
        ],
        "id": "780559b3"
      },
      "source": [
        "pexp(2, rate=1/5)"
      ],
      "id": "780559b3",
      "execution_count": null,
      "outputs": []
    },
    {
      "cell_type": "markdown",
      "metadata": {
        "id": "91afc98c"
      },
      "source": [
        "* Encontre a probabilidade do check-out de um cliente ser concluído entre 4 e 6 min.\n",
        "\n",
        "Do mesmo modo você pode calcular $P( 4 \\le x \\le 6) =  P(  x \\le 6) - P(  x \\le 4)$."
      ],
      "id": "91afc98c"
    },
    {
      "cell_type": "code",
      "metadata": {
        "kernel": "R",
        "tags": [
          "report_cell"
        ],
        "id": "e04a9fe2"
      },
      "source": [
        "pexp(6, rate=1/5) - pexp(4, rate=1/5)"
      ],
      "id": "e04a9fe2",
      "execution_count": null,
      "outputs": []
    },
    {
      "cell_type": "markdown",
      "metadata": {
        "id": "8130563e"
      },
      "source": [
        "## Exemplo: Pacotes de Frutas Frescas"
      ],
      "id": "8130563e"
    },
    {
      "cell_type": "markdown",
      "metadata": {
        "id": "a31597ec"
      },
      "source": [
        "Suponha que uma empresa venda Pacotes de Frutas Frescas de 1 Kg. A medida não consegue ser exata pois as frutas não fornecem uma faixa de pesos contínua.\n",
        "\n",
        "* Qual a probabilidade de termos uma amostra de 10 pacotes com média de mais de 1kg?\n",
        "\n",
        "O 1Kg é obviamente uma medida média e tratando-se de uma amostras vamos empregar uma distribuição t-Student e a função de distribuição de probabilidade acumulada. O grau de liberdade é $n-1=10-1=9$. Você deve lembrar ainda que para calcular $P( x \\ge 1)$ precisamos empregar $1 - P(x \\le 1)$."
      ],
      "id": "a31597ec"
    },
    {
      "cell_type": "code",
      "metadata": {
        "kernel": "R",
        "tags": [
          "report_cell"
        ],
        "id": "87c437f2"
      },
      "source": [
        "1 - pt(1,df=9)"
      ],
      "id": "87c437f2",
      "execution_count": null,
      "outputs": []
    },
    {
      "cell_type": "markdown",
      "metadata": {
        "id": "c148143b"
      },
      "source": [
        "* Qual a probabilidade de termos uma amostra de 10 pacotes com peso entre 1.05 e 1.2?\n",
        "\n",
        "Do mesmo modo podemos obter:"
      ],
      "id": "c148143b"
    },
    {
      "cell_type": "code",
      "metadata": {
        "kernel": "R",
        "tags": [
          "report_cell"
        ],
        "id": "e304504a"
      },
      "source": [
        "pt(1.2,df=9) - pt(1.1,df=9)"
      ],
      "id": "e304504a",
      "execution_count": null,
      "outputs": []
    },
    {
      "cell_type": "markdown",
      "metadata": {
        "id": "3aa5f18d"
      },
      "source": [
        "* O que ocorre se aumentarmos a amostra neste caso? Aumenta a probabilidade?\n",
        "\n",
        "A curva de t-student tende a ser menos esparsa para valores de amostra maiores, sendo praticamente idêntica à distribuição normal para valores acima de 30 amostras. A probabilidade é portanto maior para um mesmo intervalo."
      ],
      "id": "3aa5f18d"
    },
    {
      "cell_type": "code",
      "metadata": {
        "kernel": "R",
        "tags": [
          "report_cell"
        ],
        "id": "1ecdd550"
      },
      "source": [
        "pt(1.2,df=99) - pt(1.1,df=99)"
      ],
      "id": "1ecdd550",
      "execution_count": null,
      "outputs": []
    },
    {
      "cell_type": "markdown",
      "metadata": {
        "id": "aabae08d"
      },
      "source": [
        "E você pode comparar a proximidade com distribuição normal."
      ],
      "id": "aabae08d"
    },
    {
      "cell_type": "code",
      "metadata": {
        "kernel": "R",
        "tags": [
          "report_cell"
        ],
        "id": "1e71c691"
      },
      "source": [
        "pnorm(1.2,sd=1) - pnorm(1.1,sd=1)"
      ],
      "id": "1e71c691",
      "execution_count": null,
      "outputs": []
    },
    {
      "cell_type": "markdown",
      "metadata": {
        "id": "aeccfd28"
      },
      "source": [
        "## Referências"
      ],
      "id": "aeccfd28"
    },
    {
      "cell_type": "markdown",
      "metadata": {
        "id": "206f3029"
      },
      "source": [
        "Navarro, Danielle, **Learning Statistics with R**, disponível em: https://learningstatisticswithr.com/ ( LSR version 0.6 (pdf) ). Acesso: 26/02/2021.\n",
        "Alternativamente em formato bookdown: https://learningstatisticswithr.com/book/ Acesso: 07/03/2021.\n",
        "\n",
        "Freire, Sergio Miranda. **Bioestatística Básica**. disponível em: http://www.lampada.uerj.br/arquivosdb/_book/bioestatisticaBasica.html. Acesso: 10/04/2021."
      ],
      "id": "206f3029"
    }
  ]
}