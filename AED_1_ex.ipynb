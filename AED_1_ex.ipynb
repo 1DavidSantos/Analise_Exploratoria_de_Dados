{
  "nbformat": 4,
  "nbformat_minor": 0,
  "metadata": {
    "colab": {
      "name": "AED_1_ex.ipynb",
      "provenance": [],
      "collapsed_sections": [
        "ef42e2c3"
      ],
      "authorship_tag": "ABX9TyMEcTQPEUIABlnJNSt2WXpa",
      "include_colab_link": true
    },
    "kernelspec": {
      "name": "ir",
      "display_name": "R"
    },
    "language_info": {
      "name": "R"
    }
  },
  "cells": [
    {
      "cell_type": "markdown",
      "metadata": {
        "id": "view-in-github",
        "colab_type": "text"
      },
      "source": [
        "<a href=\"https://colab.research.google.com/github/Rogerio-mack/Analise_Exploratoria_de_Dados/blob/main/AED_1_ex.ipynb\" target=\"_parent\"><img src=\"https://colab.research.google.com/assets/colab-badge.svg\" alt=\"Open In Colab\"/></a>"
      ]
    },
    {
      "cell_type": "markdown",
      "metadata": {
        "id": "40b90843"
      },
      "source": [
        "<img src=\"http://meusite.mackenzie.br/rogerio/mackenzie_logo/UPM.2_horizontal_vermelho.jpg\"  width=300, align=\"right\">\n",
        "<br>\n",
        "<br>\n",
        "<br>\n",
        "<br>\n",
        "<br>\n",
        "\n",
        "# Introdução à Análise Exploratória e os Ambiente R\n",
        "---"
      ]
    },
    {
      "cell_type": "markdown",
      "metadata": {
        "id": "7QzySIEfNJHb"
      },
      "source": [
        "Aqui você vai fazer uma primeira Análise Exploratória de Dados empregando o Google Trends que já traz os dados organizados em informações para você."
      ]
    },
    {
      "cell_type": "markdown",
      "metadata": {
        "id": "-6nZ4rzxNcMK"
      },
      "source": [
        "# Exercício."
      ]
    },
    {
      "cell_type": "markdown",
      "metadata": {
        "id": "sEdNnyQE_1Dc"
      },
      "source": [
        "Empregue o Google Trends https://trends.google.com.br/trends/?geo=BR para analisar a tendência positiva (procura maior) e negativa (procura menor) de diferentes produtos ou serviços após o início da pandemia de Covid no Brasil (2020). Organize a sua Análise do seguinte modo:\n",
        "\n",
        "1.       Contexto.\n",
        "\n",
        "Indique o período, região (pode estar restrita ou não ao território nacional) e produtos/serviços analisados. O trabalho deve analisar no mínimo 2 produtos, um em queda e outro em alta. Justifique as suas escolhas (e aqui você pode empregar os resultados da análise).\n",
        "\n",
        "* Período:\n",
        "* Produto/Serviço em alta:\n",
        "* Produto/Serviço em baixa:\n",
        "* Justificativa:\n",
        "\n",
        "2.       Análise.\n",
        "\n",
        "Apresente os gráficos produzidos para cada produto/serviço. Lembre-se que a análise deve relacionar os produtos ao cenário de Pandemia. Apresente sua análise.\n",
        "\n",
        "* Gráfico Produto/Serviço em alta:\n",
        "* Gráfico Produto/Serviço em baixa:\n",
        "* Análise:\n",
        "\n",
        "3.       Conclusão.\n",
        "\n",
        "Apresente suas conclusões e explique como você entende que esses dados poderiam ser empregados para a tomada de decisões por uma empresa envolvida nesses produtos/serviços.\n",
        "\n",
        "* Conclusão:\n",
        "\n",
        " \n",
        "Entregue sua Análise em 2 páginas formato .pdf.\n",
        "\n"
      ]
    },
    {
      "cell_type": "markdown",
      "metadata": {
        "id": "SAi4fC_aRGkq"
      },
      "source": [
        "# Resposta\n"
      ]
    },
    {
      "cell_type": "markdown",
      "metadata": {
        "id": "0GCvHdxvRL3h"
      },
      "source": [
        "## 1. Contexto.\n",
        "\n",
        "Aqui analisamos as tendências de busca por hóteis e notebooks no Brasil a partir do início da pandemia de Covid-19 em meados de 2020.\n",
        "\n",
        "* Período: **01/01/2020 a 26/05/2020**\n",
        "É importante um intervalo de datas que envolva antes e após o início da pandemia.\n",
        "\n",
        "* Produto/Serviço em alta: Notebooks\n",
        "\n",
        "* Produto/Serviço em baixa: Hotéis\n",
        "\n",
        "* Justificativa: O aumento da procura de notebooks se justifica pela adoção do home office em muitas empresas levando à busca de equipamentos para o trabalho em casa. A procura de hotéis caem com as restrições de mobilidade e lockdown impostas pela pandemia.\n",
        "\n",
        "## 2. Análise.\n",
        "\n",
        "Apresente os gráficos produzidos para cada produto/serviço. Lembre-se que a análise deve relacionar os produtos ao cenário de Pandemia. Apresente sua análise.\n",
        "\n",
        "* Gráfico Produto/Serviço em alta: Notebook\n",
        "<br>\n",
        "\n",
        "<img src=\"https://github.com/Rogerio-mack/Analise_Exploratoria_de_Dados/blob/main/figuras/GoogleTrends4b.PNG?raw=true\"  width=800, align=\"center\">\n",
        "<br>\n",
        "<br>\n",
        "\n",
        "* Gráfico Produto/Serviço em baixa: Hotéis\n",
        "\n",
        "<br>\n",
        "\n",
        "<img src=\"https://github.com/Rogerio-mack/Analise_Exploratoria_de_Dados/blob/main/figuras/GoogleTrends4a.PNG?raw=true\"  width=800, align=\"center\">\n",
        "<br>\n",
        "<br>\n",
        "\n",
        "\n",
        "* Análise: Podemos observar no gráfico que tanto hotéis como notebooks apresentam um patamar de buscas diferente quando comparamos as quantidades de busca antes e depois do início da pandemia. A busca por hoteis tem uma queda bem mais acentuada e estabiliza em patamares com cerca de 30% da quantidade de buscas anteriores. A alta pelas buscas de notebooks é mais gradual mas chega a cerca de 100% (dobra) em poucos meses (de fevereido a maio).\n",
        "\n",
        "## 3. Conclusão.\n",
        "\n",
        "Com a Covid, o aumento da procura de notebooks se justifica pela busca de equipamentos para o trabalho em casa e a queda na busca por hotéis caem com as restrições de viagem e lockdown impostas. \n",
        "\n",
        "Embora o consumo desses produtos/serviços não possa ser exatamente inferido pelo número de buscas na internet é bastante razoável (provável) que as tendências de busca venham a refletir o comportamento dos consumidores. Desse modo essas tendências de busca podem ser empregadas para a tomada de decisões como intensificar a propaganda de notebooks ou lançar um novo notebooks no mercado aproveitando a alta, ou dar férias coletivas ou ainda iniciar uma reforma em um hotel que espera-se baixa ocupação nos próximos meses. "
      ]
    }
  ]
}