{
  "nbformat": 4,
  "nbformat_minor": 0,
  "metadata": {
    "colab": {
      "name": "AED_2_ex_solucao.ipynb",
      "provenance": [],
      "authorship_tag": "ABX9TyNeHc1WWpiUqjtw3G/bpn9i",
      "include_colab_link": true
    },
    "kernelspec": {
      "name": "ir",
      "display_name": "R"
    },
    "language_info": {
      "name": "R"
    }
  },
  "cells": [
    {
      "cell_type": "markdown",
      "metadata": {
        "id": "view-in-github",
        "colab_type": "text"
      },
      "source": [
        "<a href=\"https://colab.research.google.com/github/Rogerio-mack/Analise_Exploratoria_de_Dados/blob/main/AED_2_ex_solucao.ipynb\" target=\"_parent\"><img src=\"https://colab.research.google.com/assets/colab-badge.svg\" alt=\"Open In Colab\"/></a>"
      ]
    },
    {
      "cell_type": "markdown",
      "metadata": {
        "id": "eVOmaNaGmcfP"
      },
      "source": [
        "<img src=\"http://meusite.mackenzie.br/rogerio/mackenzie_logo/UPM.2_horizontal_vermelho.jpg\"  width=300, align=\"right\">\n",
        "<br>\n",
        "<br>\n",
        "<br>\n",
        "<br>\n",
        "<br>"
      ]
    },
    {
      "cell_type": "markdown",
      "metadata": {
        "id": "sIMlkw_fmcfX"
      },
      "source": [
        "# Programação em R\n",
        "---"
      ]
    },
    {
      "cell_type": "markdown",
      "metadata": {
        "id": "Ee-OUv_QmcfY"
      },
      "source": [
        "Aqui você vai fazer algumas explorações de dados fazendo seleções e empregando o que você já aprendeu de R."
      ]
    },
    {
      "cell_type": "markdown",
      "metadata": {
        "id": "I8swFGMhmcfY"
      },
      "source": [
        "# Exercícios \n",
        "\n",
        "Após fazer os exercícios **responda o questionário correspondente no Moodle**."
      ]
    },
    {
      "cell_type": "markdown",
      "metadata": {
        "id": "a2DItQ6GmcfY"
      },
      "source": [
        "# **CASE** Seguros\n",
        "\n",
        "Considere a seguinte base de dados de seguros:\n",
        "\n",
        "http://meusite.mackenzie.br/rogerio/data_load/insurance.csv\n",
        "\n",
        "e responda as perguntas a seguir."
      ]
    },
    {
      "cell_type": "markdown",
      "metadata": {
        "id": "W5cnIf5tmcfa"
      },
      "source": [
        "# Exercício 0\n",
        "Antes de começar acesse os dados"
      ]
    },
    {
      "cell_type": "code",
      "metadata": {
        "colab": {
          "base_uri": "https://localhost:8080/",
          "height": 283
        },
        "id": "FLfuWvk9mz9b",
        "outputId": "9ab04927-62c9-4605-b29a-4d682603948c"
      },
      "source": [
        "df = read.csv('http://meusite.mackenzie.br/rogerio/data_load/insurance.csv')\n",
        "head(df)"
      ],
      "execution_count": null,
      "outputs": [
        {
          "output_type": "display_data",
          "data": {
            "text/plain": [
              "  age sex    bmi    children smoker region    charges  \n",
              "1 19  female 27.900 0        yes    southwest 16884.924\n",
              "2 18  male   33.770 1        no     southeast  1725.552\n",
              "3 28  male   33.000 3        no     southeast  4449.462\n",
              "4 33  male   22.705 0        no     northwest 21984.471\n",
              "5 32  male   28.880 0        no     northwest  3866.855\n",
              "6 31  female 25.740 0        no     southeast  3756.622"
            ],
            "text/latex": "A data.frame: 6 × 7\n\\begin{tabular}{r|lllllll}\n  & age & sex & bmi & children & smoker & region & charges\\\\\n  & <int> & <chr> & <dbl> & <int> & <chr> & <chr> & <dbl>\\\\\n\\hline\n\t1 & 19 & female & 27.900 & 0 & yes & southwest & 16884.924\\\\\n\t2 & 18 & male   & 33.770 & 1 & no  & southeast &  1725.552\\\\\n\t3 & 28 & male   & 33.000 & 3 & no  & southeast &  4449.462\\\\\n\t4 & 33 & male   & 22.705 & 0 & no  & northwest & 21984.471\\\\\n\t5 & 32 & male   & 28.880 & 0 & no  & northwest &  3866.855\\\\\n\t6 & 31 & female & 25.740 & 0 & no  & southeast &  3756.622\\\\\n\\end{tabular}\n",
            "text/markdown": "\nA data.frame: 6 × 7\n\n| <!--/--> | age &lt;int&gt; | sex &lt;chr&gt; | bmi &lt;dbl&gt; | children &lt;int&gt; | smoker &lt;chr&gt; | region &lt;chr&gt; | charges &lt;dbl&gt; |\n|---|---|---|---|---|---|---|---|\n| 1 | 19 | female | 27.900 | 0 | yes | southwest | 16884.924 |\n| 2 | 18 | male   | 33.770 | 1 | no  | southeast |  1725.552 |\n| 3 | 28 | male   | 33.000 | 3 | no  | southeast |  4449.462 |\n| 4 | 33 | male   | 22.705 | 0 | no  | northwest | 21984.471 |\n| 5 | 32 | male   | 28.880 | 0 | no  | northwest |  3866.855 |\n| 6 | 31 | female | 25.740 | 0 | no  | southeast |  3756.622 |\n\n",
            "text/html": [
              "<table class=\"dataframe\">\n",
              "<caption>A data.frame: 6 × 7</caption>\n",
              "<thead>\n",
              "\t<tr><th></th><th scope=col>age</th><th scope=col>sex</th><th scope=col>bmi</th><th scope=col>children</th><th scope=col>smoker</th><th scope=col>region</th><th scope=col>charges</th></tr>\n",
              "\t<tr><th></th><th scope=col>&lt;int&gt;</th><th scope=col>&lt;chr&gt;</th><th scope=col>&lt;dbl&gt;</th><th scope=col>&lt;int&gt;</th><th scope=col>&lt;chr&gt;</th><th scope=col>&lt;chr&gt;</th><th scope=col>&lt;dbl&gt;</th></tr>\n",
              "</thead>\n",
              "<tbody>\n",
              "\t<tr><th scope=row>1</th><td>19</td><td>female</td><td>27.900</td><td>0</td><td>yes</td><td>southwest</td><td>16884.924</td></tr>\n",
              "\t<tr><th scope=row>2</th><td>18</td><td>male  </td><td>33.770</td><td>1</td><td>no </td><td>southeast</td><td> 1725.552</td></tr>\n",
              "\t<tr><th scope=row>3</th><td>28</td><td>male  </td><td>33.000</td><td>3</td><td>no </td><td>southeast</td><td> 4449.462</td></tr>\n",
              "\t<tr><th scope=row>4</th><td>33</td><td>male  </td><td>22.705</td><td>0</td><td>no </td><td>northwest</td><td>21984.471</td></tr>\n",
              "\t<tr><th scope=row>5</th><td>32</td><td>male  </td><td>28.880</td><td>0</td><td>no </td><td>northwest</td><td> 3866.855</td></tr>\n",
              "\t<tr><th scope=row>6</th><td>31</td><td>female</td><td>25.740</td><td>0</td><td>no </td><td>southeast</td><td> 3756.622</td></tr>\n",
              "</tbody>\n",
              "</table>\n"
            ]
          },
          "metadata": {}
        }
      ]
    },
    {
      "cell_type": "markdown",
      "metadata": {
        "id": "2_WNgl5MnMt3"
      },
      "source": [
        "# Exercicio 1\n",
        "Qual a quantidade de registros da base de dados? "
      ]
    },
    {
      "cell_type": "code",
      "metadata": {
        "colab": {
          "base_uri": "https://localhost:8080/",
          "height": 34
        },
        "id": "jkzdlbzinX-v",
        "outputId": "61a51463-351a-425c-c486-baf453e4ea43"
      },
      "source": [
        "nrow(df)"
      ],
      "execution_count": null,
      "outputs": [
        {
          "output_type": "display_data",
          "data": {
            "text/plain": [
              "[1] 1338"
            ],
            "text/latex": "1338",
            "text/markdown": "1338",
            "text/html": [
              "1338"
            ]
          },
          "metadata": {}
        }
      ]
    },
    {
      "cell_type": "markdown",
      "metadata": {
        "id": "_Ld3OYwzoGaP"
      },
      "source": [
        "# Exercicio 2\n",
        "Quais são os atributos numéricos e categóricos (assumem valores não numéricos)  na base? Quantos há de cada?  "
      ]
    },
    {
      "cell_type": "code",
      "metadata": {
        "colab": {
          "base_uri": "https://localhost:8080/",
          "height": 283
        },
        "id": "-1tEFwIGonCC",
        "outputId": "c9f29f8d-064a-41cc-d13b-9d6027cd233f"
      },
      "source": [
        "head(df)"
      ],
      "execution_count": null,
      "outputs": [
        {
          "output_type": "display_data",
          "data": {
            "text/plain": [
              "  age sex    bmi    children smoker region    charges  \n",
              "1 19  female 27.900 0        yes    southwest 16884.924\n",
              "2 18  male   33.770 1        no     southeast  1725.552\n",
              "3 28  male   33.000 3        no     southeast  4449.462\n",
              "4 33  male   22.705 0        no     northwest 21984.471\n",
              "5 32  male   28.880 0        no     northwest  3866.855\n",
              "6 31  female 25.740 0        no     southeast  3756.622"
            ],
            "text/latex": "A data.frame: 6 × 7\n\\begin{tabular}{r|lllllll}\n  & age & sex & bmi & children & smoker & region & charges\\\\\n  & <int> & <chr> & <dbl> & <int> & <chr> & <chr> & <dbl>\\\\\n\\hline\n\t1 & 19 & female & 27.900 & 0 & yes & southwest & 16884.924\\\\\n\t2 & 18 & male   & 33.770 & 1 & no  & southeast &  1725.552\\\\\n\t3 & 28 & male   & 33.000 & 3 & no  & southeast &  4449.462\\\\\n\t4 & 33 & male   & 22.705 & 0 & no  & northwest & 21984.471\\\\\n\t5 & 32 & male   & 28.880 & 0 & no  & northwest &  3866.855\\\\\n\t6 & 31 & female & 25.740 & 0 & no  & southeast &  3756.622\\\\\n\\end{tabular}\n",
            "text/markdown": "\nA data.frame: 6 × 7\n\n| <!--/--> | age &lt;int&gt; | sex &lt;chr&gt; | bmi &lt;dbl&gt; | children &lt;int&gt; | smoker &lt;chr&gt; | region &lt;chr&gt; | charges &lt;dbl&gt; |\n|---|---|---|---|---|---|---|---|\n| 1 | 19 | female | 27.900 | 0 | yes | southwest | 16884.924 |\n| 2 | 18 | male   | 33.770 | 1 | no  | southeast |  1725.552 |\n| 3 | 28 | male   | 33.000 | 3 | no  | southeast |  4449.462 |\n| 4 | 33 | male   | 22.705 | 0 | no  | northwest | 21984.471 |\n| 5 | 32 | male   | 28.880 | 0 | no  | northwest |  3866.855 |\n| 6 | 31 | female | 25.740 | 0 | no  | southeast |  3756.622 |\n\n",
            "text/html": [
              "<table class=\"dataframe\">\n",
              "<caption>A data.frame: 6 × 7</caption>\n",
              "<thead>\n",
              "\t<tr><th></th><th scope=col>age</th><th scope=col>sex</th><th scope=col>bmi</th><th scope=col>children</th><th scope=col>smoker</th><th scope=col>region</th><th scope=col>charges</th></tr>\n",
              "\t<tr><th></th><th scope=col>&lt;int&gt;</th><th scope=col>&lt;chr&gt;</th><th scope=col>&lt;dbl&gt;</th><th scope=col>&lt;int&gt;</th><th scope=col>&lt;chr&gt;</th><th scope=col>&lt;chr&gt;</th><th scope=col>&lt;dbl&gt;</th></tr>\n",
              "</thead>\n",
              "<tbody>\n",
              "\t<tr><th scope=row>1</th><td>19</td><td>female</td><td>27.900</td><td>0</td><td>yes</td><td>southwest</td><td>16884.924</td></tr>\n",
              "\t<tr><th scope=row>2</th><td>18</td><td>male  </td><td>33.770</td><td>1</td><td>no </td><td>southeast</td><td> 1725.552</td></tr>\n",
              "\t<tr><th scope=row>3</th><td>28</td><td>male  </td><td>33.000</td><td>3</td><td>no </td><td>southeast</td><td> 4449.462</td></tr>\n",
              "\t<tr><th scope=row>4</th><td>33</td><td>male  </td><td>22.705</td><td>0</td><td>no </td><td>northwest</td><td>21984.471</td></tr>\n",
              "\t<tr><th scope=row>5</th><td>32</td><td>male  </td><td>28.880</td><td>0</td><td>no </td><td>northwest</td><td> 3866.855</td></tr>\n",
              "\t<tr><th scope=row>6</th><td>31</td><td>female</td><td>25.740</td><td>0</td><td>no </td><td>southeast</td><td> 3756.622</td></tr>\n",
              "</tbody>\n",
              "</table>\n"
            ]
          },
          "metadata": {}
        }
      ]
    },
    {
      "cell_type": "code",
      "metadata": {
        "colab": {
          "base_uri": "https://localhost:8080/"
        },
        "id": "r_jHtLkyotz_",
        "outputId": "d609cad9-c903-4fb2-ece9-b4b3ea3a7d46"
      },
      "source": [
        "str(df)"
      ],
      "execution_count": null,
      "outputs": [
        {
          "output_type": "stream",
          "name": "stdout",
          "text": [
            "'data.frame':\t1338 obs. of  7 variables:\n",
            " $ age     : int  19 18 28 33 32 31 46 37 37 60 ...\n",
            " $ sex     : chr  \"female\" \"male\" \"male\" \"male\" ...\n",
            " $ bmi     : num  27.9 33.8 33 22.7 28.9 ...\n",
            " $ children: int  0 1 3 0 0 0 1 3 2 0 ...\n",
            " $ smoker  : chr  \"yes\" \"no\" \"no\" \"no\" ...\n",
            " $ region  : chr  \"southwest\" \"southeast\" \"southeast\" \"northwest\" ...\n",
            " $ charges : num  16885 1726 4449 21984 3867 ...\n"
          ]
        }
      ]
    },
    {
      "cell_type": "code",
      "metadata": {
        "colab": {
          "base_uri": "https://localhost:8080/",
          "height": 51
        },
        "id": "eHDfsJsdpm4t",
        "outputId": "d22bc37f-ea62-4318-f961-2dc34a8c2dac"
      },
      "source": [
        "sapply(df, class)"
      ],
      "execution_count": null,
      "outputs": [
        {
          "output_type": "display_data",
          "data": {
            "text/plain": [
              "        age         sex         bmi    children      smoker      region \n",
              "  \"integer\" \"character\"   \"numeric\"   \"integer\" \"character\" \"character\" \n",
              "    charges \n",
              "  \"numeric\" "
            ],
            "text/latex": "\\begin{description*}\n\\item[age] 'integer'\n\\item[sex] 'character'\n\\item[bmi] 'numeric'\n\\item[children] 'integer'\n\\item[smoker] 'character'\n\\item[region] 'character'\n\\item[charges] 'numeric'\n\\end{description*}\n",
            "text/markdown": "age\n:   'integer'sex\n:   'character'bmi\n:   'numeric'children\n:   'integer'smoker\n:   'character'region\n:   'character'charges\n:   'numeric'\n\n",
            "text/html": [
              "<style>\n",
              ".dl-inline {width: auto; margin:0; padding: 0}\n",
              ".dl-inline>dt, .dl-inline>dd {float: none; width: auto; display: inline-block}\n",
              ".dl-inline>dt::after {content: \":\\0020\"; padding-right: .5ex}\n",
              ".dl-inline>dt:not(:first-of-type) {padding-left: .5ex}\n",
              "</style><dl class=dl-inline><dt>age</dt><dd>'integer'</dd><dt>sex</dt><dd>'character'</dd><dt>bmi</dt><dd>'numeric'</dd><dt>children</dt><dd>'integer'</dd><dt>smoker</dt><dd>'character'</dd><dt>region</dt><dd>'character'</dd><dt>charges</dt><dd>'numeric'</dd></dl>\n"
            ]
          },
          "metadata": {}
        }
      ]
    },
    {
      "cell_type": "markdown",
      "metadata": {
        "id": "F8IRkeYrqNCz"
      },
      "source": [
        "# Exercicio 3\n",
        "Quantas regiões estão presentes na base de dados? \n",
        "\n",
        "Dica: empregue `table( )` ou `unique( )`"
      ]
    },
    {
      "cell_type": "code",
      "metadata": {
        "colab": {
          "base_uri": "https://localhost:8080/",
          "height": 68
        },
        "id": "uwsRC-CNqeBz",
        "outputId": "58f36a5f-1afc-4a82-eae9-9d492b473ecb"
      },
      "source": [
        "table( df$region )"
      ],
      "execution_count": null,
      "outputs": [
        {
          "output_type": "display_data",
          "data": {
            "text/plain": [
              "\n",
              "northeast northwest southeast southwest \n",
              "      324       325       364       325 "
            ]
          },
          "metadata": {}
        }
      ]
    },
    {
      "cell_type": "code",
      "metadata": {
        "colab": {
          "base_uri": "https://localhost:8080/",
          "height": 34
        },
        "id": "MLcaG9jDqzS0",
        "outputId": "97c484ec-6733-4c44-aeb2-5ca57e1d75ff"
      },
      "source": [
        "unique( df$region )"
      ],
      "execution_count": null,
      "outputs": [
        {
          "output_type": "display_data",
          "data": {
            "text/plain": [
              "[1] \"southwest\" \"southeast\" \"northwest\" \"northeast\""
            ],
            "text/latex": "\\begin{enumerate*}\n\\item 'southwest'\n\\item 'southeast'\n\\item 'northwest'\n\\item 'northeast'\n\\end{enumerate*}\n",
            "text/markdown": "1. 'southwest'\n2. 'southeast'\n3. 'northwest'\n4. 'northeast'\n\n\n",
            "text/html": [
              "<style>\n",
              ".list-inline {list-style: none; margin:0; padding: 0}\n",
              ".list-inline>li {display: inline-block}\n",
              ".list-inline>li:not(:last-child)::after {content: \"\\00b7\"; padding: 0 .5ex}\n",
              "</style>\n",
              "<ol class=list-inline><li>'southwest'</li><li>'southeast'</li><li>'northwest'</li><li>'northeast'</li></ol>\n"
            ]
          },
          "metadata": {}
        }
      ]
    },
    {
      "cell_type": "markdown",
      "metadata": {
        "id": "q7tEVO3SrUWt"
      },
      "source": [
        "# Exercício 4\n",
        "\n",
        "Empregue `summary()` para obter estatísticas sumarizadas dos dados. Qual a média de idade dos segurados?"
      ]
    },
    {
      "cell_type": "code",
      "metadata": {
        "colab": {
          "base_uri": "https://localhost:8080/",
          "height": 255
        },
        "id": "D-cmFFWorgjk",
        "outputId": "8133c762-0233-4002-d91e-4b2886390816"
      },
      "source": [
        "summary(df)"
      ],
      "execution_count": null,
      "outputs": [
        {
          "output_type": "display_data",
          "data": {
            "text/plain": [
              "      age            sex                 bmi           children    \n",
              " Min.   :18.00   Length:1338        Min.   :15.96   Min.   :0.000  \n",
              " 1st Qu.:27.00   Class :character   1st Qu.:26.30   1st Qu.:0.000  \n",
              " Median :39.00   Mode  :character   Median :30.40   Median :1.000  \n",
              " Mean   :39.21                      Mean   :30.66   Mean   :1.095  \n",
              " 3rd Qu.:51.00                      3rd Qu.:34.69   3rd Qu.:2.000  \n",
              " Max.   :64.00                      Max.   :53.13   Max.   :5.000  \n",
              "    smoker             region             charges     \n",
              " Length:1338        Length:1338        Min.   : 1122  \n",
              " Class :character   Class :character   1st Qu.: 4740  \n",
              " Mode  :character   Mode  :character   Median : 9382  \n",
              "                                       Mean   :13270  \n",
              "                                       3rd Qu.:16640  \n",
              "                                       Max.   :63770  "
            ]
          },
          "metadata": {}
        }
      ]
    },
    {
      "cell_type": "markdown",
      "metadata": {
        "id": "m44WNwUQsBby"
      },
      "source": [
        "# Exercício 5\n",
        "\n",
        "Empregue `mean()` para a média das cobranças (charges) dos segurados."
      ]
    },
    {
      "cell_type": "code",
      "metadata": {
        "colab": {
          "base_uri": "https://localhost:8080/",
          "height": 34
        },
        "id": "Rn1PYPnIsBby",
        "outputId": "7a1b03bb-b852-403e-a9c4-f4e3a67f6692"
      },
      "source": [
        "mean(df$charges)"
      ],
      "execution_count": null,
      "outputs": [
        {
          "output_type": "display_data",
          "data": {
            "text/plain": [
              "[1] 13270.42"
            ],
            "text/latex": "13270.4222651413",
            "text/markdown": "13270.4222651413",
            "text/html": [
              "13270.4222651413"
            ]
          },
          "metadata": {}
        }
      ]
    },
    {
      "cell_type": "markdown",
      "metadata": {
        "id": "r-oG2OR3mcfb"
      },
      "source": [
        "# Exercício 6\n",
        "Qual a quantidade de segurados fumantes?"
      ]
    },
    {
      "cell_type": "code",
      "metadata": {
        "colab": {
          "base_uri": "https://localhost:8080/",
          "height": 34
        },
        "id": "WB8FN860s9EE",
        "outputId": "55bc505d-05e0-4ad6-9706-3e5a81b1f0ae"
      },
      "source": [
        "nrow( df[ df$smoker == 'yes', ] )"
      ],
      "execution_count": null,
      "outputs": [
        {
          "output_type": "display_data",
          "data": {
            "text/plain": [
              "[1] 274"
            ],
            "text/latex": "274",
            "text/markdown": "274",
            "text/html": [
              "274"
            ]
          },
          "metadata": {}
        }
      ]
    },
    {
      "cell_type": "code",
      "metadata": {
        "colab": {
          "base_uri": "https://localhost:8080/",
          "height": 68
        },
        "id": "kaYkSqqdtBS8",
        "outputId": "ba7253fa-0a3d-4a5b-88c1-b0ecaedc990c"
      },
      "source": [
        "table( df$smoker )"
      ],
      "execution_count": null,
      "outputs": [
        {
          "output_type": "display_data",
          "data": {
            "text/plain": [
              "\n",
              "  no  yes \n",
              "1064  274 "
            ]
          },
          "metadata": {}
        }
      ]
    },
    {
      "cell_type": "markdown",
      "metadata": {
        "id": "_2fuwrVCtjDJ"
      },
      "source": [
        "# Exercício 7\n",
        "Qual o percentual de segurados fumantes?"
      ]
    },
    {
      "cell_type": "code",
      "metadata": {
        "colab": {
          "base_uri": "https://localhost:8080/",
          "height": 34
        },
        "id": "v6CK6sVYmcfc",
        "outputId": "669842d2-a854-4060-cbb3-6d309c4a8211"
      },
      "source": [
        "nrow( df[ df$smoker == 'yes', ] ) / nrow( df )"
      ],
      "execution_count": null,
      "outputs": [
        {
          "output_type": "display_data",
          "data": {
            "text/plain": [
              "[1] 0.2047833"
            ],
            "text/latex": "0.204783258594918",
            "text/markdown": "0.204783258594918",
            "text/html": [
              "0.204783258594918"
            ]
          },
          "metadata": {}
        }
      ]
    },
    {
      "cell_type": "markdown",
      "metadata": {
        "id": "J2VDx0F2mcfc"
      },
      "source": [
        "# Exercício 8\n",
        "Qual o percentual de segurados fumantes do sexo feminino?"
      ]
    },
    {
      "cell_type": "code",
      "metadata": {
        "colab": {
          "base_uri": "https://localhost:8080/",
          "height": 34
        },
        "id": "Ba7S-bGgmcfc",
        "outputId": "54952b32-37c3-47dd-dbbe-23e995f60379"
      },
      "source": [
        "nrow( df[ df$smoker == 'yes' & df$sex == 'female', ] ) / nrow( df )\n",
        "\n"
      ],
      "execution_count": null,
      "outputs": [
        {
          "output_type": "display_data",
          "data": {
            "text/plain": [
              "[1] 0.08594918"
            ],
            "text/latex": "0.085949177877429",
            "text/markdown": "0.085949177877429",
            "text/html": [
              "0.085949177877429"
            ]
          },
          "metadata": {}
        }
      ]
    },
    {
      "cell_type": "markdown",
      "metadata": {
        "id": "WJ-x-Ty1mcfc"
      },
      "source": [
        "# Exercício 9\n",
        "Qual a média de despesas dos segurados com menos de 21 anos?"
      ]
    },
    {
      "cell_type": "code",
      "metadata": {
        "colab": {
          "base_uri": "https://localhost:8080/",
          "height": 34
        },
        "id": "jfNsDoL1mcfc",
        "outputId": "b1e265fd-d0fb-4013-af32-8877979f6bc9"
      },
      "source": [
        "mean( df[ df$age < 21 , ]$charges )  \n"
      ],
      "execution_count": null,
      "outputs": [
        {
          "output_type": "display_data",
          "data": {
            "text/plain": [
              "[1] 8713.482"
            ],
            "text/latex": "8713.48241258434",
            "text/markdown": "8713.48241258434",
            "text/html": [
              "8713.48241258434"
            ]
          },
          "metadata": {}
        }
      ]
    },
    {
      "cell_type": "markdown",
      "metadata": {
        "id": "XDwg68b9mcfc"
      },
      "source": [
        "# Exercício 10 \n",
        "Qual o percentual de cobranças (com relação ao total da base) para seguradas com idade < 25 anos? "
      ]
    },
    {
      "cell_type": "code",
      "metadata": {
        "colab": {
          "base_uri": "https://localhost:8080/",
          "height": 34
        },
        "id": "ELtQLu39mcfc",
        "outputId": "4371643d-e091-4905-cc05-9eff1eee5298"
      },
      "source": [
        "sum( df[ (df$sex == 'female') & (df$age < 25) , ]$charges ) / sum( df$charges )"
      ],
      "execution_count": null,
      "outputs": [
        {
          "output_type": "display_data",
          "data": {
            "text/plain": [
              "[1] 0.06512881"
            ],
            "text/latex": "0.0651288125728236",
            "text/markdown": "0.0651288125728236",
            "text/html": [
              "0.0651288125728236"
            ]
          },
          "metadata": {}
        }
      ]
    }
  ]
}