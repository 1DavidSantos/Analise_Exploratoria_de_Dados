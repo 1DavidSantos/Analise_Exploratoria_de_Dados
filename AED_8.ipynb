{
  "nbformat": 4,
  "nbformat_minor": 0,
  "metadata": {
    "colab": {
      "name": "AED_8.ipynb",
      "provenance": [],
      "toc_visible": true,
      "authorship_tag": "ABX9TyMXKprwPE21TTkEcNmPtamj",
      "include_colab_link": true
    },
    "kernelspec": {
      "name": "ir",
      "display_name": "R"
    },
    "language_info": {
      "name": "R"
    }
  },
  "cells": [
    {
      "cell_type": "markdown",
      "metadata": {
        "id": "view-in-github",
        "colab_type": "text"
      },
      "source": [
        "<a href=\"https://colab.research.google.com/github/Rogerio-mack/Analise_Exploratoria_de_Dados/blob/main/AED_8.ipynb\" target=\"_parent\"><img src=\"https://colab.research.google.com/assets/colab-badge.svg\" alt=\"Open In Colab\"/></a>"
      ]
    },
    {
      "cell_type": "markdown",
      "metadata": {
        "id": "40b90843"
      },
      "source": [
        "<img src=\"http://meusite.mackenzie.br/rogerio/mackenzie_logo/UPM.2_horizontal_vermelho.jpg\"  width=300, align=\"right\">\n",
        "<br>\n",
        "<br>\n",
        "<br>\n",
        "<br>\n",
        "<br>\n",
        "\n",
        "# Probabilidade Condicionada, Bayes e Informação Mútua\n",
        "---"
      ]
    },
    {
      "cell_type": "markdown",
      "metadata": {
        "id": "sEdNnyQE_1Dc"
      },
      "source": [
        "Nesta aula você aprenderá:\n",
        "\n",
        "* Como empregar com probabilidades condicionadas, além de revisitar alguns conceitos básicos de probabilidade\n",
        "* O que é e como empregar o Teorema de Bayes\n",
        "* Como obter e empregar a informação mútua para a seleção de atributos (*feature selection*) para Análise de Dados e para problemas de Aprendizado de Máquina"
      ]
    },
    {
      "cell_type": "markdown",
      "metadata": {
        "id": "HHalTf1ndDGD"
      },
      "source": [
        "# Introdução\n",
        "\n",
        "Nesta última aula você vai revisitar alguns conceitos de probabilidade para que possa fazer cálculos de probabilidade condicionadas e entender um importante teorema de probabilidades que é o teorema de Bayes. O teorema de Bayes constitui a base de toda uma abordagem estatística chamada estatística Basesiana (para diferenciar da estatística frequentista) que permite atualizarmos as probabilidades à medida que aprendemos ou adicionamos novas informações sobre os dados. \n",
        "\n",
        "Você também vai aprender aqui um pouco sobre como podemos medir a informação dos dados (conceito de Entropia) e como podemos determinar o quanto o valor de um atributo pode nos dizer sobre o valor de um outro. Essa medida, que chamaremos de informação mútua, está na base do que chamamos em aprendizado de máquina de *feature selection*, e pode fornecer vários insights importantes sobre os dados. "
      ]
    },
    {
      "cell_type": "markdown",
      "metadata": {
        "id": "bdnhqAUh2B5K"
      },
      "source": [
        "# Revendo os Conceitos de Probabilidade\n",
        "\n",
        "Na teoria da probabilidade o conceito de **espaço amostral** corresponde ao conjunto de todos os possíveis resultados de um experimento. Por exemplo, os código abaixo produzidos com o pacote `prob` do R, geram respectivamente os espaços amostrias de 3 lançamentos de moeda (8), 2 lançamentos de dados (36) e a escolha de uma carta em um baralho (54)."
      ]
    },
    {
      "cell_type": "code",
      "metadata": {
        "id": "D6ylrnnryxJF"
      },
      "source": [
        "install.packages('prob')\n",
        "library(prob)"
      ],
      "execution_count": null,
      "outputs": []
    },
    {
      "cell_type": "code",
      "metadata": {
        "colab": {
          "base_uri": "https://localhost:8080/",
          "height": 362
        },
        "id": "gpDD_4-EzHEa",
        "outputId": "662bb799-e27c-4716-ab63-78bdf92bc743"
      },
      "source": [
        "tosscoin(3)\n",
        "nrow( tosscoin(3) )\n"
      ],
      "execution_count": 19,
      "outputs": [
        {
          "output_type": "display_data",
          "data": {
            "text/plain": [
              "  toss1 toss2 toss3\n",
              "1 H     H     H    \n",
              "2 T     H     H    \n",
              "3 H     T     H    \n",
              "4 T     T     H    \n",
              "5 H     H     T    \n",
              "6 T     H     T    \n",
              "7 H     T     T    \n",
              "8 T     T     T    "
            ],
            "text/latex": "A data.frame: 8 × 3\n\\begin{tabular}{lll}\n toss1 & toss2 & toss3\\\\\n <fct> & <fct> & <fct>\\\\\n\\hline\n\t H & H & H\\\\\n\t T & H & H\\\\\n\t H & T & H\\\\\n\t T & T & H\\\\\n\t H & H & T\\\\\n\t T & H & T\\\\\n\t H & T & T\\\\\n\t T & T & T\\\\\n\\end{tabular}\n",
            "text/markdown": "\nA data.frame: 8 × 3\n\n| toss1 &lt;fct&gt; | toss2 &lt;fct&gt; | toss3 &lt;fct&gt; |\n|---|---|---|\n| H | H | H |\n| T | H | H |\n| H | T | H |\n| T | T | H |\n| H | H | T |\n| T | H | T |\n| H | T | T |\n| T | T | T |\n\n",
            "text/html": [
              "<table class=\"dataframe\">\n",
              "<caption>A data.frame: 8 × 3</caption>\n",
              "<thead>\n",
              "\t<tr><th scope=col>toss1</th><th scope=col>toss2</th><th scope=col>toss3</th></tr>\n",
              "\t<tr><th scope=col>&lt;fct&gt;</th><th scope=col>&lt;fct&gt;</th><th scope=col>&lt;fct&gt;</th></tr>\n",
              "</thead>\n",
              "<tbody>\n",
              "\t<tr><td>H</td><td>H</td><td>H</td></tr>\n",
              "\t<tr><td>T</td><td>H</td><td>H</td></tr>\n",
              "\t<tr><td>H</td><td>T</td><td>H</td></tr>\n",
              "\t<tr><td>T</td><td>T</td><td>H</td></tr>\n",
              "\t<tr><td>H</td><td>H</td><td>T</td></tr>\n",
              "\t<tr><td>T</td><td>H</td><td>T</td></tr>\n",
              "\t<tr><td>H</td><td>T</td><td>T</td></tr>\n",
              "\t<tr><td>T</td><td>T</td><td>T</td></tr>\n",
              "</tbody>\n",
              "</table>\n"
            ]
          },
          "metadata": {}
        },
        {
          "output_type": "display_data",
          "data": {
            "text/plain": [
              "[1] 8"
            ],
            "text/latex": "8",
            "text/markdown": "8",
            "text/html": [
              "8"
            ]
          },
          "metadata": {}
        }
      ]
    },
    {
      "cell_type": "code",
      "metadata": {
        "colab": {
          "base_uri": "https://localhost:8080/",
          "height": 300
        },
        "id": "wo0yZgZazyMR",
        "outputId": "6bf2aa27-55ae-4bc3-ca16-adbe7acdfb2f"
      },
      "source": [
        "head(rolldie(2))\n",
        "nrow(rolldie(2))"
      ],
      "execution_count": 21,
      "outputs": [
        {
          "output_type": "display_data",
          "data": {
            "text/plain": [
              "  X1 X2\n",
              "1 1  1 \n",
              "2 2  1 \n",
              "3 3  1 \n",
              "4 4  1 \n",
              "5 5  1 \n",
              "6 6  1 "
            ],
            "text/latex": "A data.frame: 6 × 2\n\\begin{tabular}{r|ll}\n  & X1 & X2\\\\\n  & <int> & <int>\\\\\n\\hline\n\t1 & 1 & 1\\\\\n\t2 & 2 & 1\\\\\n\t3 & 3 & 1\\\\\n\t4 & 4 & 1\\\\\n\t5 & 5 & 1\\\\\n\t6 & 6 & 1\\\\\n\\end{tabular}\n",
            "text/markdown": "\nA data.frame: 6 × 2\n\n| <!--/--> | X1 &lt;int&gt; | X2 &lt;int&gt; |\n|---|---|---|\n| 1 | 1 | 1 |\n| 2 | 2 | 1 |\n| 3 | 3 | 1 |\n| 4 | 4 | 1 |\n| 5 | 5 | 1 |\n| 6 | 6 | 1 |\n\n",
            "text/html": [
              "<table class=\"dataframe\">\n",
              "<caption>A data.frame: 6 × 2</caption>\n",
              "<thead>\n",
              "\t<tr><th></th><th scope=col>X1</th><th scope=col>X2</th></tr>\n",
              "\t<tr><th></th><th scope=col>&lt;int&gt;</th><th scope=col>&lt;int&gt;</th></tr>\n",
              "</thead>\n",
              "<tbody>\n",
              "\t<tr><th scope=row>1</th><td>1</td><td>1</td></tr>\n",
              "\t<tr><th scope=row>2</th><td>2</td><td>1</td></tr>\n",
              "\t<tr><th scope=row>3</th><td>3</td><td>1</td></tr>\n",
              "\t<tr><th scope=row>4</th><td>4</td><td>1</td></tr>\n",
              "\t<tr><th scope=row>5</th><td>5</td><td>1</td></tr>\n",
              "\t<tr><th scope=row>6</th><td>6</td><td>1</td></tr>\n",
              "</tbody>\n",
              "</table>\n"
            ]
          },
          "metadata": {}
        },
        {
          "output_type": "display_data",
          "data": {
            "text/plain": [
              "[1] 36"
            ],
            "text/latex": "36",
            "text/markdown": "36",
            "text/html": [
              "36"
            ]
          },
          "metadata": {}
        }
      ]
    },
    {
      "cell_type": "code",
      "metadata": {
        "colab": {
          "base_uri": "https://localhost:8080/",
          "height": 300
        },
        "id": "bJnMLNWVz5G5",
        "outputId": "2ea76f44-1c91-4abb-897c-0d01dc876022"
      },
      "source": [
        "head(cards(1))\n",
        "nrow(cards(1)) \n"
      ],
      "execution_count": 24,
      "outputs": [
        {
          "output_type": "display_data",
          "data": {
            "text/plain": [
              "  rank suit\n",
              "1 2    Club\n",
              "2 3    Club\n",
              "3 4    Club\n",
              "4 5    Club\n",
              "5 6    Club\n",
              "6 7    Club"
            ],
            "text/latex": "A data.frame: 6 × 2\n\\begin{tabular}{r|ll}\n  & rank & suit\\\\\n  & <fct> & <fct>\\\\\n\\hline\n\t1 & 2 & Club\\\\\n\t2 & 3 & Club\\\\\n\t3 & 4 & Club\\\\\n\t4 & 5 & Club\\\\\n\t5 & 6 & Club\\\\\n\t6 & 7 & Club\\\\\n\\end{tabular}\n",
            "text/markdown": "\nA data.frame: 6 × 2\n\n| <!--/--> | rank &lt;fct&gt; | suit &lt;fct&gt; |\n|---|---|---|\n| 1 | 2 | Club |\n| 2 | 3 | Club |\n| 3 | 4 | Club |\n| 4 | 5 | Club |\n| 5 | 6 | Club |\n| 6 | 7 | Club |\n\n",
            "text/html": [
              "<table class=\"dataframe\">\n",
              "<caption>A data.frame: 6 × 2</caption>\n",
              "<thead>\n",
              "\t<tr><th></th><th scope=col>rank</th><th scope=col>suit</th></tr>\n",
              "\t<tr><th></th><th scope=col>&lt;fct&gt;</th><th scope=col>&lt;fct&gt;</th></tr>\n",
              "</thead>\n",
              "<tbody>\n",
              "\t<tr><th scope=row>1</th><td>2</td><td>Club</td></tr>\n",
              "\t<tr><th scope=row>2</th><td>3</td><td>Club</td></tr>\n",
              "\t<tr><th scope=row>3</th><td>4</td><td>Club</td></tr>\n",
              "\t<tr><th scope=row>4</th><td>5</td><td>Club</td></tr>\n",
              "\t<tr><th scope=row>5</th><td>6</td><td>Club</td></tr>\n",
              "\t<tr><th scope=row>6</th><td>7</td><td>Club</td></tr>\n",
              "</tbody>\n",
              "</table>\n"
            ]
          },
          "metadata": {}
        },
        {
          "output_type": "display_data",
          "data": {
            "text/plain": [
              "[1] 54"
            ],
            "text/latex": "54",
            "text/markdown": "54",
            "text/html": [
              "54"
            ]
          },
          "metadata": {}
        }
      ]
    },
    {
      "cell_type": "markdown",
      "metadata": {
        "id": "CCnPdi3k3vyj"
      },
      "source": [
        "Subconjuntos do espaço amostral são denominados **eventos**. Por exemplo, para os casos acima podemos pensar nos eventos onde o primeiro lançamento da moeda é coroa, o primeiro dado retorna 6 ou a carta é um valete."
      ]
    },
    {
      "cell_type": "code",
      "metadata": {
        "colab": {
          "base_uri": "https://localhost:8080/",
          "height": 238
        },
        "id": "l2yEApCc0fO4",
        "outputId": "2b3b7bdb-56a7-463c-8759-733314553a05"
      },
      "source": [
        "subset(tosscoin(3), toss1 == 'T')\n",
        "nrow( subset(tosscoin(3), toss1 == 'T') )"
      ],
      "execution_count": 26,
      "outputs": [
        {
          "output_type": "display_data",
          "data": {
            "text/plain": [
              "  toss1 toss2 toss3\n",
              "2 T     H     H    \n",
              "4 T     T     H    \n",
              "6 T     H     T    \n",
              "8 T     T     T    "
            ],
            "text/latex": "A data.frame: 4 × 3\n\\begin{tabular}{r|lll}\n  & toss1 & toss2 & toss3\\\\\n  & <fct> & <fct> & <fct>\\\\\n\\hline\n\t2 & T & H & H\\\\\n\t4 & T & T & H\\\\\n\t6 & T & H & T\\\\\n\t8 & T & T & T\\\\\n\\end{tabular}\n",
            "text/markdown": "\nA data.frame: 4 × 3\n\n| <!--/--> | toss1 &lt;fct&gt; | toss2 &lt;fct&gt; | toss3 &lt;fct&gt; |\n|---|---|---|---|\n| 2 | T | H | H |\n| 4 | T | T | H |\n| 6 | T | H | T |\n| 8 | T | T | T |\n\n",
            "text/html": [
              "<table class=\"dataframe\">\n",
              "<caption>A data.frame: 4 × 3</caption>\n",
              "<thead>\n",
              "\t<tr><th></th><th scope=col>toss1</th><th scope=col>toss2</th><th scope=col>toss3</th></tr>\n",
              "\t<tr><th></th><th scope=col>&lt;fct&gt;</th><th scope=col>&lt;fct&gt;</th><th scope=col>&lt;fct&gt;</th></tr>\n",
              "</thead>\n",
              "<tbody>\n",
              "\t<tr><th scope=row>2</th><td>T</td><td>H</td><td>H</td></tr>\n",
              "\t<tr><th scope=row>4</th><td>T</td><td>T</td><td>H</td></tr>\n",
              "\t<tr><th scope=row>6</th><td>T</td><td>H</td><td>T</td></tr>\n",
              "\t<tr><th scope=row>8</th><td>T</td><td>T</td><td>T</td></tr>\n",
              "</tbody>\n",
              "</table>\n"
            ]
          },
          "metadata": {}
        },
        {
          "output_type": "display_data",
          "data": {
            "text/plain": [
              "[1] 4"
            ],
            "text/latex": "4",
            "text/markdown": "4",
            "text/html": [
              "4"
            ]
          },
          "metadata": {}
        }
      ]
    },
    {
      "cell_type": "code",
      "metadata": {
        "colab": {
          "base_uri": "https://localhost:8080/",
          "height": 300
        },
        "id": "hSBpxtrw4O35",
        "outputId": "53ef91f9-0c11-44b9-fb0e-11a3d181c71c"
      },
      "source": [
        "head( subset(rolldie(2), X1 == 6) )\n",
        "nrow( subset(rolldie(2), X1 == 6) )"
      ],
      "execution_count": 30,
      "outputs": [
        {
          "output_type": "display_data",
          "data": {
            "text/plain": [
              "   X1 X2\n",
              "6  6  1 \n",
              "12 6  2 \n",
              "18 6  3 \n",
              "24 6  4 \n",
              "30 6  5 \n",
              "36 6  6 "
            ],
            "text/latex": "A data.frame: 6 × 2\n\\begin{tabular}{r|ll}\n  & X1 & X2\\\\\n  & <int> & <int>\\\\\n\\hline\n\t6 & 6 & 1\\\\\n\t12 & 6 & 2\\\\\n\t18 & 6 & 3\\\\\n\t24 & 6 & 4\\\\\n\t30 & 6 & 5\\\\\n\t36 & 6 & 6\\\\\n\\end{tabular}\n",
            "text/markdown": "\nA data.frame: 6 × 2\n\n| <!--/--> | X1 &lt;int&gt; | X2 &lt;int&gt; |\n|---|---|---|\n| 6 | 6 | 1 |\n| 12 | 6 | 2 |\n| 18 | 6 | 3 |\n| 24 | 6 | 4 |\n| 30 | 6 | 5 |\n| 36 | 6 | 6 |\n\n",
            "text/html": [
              "<table class=\"dataframe\">\n",
              "<caption>A data.frame: 6 × 2</caption>\n",
              "<thead>\n",
              "\t<tr><th></th><th scope=col>X1</th><th scope=col>X2</th></tr>\n",
              "\t<tr><th></th><th scope=col>&lt;int&gt;</th><th scope=col>&lt;int&gt;</th></tr>\n",
              "</thead>\n",
              "<tbody>\n",
              "\t<tr><th scope=row>6</th><td>6</td><td>1</td></tr>\n",
              "\t<tr><th scope=row>12</th><td>6</td><td>2</td></tr>\n",
              "\t<tr><th scope=row>18</th><td>6</td><td>3</td></tr>\n",
              "\t<tr><th scope=row>24</th><td>6</td><td>4</td></tr>\n",
              "\t<tr><th scope=row>30</th><td>6</td><td>5</td></tr>\n",
              "\t<tr><th scope=row>36</th><td>6</td><td>6</td></tr>\n",
              "</tbody>\n",
              "</table>\n"
            ]
          },
          "metadata": {}
        },
        {
          "output_type": "display_data",
          "data": {
            "text/plain": [
              "[1] 6"
            ],
            "text/latex": "6",
            "text/markdown": "6",
            "text/html": [
              "6"
            ]
          },
          "metadata": {}
        }
      ]
    },
    {
      "cell_type": "code",
      "metadata": {
        "colab": {
          "base_uri": "https://localhost:8080/",
          "height": 238
        },
        "id": "SGxYlSIe41g6",
        "outputId": "809a96da-4b7a-49f1-e9c3-a5ec2b851544"
      },
      "source": [
        "head( subset(cards(1), rank == 'J') )\n",
        "nrow( subset(cards(1), rank == 'J') )"
      ],
      "execution_count": 31,
      "outputs": [
        {
          "output_type": "display_data",
          "data": {
            "text/plain": [
              "   rank suit   \n",
              "10 J    Club   \n",
              "23 J    Diamond\n",
              "36 J    Heart  \n",
              "49 J    Spade  "
            ],
            "text/latex": "A data.frame: 4 × 2\n\\begin{tabular}{r|ll}\n  & rank & suit\\\\\n  & <fct> & <fct>\\\\\n\\hline\n\t10 & J & Club   \\\\\n\t23 & J & Diamond\\\\\n\t36 & J & Heart  \\\\\n\t49 & J & Spade  \\\\\n\\end{tabular}\n",
            "text/markdown": "\nA data.frame: 4 × 2\n\n| <!--/--> | rank &lt;fct&gt; | suit &lt;fct&gt; |\n|---|---|---|\n| 10 | J | Club    |\n| 23 | J | Diamond |\n| 36 | J | Heart   |\n| 49 | J | Spade   |\n\n",
            "text/html": [
              "<table class=\"dataframe\">\n",
              "<caption>A data.frame: 4 × 2</caption>\n",
              "<thead>\n",
              "\t<tr><th></th><th scope=col>rank</th><th scope=col>suit</th></tr>\n",
              "\t<tr><th></th><th scope=col>&lt;fct&gt;</th><th scope=col>&lt;fct&gt;</th></tr>\n",
              "</thead>\n",
              "<tbody>\n",
              "\t<tr><th scope=row>10</th><td>J</td><td>Club   </td></tr>\n",
              "\t<tr><th scope=row>23</th><td>J</td><td>Diamond</td></tr>\n",
              "\t<tr><th scope=row>36</th><td>J</td><td>Heart  </td></tr>\n",
              "\t<tr><th scope=row>49</th><td>J</td><td>Spade  </td></tr>\n",
              "</tbody>\n",
              "</table>\n"
            ]
          },
          "metadata": {}
        },
        {
          "output_type": "display_data",
          "data": {
            "text/plain": [
              "[1] 4"
            ],
            "text/latex": "4",
            "text/markdown": "4",
            "text/html": [
              "4"
            ]
          },
          "metadata": {}
        }
      ]
    },
    {
      "cell_type": "markdown",
      "metadata": {
        "id": "qVKQd8zy5Aca"
      },
      "source": [
        "A probabilidade de um evento $P(E)$ reflete a incerteza (ou a certeza) de que um evento ocorra de pode ser definida com base nos **axiomas de Probabilidade**.\n",
        "\n",
        "Axiomas da probabilidade:\n",
        "\n",
        "1. (A1):  $0 \\le P(E) \\le 1$\n",
        "\n",
        "2. (A2): $P[Ø] = 0$ onde Ø é um evento vazio (impossível de ocorrer)\n",
        "\n",
        "3. (A3): $P[S] = 1$ onde $S$ é o espaço amostral\n",
        "\n",
        "4. (A4): $P[E] = \\sum P(E_i)$ para toda divisão do evento $E$ em partes disjuntas, ou mutualmente exclusivas. \n"
      ]
    },
    {
      "cell_type": "markdown",
      "metadata": {
        "id": "bAWk50yb66vb"
      },
      "source": [
        "Você deve lembrar que podemos associar à probabilidade à proporção que o evento representa dentro do espaço amostral. Podemos ver então que a probabilidade de termos quaisquer das combinações nos lançamentos dos dados é um valor entre 0 e 1 (A1), a probabilidade de termos o valor 7 no lançamento de um dado é 0 (A2), a probabilidade de tirarmos uma carta qualquer do baralho é 1 (A3) e a soma das probabilidades de tiramos uma figura do baralho é a soma das probabilidades de tirarmos quaisquer das suas figuras (A4, abaixo)."
      ]
    },
    {
      "cell_type": "code",
      "metadata": {
        "colab": {
          "base_uri": "https://localhost:8080/",
          "height": 34
        },
        "id": "v02fWkYX8G-7",
        "outputId": "3bf49866-f97b-45ec-fe22-699ee40dd341"
      },
      "source": [
        "# Probabilidade de termos os lançamentos da moeda com coroa no primeiro lançamento (independe dos demais lançamentos!)\n",
        "nrow( subset(tosscoin(3), toss1 == 'T') ) / nrow( tosscoin(3) )"
      ],
      "execution_count": 32,
      "outputs": [
        {
          "output_type": "display_data",
          "data": {
            "text/plain": [
              "[1] 0.5"
            ],
            "text/latex": "0.5",
            "text/markdown": "0.5",
            "text/html": [
              "0.5"
            ]
          },
          "metadata": {}
        }
      ]
    },
    {
      "cell_type": "code",
      "metadata": {
        "colab": {
          "base_uri": "https://localhost:8080/",
          "height": 34
        },
        "id": "urm8e6iD8klr",
        "outputId": "5df0c029-96d3-4a68-e71a-f3e3d87b9f29"
      },
      "source": [
        "# Consideramos A uma figura e Joker não\n",
        "nrow( subset(cards(1), rank == 'J' | rank == 'K' | rank == 'Q' | rank == 'A' ) )/ nrow( cards(1) )"
      ],
      "execution_count": 36,
      "outputs": [
        {
          "output_type": "display_data",
          "data": {
            "text/plain": [
              "[1] 0.2962963"
            ],
            "text/latex": "0.296296296296296",
            "text/markdown": "0.296296296296296",
            "text/html": [
              "0.296296296296296"
            ]
          },
          "metadata": {}
        }
      ]
    },
    {
      "cell_type": "markdown",
      "metadata": {
        "id": "HoRetZfC9qeJ"
      },
      "source": [
        "Que é igual a:"
      ]
    },
    {
      "cell_type": "code",
      "metadata": {
        "colab": {
          "base_uri": "https://localhost:8080/",
          "height": 34
        },
        "id": "siJcgLjP9pbz",
        "outputId": "468cdc8b-cc65-4810-84d1-8b605da89ff4"
      },
      "source": [
        "# Consideramos A uma figura e Joker não\n",
        "nrow( subset(cards(1), rank == 'J' ) )/ nrow( cards(1) ) +\n",
        "nrow( subset(cards(1), rank == 'K' ) )/ nrow( cards(1) ) +\n",
        "nrow( subset(cards(1), rank == 'Q' ) )/ nrow( cards(1) ) +\n",
        "nrow( subset(cards(1), rank == 'A' ) )/ nrow( cards(1) )"
      ],
      "execution_count": 37,
      "outputs": [
        {
          "output_type": "display_data",
          "data": {
            "text/plain": [
              "[1] 0.2962963"
            ],
            "text/latex": "0.296296296296296",
            "text/markdown": "0.296296296296296",
            "text/html": [
              "0.296296296296296"
            ]
          },
          "metadata": {}
        }
      ]
    },
    {
      "cell_type": "markdown",
      "metadata": {
        "id": "UzEzxFL--Av5"
      },
      "source": [
        "Esse último axioma é conhecido como **regra da adição para eventos mutuamente exclusivos**. Dois **eventos são complementares** quando são mutuamente exclusivos e a sua união é o espaço amostral. Isso significa dizer que:\n",
        "\n",
        "$$ P(E) + P(\\bar{E}) = P(S) $$\n",
        "\n",
        "Onde $E \\cup \\bar{E} = S$  e $E \\cap \\bar{E} = S$ (disjuntos) e como a probabilidade do espaço amostral é 1 podemos escrever:\n",
        "\n",
        "$$ P(E) = 1 - P(\\bar{E})$$ \n",
        "\n",
        "Assim, a probabilidade de obtermos uma figura é exatamente 1 menos a probabilidade de não obtermos uma figura no baralho."
      ]
    },
    {
      "cell_type": "code",
      "metadata": {
        "colab": {
          "base_uri": "https://localhost:8080/",
          "height": 34
        },
        "id": "0YkxRril-ZO7",
        "outputId": "b4260d17-0ce8-47c0-d3aa-feb95dfe0be4"
      },
      "source": [
        "# Consideramos A uma figura e Joker não\n",
        "nrow( subset(cards(1), rank == 'J' | rank == 'K' | rank == 'Q' | rank == 'A' ) )/ nrow( cards(1) )"
      ],
      "execution_count": 38,
      "outputs": [
        {
          "output_type": "display_data",
          "data": {
            "text/plain": [
              "[1] 0.2962963"
            ],
            "text/latex": "0.296296296296296",
            "text/markdown": "0.296296296296296",
            "text/html": [
              "0.296296296296296"
            ]
          },
          "metadata": {}
        }
      ]
    },
    {
      "cell_type": "code",
      "metadata": {
        "colab": {
          "base_uri": "https://localhost:8080/",
          "height": 34
        },
        "id": "F1LYjUD3_rVM",
        "outputId": "b0350ab5-d4f3-4b03-bd1c-f1e5924dfde2"
      },
      "source": [
        "1  - nrow( subset(cards(1), rank != 'J' & rank != 'K' & rank != 'Q' & rank != 'A' ) )/ nrow( cards(1) )"
      ],
      "execution_count": 40,
      "outputs": [
        {
          "output_type": "display_data",
          "data": {
            "text/plain": [
              "[1] 0.2962963"
            ],
            "text/latex": "0.296296296296296",
            "text/markdown": "0.296296296296296",
            "text/html": [
              "0.296296296296296"
            ]
          },
          "metadata": {}
        }
      ]
    },
    {
      "cell_type": "markdown",
      "metadata": {
        "id": "7zMgSACzAQ1L"
      },
      "source": [
        "## Probabilidade de União de Eventos\n",
        "\n",
        "Mas nem sempre você vai encontrar eventos disjuntos e o caso mais geral é de eventos que, unidos, apresentem alguma intersecção. Para dois eventos que não são mutuamente exclusivos a probabilidade da união deve ser calculada pela expressão:\n",
        "\n",
        "$$ P(A \\cup B) = P(A) + P(B) - P(A \\cap B)$$\n",
        "\n",
        "Uma vez que o evento $A \\cap B$ ocorre duas vezes. Assim a probabilidade de termos um valete ou uma carta de espadas é dada por:\n",
        "\n",
        "\n"
      ]
    },
    {
      "cell_type": "code",
      "metadata": {
        "colab": {
          "base_uri": "https://localhost:8080/",
          "height": 34
        },
        "id": "ogrLoGsgBhJv",
        "outputId": "052487e9-6611-4c86-8a03-39268c99a286"
      },
      "source": [
        "PA = nrow( subset(cards(1), rank == 'J') )/ nrow( cards(1) )\n",
        "PA"
      ],
      "execution_count": 45,
      "outputs": [
        {
          "output_type": "display_data",
          "data": {
            "text/plain": [
              "[1] 0.07407407"
            ],
            "text/latex": "0.0740740740740741",
            "text/markdown": "0.0740740740740741",
            "text/html": [
              "0.0740740740740741"
            ]
          },
          "metadata": {}
        }
      ]
    },
    {
      "cell_type": "code",
      "metadata": {
        "colab": {
          "base_uri": "https://localhost:8080/",
          "height": 34
        },
        "id": "yExFeLXcBkX9",
        "outputId": "a6cdf4e2-248c-44ee-9df1-28eec91f82bc"
      },
      "source": [
        "PB = nrow( subset(cards(1), suit == 'Spade') )/ nrow( cards(1) )\n",
        "PB"
      ],
      "execution_count": 46,
      "outputs": [
        {
          "output_type": "display_data",
          "data": {
            "text/plain": [
              "[1] 0.2407407"
            ],
            "text/latex": "0.240740740740741",
            "text/markdown": "0.240740740740741",
            "text/html": [
              "0.240740740740741"
            ]
          },
          "metadata": {}
        }
      ]
    },
    {
      "cell_type": "code",
      "metadata": {
        "colab": {
          "base_uri": "https://localhost:8080/",
          "height": 34
        },
        "id": "QA8UNvbxBwYC",
        "outputId": "8df707d4-e96b-4233-caa7-19df0b74f08e"
      },
      "source": [
        "PAEB = nrow( subset(cards(1), rank == 'J' & suit == 'Spade') )/ nrow( cards(1) )\n",
        "PAEB"
      ],
      "execution_count": 47,
      "outputs": [
        {
          "output_type": "display_data",
          "data": {
            "text/plain": [
              "[1] 0.01851852"
            ],
            "text/latex": "0.0185185185185185",
            "text/markdown": "0.0185185185185185",
            "text/html": [
              "0.0185185185185185"
            ]
          },
          "metadata": {}
        }
      ]
    },
    {
      "cell_type": "code",
      "metadata": {
        "colab": {
          "base_uri": "https://localhost:8080/",
          "height": 34
        },
        "id": "hYWoyiznCEWb",
        "outputId": "5f657214-2e48-4b5f-c3f0-769e775dca28"
      },
      "source": [
        "PAUB = PA + PB - PAEB\n",
        "PAUB"
      ],
      "execution_count": 48,
      "outputs": [
        {
          "output_type": "display_data",
          "data": {
            "text/plain": [
              "[1] 0.2962963"
            ],
            "text/latex": "0.296296296296296",
            "text/markdown": "0.296296296296296",
            "text/html": [
              "0.296296296296296"
            ]
          },
          "metadata": {}
        }
      ]
    },
    {
      "cell_type": "markdown",
      "metadata": {
        "id": "a2VP7ikFClmD"
      },
      "source": [
        "# Probabilidade Condicional\n",
        "\n",
        "Os casos anteriores são bastante simples, mas apresentam regras fundamentais no cálculo de probabilidades e podem também ser espandidas para os casos em que o espaço amostral é contínuo. Mas um caso muito importante é quando queremos obter as probabilidades a partir de alguma informação que já temos ou aprendemos sobre os dados! É o que chamamos de **probabilidade condicional**.\n",
        "\n",
        "Por exemplo podemos calcular a probabilidade de obtermos 3 coroas no lançamento de 3 moedas,\n",
        "\n"
      ]
    },
    {
      "cell_type": "code",
      "metadata": {
        "colab": {
          "base_uri": "https://localhost:8080/",
          "height": 34
        },
        "id": "XyDWIyg9DlpN",
        "outputId": "7bd1b82a-d973-49de-a783-ec24ae43c837"
      },
      "source": [
        "nrow( subset( tosscoin(3), toss1 == 'T' & toss2 == 'T' & toss3 == 'T' ) ) / nrow( tosscoin(3) )"
      ],
      "execution_count": 53,
      "outputs": [
        {
          "output_type": "display_data",
          "data": {
            "text/plain": [
              "[1] 0.125"
            ],
            "text/latex": "0.125",
            "text/markdown": "0.125",
            "text/html": [
              "0.125"
            ]
          },
          "metadata": {}
        }
      ]
    },
    {
      "cell_type": "markdown",
      "metadata": {
        "id": "Zu38LBufEhil"
      },
      "source": [
        "Mas nossas chances dobram se soubermos que o primeiro lançamento já foi uma coroa,"
      ]
    },
    {
      "cell_type": "code",
      "metadata": {
        "colab": {
          "base_uri": "https://localhost:8080/",
          "height": 34
        },
        "id": "XwDdVwV7EEgU",
        "outputId": "1fe604b3-62af-4f53-fa66-82f12a2f06a2"
      },
      "source": [
        "nrow( subset( tosscoin(3), toss1 == 'T' & toss2 == 'T' & toss3 == 'T' ) ) / nrow( subset( tosscoin(3), toss1 == 'T' )  )"
      ],
      "execution_count": 54,
      "outputs": [
        {
          "output_type": "display_data",
          "data": {
            "text/plain": [
              "[1] 0.25"
            ],
            "text/latex": "0.25",
            "text/markdown": "0.25",
            "text/html": [
              "0.25"
            ]
          },
          "metadata": {}
        }
      ]
    },
    {
      "cell_type": "markdown",
      "metadata": {
        "id": "HA0AYa2EEuC7"
      },
      "source": [
        "Pois nosso espaço amostral fica reduzido pela informação adicionada."
      ]
    },
    {
      "cell_type": "markdown",
      "metadata": {
        "id": "te0QikWvE_y8"
      },
      "source": [
        "Se $A$ e $B$ são dois eventos, podemos escrever a probabilidade condicionada, isto é a **probabilidade de $A$ tal que $B$**:\n",
        "\n",
        "$$ P(A|B) = \\frac{P(A \\cap B)}{P(B)} $$\n",
        "\n",
        "No exemplo anterior dos lançamentos de moeda temos então exatamente o cálculo anterior,\n"
      ]
    },
    {
      "cell_type": "code",
      "metadata": {
        "colab": {
          "base_uri": "https://localhost:8080/"
        },
        "id": "4PLEGpr9FyBP",
        "outputId": "5131c69a-e471-4635-b163-91400e4a5198"
      },
      "source": [
        "PAEB = nrow( subset( tosscoin(3), toss1 == 'T' & toss2 == 'T' & toss3 == 'T' ) ) / nrow( tosscoin(3) )\n",
        "\n",
        "PB = nrow( subset( tosscoin(3), toss1 == 'T' )  ) / nrow( tosscoin(3) )\n",
        "\n",
        "PATB = PAEB / PB\n",
        "\n",
        "print(PATB)\n",
        "\n",
        "print( nrow( subset( tosscoin(3), toss1 == 'T' & toss2 == 'T' & toss3 == 'T' ) ) / nrow( subset( tosscoin(3), toss1 == 'T' )  ) )"
      ],
      "execution_count": 55,
      "outputs": [
        {
          "output_type": "stream",
          "name": "stdout",
          "text": [
            "[1] 0.25\n",
            "[1] 0.25\n"
          ]
        }
      ]
    },
    {
      "cell_type": "markdown",
      "metadata": {
        "id": "9fM2KduLGg9O"
      },
      "source": [
        "E você pode notar que `nrow( tosscoin(3) )` é eliminado ao se dividir os dois fatores. "
      ]
    },
    {
      "cell_type": "markdown",
      "metadata": {
        "id": "NEEEq0KxKn5w"
      },
      "source": [
        "Ou ainda podemos escrever:\n",
        "\n",
        "$$ P(A \\cap B) = P(A|B) . P(B) $$\n",
        "\n",
        "O que é conhecido como **regra da cadeia** ou da **multiplicação**. \n",
        "\n"
      ]
    },
    {
      "cell_type": "markdown",
      "metadata": {
        "id": "IZGVukwZLA3G"
      },
      "source": [
        "## Um Exemplo \n",
        "\n",
        "Podemos obter esses valores a partir de um conjunto de dados empregando tabelas de contingência e as probabilidades marginais que você estudo na aula anterior. Vamos retomar nosso exemplo de remunerações:"
      ]
    },
    {
      "cell_type": "code",
      "metadata": {
        "id": "A-_Jq8Su3Ycy",
        "colab": {
          "base_uri": "https://localhost:8080/"
        },
        "outputId": "04f17402-c71f-428f-a559-bff6ddbbcd8f"
      },
      "source": [
        "install.packages('ISLR')"
      ],
      "execution_count": 56,
      "outputs": [
        {
          "output_type": "stream",
          "name": "stderr",
          "text": [
            "Installing package into ‘/usr/local/lib/R/site-library’\n",
            "(as ‘lib’ is unspecified)\n",
            "\n"
          ]
        }
      ]
    },
    {
      "cell_type": "code",
      "metadata": {
        "colab": {
          "base_uri": "https://localhost:8080/",
          "height": 283
        },
        "id": "BInSe83P4HVa",
        "outputId": "d9392ebf-08eb-4362-d891-eac46b7ad0a8"
      },
      "source": [
        "library(ISLR)\n",
        "head(Wage)"
      ],
      "execution_count": 57,
      "outputs": [
        {
          "output_type": "display_data",
          "data": {
            "text/plain": [
              "       year age maritl           race     education       region            \n",
              "231655 2006 18  1. Never Married 1. White 1. < HS Grad    2. Middle Atlantic\n",
              "86582  2004 24  1. Never Married 1. White 4. College Grad 2. Middle Atlantic\n",
              "161300 2003 45  2. Married       1. White 3. Some College 2. Middle Atlantic\n",
              "155159 2003 43  2. Married       3. Asian 4. College Grad 2. Middle Atlantic\n",
              "11443  2005 50  4. Divorced      1. White 2. HS Grad      2. Middle Atlantic\n",
              "376662 2008 54  2. Married       1. White 4. College Grad 2. Middle Atlantic\n",
              "       jobclass       health         health_ins logwage  wage     \n",
              "231655 1. Industrial  1. <=Good      2. No      4.318063  75.04315\n",
              "86582  2. Information 2. >=Very Good 2. No      4.255273  70.47602\n",
              "161300 1. Industrial  1. <=Good      1. Yes     4.875061 130.98218\n",
              "155159 2. Information 2. >=Very Good 1. Yes     5.041393 154.68529\n",
              "11443  2. Information 1. <=Good      1. Yes     4.318063  75.04315\n",
              "376662 2. Information 2. >=Very Good 1. Yes     4.845098 127.11574"
            ],
            "text/latex": "A data.frame: 6 × 11\n\\begin{tabular}{r|lllllllllll}\n  & year & age & maritl & race & education & region & jobclass & health & health\\_ins & logwage & wage\\\\\n  & <int> & <int> & <fct> & <fct> & <fct> & <fct> & <fct> & <fct> & <fct> & <dbl> & <dbl>\\\\\n\\hline\n\t231655 & 2006 & 18 & 1. Never Married & 1. White & 1. < HS Grad    & 2. Middle Atlantic & 1. Industrial  & 1. <=Good      & 2. No  & 4.318063 &  75.04315\\\\\n\t86582 & 2004 & 24 & 1. Never Married & 1. White & 4. College Grad & 2. Middle Atlantic & 2. Information & 2. >=Very Good & 2. No  & 4.255273 &  70.47602\\\\\n\t161300 & 2003 & 45 & 2. Married       & 1. White & 3. Some College & 2. Middle Atlantic & 1. Industrial  & 1. <=Good      & 1. Yes & 4.875061 & 130.98218\\\\\n\t155159 & 2003 & 43 & 2. Married       & 3. Asian & 4. College Grad & 2. Middle Atlantic & 2. Information & 2. >=Very Good & 1. Yes & 5.041393 & 154.68529\\\\\n\t11443 & 2005 & 50 & 4. Divorced      & 1. White & 2. HS Grad      & 2. Middle Atlantic & 2. Information & 1. <=Good      & 1. Yes & 4.318063 &  75.04315\\\\\n\t376662 & 2008 & 54 & 2. Married       & 1. White & 4. College Grad & 2. Middle Atlantic & 2. Information & 2. >=Very Good & 1. Yes & 4.845098 & 127.11574\\\\\n\\end{tabular}\n",
            "text/markdown": "\nA data.frame: 6 × 11\n\n| <!--/--> | year &lt;int&gt; | age &lt;int&gt; | maritl &lt;fct&gt; | race &lt;fct&gt; | education &lt;fct&gt; | region &lt;fct&gt; | jobclass &lt;fct&gt; | health &lt;fct&gt; | health_ins &lt;fct&gt; | logwage &lt;dbl&gt; | wage &lt;dbl&gt; |\n|---|---|---|---|---|---|---|---|---|---|---|---|\n| 231655 | 2006 | 18 | 1. Never Married | 1. White | 1. &lt; HS Grad    | 2. Middle Atlantic | 1. Industrial  | 1. &lt;=Good      | 2. No  | 4.318063 |  75.04315 |\n| 86582 | 2004 | 24 | 1. Never Married | 1. White | 4. College Grad | 2. Middle Atlantic | 2. Information | 2. &gt;=Very Good | 2. No  | 4.255273 |  70.47602 |\n| 161300 | 2003 | 45 | 2. Married       | 1. White | 3. Some College | 2. Middle Atlantic | 1. Industrial  | 1. &lt;=Good      | 1. Yes | 4.875061 | 130.98218 |\n| 155159 | 2003 | 43 | 2. Married       | 3. Asian | 4. College Grad | 2. Middle Atlantic | 2. Information | 2. &gt;=Very Good | 1. Yes | 5.041393 | 154.68529 |\n| 11443 | 2005 | 50 | 4. Divorced      | 1. White | 2. HS Grad      | 2. Middle Atlantic | 2. Information | 1. &lt;=Good      | 1. Yes | 4.318063 |  75.04315 |\n| 376662 | 2008 | 54 | 2. Married       | 1. White | 4. College Grad | 2. Middle Atlantic | 2. Information | 2. &gt;=Very Good | 1. Yes | 4.845098 | 127.11574 |\n\n",
            "text/html": [
              "<table class=\"dataframe\">\n",
              "<caption>A data.frame: 6 × 11</caption>\n",
              "<thead>\n",
              "\t<tr><th></th><th scope=col>year</th><th scope=col>age</th><th scope=col>maritl</th><th scope=col>race</th><th scope=col>education</th><th scope=col>region</th><th scope=col>jobclass</th><th scope=col>health</th><th scope=col>health_ins</th><th scope=col>logwage</th><th scope=col>wage</th></tr>\n",
              "\t<tr><th></th><th scope=col>&lt;int&gt;</th><th scope=col>&lt;int&gt;</th><th scope=col>&lt;fct&gt;</th><th scope=col>&lt;fct&gt;</th><th scope=col>&lt;fct&gt;</th><th scope=col>&lt;fct&gt;</th><th scope=col>&lt;fct&gt;</th><th scope=col>&lt;fct&gt;</th><th scope=col>&lt;fct&gt;</th><th scope=col>&lt;dbl&gt;</th><th scope=col>&lt;dbl&gt;</th></tr>\n",
              "</thead>\n",
              "<tbody>\n",
              "\t<tr><th scope=row>231655</th><td>2006</td><td>18</td><td>1. Never Married</td><td>1. White</td><td><span style=white-space:pre-wrap>1. &lt; HS Grad   </span></td><td>2. Middle Atlantic</td><td>1. Industrial </td><td><span style=white-space:pre-wrap>1. &lt;=Good     </span></td><td>2. No </td><td>4.318063</td><td> 75.04315</td></tr>\n",
              "\t<tr><th scope=row>86582</th><td>2004</td><td>24</td><td>1. Never Married</td><td>1. White</td><td>4. College Grad</td><td>2. Middle Atlantic</td><td>2. Information</td><td>2. &gt;=Very Good</td><td>2. No </td><td>4.255273</td><td> 70.47602</td></tr>\n",
              "\t<tr><th scope=row>161300</th><td>2003</td><td>45</td><td><span style=white-space:pre-wrap>2. Married      </span></td><td>1. White</td><td>3. Some College</td><td>2. Middle Atlantic</td><td>1. Industrial </td><td><span style=white-space:pre-wrap>1. &lt;=Good     </span></td><td>1. Yes</td><td>4.875061</td><td>130.98218</td></tr>\n",
              "\t<tr><th scope=row>155159</th><td>2003</td><td>43</td><td><span style=white-space:pre-wrap>2. Married      </span></td><td>3. Asian</td><td>4. College Grad</td><td>2. Middle Atlantic</td><td>2. Information</td><td>2. &gt;=Very Good</td><td>1. Yes</td><td>5.041393</td><td>154.68529</td></tr>\n",
              "\t<tr><th scope=row>11443</th><td>2005</td><td>50</td><td><span style=white-space:pre-wrap>4. Divorced     </span></td><td>1. White</td><td><span style=white-space:pre-wrap>2. HS Grad     </span></td><td>2. Middle Atlantic</td><td>2. Information</td><td><span style=white-space:pre-wrap>1. &lt;=Good     </span></td><td>1. Yes</td><td>4.318063</td><td> 75.04315</td></tr>\n",
              "\t<tr><th scope=row>376662</th><td>2008</td><td>54</td><td><span style=white-space:pre-wrap>2. Married      </span></td><td>1. White</td><td>4. College Grad</td><td>2. Middle Atlantic</td><td>2. Information</td><td>2. &gt;=Very Good</td><td>1. Yes</td><td>4.845098</td><td>127.11574</td></tr>\n",
              "</tbody>\n",
              "</table>\n"
            ]
          },
          "metadata": {}
        }
      ]
    },
    {
      "cell_type": "code",
      "metadata": {
        "colab": {
          "base_uri": "https://localhost:8080/",
          "height": 505
        },
        "id": "b22ucNhTMAJn",
        "outputId": "655ec3f2-7d8c-4e82-9d6d-4f459e6d60a4"
      },
      "source": [
        "Wage$wage_cat = as.factor(ifelse(Wage$wage > mean(Wage$wage), \"Acima\", \"Abaixo\"))\n",
        "\n",
        "con_wage = table(Wage$jobclass,Wage$wage_cat)\n",
        "\n",
        "print(con_wage)\n",
        "mosaicplot(con_wage)"
      ],
      "execution_count": 61,
      "outputs": [
        {
          "output_type": "stream",
          "name": "stdout",
          "text": [
            "                \n",
            "                 Abaixo Acima\n",
            "  1. Industrial    1020   524\n",
            "  2. Information    704   752\n"
          ]
        },
        {
          "output_type": "display_data",
          "data": {
            "image/png": "[encoded data removed]",
            "text/plain": [
              "Plot with title “con_wage”"
            ]
          },
          "metadata": {
            "image/png": {
              "width": 420,
              "height": 420
            }
          }
        }
      ]
    },
    {
      "cell_type": "code",
      "metadata": {
        "colab": {
          "base_uri": "https://localhost:8080/",
          "height": 159
        },
        "id": "gEUM-nfd9NUl",
        "outputId": "2a0d8d23-3c25-499d-daa2-3ca44615d823"
      },
      "source": [
        "addmargins(con_wage)"
      ],
      "execution_count": 62,
      "outputs": [
        {
          "output_type": "display_data",
          "data": {
            "text/plain": [
              "                \n",
              "                 Abaixo Acima Sum \n",
              "  1. Industrial  1020    524  1544\n",
              "  2. Information  704    752  1456\n",
              "  Sum            1724   1276  3000"
            ],
            "text/latex": "A table: 3 × 3 of type dbl\n\\begin{tabular}{r|lll}\n  & Abaixo & Acima & Sum\\\\\n\\hline\n\t1. Industrial & 1020 &  524 & 1544\\\\\n\t2. Information &  704 &  752 & 1456\\\\\n\tSum & 1724 & 1276 & 3000\\\\\n\\end{tabular}\n",
            "text/markdown": "\nA table: 3 × 3 of type dbl\n\n| <!--/--> | Abaixo | Acima | Sum |\n|---|---|---|---|\n| 1. Industrial | 1020 |  524 | 1544 |\n| 2. Information |  704 |  752 | 1456 |\n| Sum | 1724 | 1276 | 3000 |\n\n",
            "text/html": [
              "<table class=\"dataframe\">\n",
              "<caption>A table: 3 × 3 of type dbl</caption>\n",
              "<thead>\n",
              "\t<tr><th></th><th scope=col>Abaixo</th><th scope=col>Acima</th><th scope=col>Sum</th></tr>\n",
              "</thead>\n",
              "<tbody>\n",
              "\t<tr><th scope=row>1. Industrial</th><td>1020</td><td> 524</td><td>1544</td></tr>\n",
              "\t<tr><th scope=row>2. Information</th><td> 704</td><td> 752</td><td>1456</td></tr>\n",
              "\t<tr><th scope=row>Sum</th><td>1724</td><td>1276</td><td>3000</td></tr>\n",
              "</tbody>\n",
              "</table>\n"
            ]
          },
          "metadata": {}
        }
      ]
    },
    {
      "cell_type": "markdown",
      "metadata": {
        "id": "1w8o1MPPMVOF"
      },
      "source": [
        "Assim, a probabilidade de que um indivíduo tenha uma remuneração abaixo da média tal que ele trabalhe no setor Industrial é dada por:\n",
        "\n",
        "\n",
        "$$ P(\\text{Abaixo} | \\text{Indutrial}) = \\frac{ P(\\text{Abaixo} \\cap  \\text{Indutrial}) }{P(\\text{Industrial})} = \\frac{ \\frac{1020}{3000} }{ \\frac{1544}{3000}} = \\frac{1020}{1544} = 0.6606$$\n",
        "\n"
      ]
    },
    {
      "cell_type": "code",
      "metadata": {
        "colab": {
          "base_uri": "https://localhost:8080/",
          "height": 34
        },
        "id": "Y90UmwLMOJg-",
        "outputId": "358dc506-62ab-4d98-fa85-dc6d84352b7d"
      },
      "source": [
        "1020/ 1544"
      ],
      "execution_count": 64,
      "outputs": [
        {
          "output_type": "display_data",
          "data": {
            "text/plain": [
              "[1] 0.6606218"
            ],
            "text/latex": "0.660621761658031",
            "text/markdown": "0.660621761658031",
            "text/html": [
              "0.660621761658031"
            ]
          },
          "metadata": {}
        }
      ]
    },
    {
      "cell_type": "markdown",
      "metadata": {
        "id": "cOMA1O-NOYHu"
      },
      "source": [
        "Que é exatamente a probabilidade marginal obtida pelas linhas."
      ]
    },
    {
      "cell_type": "code",
      "metadata": {
        "colab": {
          "base_uri": "https://localhost:8080/",
          "height": 159
        },
        "id": "f_sJNaN591Xt",
        "outputId": "6bed87b1-7ea5-41d7-d9ee-15f1af65d10e"
      },
      "source": [
        "addmargins(prop.table(con_wage, margin=1))"
      ],
      "execution_count": 66,
      "outputs": [
        {
          "output_type": "display_data",
          "data": {
            "text/plain": [
              "                \n",
              "                 Abaixo    Acima     Sum\n",
              "  1. Industrial  0.6606218 0.3393782 1  \n",
              "  2. Information 0.4835165 0.5164835 1  \n",
              "  Sum            1.1441382 0.8558618 2  "
            ],
            "text/latex": "A table: 3 × 3 of type dbl\n\\begin{tabular}{r|lll}\n  & Abaixo & Acima & Sum\\\\\n\\hline\n\t1. Industrial & 0.6606218 & 0.3393782 & 1\\\\\n\t2. Information & 0.4835165 & 0.5164835 & 1\\\\\n\tSum & 1.1441382 & 0.8558618 & 2\\\\\n\\end{tabular}\n",
            "text/markdown": "\nA table: 3 × 3 of type dbl\n\n| <!--/--> | Abaixo | Acima | Sum |\n|---|---|---|---|\n| 1. Industrial | 0.6606218 | 0.3393782 | 1 |\n| 2. Information | 0.4835165 | 0.5164835 | 1 |\n| Sum | 1.1441382 | 0.8558618 | 2 |\n\n",
            "text/html": [
              "<table class=\"dataframe\">\n",
              "<caption>A table: 3 × 3 of type dbl</caption>\n",
              "<thead>\n",
              "\t<tr><th></th><th scope=col>Abaixo</th><th scope=col>Acima</th><th scope=col>Sum</th></tr>\n",
              "</thead>\n",
              "<tbody>\n",
              "\t<tr><th scope=row>1. Industrial</th><td>0.6606218</td><td>0.3393782</td><td>1</td></tr>\n",
              "\t<tr><th scope=row>2. Information</th><td>0.4835165</td><td>0.5164835</td><td>1</td></tr>\n",
              "\t<tr><th scope=row>Sum</th><td>1.1441382</td><td>0.8558618</td><td>2</td></tr>\n",
              "</tbody>\n",
              "</table>\n"
            ]
          },
          "metadata": {}
        }
      ]
    },
    {
      "cell_type": "markdown",
      "metadata": {
        "id": "OtMHFF8yPT1g"
      },
      "source": [
        "# Eventos Independentes\n",
        "\n",
        "A independência de eventos é uma hipótese muitas vezes empregada na modelagem estatística pois permite reduzir a complexidade da análise ao tratar cada eventos separadamente. \n",
        "\n",
        "Dizemos que $A$ e $B$ são dois eventos independentes se $P(A|B) = P(A)$, e neste caso, podemos escrever:\n",
        "\n",
        "$$ P(A \\cap B) = P(A|B) . P(B) = P(A) . P(B)$$\n",
        "\n",
        "Essa é uma regra muito útil mesmo em casos em que a independência não é totalmente garantida. Considere que a probabilidade de comprarmos uma lâmpada com defeito, evento seja de 1/1000. Qual a probabilidade de comprarmos duas lâmpadas com defeito? \n",
        "\n",
        "$$ P(A \\cap B) = P(A|B) . P(B) = P(A) . P(B) = \\frac{1}{10^3} . \\frac{1}{10^3} = \\frac{1}{10^6} $$\n",
        "\n",
        "Na verdade aqui assumimos uma simplificação que na prática é frequentemente usada. Nós assumimos que $P(A|B) = P(A)$, mas a segunda lâmpada só teria probabilidade 1/1000 se garantíssimos a reposição da primeira lâmpada no espaço amostral. Assumimos que os eventos são independentes (o que só se verificaria, de fato, com a reposição). \n",
        "\n",
        "\n"
      ]
    },
    {
      "cell_type": "markdown",
      "metadata": {
        "id": "0hoWfbGGS7iH"
      },
      "source": [
        "# Teorema de Bayes\n",
        "\n",
        "O Teorema de Bayes é um importante teorema de Probabilidades que permite atualizarmos as probabilidades à medida que aprendemos ou adicionamos novas informações sobre os dados. Isso leva a uma forma um pouco diferente de se lidar com probabilidade dando origem ao que chamamos uma abordagem *bayesiana*, para diferenciá-la da aboradagem *frequentista* que adotamos até aqui. Essas duas abordagens levam a métodos bastante distintos de inferência estatística, mas que não abordaremos aqui. Vale, entretanto, entender esse importante teorema para que você possa aplicá-lo caso seja necessário no futuro. \n",
        "\n",
        "A expressão do Teorema de Bayes pode ser derivada da regra da cadeia que você conheceu acima. Pela regra da cadeia podemos escrever:\n",
        "\n",
        "$$ P(A \\cap B) = P(A|B) . P(B) $$\n",
        "\n",
        "como também,\n",
        "\n",
        "$$ P(A \\cap B) = P(B|A) . P(A) $$\n",
        "\n",
        "Igualando as duas expressões obtemos:\n",
        "\n",
        "$$  P(A|B) . P(B) = P(B|A) . P(A) $$\n",
        "\n",
        "E chegamos à famosa expressão do Teorema de Bayes:\n",
        "\n",
        "$$  P(A|B)  = \\frac{ P(B|A) . P(A) }{ P(B) }$$"
      ]
    },
    {
      "cell_type": "markdown",
      "metadata": {
        "id": "tTRN1AYJazld"
      },
      "source": [
        "# Regra de Bayes e um Teste de Diagnóstico\n",
        "\n",
        "Para entender melhor as probabilidades condicionais e sua importância vamos considerar um exemplo envolvendo exames diagnósticos do vírus da imunodeficiência humana (HIV) e aplicar o que aprendemos até aqui.\n",
        "\n",
        "Quando são realizados testes de diagnóstico sempre existe uma margem de erro associada a esses testes. Dada a gravidade da doença falsos positivos ou falsos negativos no teste de HIV são altamente preocupantes. Um falso positivo é quando o teste retorna positivo quando na verdade a pessoa não está com a doença, mas estaríamos dizendo erroneamente que a essa pessoa contraiu essa doença grave. Um falso negativo é quando o teste retorna negativo enquanto a verdade é positivo. Neste caso estaríamos dizendo que a pessoa está saudável quando na verdade está gravemente doente, com risco maior para ela por não buscar tratamento além de não alertá-la para transmissão para outras pessoas. Para avaliarmos esses erros, então, é importante termos em mente:\n",
        "\n",
        "1. **Verdadeiros positivos (VP)**, paciente doente identificado pelo teste\n",
        "\n",
        "2. **Verdadeiros negativos (VN)**, paciente saudável identificado pelo teste\n",
        "\n",
        "3. **Falsos positivos (FP)**, paciente saudável mas que o teste erroneamente indica com HIV \n",
        "\n",
        "4. **Falsos negativos (FN)**, paciente com HIV mas que o teste erroneamente indica saudável\n",
        "\n",
        "A probabilidade de um falso positivo, se na verdade for negativo, é chamada de taxa de falso positivo e a taxa de falso negativo é a probabilidade de um falso negativo se na verdade for positivo. Ambas as taxas são probabilidades condicionais: A taxa de falsos positivos de um teste de HIV é a probabilidade de um resultado positivo condicionado ao fato de a pessoa testada não ter HIV.\n",
        "\n",
        "Você gostaría de saber a probabilidade de alguém ter HIV se o teste for positivo. Para simplificar as expressões vamos chamar de $H$ o evento de que a pessoa tem HIV e $T$ retorno positivo do teste. Vamos então precisar das seguintes informações que são dados fornecidos por estimativas: \n",
        "\n",
        "1. A taxa de verdadeiro positivo do teste que é conhecida como **sensibilidade**, *recall* ou probabilidade de detecção, é estimada em:\n",
        "\n",
        "$$ P(T| H) = 0.98 $$\n",
        "\n",
        "\n",
        "2. A taxa de verdadeiro negativo conhecida como **especificidade** estimada em:\n",
        "\n",
        "$$ P( \\lnot T | \\lnot H ) = 0.94 $$\n",
        "\n",
        "onde o sinal de $\\lnot$  indica a negação. \n",
        "\n",
        "3. A presença de HIV na população, estimada em:\n",
        "\n",
        "$$ P(H) = 0.01$$\n",
        "\n",
        "Vamos supor então que você deseja calcular a probabilidade do paciente ter HIV se o teste for positivo, ou seja,  \n",
        "\n",
        "$$ P( H | T ) $$\n",
        "\n",
        "Pelo Teorema de Bayes podemos escrever:\n",
        "\n",
        "$$ P( H | T ) = \\frac{P(H) P(T|H)}{P(T)} = \\frac{0.0148 \\times 0.98}{P(T)} $$\n",
        "\n",
        "Mas ainda não temos $P(T)$ o que, entretanto, pode ser obtida pela lei probabilidade total (Axioma A3, 'soma 1'):\n",
        "\n",
        "$$ P(T) = P(H) P(T|H) + P( \\lnot H)P(T | \\lnot H) =$$\n",
        "\n",
        "e as probabilidades faltantes podendo ser obtidas da regra do complemento ($P(E) = 1 - P(\\bar{E})$:\n",
        "\n",
        "$$ P(T) = P(H) P(T|H) + (1 - P(H)) ( 1 - P( \\lnot T | \\lnot H)) =$$\n",
        "$$0.01 \\times 0.98 + (1 - 0.01) \\times ( 1 - 0.94) = $$\n",
        "$$0.01 \\times 0.98 + 0.99 \\times 0.06 = 0.0692$$\n",
        "\n",
        "E portanto, \n",
        "\n",
        "$$ P( H | T ) = \\frac{P(H) P(T|H)}{P(T)} = \\frac{0.01 \\times 0.98}{0.0692} = 0.1416$$\n",
        "\n",
        "Portanto, embora o paciente tenha testado positivo para HIV, ele tem apenas 14,16% de chance de realmente ter HIV. Muitos outros cálculos semelhantes podem ser feitos e com aplicações em uma série de problemas. Mas aqui é suficiente que você entenda o que é e como podem ser empregadas as probabilidades condicionadas e o Teorema de Bayes.\n",
        "\n"
      ]
    },
    {
      "cell_type": "markdown",
      "metadata": {
        "id": "nPB0Lao8usJz"
      },
      "source": [
        "# Entropia e Informação Mútua\n",
        "\n",
        "Informações mútuas e Ganho de informações são basicamente a mesma coisa, embora o contexto dê preferência ao emprego de um nome ou outro. Essa é uma medida  calculada entre duas variáveis que mede a redução da incerteza de uma variável dado o valor conhecido da outra. Em outras palavras, se soubermos o valor de um atributo o que podemos afirmar sobre um outro atributo. Algo bastante semelhante a probabilidade condicional e tudo que você estudou até aqui nesta aula, não? \n",
        "\n",
        "O cálculo de informações mútuas é particularmente importante para seleção de atributos em problemas de aprendizado de máquina que você verá mais adiante no curso. Com ele você pode determinar que atributos mais contribuem para determinar um outro atributo, por exemplo, um atributo classe ou um valor. Por exemplo, você pode estar interessado em qual atributo mais contribui (ganho de informação!) para determinar a classe de um tumor como maligno ou benigno no dataframe `biopsy`, ou qual atributo mais influencia o preço de um veículo na base `Cars93`.\n",
        "\n",
        "\n"
      ]
    },
    {
      "cell_type": "code",
      "metadata": {
        "colab": {
          "base_uri": "https://localhost:8080/",
          "height": 283
        },
        "id": "jVwQX8nd0UwV",
        "outputId": "3fc2449a-3662-4441-b989-7d76b2f4f048"
      },
      "source": [
        "library(MASS)\n",
        "head(biopsy)"
      ],
      "execution_count": 81,
      "outputs": [
        {
          "output_type": "display_data",
          "data": {
            "text/plain": [
              "  ID      V1 V2 V3 V4 V5 V6 V7 V8 V9 class    \n",
              "1 1000025 5   1  1 1  2   1 3  1  1  benign   \n",
              "2 1002945 5   4  4 5  7  10 3  2  1  benign   \n",
              "3 1015425 3   1  1 1  2   2 3  1  1  benign   \n",
              "4 1016277 6   8  8 1  3   4 3  7  1  benign   \n",
              "5 1017023 4   1  1 3  2   1 3  1  1  benign   \n",
              "6 1017122 8  10 10 8  7  10 9  7  1  malignant"
            ],
            "text/latex": "A data.frame: 6 × 11\n\\begin{tabular}{r|lllllllllll}\n  & ID & V1 & V2 & V3 & V4 & V5 & V6 & V7 & V8 & V9 & class\\\\\n  & <chr> & <int> & <int> & <int> & <int> & <int> & <int> & <int> & <int> & <int> & <fct>\\\\\n\\hline\n\t1 & 1000025 & 5 &  1 &  1 & 1 & 2 &  1 & 3 & 1 & 1 & benign   \\\\\n\t2 & 1002945 & 5 &  4 &  4 & 5 & 7 & 10 & 3 & 2 & 1 & benign   \\\\\n\t3 & 1015425 & 3 &  1 &  1 & 1 & 2 &  2 & 3 & 1 & 1 & benign   \\\\\n\t4 & 1016277 & 6 &  8 &  8 & 1 & 3 &  4 & 3 & 7 & 1 & benign   \\\\\n\t5 & 1017023 & 4 &  1 &  1 & 3 & 2 &  1 & 3 & 1 & 1 & benign   \\\\\n\t6 & 1017122 & 8 & 10 & 10 & 8 & 7 & 10 & 9 & 7 & 1 & malignant\\\\\n\\end{tabular}\n",
            "text/markdown": "\nA data.frame: 6 × 11\n\n| <!--/--> | ID &lt;chr&gt; | V1 &lt;int&gt; | V2 &lt;int&gt; | V3 &lt;int&gt; | V4 &lt;int&gt; | V5 &lt;int&gt; | V6 &lt;int&gt; | V7 &lt;int&gt; | V8 &lt;int&gt; | V9 &lt;int&gt; | class &lt;fct&gt; |\n|---|---|---|---|---|---|---|---|---|---|---|---|\n| 1 | 1000025 | 5 |  1 |  1 | 1 | 2 |  1 | 3 | 1 | 1 | benign    |\n| 2 | 1002945 | 5 |  4 |  4 | 5 | 7 | 10 | 3 | 2 | 1 | benign    |\n| 3 | 1015425 | 3 |  1 |  1 | 1 | 2 |  2 | 3 | 1 | 1 | benign    |\n| 4 | 1016277 | 6 |  8 |  8 | 1 | 3 |  4 | 3 | 7 | 1 | benign    |\n| 5 | 1017023 | 4 |  1 |  1 | 3 | 2 |  1 | 3 | 1 | 1 | benign    |\n| 6 | 1017122 | 8 | 10 | 10 | 8 | 7 | 10 | 9 | 7 | 1 | malignant |\n\n",
            "text/html": [
              "<table class=\"dataframe\">\n",
              "<caption>A data.frame: 6 × 11</caption>\n",
              "<thead>\n",
              "\t<tr><th></th><th scope=col>ID</th><th scope=col>V1</th><th scope=col>V2</th><th scope=col>V3</th><th scope=col>V4</th><th scope=col>V5</th><th scope=col>V6</th><th scope=col>V7</th><th scope=col>V8</th><th scope=col>V9</th><th scope=col>class</th></tr>\n",
              "\t<tr><th></th><th scope=col>&lt;chr&gt;</th><th scope=col>&lt;int&gt;</th><th scope=col>&lt;int&gt;</th><th scope=col>&lt;int&gt;</th><th scope=col>&lt;int&gt;</th><th scope=col>&lt;int&gt;</th><th scope=col>&lt;int&gt;</th><th scope=col>&lt;int&gt;</th><th scope=col>&lt;int&gt;</th><th scope=col>&lt;int&gt;</th><th scope=col>&lt;fct&gt;</th></tr>\n",
              "</thead>\n",
              "<tbody>\n",
              "\t<tr><th scope=row>1</th><td>1000025</td><td>5</td><td> 1</td><td> 1</td><td>1</td><td>2</td><td> 1</td><td>3</td><td>1</td><td>1</td><td>benign   </td></tr>\n",
              "\t<tr><th scope=row>2</th><td>1002945</td><td>5</td><td> 4</td><td> 4</td><td>5</td><td>7</td><td>10</td><td>3</td><td>2</td><td>1</td><td>benign   </td></tr>\n",
              "\t<tr><th scope=row>3</th><td>1015425</td><td>3</td><td> 1</td><td> 1</td><td>1</td><td>2</td><td> 2</td><td>3</td><td>1</td><td>1</td><td>benign   </td></tr>\n",
              "\t<tr><th scope=row>4</th><td>1016277</td><td>6</td><td> 8</td><td> 8</td><td>1</td><td>3</td><td> 4</td><td>3</td><td>7</td><td>1</td><td>benign   </td></tr>\n",
              "\t<tr><th scope=row>5</th><td>1017023</td><td>4</td><td> 1</td><td> 1</td><td>3</td><td>2</td><td> 1</td><td>3</td><td>1</td><td>1</td><td>benign   </td></tr>\n",
              "\t<tr><th scope=row>6</th><td>1017122</td><td>8</td><td>10</td><td>10</td><td>8</td><td>7</td><td>10</td><td>9</td><td>7</td><td>1</td><td>malignant</td></tr>\n",
              "</tbody>\n",
              "</table>\n"
            ]
          },
          "metadata": {}
        }
      ]
    },
    {
      "cell_type": "code",
      "metadata": {
        "colab": {
          "base_uri": "https://localhost:8080/",
          "height": 405
        },
        "id": "dlOWp_ye0qbj",
        "outputId": "2a699ff6-998a-4e72-e174-4903f18a80b1"
      },
      "source": [
        "head(Cars93)"
      ],
      "execution_count": 82,
      "outputs": [
        {
          "output_type": "display_data",
          "data": {
            "text/plain": [
              "  Manufacturer Model   Type    Min.Price Price Max.Price MPG.city MPG.highway\n",
              "1 Acura        Integra Small   12.9      15.9  18.8      25       31         \n",
              "2 Acura        Legend  Midsize 29.2      33.9  38.7      18       25         \n",
              "3 Audi         90      Compact 25.9      29.1  32.3      20       26         \n",
              "4 Audi         100     Midsize 30.8      37.7  44.6      19       26         \n",
              "5 BMW          535i    Midsize 23.7      30.0  36.2      22       30         \n",
              "6 Buick        Century Midsize 14.2      15.7  17.3      22       31         \n",
              "  AirBags            DriveTrain ⋯ Passengers Length Wheelbase Width Turn.circle\n",
              "1 None               Front      ⋯ 5          177    102       68    37         \n",
              "2 Driver & Passenger Front      ⋯ 5          195    115       71    38         \n",
              "3 Driver only        Front      ⋯ 5          180    102       67    37         \n",
              "4 Driver & Passenger Front      ⋯ 6          193    106       70    37         \n",
              "5 Driver only        Rear       ⋯ 4          186    109       69    39         \n",
              "6 Driver only        Front      ⋯ 6          189    105       69    41         \n",
              "  Rear.seat.room Luggage.room Weight Origin  Make         \n",
              "1 26.5           11           2705   non-USA Acura Integra\n",
              "2 30.0           15           3560   non-USA Acura Legend \n",
              "3 28.0           14           3375   non-USA Audi 90      \n",
              "4 31.0           17           3405   non-USA Audi 100     \n",
              "5 27.0           13           3640   non-USA BMW 535i     \n",
              "6 28.0           16           2880   USA     Buick Century"
            ],
            "text/latex": "A data.frame: 6 × 27\n\\begin{tabular}{r|lllllllllllllllllllll}\n  & Manufacturer & Model & Type & Min.Price & Price & Max.Price & MPG.city & MPG.highway & AirBags & DriveTrain & ⋯ & Passengers & Length & Wheelbase & Width & Turn.circle & Rear.seat.room & Luggage.room & Weight & Origin & Make\\\\\n  & <fct> & <fct> & <fct> & <dbl> & <dbl> & <dbl> & <int> & <int> & <fct> & <fct> & ⋯ & <int> & <int> & <int> & <int> & <int> & <dbl> & <int> & <int> & <fct> & <fct>\\\\\n\\hline\n\t1 & Acura & Integra & Small   & 12.9 & 15.9 & 18.8 & 25 & 31 & None               & Front & ⋯ & 5 & 177 & 102 & 68 & 37 & 26.5 & 11 & 2705 & non-USA & Acura Integra\\\\\n\t2 & Acura & Legend  & Midsize & 29.2 & 33.9 & 38.7 & 18 & 25 & Driver \\& Passenger & Front & ⋯ & 5 & 195 & 115 & 71 & 38 & 30.0 & 15 & 3560 & non-USA & Acura Legend \\\\\n\t3 & Audi  & 90      & Compact & 25.9 & 29.1 & 32.3 & 20 & 26 & Driver only        & Front & ⋯ & 5 & 180 & 102 & 67 & 37 & 28.0 & 14 & 3375 & non-USA & Audi 90      \\\\\n\t4 & Audi  & 100     & Midsize & 30.8 & 37.7 & 44.6 & 19 & 26 & Driver \\& Passenger & Front & ⋯ & 6 & 193 & 106 & 70 & 37 & 31.0 & 17 & 3405 & non-USA & Audi 100     \\\\\n\t5 & BMW   & 535i    & Midsize & 23.7 & 30.0 & 36.2 & 22 & 30 & Driver only        & Rear  & ⋯ & 4 & 186 & 109 & 69 & 39 & 27.0 & 13 & 3640 & non-USA & BMW 535i     \\\\\n\t6 & Buick & Century & Midsize & 14.2 & 15.7 & 17.3 & 22 & 31 & Driver only        & Front & ⋯ & 6 & 189 & 105 & 69 & 41 & 28.0 & 16 & 2880 & USA     & Buick Century\\\\\n\\end{tabular}\n",
            "text/markdown": "\nA data.frame: 6 × 27\n\n| <!--/--> | Manufacturer &lt;fct&gt; | Model &lt;fct&gt; | Type &lt;fct&gt; | Min.Price &lt;dbl&gt; | Price &lt;dbl&gt; | Max.Price &lt;dbl&gt; | MPG.city &lt;int&gt; | MPG.highway &lt;int&gt; | AirBags &lt;fct&gt; | DriveTrain &lt;fct&gt; | ⋯ ⋯ | Passengers &lt;int&gt; | Length &lt;int&gt; | Wheelbase &lt;int&gt; | Width &lt;int&gt; | Turn.circle &lt;int&gt; | Rear.seat.room &lt;dbl&gt; | Luggage.room &lt;int&gt; | Weight &lt;int&gt; | Origin &lt;fct&gt; | Make &lt;fct&gt; |\n|---|---|---|---|---|---|---|---|---|---|---|---|---|---|---|---|---|---|---|---|---|---|\n| 1 | Acura | Integra | Small   | 12.9 | 15.9 | 18.8 | 25 | 31 | None               | Front | ⋯ | 5 | 177 | 102 | 68 | 37 | 26.5 | 11 | 2705 | non-USA | Acura Integra |\n| 2 | Acura | Legend  | Midsize | 29.2 | 33.9 | 38.7 | 18 | 25 | Driver &amp; Passenger | Front | ⋯ | 5 | 195 | 115 | 71 | 38 | 30.0 | 15 | 3560 | non-USA | Acura Legend  |\n| 3 | Audi  | 90      | Compact | 25.9 | 29.1 | 32.3 | 20 | 26 | Driver only        | Front | ⋯ | 5 | 180 | 102 | 67 | 37 | 28.0 | 14 | 3375 | non-USA | Audi 90       |\n| 4 | Audi  | 100     | Midsize | 30.8 | 37.7 | 44.6 | 19 | 26 | Driver &amp; Passenger | Front | ⋯ | 6 | 193 | 106 | 70 | 37 | 31.0 | 17 | 3405 | non-USA | Audi 100      |\n| 5 | BMW   | 535i    | Midsize | 23.7 | 30.0 | 36.2 | 22 | 30 | Driver only        | Rear  | ⋯ | 4 | 186 | 109 | 69 | 39 | 27.0 | 13 | 3640 | non-USA | BMW 535i      |\n| 6 | Buick | Century | Midsize | 14.2 | 15.7 | 17.3 | 22 | 31 | Driver only        | Front | ⋯ | 6 | 189 | 105 | 69 | 41 | 28.0 | 16 | 2880 | USA     | Buick Century |\n\n",
            "text/html": [
              "<table class=\"dataframe\">\n",
              "<caption>A data.frame: 6 × 27</caption>\n",
              "<thead>\n",
              "\t<tr><th></th><th scope=col>Manufacturer</th><th scope=col>Model</th><th scope=col>Type</th><th scope=col>Min.Price</th><th scope=col>Price</th><th scope=col>Max.Price</th><th scope=col>MPG.city</th><th scope=col>MPG.highway</th><th scope=col>AirBags</th><th scope=col>DriveTrain</th><th scope=col>⋯</th><th scope=col>Passengers</th><th scope=col>Length</th><th scope=col>Wheelbase</th><th scope=col>Width</th><th scope=col>Turn.circle</th><th scope=col>Rear.seat.room</th><th scope=col>Luggage.room</th><th scope=col>Weight</th><th scope=col>Origin</th><th scope=col>Make</th></tr>\n",
              "\t<tr><th></th><th scope=col>&lt;fct&gt;</th><th scope=col>&lt;fct&gt;</th><th scope=col>&lt;fct&gt;</th><th scope=col>&lt;dbl&gt;</th><th scope=col>&lt;dbl&gt;</th><th scope=col>&lt;dbl&gt;</th><th scope=col>&lt;int&gt;</th><th scope=col>&lt;int&gt;</th><th scope=col>&lt;fct&gt;</th><th scope=col>&lt;fct&gt;</th><th scope=col>⋯</th><th scope=col>&lt;int&gt;</th><th scope=col>&lt;int&gt;</th><th scope=col>&lt;int&gt;</th><th scope=col>&lt;int&gt;</th><th scope=col>&lt;int&gt;</th><th scope=col>&lt;dbl&gt;</th><th scope=col>&lt;int&gt;</th><th scope=col>&lt;int&gt;</th><th scope=col>&lt;fct&gt;</th><th scope=col>&lt;fct&gt;</th></tr>\n",
              "</thead>\n",
              "<tbody>\n",
              "\t<tr><th scope=row>1</th><td>Acura</td><td>Integra</td><td>Small  </td><td>12.9</td><td>15.9</td><td>18.8</td><td>25</td><td>31</td><td>None              </td><td>Front</td><td>⋯</td><td>5</td><td>177</td><td>102</td><td>68</td><td>37</td><td>26.5</td><td>11</td><td>2705</td><td>non-USA</td><td>Acura Integra</td></tr>\n",
              "\t<tr><th scope=row>2</th><td>Acura</td><td>Legend </td><td>Midsize</td><td>29.2</td><td>33.9</td><td>38.7</td><td>18</td><td>25</td><td>Driver &amp; Passenger</td><td>Front</td><td>⋯</td><td>5</td><td>195</td><td>115</td><td>71</td><td>38</td><td>30.0</td><td>15</td><td>3560</td><td>non-USA</td><td>Acura Legend </td></tr>\n",
              "\t<tr><th scope=row>3</th><td>Audi </td><td>90     </td><td>Compact</td><td>25.9</td><td>29.1</td><td>32.3</td><td>20</td><td>26</td><td>Driver only       </td><td>Front</td><td>⋯</td><td>5</td><td>180</td><td>102</td><td>67</td><td>37</td><td>28.0</td><td>14</td><td>3375</td><td>non-USA</td><td>Audi 90      </td></tr>\n",
              "\t<tr><th scope=row>4</th><td>Audi </td><td><span style=white-space:pre-wrap>100    </span></td><td>Midsize</td><td>30.8</td><td>37.7</td><td>44.6</td><td>19</td><td>26</td><td>Driver &amp; Passenger</td><td>Front</td><td>⋯</td><td>6</td><td>193</td><td>106</td><td>70</td><td>37</td><td>31.0</td><td>17</td><td>3405</td><td>non-USA</td><td><span style=white-space:pre-wrap>Audi 100     </span></td></tr>\n",
              "\t<tr><th scope=row>5</th><td>BMW  </td><td>535i   </td><td>Midsize</td><td>23.7</td><td>30.0</td><td>36.2</td><td>22</td><td>30</td><td>Driver only       </td><td>Rear </td><td>⋯</td><td>4</td><td>186</td><td>109</td><td>69</td><td>39</td><td>27.0</td><td>13</td><td>3640</td><td>non-USA</td><td>BMW 535i     </td></tr>\n",
              "\t<tr><th scope=row>6</th><td>Buick</td><td>Century</td><td>Midsize</td><td>14.2</td><td>15.7</td><td>17.3</td><td>22</td><td>31</td><td>Driver only       </td><td>Front</td><td>⋯</td><td>6</td><td>189</td><td>105</td><td>69</td><td>41</td><td>28.0</td><td>16</td><td>2880</td><td>USA    </td><td>Buick Century</td></tr>\n",
              "</tbody>\n",
              "</table>\n"
            ]
          },
          "metadata": {}
        }
      ]
    },
    {
      "cell_type": "markdown",
      "metadata": {
        "id": "kzDIogHe1Bwn"
      },
      "source": [
        "Essa certamente é uma informação de Análise Exploratória dos Dados bastante útil e que você poderá empregar muitas vezes daqui por diante no curso. Vamos então ver como obter esses valores a partir do conceito inicial de Entropia."
      ]
    },
    {
      "cell_type": "markdown",
      "metadata": {
        "id": "khvzUrW0HH14"
      },
      "source": [
        "## Entropia\n",
        "\n",
        "A Entropia (Entropia de Shannon) é uma medida de quantidade de informação. Ela não é ainda a informação mútua ou o ganho de informação. A Entropia é uma quantidade de informação e é medida sobre um único atributo (a informação mútua é uma medida de relação entre dois atributos). A Entropia $E(s)$ de $s$ é definida como: \n",
        "\n",
        "$$ E(s) = - \\sum_i p_i \\log p_i $$\n",
        "\n",
        "onde $p_i$ representa as probabilidades dos possíveis valores de $s$. Assim,  \n",
        "\n",
        "$$ E(\\text{constante}) = - 1 \\log 1 = 0 $$\n",
        "\n",
        "pois um dado constante não traz qualquer informação e, \n",
        "\n",
        "$$ E(\\text{bit}) = - 1/2 \\log 1/2 - 1/2 \\log 1/2 = 1 $$\n",
        "\n",
        "o que corresponde à noção comum de que o *bit* é a unidade de informação.  \n",
        "\n",
        "Por exemplo a Entropia do atributo `class` de `biopsy` pode ser diretamente calculado como:\n",
        "\n",
        "\n",
        "\n"
      ]
    },
    {
      "cell_type": "code",
      "metadata": {
        "colab": {
          "base_uri": "https://localhost:8080/",
          "height": 68
        },
        "id": "akydZmCF4G09",
        "outputId": "6d9b37cf-a5d9-481e-d504-fda3c3ab0aae"
      },
      "source": [
        "p = prop.table(table(biopsy$class))\n",
        "p"
      ],
      "execution_count": 114,
      "outputs": [
        {
          "output_type": "display_data",
          "data": {
            "text/plain": [
              "\n",
              "   benign malignant \n",
              "0.6552217 0.3447783 "
            ]
          },
          "metadata": {}
        }
      ]
    },
    {
      "cell_type": "code",
      "metadata": {
        "colab": {
          "base_uri": "https://localhost:8080/"
        },
        "id": "5C9RYd1_4SiD",
        "outputId": "861600cf-307f-4298-c633-c99297b77a21"
      },
      "source": [
        "E_class =  - p[1] * log( p[1]) - p[2] * log( p[2])\n",
        "print(E_class)"
      ],
      "execution_count": 115,
      "outputs": [
        {
          "output_type": "stream",
          "name": "stdout",
          "text": [
            "   benign \n",
            "0.6441541 \n"
          ]
        }
      ]
    },
    {
      "cell_type": "markdown",
      "metadata": {
        "id": "7qbn3FEu5jm9"
      },
      "source": [
        "## Informação Mútua ou Ganho de Informação\n",
        "\n",
        "Mas, não obstante a importância conceitual da entropia, a Informação Mútua ou Ganho de Informação desempenha um papel muito mais prático e importante. O ganho de informação que um atributo $A$ carrega para determinar o valor de um atributo objetivo (*target*) $T$ pode ser expresso em termos de Entropia como: \n",
        "\n",
        "$$ IG(A,T) = E(T) - \\sum_i p_i E(T | a_i) $$\n",
        "\n",
        "Onde $\\sum_i p_i E(T | a_i)$ é pode ser entendido como uma média ponderada de da Entropia de $T$ para cada valor $a_i$ de $A$. A figura a seguir ilustra o cálculo do ganho de informação do atributo `Hello` para o atributo objetivo `Spam`. "
      ]
    },
    {
      "cell_type": "markdown",
      "metadata": {
        "id": "i-Wkbge96E0P"
      },
      "source": [
        "![imagem](https://github.com/Rogerio-mack/Analise_Exploratoria_de_Dados/blob/main/figuras/EntropiaGanhoInformacao.png?raw=true)"
      ]
    },
    {
      "cell_type": "markdown",
      "metadata": {
        "id": "ywQpQZbe7eWM"
      },
      "source": [
        "No exemplo o ganho de informação obtido é 0 apenas por que, idenpendentemente do valor de `Hello` (a presença do termo `Hello` em um email) mantêm as mesmas proporções de casos de spam e não spam de antes de termos essa informação."
      ]
    },
    {
      "cell_type": "markdown",
      "metadata": {
        "id": "LfTHaKtT24AV"
      },
      "source": [
        "> Nota: em geral a informação mútua emprega a entropia, mas o ganho de informação ainda pode ser calculado empregando-se outros valores diferentes da entropia como o Índice Gini:\n",
        "\n",
        "$$ Gini(s) = 1 - \\sum_i p_i $$ \n",
        "\n",
        "> Ou o erro de classificação: \n",
        "\n",
        "$$ CE(s) = 1 - \\max p_i $$\n",
        "\n",
        "> Neste caso os valores $Gini(s)$ e $CE(s)$, substituem os valores de entropia $E(s)$ acima. Obviamente os valores obtidos são diferentes, mas sendo medidas relativas eles permitem igualmente calcular a diferença de ganho entre diferentes atributos. Você poderá ver isso mais adiante no curso quando estudar modelos de Árvores de Decisão que podem empregar esses diferentes critérios para a seleção dos atributos da Árvore. "
      ]
    },
    {
      "cell_type": "markdown",
      "metadata": {
        "id": "X9hXMLRI9cJZ"
      },
      "source": [
        "Felizmente em R (e também em Python) esses cálculos podem ser obtidos pela simples chamada de uma função. Existem vários pacotes que podem ser empregados e aqui empregaremos o pacote `infotheo` que permite também o cálculo de entropia."
      ]
    },
    {
      "cell_type": "code",
      "metadata": {
        "colab": {
          "base_uri": "https://localhost:8080/"
        },
        "id": "lucvC4xV-hBh",
        "outputId": "86335cb6-2fc5-4284-8357-5bbeed737ef4"
      },
      "source": [
        "install.packages('infotheo')\n",
        "library(infotheo)"
      ],
      "execution_count": 117,
      "outputs": [
        {
          "output_type": "stream",
          "name": "stderr",
          "text": [
            "Installing package into ‘/usr/local/lib/R/site-library’\n",
            "(as ‘lib’ is unspecified)\n",
            "\n"
          ]
        }
      ]
    },
    {
      "cell_type": "markdown",
      "metadata": {
        "id": "FQC_K3jO_No4"
      },
      "source": [
        "Calculo da entropia de `biopsy$class` corresponde exatamente ao cálculo que fizemos antes,"
      ]
    },
    {
      "cell_type": "code",
      "metadata": {
        "colab": {
          "base_uri": "https://localhost:8080/",
          "height": 34
        },
        "id": "XqCZI_vL_AVu",
        "outputId": "2055524f-a630-40a8-d8aa-35188df0f6a4"
      },
      "source": [
        "entropy(biopsy$class)"
      ],
      "execution_count": 120,
      "outputs": [
        {
          "output_type": "display_data",
          "data": {
            "text/plain": [
              "[1] 0.6441541"
            ],
            "text/latex": "0.644154108048482",
            "text/markdown": "0.644154108048482",
            "text/html": [
              "0.644154108048482"
            ]
          },
          "metadata": {}
        }
      ]
    },
    {
      "cell_type": "markdown",
      "metadata": {
        "id": "DmY_Q30v_aVO"
      },
      "source": [
        "E o nosso exemplo, Hello/Spam pode igualmente calculado como:"
      ]
    },
    {
      "cell_type": "code",
      "metadata": {
        "colab": {
          "base_uri": "https://localhost:8080/",
          "height": 34
        },
        "id": "qqG35piI97qe",
        "outputId": "c04d31f8-923e-43da-efc5-f986c994922a"
      },
      "source": [
        "mutinformation(c('n','n','n','n','y','y'),c('y','y','n','n','y','n'))"
      ],
      "execution_count": 121,
      "outputs": [
        {
          "output_type": "display_data",
          "data": {
            "text/plain": [
              "[1] 0"
            ],
            "text/latex": "0",
            "text/markdown": "0",
            "text/html": [
              "0"
            ]
          },
          "metadata": {}
        }
      ]
    },
    {
      "cell_type": "markdown",
      "metadata": {
        "id": "pR4wGIRT_0-e"
      },
      "source": [
        "# Feature Selection\n",
        "\n",
        "Podemos agora empregar o cálculo de informação mútua para selecionar os 5 atributos de `biopsy` mais relevantes para determinar a classe maligno/benigno dos tumores."
      ]
    },
    {
      "cell_type": "code",
      "metadata": {
        "id": "-Aaipi_fCFwN"
      },
      "source": [
        "ig = data.frame(features = names(biopsy)[3:ncol(biopsy)-1], ig = 0 )"
      ],
      "execution_count": 130,
      "outputs": []
    },
    {
      "cell_type": "code",
      "metadata": {
        "colab": {
          "base_uri": "https://localhost:8080/",
          "height": 376
        },
        "id": "cIfJ-Sf1CcU9",
        "outputId": "a7211b61-5638-4370-85c3-602f2780b510"
      },
      "source": [
        "ig"
      ],
      "execution_count": 131,
      "outputs": [
        {
          "output_type": "display_data",
          "data": {
            "text/plain": [
              "  features ig\n",
              "1 V1       0 \n",
              "2 V2       0 \n",
              "3 V3       0 \n",
              "4 V4       0 \n",
              "5 V5       0 \n",
              "6 V6       0 \n",
              "7 V7       0 \n",
              "8 V8       0 \n",
              "9 V9       0 "
            ],
            "text/latex": "A data.frame: 9 × 2\n\\begin{tabular}{ll}\n features & ig\\\\\n <chr> & <dbl>\\\\\n\\hline\n\t V1 & 0\\\\\n\t V2 & 0\\\\\n\t V3 & 0\\\\\n\t V4 & 0\\\\\n\t V5 & 0\\\\\n\t V6 & 0\\\\\n\t V7 & 0\\\\\n\t V8 & 0\\\\\n\t V9 & 0\\\\\n\\end{tabular}\n",
            "text/markdown": "\nA data.frame: 9 × 2\n\n| features &lt;chr&gt; | ig &lt;dbl&gt; |\n|---|---|\n| V1 | 0 |\n| V2 | 0 |\n| V3 | 0 |\n| V4 | 0 |\n| V5 | 0 |\n| V6 | 0 |\n| V7 | 0 |\n| V8 | 0 |\n| V9 | 0 |\n\n",
            "text/html": [
              "<table class=\"dataframe\">\n",
              "<caption>A data.frame: 9 × 2</caption>\n",
              "<thead>\n",
              "\t<tr><th scope=col>features</th><th scope=col>ig</th></tr>\n",
              "\t<tr><th scope=col>&lt;chr&gt;</th><th scope=col>&lt;dbl&gt;</th></tr>\n",
              "</thead>\n",
              "<tbody>\n",
              "\t<tr><td>V1</td><td>0</td></tr>\n",
              "\t<tr><td>V2</td><td>0</td></tr>\n",
              "\t<tr><td>V3</td><td>0</td></tr>\n",
              "\t<tr><td>V4</td><td>0</td></tr>\n",
              "\t<tr><td>V5</td><td>0</td></tr>\n",
              "\t<tr><td>V6</td><td>0</td></tr>\n",
              "\t<tr><td>V7</td><td>0</td></tr>\n",
              "\t<tr><td>V8</td><td>0</td></tr>\n",
              "\t<tr><td>V9</td><td>0</td></tr>\n",
              "</tbody>\n",
              "</table>\n"
            ]
          },
          "metadata": {}
        }
      ]
    },
    {
      "cell_type": "code",
      "metadata": {
        "colab": {
          "base_uri": "https://localhost:8080/"
        },
        "id": "XY7b4jchAIcv",
        "outputId": "f066661e-3d2e-4f12-a1be-a1b6ec5bd3ca"
      },
      "source": [
        "for (i in ig$features){\n",
        "  cat( i , mutinformation(biopsy[,i],biopsy$class) , '\\n' )\n",
        "  ig[ ig$features == i,]$ig = mutinformation(biopsy[,i],biopsy$class)\n",
        "}  "
      ],
      "execution_count": 133,
      "outputs": [
        {
          "output_type": "stream",
          "name": "stdout",
          "text": [
            "V1 0.3221251 \n",
            "V2 0.4742989 \n",
            "V3 0.4581513 \n",
            "V4 0.3112337 \n",
            "V5 0.3563409 \n",
            "V6 0.4147862 \n",
            "V7 0.3796811 \n",
            "V8 0.3295728 \n",
            "V9 0.145647 \n"
          ]
        }
      ]
    },
    {
      "cell_type": "code",
      "metadata": {
        "colab": {
          "base_uri": "https://localhost:8080/",
          "height": 376
        },
        "id": "iGeZCFLZDAUN",
        "outputId": "27c02842-32f5-4634-eb9d-dd8ed85fd1a1"
      },
      "source": [
        "ig[order(-ig$ig),]"
      ],
      "execution_count": 136,
      "outputs": [
        {
          "output_type": "display_data",
          "data": {
            "text/plain": [
              "  features ig       \n",
              "2 V2       0.4742989\n",
              "3 V3       0.4581513\n",
              "6 V6       0.4147862\n",
              "7 V7       0.3796811\n",
              "5 V5       0.3563409\n",
              "8 V8       0.3295728\n",
              "1 V1       0.3221251\n",
              "4 V4       0.3112337\n",
              "9 V9       0.1456470"
            ],
            "text/latex": "A data.frame: 9 × 2\n\\begin{tabular}{r|ll}\n  & features & ig\\\\\n  & <chr> & <dbl>\\\\\n\\hline\n\t2 & V2 & 0.4742989\\\\\n\t3 & V3 & 0.4581513\\\\\n\t6 & V6 & 0.4147862\\\\\n\t7 & V7 & 0.3796811\\\\\n\t5 & V5 & 0.3563409\\\\\n\t8 & V8 & 0.3295728\\\\\n\t1 & V1 & 0.3221251\\\\\n\t4 & V4 & 0.3112337\\\\\n\t9 & V9 & 0.1456470\\\\\n\\end{tabular}\n",
            "text/markdown": "\nA data.frame: 9 × 2\n\n| <!--/--> | features &lt;chr&gt; | ig &lt;dbl&gt; |\n|---|---|---|\n| 2 | V2 | 0.4742989 |\n| 3 | V3 | 0.4581513 |\n| 6 | V6 | 0.4147862 |\n| 7 | V7 | 0.3796811 |\n| 5 | V5 | 0.3563409 |\n| 8 | V8 | 0.3295728 |\n| 1 | V1 | 0.3221251 |\n| 4 | V4 | 0.3112337 |\n| 9 | V9 | 0.1456470 |\n\n",
            "text/html": [
              "<table class=\"dataframe\">\n",
              "<caption>A data.frame: 9 × 2</caption>\n",
              "<thead>\n",
              "\t<tr><th></th><th scope=col>features</th><th scope=col>ig</th></tr>\n",
              "\t<tr><th></th><th scope=col>&lt;chr&gt;</th><th scope=col>&lt;dbl&gt;</th></tr>\n",
              "</thead>\n",
              "<tbody>\n",
              "\t<tr><th scope=row>2</th><td>V2</td><td>0.4742989</td></tr>\n",
              "\t<tr><th scope=row>3</th><td>V3</td><td>0.4581513</td></tr>\n",
              "\t<tr><th scope=row>6</th><td>V6</td><td>0.4147862</td></tr>\n",
              "\t<tr><th scope=row>7</th><td>V7</td><td>0.3796811</td></tr>\n",
              "\t<tr><th scope=row>5</th><td>V5</td><td>0.3563409</td></tr>\n",
              "\t<tr><th scope=row>8</th><td>V8</td><td>0.3295728</td></tr>\n",
              "\t<tr><th scope=row>1</th><td>V1</td><td>0.3221251</td></tr>\n",
              "\t<tr><th scope=row>4</th><td>V4</td><td>0.3112337</td></tr>\n",
              "\t<tr><th scope=row>9</th><td>V9</td><td>0.1456470</td></tr>\n",
              "</tbody>\n",
              "</table>\n"
            ]
          },
          "metadata": {}
        }
      ]
    },
    {
      "cell_type": "markdown",
      "metadata": {
        "id": "kIn33b6eHDRq"
      },
      "source": [
        "O pacote `infotheo` não permite o cálculo de informação mútua para valores contínuos como o preço dos veículos em `Cars93`, mas existem outros pacotes e até mesmo em Python,  deixamos isso como um exercício para você e você pode empregar as indicações que deixamos mais abaixo. "
      ]
    },
    {
      "cell_type": "markdown",
      "metadata": {
        "id": "-Rh3-Vt9Nev9"
      },
      "source": [
        "# Para Saber Mais\n",
        "\n",
        "1. Acesse https://www.kaggle.com/ryanholbrook/mutual-information empregue o modelo de código fornecido para calcular os atributos que mais trazem informação sobre o preço dos veículos na base `Cars93` (Dica: crie a base Cars93 em Python para empregar as funções do exemplo em Python). \n",
        "\n",
        "2. Acesse  Sun, Dennis. **Introduction to Probability**  em: https://dlsun.github.io/probability/ e leia o capítulo 9 para descobrir como interpretar geometricamente a Lei de Bayes.\n",
        "\n",
        "3. As Probabilidades Condicionais e o pensamento Baysiano não são tão intuitivas como o pensamento frequentista de probabilidade. Acesse esse texto **Monty Hall Problem** em https://brilliant.org/wiki/monty-hall-problem/?quiz=monty-hall e conheça um caso clássico onde o pensamento bayesiano leva um um resultado bastante contra-intuitivo, embora seja algo que podemos observar na prática.\n",
        "\n",
        "3. Esse é um tema bastante avançado, mas se você quiser saber sobre distribuições de probabilidade no modelo Baysiano, pode acessar essa introdução que ainda traz códigos em R: **Bayesian models in R** https://www.r-bloggers.com/2019/05/bayesian-models-in-r-2/ "
      ]
    },
    {
      "cell_type": "markdown",
      "metadata": {
        "id": "YQW_-3h2bxzF"
      },
      "source": [
        "# Referências\n",
        "\n",
        "1. Sun, Dennis. **Introduction to Probability**. Disponível em: https://dlsun.github.io/probability/  Acesso: 20 de setembro de 2021.\n",
        "\n",
        "1. Clyde, M., C-Rundel, M., Rundel, C., Banks, D., Chai, C., Huang, L. **An Introduction to Bayesian Thinking: A Companion to the Statistics with R Course** Disponível em:https://statswithr.github.io/book/  Acesso: 20 de setembro de 2021.\n",
        "\n",
        "1. Freire, Sergio Miranda. **Bioestatística Básica**. disponível em: http://www.lampada.uerj.br/arquivosdb/_book/bioestatisticaBasica.html. Acesso: 10/04/2021.\n",
        "\n",
        "1. Pipis, G. (2020) **Contingency Tables in R**. Disponível em: https://predictivehacks.com/contingency-tables-in-r/ Acesso: 19.09.2021 \n",
        "\n",
        "1. Devore, Jay L. **Probabilidade e Estatística para Engenharia e Ciências**. Trad. Solange Aparecida Visconte. Cengage, 2018.\n",
        "\n",
        "1. Navarro, Danielle, **Learning Statistics with R**, disponível em: https://learningstatisticswithr.com/ ( LSR version 0.6 (pdf) ). Acesso: 26/02/2021. Alternativamente em formato bookdown: https://learningstatisticswithr.com/book/ Acesso: 07/03/2021.\n",
        "\n"
      ]
    }
  ]
}