{
  "nbformat": 4,
  "nbformat_minor": 0,
  "metadata": {
    "colab": {
      "name": "AED_4_ex.ipynb",
      "provenance": [],
      "authorship_tag": "ABX9TyNu7DpLk6gg4gx7WwueR8kq",
      "include_colab_link": true
    },
    "kernelspec": {
      "name": "ir",
      "display_name": "R"
    },
    "language_info": {
      "name": "R"
    }
  },
  "cells": [
    {
      "cell_type": "markdown",
      "metadata": {
        "id": "view-in-github",
        "colab_type": "text"
      },
      "source": [
        "<a href=\"https://colab.research.google.com/github/Rogerio-mack/Analise_Exploratoria_de_Dados/blob/main/AED_4_ex.ipynb\" target=\"_parent\"><img src=\"https://colab.research.google.com/assets/colab-badge.svg\" alt=\"Open In Colab\"/></a>"
      ]
    },
    {
      "cell_type": "markdown",
      "metadata": {
        "id": "40b90843"
      },
      "source": [
        "<img src=\"http://meusite.mackenzie.br/rogerio/mackenzie_logo/UPM.2_horizontal_vermelho.jpg\"  width=300, align=\"right\">\n",
        "<br>\n",
        "<br>\n",
        "<br>\n",
        "<br>\n",
        "<br>\n",
        "\n",
        "# Visualização de Dados em R\n",
        "---"
      ]
    },
    {
      "cell_type": "markdown",
      "metadata": {
        "id": "fa5be3fc"
      },
      "source": [
        "# Exercícios"
      ]
    },
    {
      "cell_type": "markdown",
      "metadata": {
        "id": "3604bbf3"
      },
      "source": [
        "## Exercício 1\n",
        "\n",
        "Considere a base."
      ]
    },
    {
      "cell_type": "code",
      "metadata": {
        "kernel": "R",
        "tags": [
          "report_cell"
        ],
        "id": "ce314c0d",
        "colab": {
          "base_uri": "https://localhost:8080/",
          "height": 334
        },
        "outputId": "cda048d4-3096-4a67-e96c-5ec3dafd1eb8"
      },
      "source": [
        "install.packages(\"mosaicData\")\n",
        "data(CPS85 , package = \"mosaicData\")\n",
        "head(CPS85)"
      ],
      "execution_count": 3,
      "outputs": [
        {
          "output_type": "stream",
          "name": "stderr",
          "text": [
            "Installing package into ‘/usr/local/lib/R/site-library’\n",
            "(as ‘lib’ is unspecified)\n",
            "\n"
          ]
        },
        {
          "output_type": "display_data",
          "data": {
            "text/plain": [
              "  wage educ race sex hispanic south married exper union age sector  \n",
              "1  9.0 10   W    M   NH       NS    Married 27    Not   43  const   \n",
              "2  5.5 12   W    M   NH       NS    Married 20    Not   38  sales   \n",
              "3  3.8 12   W    F   NH       NS    Single   4    Not   22  sales   \n",
              "4 10.5 12   W    F   NH       NS    Married 29    Not   47  clerical\n",
              "5 15.0 12   W    M   NH       NS    Married 40    Union 58  const   \n",
              "6  9.0 16   W    F   NH       NS    Married 27    Not   49  clerical"
            ],
            "text/latex": "A data.frame: 6 × 11\n\\begin{tabular}{r|lllllllllll}\n  & wage & educ & race & sex & hispanic & south & married & exper & union & age & sector\\\\\n  & <dbl> & <int> & <fct> & <fct> & <fct> & <fct> & <fct> & <int> & <fct> & <int> & <fct>\\\\\n\\hline\n\t1 &  9.0 & 10 & W & M & NH & NS & Married & 27 & Not   & 43 & const   \\\\\n\t2 &  5.5 & 12 & W & M & NH & NS & Married & 20 & Not   & 38 & sales   \\\\\n\t3 &  3.8 & 12 & W & F & NH & NS & Single  &  4 & Not   & 22 & sales   \\\\\n\t4 & 10.5 & 12 & W & F & NH & NS & Married & 29 & Not   & 47 & clerical\\\\\n\t5 & 15.0 & 12 & W & M & NH & NS & Married & 40 & Union & 58 & const   \\\\\n\t6 &  9.0 & 16 & W & F & NH & NS & Married & 27 & Not   & 49 & clerical\\\\\n\\end{tabular}\n",
            "text/markdown": "\nA data.frame: 6 × 11\n\n| <!--/--> | wage &lt;dbl&gt; | educ &lt;int&gt; | race &lt;fct&gt; | sex &lt;fct&gt; | hispanic &lt;fct&gt; | south &lt;fct&gt; | married &lt;fct&gt; | exper &lt;int&gt; | union &lt;fct&gt; | age &lt;int&gt; | sector &lt;fct&gt; |\n|---|---|---|---|---|---|---|---|---|---|---|---|\n| 1 |  9.0 | 10 | W | M | NH | NS | Married | 27 | Not   | 43 | const    |\n| 2 |  5.5 | 12 | W | M | NH | NS | Married | 20 | Not   | 38 | sales    |\n| 3 |  3.8 | 12 | W | F | NH | NS | Single  |  4 | Not   | 22 | sales    |\n| 4 | 10.5 | 12 | W | F | NH | NS | Married | 29 | Not   | 47 | clerical |\n| 5 | 15.0 | 12 | W | M | NH | NS | Married | 40 | Union | 58 | const    |\n| 6 |  9.0 | 16 | W | F | NH | NS | Married | 27 | Not   | 49 | clerical |\n\n",
            "text/html": [
              "<table class=\"dataframe\">\n",
              "<caption>A data.frame: 6 × 11</caption>\n",
              "<thead>\n",
              "\t<tr><th></th><th scope=col>wage</th><th scope=col>educ</th><th scope=col>race</th><th scope=col>sex</th><th scope=col>hispanic</th><th scope=col>south</th><th scope=col>married</th><th scope=col>exper</th><th scope=col>union</th><th scope=col>age</th><th scope=col>sector</th></tr>\n",
              "\t<tr><th></th><th scope=col>&lt;dbl&gt;</th><th scope=col>&lt;int&gt;</th><th scope=col>&lt;fct&gt;</th><th scope=col>&lt;fct&gt;</th><th scope=col>&lt;fct&gt;</th><th scope=col>&lt;fct&gt;</th><th scope=col>&lt;fct&gt;</th><th scope=col>&lt;int&gt;</th><th scope=col>&lt;fct&gt;</th><th scope=col>&lt;int&gt;</th><th scope=col>&lt;fct&gt;</th></tr>\n",
              "</thead>\n",
              "<tbody>\n",
              "\t<tr><th scope=row>1</th><td> 9.0</td><td>10</td><td>W</td><td>M</td><td>NH</td><td>NS</td><td>Married</td><td>27</td><td>Not  </td><td>43</td><td>const   </td></tr>\n",
              "\t<tr><th scope=row>2</th><td> 5.5</td><td>12</td><td>W</td><td>M</td><td>NH</td><td>NS</td><td>Married</td><td>20</td><td>Not  </td><td>38</td><td>sales   </td></tr>\n",
              "\t<tr><th scope=row>3</th><td> 3.8</td><td>12</td><td>W</td><td>F</td><td>NH</td><td>NS</td><td>Single </td><td> 4</td><td>Not  </td><td>22</td><td>sales   </td></tr>\n",
              "\t<tr><th scope=row>4</th><td>10.5</td><td>12</td><td>W</td><td>F</td><td>NH</td><td>NS</td><td>Married</td><td>29</td><td>Not  </td><td>47</td><td>clerical</td></tr>\n",
              "\t<tr><th scope=row>5</th><td>15.0</td><td>12</td><td>W</td><td>M</td><td>NH</td><td>NS</td><td>Married</td><td>40</td><td>Union</td><td>58</td><td>const   </td></tr>\n",
              "\t<tr><th scope=row>6</th><td> 9.0</td><td>16</td><td>W</td><td>F</td><td>NH</td><td>NS</td><td>Married</td><td>27</td><td>Not  </td><td>49</td><td>clerical</td></tr>\n",
              "</tbody>\n",
              "</table>\n"
            ]
          },
          "metadata": {}
        }
      ]
    },
    {
      "cell_type": "markdown",
      "metadata": {
        "id": "2373b941"
      },
      "source": [
        "1.1. Faça um histograma e gráficos de caixa de `educ` e `expr`. Existem outliers para que valores?\n",
        "\n",
        "**Solução**"
      ]
    },
    {
      "cell_type": "markdown",
      "metadata": {
        "id": "9cfde514"
      },
      "source": [
        "1.2. Faça gráficos para exibir a distribuição (histograma) de valores de `educ`, `exper` e `wage` separadamente para os sexos Masculino e Feminino. Que distribuições concentram valores mais a esquerda (valores menores)?\n",
        "\n",
        "Esses são casos de distribuições chamadas distribuições assimétricas em calda.\n",
        "\n",
        "**Solução**"
      ]
    },
    {
      "cell_type": "markdown",
      "metadata": {
        "id": "2b06f84f"
      },
      "source": [
        "1.3. Analise a distribuição dos mesmos dados do problema anterior, mas agora empregue um gráfico de caixa e a função `~` para exibir separadamente os sexos.\n",
        "\n",
        "Dica: experimente `educ ~ sex`.\n",
        "\n",
        "**Solução**"
      ]
    },
    {
      "cell_type": "markdown",
      "metadata": {
        "id": "4530d729"
      },
      "source": [
        "1.4. Consulte o help do boxplot e busque uma opção que exiba com maior evidência a mediana e o quanto ela difere dos outros valores. Repita então o exercício anterior com essa opção. Se conseguir (rs) empregue uma opção para colorir diferentemente as caixas para o sexo Feminino e Masculino. Utilize também um parâmetro para não exibir os outliers.\n",
        "\n",
        "Dica: não se incomode com a mensagem de warning se surgir.\n",
        "\n",
        "**Solução**"
      ]
    },
    {
      "cell_type": "markdown",
      "metadata": {
        "id": "b753c69e"
      },
      "source": [
        "1.5. Empregue um gráfico de barras e outro de pizza para exibir a proporção de do status de casados na base. Dica: para o `pie()` você precisa fornecer a frequencia dos valores. Empregue em conjunto o `table()`.\n",
        "\n",
        "**Solução**"
      ]
    },
    {
      "cell_type": "markdown",
      "metadata": {
        "id": "738d19bd"
      },
      "source": [
        "1.6. Faça um gráfico de densidade e um histogram com breaks=30 para os valores de rendimentos (`wage`). Compare os gráficos.\n",
        "\n",
        "**Solução**"
      ]
    },
    {
      "cell_type": "markdown",
      "metadata": {
        "id": "8e96ff63"
      },
      "source": [
        "## Exercício 2"
      ]
    },
    {
      "cell_type": "markdown",
      "metadata": {
        "id": "xTvczplP9L36"
      },
      "source": [
        "2.1. Empregue a função `rnorm` para gerar valores randomicos. Acesse o `help(norm)`. Mas o seu formato geral é:\n",
        "\n",
        "```\n",
        "                      rnorm( n, valor médio, desvio padrão)\n",
        "```\n",
        "gere 4 séries com 100 valores aleatórios com média 50 e desvio padrão 10, 50, 20 e 5 respectivamente. Em seguida plot os gráficos de densidade e compare.\n",
        "\n",
        "Dica: você pode querer empregar `plot(density(...),...)` no lugar do `densityplot()`.\n",
        "\n",
        "**Solução**"
      ]
    },
    {
      "cell_type": "markdown",
      "metadata": {
        "id": "4a70c4d4"
      },
      "source": [
        "2.2. Repita o exercício anterior somente para as séries de desvio padrão 10 e 20, mas compare também os histogramas produzidos. Compare os resultados.\n",
        "\n",
        "**Solução**"
      ]
    },
    {
      "cell_type": "markdown",
      "metadata": {
        "id": "b3e4be64"
      },
      "source": [
        "## Exercício 3\n",
        "Considere a base."
      ]
    },
    {
      "cell_type": "code",
      "metadata": {
        "kernel": "R",
        "tags": [
          "report_cell"
        ],
        "id": "20356e8c",
        "colab": {
          "base_uri": "https://localhost:8080/",
          "height": 283
        },
        "outputId": "880d0b97-d9fd-4349-b311-25de80008e8a"
      },
      "source": [
        "df = read.csv('http://meusite.mackenzie.br/rogerio/TIC/mystocksn.csv')\n",
        "head(df)"
      ],
      "execution_count": 12,
      "outputs": [
        {
          "output_type": "display_data",
          "data": {
            "text/plain": [
              "  data       IBOV   VALE3 PETR4 DOLAR \n",
              "1 2020-01-02 118573 13.45 16.27 4.0163\n",
              "2 2020-01-03 117707 13.29 15.99 4.0234\n",
              "3 2020-01-06 116878 13.14 16.22 4.0570\n",
              "4 2020-01-07 116662 13.23 16.06 4.0604\n",
              "5 2020-01-08 116247 13.22 15.70 4.0662\n",
              "6 2020-01-09 115947 12.99 15.75 4.0628"
            ],
            "text/latex": "A data.frame: 6 × 5\n\\begin{tabular}{r|lllll}\n  & data & IBOV & VALE3 & PETR4 & DOLAR\\\\\n  & <chr> & <dbl> & <dbl> & <dbl> & <dbl>\\\\\n\\hline\n\t1 & 2020-01-02 & 118573 & 13.45 & 16.27 & 4.0163\\\\\n\t2 & 2020-01-03 & 117707 & 13.29 & 15.99 & 4.0234\\\\\n\t3 & 2020-01-06 & 116878 & 13.14 & 16.22 & 4.0570\\\\\n\t4 & 2020-01-07 & 116662 & 13.23 & 16.06 & 4.0604\\\\\n\t5 & 2020-01-08 & 116247 & 13.22 & 15.70 & 4.0662\\\\\n\t6 & 2020-01-09 & 115947 & 12.99 & 15.75 & 4.0628\\\\\n\\end{tabular}\n",
            "text/markdown": "\nA data.frame: 6 × 5\n\n| <!--/--> | data &lt;chr&gt; | IBOV &lt;dbl&gt; | VALE3 &lt;dbl&gt; | PETR4 &lt;dbl&gt; | DOLAR &lt;dbl&gt; |\n|---|---|---|---|---|---|\n| 1 | 2020-01-02 | 118573 | 13.45 | 16.27 | 4.0163 |\n| 2 | 2020-01-03 | 117707 | 13.29 | 15.99 | 4.0234 |\n| 3 | 2020-01-06 | 116878 | 13.14 | 16.22 | 4.0570 |\n| 4 | 2020-01-07 | 116662 | 13.23 | 16.06 | 4.0604 |\n| 5 | 2020-01-08 | 116247 | 13.22 | 15.70 | 4.0662 |\n| 6 | 2020-01-09 | 115947 | 12.99 | 15.75 | 4.0628 |\n\n",
            "text/html": [
              "<table class=\"dataframe\">\n",
              "<caption>A data.frame: 6 × 5</caption>\n",
              "<thead>\n",
              "\t<tr><th></th><th scope=col>data</th><th scope=col>IBOV</th><th scope=col>VALE3</th><th scope=col>PETR4</th><th scope=col>DOLAR</th></tr>\n",
              "\t<tr><th></th><th scope=col>&lt;chr&gt;</th><th scope=col>&lt;dbl&gt;</th><th scope=col>&lt;dbl&gt;</th><th scope=col>&lt;dbl&gt;</th><th scope=col>&lt;dbl&gt;</th></tr>\n",
              "</thead>\n",
              "<tbody>\n",
              "\t<tr><th scope=row>1</th><td>2020-01-02</td><td>118573</td><td>13.45</td><td>16.27</td><td>4.0163</td></tr>\n",
              "\t<tr><th scope=row>2</th><td>2020-01-03</td><td>117707</td><td>13.29</td><td>15.99</td><td>4.0234</td></tr>\n",
              "\t<tr><th scope=row>3</th><td>2020-01-06</td><td>116878</td><td>13.14</td><td>16.22</td><td>4.0570</td></tr>\n",
              "\t<tr><th scope=row>4</th><td>2020-01-07</td><td>116662</td><td>13.23</td><td>16.06</td><td>4.0604</td></tr>\n",
              "\t<tr><th scope=row>5</th><td>2020-01-08</td><td>116247</td><td>13.22</td><td>15.70</td><td>4.0662</td></tr>\n",
              "\t<tr><th scope=row>6</th><td>2020-01-09</td><td>115947</td><td>12.99</td><td>15.75</td><td>4.0628</td></tr>\n",
              "</tbody>\n",
              "</table>\n"
            ]
          },
          "metadata": {}
        }
      ]
    },
    {
      "cell_type": "markdown",
      "metadata": {
        "id": "0a37c90f"
      },
      "source": [
        "3.1. Produza o gráfico:\n",
        "```\n",
        "boxplot(DOLAR ~ data, data=df)\n",
        "```\n",
        "Por quê o gráfico aparentemente não exibe os quartis de cada data?\n",
        "\n",
        "DICA: faça também o gráfico `plot(df$DOLAR)`\n",
        "\n",
        "**Solução**"
      ]
    },
    {
      "cell_type": "code",
      "metadata": {
        "kernel": "R",
        "tags": [
          "report_cell"
        ],
        "id": "46a69764",
        "colab": {
          "base_uri": "https://localhost:8080/",
          "height": 437
        },
        "outputId": "24c6415b-4daf-40c1-d7d5-c343ee34bc18"
      },
      "source": [
        "boxplot(DOLAR ~ data, data=df)\n"
      ],
      "execution_count": 13,
      "outputs": [
        {
          "output_type": "display_data",
          "data": {
            "image/png": "[encoded data removed]",
            "text/plain": [
              "plot without title"
            ]
          },
          "metadata": {
            "image/png": {
              "width": 420,
              "height": 420
            }
          }
        }
      ]
    },
    {
      "cell_type": "markdown",
      "metadata": {
        "id": "bqMLJJIBEokz"
      },
      "source": [
        "## Exercício 4\n",
        "\n",
        "4.1. Associe corretamente o gráfico mais característico para:\n",
        "\n",
        "  a. Evolução \n",
        "\n",
        "  b. Distribuição \n",
        "\n",
        "  c. Composição \n",
        "\n",
        "  d. Relações\n",
        "\n",
        "Com:\n",
        "\n",
        "1. histogramas\n",
        "\n",
        "2. gráficos de linha\n",
        "\n",
        "3. gráficos de dispersão\n",
        "\n",
        "4. gráficos de barras\n"
      ]
    },
    {
      "cell_type": "markdown",
      "metadata": {
        "id": "pNElWo1qEz1M"
      },
      "source": [
        "**Solução**"
      ]
    },
    {
      "cell_type": "markdown",
      "metadata": {
        "id": "lI0vBEXqFbYU"
      },
      "source": [
        "4.2. O Boxplot é um gráfico que permite principalmente entender\\:\n",
        "\n",
        "  a. A distribuição dos dados\n",
        "\n",
        "  b. A composição de diferentes dados \n",
        "\n",
        "  c. As relações entre diferentes variáveis \n",
        "\n",
        "  d. A evolução de uma variável aleatória \n",
        "\n",
        "  e. A dispersão de uma variável com relação a outra\n",
        " "
      ]
    },
    {
      "cell_type": "markdown",
      "metadata": {
        "id": "2rn0bSPNFo1_"
      },
      "source": [
        "**Solução**"
      ]
    }
  ]
}