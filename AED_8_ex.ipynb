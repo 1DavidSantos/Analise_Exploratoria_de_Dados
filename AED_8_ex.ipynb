{
  "nbformat": 4,
  "nbformat_minor": 0,
  "metadata": {
    "colab": {
      "name": "AED_8_ex.ipynb",
      "provenance": [],
      "collapsed_sections": [],
      "include_colab_link": true
    },
    "kernelspec": {
      "name": "python3",
      "display_name": "Python 3"
    },
    "language_info": {
      "name": "python"
    }
  },
  "cells": [
    {
      "cell_type": "markdown",
      "metadata": {
        "id": "view-in-github",
        "colab_type": "text"
      },
      "source": [
        "<a href=\"https://colab.research.google.com/github/Rogerio-mack/Analise_Exploratoria_de_Dados/blob/main/AED_8_ex.ipynb\" target=\"_parent\"><img src=\"https://colab.research.google.com/assets/colab-badge.svg\" alt=\"Open In Colab\"/></a>"
      ]
    },
    {
      "cell_type": "markdown",
      "metadata": {
        "id": "40b90843"
      },
      "source": [
        "<img src=\"http://meusite.mackenzie.br/rogerio/mackenzie_logo/UPM.2_horizontal_vermelho.jpg\"  width=300, align=\"right\">\n",
        "<br>\n",
        "<br>\n",
        "<br>\n",
        "<br>\n",
        "<br>\n",
        "\n",
        "# Probabilidade Condicionada, Bayes e Informação Mútua\n",
        "---"
      ]
    },
    {
      "cell_type": "markdown",
      "metadata": {
        "id": "42yF1G-yHu98"
      },
      "source": [
        "# Exercício\n",
        "\n",
        "Considere a seguinte base de dados de Titanic. \n",
        "\n",
        "*(o exercício está inicialmente em R, mas você pode empregar o Python se preferir)*"
      ]
    },
    {
      "cell_type": "code",
      "metadata": {
        "id": "bYE2Z-HimRrx"
      },
      "source": [
        "%load_ext rpy2.ipython"
      ],
      "execution_count": 1,
      "outputs": []
    },
    {
      "cell_type": "code",
      "metadata": {
        "colab": {
          "base_uri": "https://localhost:8080/"
        },
        "id": "cA4cf0llmUmA",
        "outputId": "8384d3d1-4f09-4532-e6cb-a7331c7ab025"
      },
      "source": [
        "%%R\n",
        "titanic = read.csv('http://meusite.mackenzie.br/rogerio/data_load/titanic.csv')\n",
        "head(titanic)"
      ],
      "execution_count": 26,
      "outputs": [
        {
          "output_type": "stream",
          "name": "stdout",
          "text": [
            "  survived pclass    sex age sibsp parch    fare embarked class   who\n",
            "1        0      3   male  22     1     0  7.2500        S Third   man\n",
            "2        1      1 female  38     1     0 71.2833        C First woman\n",
            "3        1      3 female  26     0     0  7.9250        S Third woman\n",
            "4        1      1 female  35     1     0 53.1000        S First woman\n",
            "5        0      3   male  35     0     0  8.0500        S Third   man\n",
            "6        0      3   male  NA     0     0  8.4583        Q Third   man\n",
            "  adult_male deck embark_town alive alone\n",
            "1       True      Southampton    no False\n",
            "2      False    C   Cherbourg   yes False\n",
            "3      False      Southampton   yes  True\n",
            "4      False    C Southampton   yes False\n",
            "5       True      Southampton    no  True\n",
            "6       True       Queenstown    no  True\n"
          ]
        }
      ]
    },
    {
      "cell_type": "markdown",
      "metadata": {
        "id": "YR2XzijBxIuT"
      },
      "source": [
        "# Exercício 1.\n",
        "Qual a probabilidade de sobrevivência no desastre do Titanic?\n",
        "\n",
        "Sugestão: Empregue as tabelas de contigência que você viu na aula 7 e 8."
      ]
    },
    {
      "cell_type": "markdown",
      "metadata": {
        "id": "Z5L0Z9IcxinC"
      },
      "source": [
        "# Exercício 2.\n",
        "Qual a probabilidade do passageiro ser uma criança e ter sobrevivido ao desastre? \n",
        "\n",
        "Dica: P(A e B). Empregue as tabelas de contigência que você viu na aula 7 e 8 e o atributo `who`."
      ]
    },
    {
      "cell_type": "markdown",
      "metadata": {
        "id": "09WeXL3eyUXv"
      },
      "source": [
        "# Exercício 3.\n",
        "Qual a probabilidade de não ter sobrevivido e ser um passageiro homem? \n",
        "\n",
        "Dica: Empregue as tabelas de contigência que você viu na aula 7 e 8 com addmargins."
      ]
    },
    {
      "cell_type": "markdown",
      "metadata": {
        "id": "Mmu1kl2MzAB6"
      },
      "source": [
        "# Exercício 4.\n",
        "Estatisticamente, existe interdependência entre ser criança, homem adulto ou mulher para ter ou não sobrevivido ao desastre?  \n",
        "\n",
        "Dica: Empregue as tabelas de contigência que você viu na aula 7 e 8 com o chisq teste."
      ]
    },
    {
      "cell_type": "markdown",
      "metadata": {
        "id": "7Gsy4F5Szr9u"
      },
      "source": [
        "# Exercício 5.\n",
        "Qual a probabilidade de um não sobrevivente ter sido um homem ou mulher da primeira classe? \n",
        "\n",
        "Dica: Empregue as tabelas de contigência que você viu na aula 7 e 8. Você pode somar os valores manualmente se precisar."
      ]
    },
    {
      "cell_type": "markdown",
      "metadata": {
        "id": "kFINfusIreLQ"
      },
      "source": [
        "# Exercício 6\n",
        "\n",
        "Considere apenas os atributos categóricos de titanic. \n",
        "\n",
        "6.1. Quais apresentam maior ganho de informação para determinar sobrevivente ou não?\n",
        "\n",
        "6.2. Qual atributo não associado a genêro (sexo) apresenta maior ganho de informação para determinar sobrevivente ou não?"
      ]
    }
  ]
}