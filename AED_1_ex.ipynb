{
  "nbformat": 4,
  "nbformat_minor": 0,
  "metadata": {
    "colab": {
      "name": "AED_1_ex.ipynb",
      "provenance": [],
      "collapsed_sections": [
        "ef42e2c3"
      ],
      "toc_visible": true,
      "authorship_tag": "ABX9TyNaTjf/kA2uwaiZxGMmk5i6",
      "include_colab_link": true
    },
    "kernelspec": {
      "name": "ir",
      "display_name": "R"
    },
    "language_info": {
      "name": "R"
    }
  },
  "cells": [
    {
      "cell_type": "markdown",
      "metadata": {
        "id": "view-in-github",
        "colab_type": "text"
      },
      "source": [
        "<a href=\"https://colab.research.google.com/github/Rogerio-mack/Analise_Exploratoria_de_Dados/blob/main/AED_1_ex.ipynb\" target=\"_parent\"><img src=\"https://colab.research.google.com/assets/colab-badge.svg\" alt=\"Open In Colab\"/></a>"
      ]
    },
    {
      "cell_type": "markdown",
      "metadata": {
        "id": "40b90843"
      },
      "source": [
        "<img src=\"http://meusite.mackenzie.br/rogerio/mackenzie_logo/UPM.2_horizontal_vermelho.jpg\"  width=300, align=\"right\">\n",
        "<br>\n",
        "<br>\n",
        "<br>\n",
        "<br>\n",
        "<br>\n",
        "\n",
        "# Introdução à Análise Exploratória e os Ambiente R\n",
        "---"
      ]
    },
    {
      "cell_type": "markdown",
      "metadata": {
        "id": "7QzySIEfNJHb"
      },
      "source": [
        "Aqui você vai fazer uma primeira Análise Exploratória de Dados empregando o Google Trends que já traz os dados organizados em informações para você."
      ]
    },
    {
      "cell_type": "markdown",
      "metadata": {
        "id": "-6nZ4rzxNcMK"
      },
      "source": [
        "# Exercício."
      ]
    },
    {
      "cell_type": "markdown",
      "metadata": {
        "id": "sEdNnyQE_1Dc"
      },
      "source": [
        "Empregue o Google Trends https://trends.google.com.br/trends/?geo=BR para analisar a tendência positiva (procura maior) e negativa (procura menor) de diferentes produtos ou serviços após o início da pandemia de Covid no Brasil (2020). Organize a sua Análise do seguinte modo:\n",
        "\n",
        "1.       Contexto.\n",
        "\n",
        "Indique o período, região (pode estar restrita ou não ao território nacional) e produtos/serviços analisados. O trabalho deve analisar no mínimo 2 produtos, um em queda e outro em alta. Justifique as suas escolhas (e aqui você pode empregar os resultados da análise).\n",
        "\n",
        "* Período:\n",
        "* Produto/Serviço em alta:\n",
        "* Produto/Serviço em baixa:\n",
        "* Justificativa:\n",
        "\n",
        "2.       Análise.\n",
        "\n",
        "Apresente os gráficos produzidos para cada produto/serviço. Lembre-se que a análise deve relacionar os produtos ao cenário de Pandemia. Apresente sua análise.\n",
        "\n",
        "* Gráfico Produto/Serviço em alta:\n",
        "* Gráfico Produto/Serviço em baixa:\n",
        "* Análise:\n",
        "\n",
        "3.       Conclusão.\n",
        "\n",
        "Apresente suas conclusões e explique como você entende que esses dados poderiam ser empregados para a tomada de decisões por uma empresa envolvida nesses produtos/serviços.\n",
        "\n",
        "* Conclusão:\n",
        "\n",
        " \n",
        "Entregue sua Análise em 2 páginas formato .pdf.\n",
        "\n"
      ]
    }
  ]
}