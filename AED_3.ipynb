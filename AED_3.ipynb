{
  "nbformat": 4,
  "nbformat_minor": 0,
  "metadata": {
    "colab": {
      "name": "AED_3.ipynb",
      "provenance": [],
      "authorship_tag": "ABX9TyPA9F0rSkwTHtE6UvME95f1",
      "include_colab_link": true
    },
    "kernelspec": {
      "name": "ir",
      "display_name": "R"
    },
    "language_info": {
      "name": "R"
    }
  },
  "cells": [
    {
      "cell_type": "markdown",
      "metadata": {
        "id": "view-in-github",
        "colab_type": "text"
      },
      "source": [
        "<a href=\"https://colab.research.google.com/github/Rogerio-mack/Analise_Exploratoria_de_Dados/blob/main/AED_3.ipynb\" target=\"_parent\"><img src=\"https://colab.research.google.com/assets/colab-badge.svg\" alt=\"Open In Colab\"/></a>"
      ]
    },
    {
      "cell_type": "markdown",
      "metadata": {
        "id": "40b90843"
      },
      "source": [
        "<img src=\"http://meusite.mackenzie.br/rogerio/mackenzie_logo/UPM.2_horizontal_vermelho.jpg\"  width=300, align=\"right\">\n",
        "<br>\n",
        "<br>\n",
        "<br>\n",
        "<br>\n",
        "<br>\n",
        "\n",
        "# Estatística Descritiva em R\n",
        "---"
      ]
    },
    {
      "cell_type": "markdown",
      "metadata": {
        "id": "d8a2c300"
      },
      "source": [
        "Aqui você vai compreender os conceitos de população e amostra, e o que é a estatística descritiva. Aprenderá o que são e como empregar medidas de centralidade (média, mediana) e medidas de dispersão (variância, desvios padrão, quartis) para caracterização de conjuntos de dados. Vai aprender também como identificar outliers dos dados e a explorar como duas variáveis podem estar relacionadas linearmente (covariância, correlação). E você aprender tudo isso aplicando esses conceitos a conjuntos de dados com R."
      ]
    },
    {
      "cell_type": "markdown",
      "metadata": {
        "id": "3d1cef1e"
      },
      "source": [
        "# Introdução"
      ]
    },
    {
      "cell_type": "markdown",
      "metadata": {
        "id": "b73ce92a"
      },
      "source": [
        "A estatística descritiva busca fornecer uma descrição útil de um grande número de dados a partir de medidas de centralidade e dispersão dos dados como média, mediana, variância, desvio padrão e quartis, frequencia de valores e moda, correlação e covariância.\n",
        "\n",
        "Você, então, pode aplicar agora os seus conhecimentos de R para fazer essas estatísticas e entender melhor um conjunto de dados de interesse."
      ]
    },
    {
      "cell_type": "markdown",
      "metadata": {
        "id": "511a0460"
      },
      "source": [
        "# Tipos de dados"
      ]
    },
    {
      "cell_type": "markdown",
      "metadata": {
        "id": "89e00421"
      },
      "source": [
        "Uma distinção importante que você precisa ter em mente ao explorar os dados é identificar que tipo de dado, ou a natureza do dado, que você está tratando. Podemos identificar dois grandes grupos de dados, os qualitativos e quantitativos, ou mais simplesmente dados numéricos e dados categóricos.\n",
        "\n",
        "<br>\n",
        "<br> \n",
        "\n",
        "| Dados quantitativos ou numéricos             | Exemplos                               |\n",
        "|:---------------------------------------------|:---------------------------------------|\n",
        "| discretos (contagens ou número inteiros)     | ex. número de casos de infecção        |\n",
        "| contínuos (medidas numa escala contínua)     | ex. volume, área, peso, preços         |\n",
        "\n",
        "\n",
        "| Dados qualitativos ou categóricos            | Exemplos                               |\n",
        "|:---------------------------------------------|:---------------------------------------|\n",
        "| nominais (categorias de dados)               | ex. sexo: masculino, feminino          |\n",
        "| ordinais (categorias ordenadas)              | ex. salinidade: baixa, média, alta     |\n",
        "\n",
        "<br>\n",
        "<br> \n",
        "\n",
        "Identificar claramente essa natureza dos dados é muito importante pois, dependedo de sua natureza, o dado pode ter um tratamento diferente. Por exemplo, pense no atributo `sexo` em uma base de dados de clientes. Esse atributo pode aparecer codificado como 0=masculino e 1=feminino. Entretanto, mesmo apresentando os valores numéricos 0 e 1, trata-se de uma categoria, um valor nominal e, portanto, faz pouco sentido falarmos em média do atributo `sexo` ou ainda valores como min e max, por que também não há uma relação de ordem (do menor para o maior) entre esses valores. Assim, essa natureza do dado é determinante para você saber que estatísticas são aplicáveis àquele dado."
      ]
    },
    {
      "cell_type": "markdown",
      "metadata": {
        "id": "9bb58a41"
      },
      "source": [
        "# Amostra X População"
      ]
    },
    {
      "cell_type": "markdown",
      "metadata": {
        "id": "5bda37b9"
      },
      "source": [
        "Outra característica importante que você deve ter em mente sobre a natureza dos dados é se os dados que você irá analisar são *amostras* de um conjunto de dados ou são a totalidade dos dados. Por exemplo, você pode ter todos os salários dos funcionários de uma empresa e obter média salarial, maior e menor salários etc. Mas você não poderá obter o salário de *todos* dos brasileiros e, certamente, trabalhará com amostras desses dados. Existem uma série de técnicas para tornar essas amostras confiáveis e para que possamos, a partir de uma amostra, inferir, por exemplo, a média de salário dos brasileiros. Assim, você deve ter em mente ao obter medidas como média ou desvio padrão se elas se referem a dados de uma amostra ou dados de toda a população de dados. Em alguns havendo inclusive uma diferença na forma de cálculo."
      ]
    },
    {
      "cell_type": "markdown",
      "metadata": {
        "id": "6a5abb39"
      },
      "source": [
        "# Exploração inicial dos dados"
      ]
    },
    {
      "cell_type": "markdown",
      "metadata": {
        "id": "7da1c6cf"
      },
      "source": [
        "Vamos empregar nesses exemplos o dataset `Cars93`, um dataset built-in do pacote `MASS`.\n",
        "Significado ds dados, quantidade e linhas e colunas, tipos de dados."
      ]
    },
    {
      "cell_type": "code",
      "metadata": {
        "kernel": "R",
        "tags": [
          "report_cell"
        ],
        "colab": {
          "base_uri": "https://localhost:8080/",
          "height": 405
        },
        "id": "ecae37f1",
        "outputId": "d4d1f098-1c79-4ef9-9e30-1c717d089c3b"
      },
      "source": [
        "library(MASS)\n",
        "head(Cars93)\n",
        "# help(Cars93)"
      ],
      "execution_count": 10,
      "outputs": [
        {
          "output_type": "display_data",
          "data": {
            "text/plain": [
              "  Manufacturer Model   Type    Min.Price Price Max.Price MPG.city MPG.highway\n",
              "1 Acura        Integra Small   12.9      15.9  18.8      25       31         \n",
              "2 Acura        Legend  Midsize 29.2      33.9  38.7      18       25         \n",
              "3 Audi         90      Compact 25.9      29.1  32.3      20       26         \n",
              "4 Audi         100     Midsize 30.8      37.7  44.6      19       26         \n",
              "5 BMW          535i    Midsize 23.7      30.0  36.2      22       30         \n",
              "6 Buick        Century Midsize 14.2      15.7  17.3      22       31         \n",
              "  AirBags            DriveTrain ⋯ Passengers Length Wheelbase Width Turn.circle\n",
              "1 None               Front      ⋯ 5          177    102       68    37         \n",
              "2 Driver & Passenger Front      ⋯ 5          195    115       71    38         \n",
              "3 Driver only        Front      ⋯ 5          180    102       67    37         \n",
              "4 Driver & Passenger Front      ⋯ 6          193    106       70    37         \n",
              "5 Driver only        Rear       ⋯ 4          186    109       69    39         \n",
              "6 Driver only        Front      ⋯ 6          189    105       69    41         \n",
              "  Rear.seat.room Luggage.room Weight Origin  Make         \n",
              "1 26.5           11           2705   non-USA Acura Integra\n",
              "2 30.0           15           3560   non-USA Acura Legend \n",
              "3 28.0           14           3375   non-USA Audi 90      \n",
              "4 31.0           17           3405   non-USA Audi 100     \n",
              "5 27.0           13           3640   non-USA BMW 535i     \n",
              "6 28.0           16           2880   USA     Buick Century"
            ],
            "text/latex": "A data.frame: 6 × 27\n\\begin{tabular}{r|lllllllllllllllllllll}\n  & Manufacturer & Model & Type & Min.Price & Price & Max.Price & MPG.city & MPG.highway & AirBags & DriveTrain & ⋯ & Passengers & Length & Wheelbase & Width & Turn.circle & Rear.seat.room & Luggage.room & Weight & Origin & Make\\\\\n  & <fct> & <fct> & <fct> & <dbl> & <dbl> & <dbl> & <int> & <int> & <fct> & <fct> & ⋯ & <int> & <int> & <int> & <int> & <int> & <dbl> & <int> & <int> & <fct> & <fct>\\\\\n\\hline\n\t1 & Acura & Integra & Small   & 12.9 & 15.9 & 18.8 & 25 & 31 & None               & Front & ⋯ & 5 & 177 & 102 & 68 & 37 & 26.5 & 11 & 2705 & non-USA & Acura Integra\\\\\n\t2 & Acura & Legend  & Midsize & 29.2 & 33.9 & 38.7 & 18 & 25 & Driver \\& Passenger & Front & ⋯ & 5 & 195 & 115 & 71 & 38 & 30.0 & 15 & 3560 & non-USA & Acura Legend \\\\\n\t3 & Audi  & 90      & Compact & 25.9 & 29.1 & 32.3 & 20 & 26 & Driver only        & Front & ⋯ & 5 & 180 & 102 & 67 & 37 & 28.0 & 14 & 3375 & non-USA & Audi 90      \\\\\n\t4 & Audi  & 100     & Midsize & 30.8 & 37.7 & 44.6 & 19 & 26 & Driver \\& Passenger & Front & ⋯ & 6 & 193 & 106 & 70 & 37 & 31.0 & 17 & 3405 & non-USA & Audi 100     \\\\\n\t5 & BMW   & 535i    & Midsize & 23.7 & 30.0 & 36.2 & 22 & 30 & Driver only        & Rear  & ⋯ & 4 & 186 & 109 & 69 & 39 & 27.0 & 13 & 3640 & non-USA & BMW 535i     \\\\\n\t6 & Buick & Century & Midsize & 14.2 & 15.7 & 17.3 & 22 & 31 & Driver only        & Front & ⋯ & 6 & 189 & 105 & 69 & 41 & 28.0 & 16 & 2880 & USA     & Buick Century\\\\\n\\end{tabular}\n",
            "text/markdown": "\nA data.frame: 6 × 27\n\n| <!--/--> | Manufacturer &lt;fct&gt; | Model &lt;fct&gt; | Type &lt;fct&gt; | Min.Price &lt;dbl&gt; | Price &lt;dbl&gt; | Max.Price &lt;dbl&gt; | MPG.city &lt;int&gt; | MPG.highway &lt;int&gt; | AirBags &lt;fct&gt; | DriveTrain &lt;fct&gt; | ⋯ ⋯ | Passengers &lt;int&gt; | Length &lt;int&gt; | Wheelbase &lt;int&gt; | Width &lt;int&gt; | Turn.circle &lt;int&gt; | Rear.seat.room &lt;dbl&gt; | Luggage.room &lt;int&gt; | Weight &lt;int&gt; | Origin &lt;fct&gt; | Make &lt;fct&gt; |\n|---|---|---|---|---|---|---|---|---|---|---|---|---|---|---|---|---|---|---|---|---|---|\n| 1 | Acura | Integra | Small   | 12.9 | 15.9 | 18.8 | 25 | 31 | None               | Front | ⋯ | 5 | 177 | 102 | 68 | 37 | 26.5 | 11 | 2705 | non-USA | Acura Integra |\n| 2 | Acura | Legend  | Midsize | 29.2 | 33.9 | 38.7 | 18 | 25 | Driver &amp; Passenger | Front | ⋯ | 5 | 195 | 115 | 71 | 38 | 30.0 | 15 | 3560 | non-USA | Acura Legend  |\n| 3 | Audi  | 90      | Compact | 25.9 | 29.1 | 32.3 | 20 | 26 | Driver only        | Front | ⋯ | 5 | 180 | 102 | 67 | 37 | 28.0 | 14 | 3375 | non-USA | Audi 90       |\n| 4 | Audi  | 100     | Midsize | 30.8 | 37.7 | 44.6 | 19 | 26 | Driver &amp; Passenger | Front | ⋯ | 6 | 193 | 106 | 70 | 37 | 31.0 | 17 | 3405 | non-USA | Audi 100      |\n| 5 | BMW   | 535i    | Midsize | 23.7 | 30.0 | 36.2 | 22 | 30 | Driver only        | Rear  | ⋯ | 4 | 186 | 109 | 69 | 39 | 27.0 | 13 | 3640 | non-USA | BMW 535i      |\n| 6 | Buick | Century | Midsize | 14.2 | 15.7 | 17.3 | 22 | 31 | Driver only        | Front | ⋯ | 6 | 189 | 105 | 69 | 41 | 28.0 | 16 | 2880 | USA     | Buick Century |\n\n",
            "text/html": [
              "<table class=\"dataframe\">\n",
              "<caption>A data.frame: 6 × 27</caption>\n",
              "<thead>\n",
              "\t<tr><th></th><th scope=col>Manufacturer</th><th scope=col>Model</th><th scope=col>Type</th><th scope=col>Min.Price</th><th scope=col>Price</th><th scope=col>Max.Price</th><th scope=col>MPG.city</th><th scope=col>MPG.highway</th><th scope=col>AirBags</th><th scope=col>DriveTrain</th><th scope=col>⋯</th><th scope=col>Passengers</th><th scope=col>Length</th><th scope=col>Wheelbase</th><th scope=col>Width</th><th scope=col>Turn.circle</th><th scope=col>Rear.seat.room</th><th scope=col>Luggage.room</th><th scope=col>Weight</th><th scope=col>Origin</th><th scope=col>Make</th></tr>\n",
              "\t<tr><th></th><th scope=col>&lt;fct&gt;</th><th scope=col>&lt;fct&gt;</th><th scope=col>&lt;fct&gt;</th><th scope=col>&lt;dbl&gt;</th><th scope=col>&lt;dbl&gt;</th><th scope=col>&lt;dbl&gt;</th><th scope=col>&lt;int&gt;</th><th scope=col>&lt;int&gt;</th><th scope=col>&lt;fct&gt;</th><th scope=col>&lt;fct&gt;</th><th scope=col>⋯</th><th scope=col>&lt;int&gt;</th><th scope=col>&lt;int&gt;</th><th scope=col>&lt;int&gt;</th><th scope=col>&lt;int&gt;</th><th scope=col>&lt;int&gt;</th><th scope=col>&lt;dbl&gt;</th><th scope=col>&lt;int&gt;</th><th scope=col>&lt;int&gt;</th><th scope=col>&lt;fct&gt;</th><th scope=col>&lt;fct&gt;</th></tr>\n",
              "</thead>\n",
              "<tbody>\n",
              "\t<tr><th scope=row>1</th><td>Acura</td><td>Integra</td><td>Small  </td><td>12.9</td><td>15.9</td><td>18.8</td><td>25</td><td>31</td><td>None              </td><td>Front</td><td>⋯</td><td>5</td><td>177</td><td>102</td><td>68</td><td>37</td><td>26.5</td><td>11</td><td>2705</td><td>non-USA</td><td>Acura Integra</td></tr>\n",
              "\t<tr><th scope=row>2</th><td>Acura</td><td>Legend </td><td>Midsize</td><td>29.2</td><td>33.9</td><td>38.7</td><td>18</td><td>25</td><td>Driver &amp; Passenger</td><td>Front</td><td>⋯</td><td>5</td><td>195</td><td>115</td><td>71</td><td>38</td><td>30.0</td><td>15</td><td>3560</td><td>non-USA</td><td>Acura Legend </td></tr>\n",
              "\t<tr><th scope=row>3</th><td>Audi </td><td>90     </td><td>Compact</td><td>25.9</td><td>29.1</td><td>32.3</td><td>20</td><td>26</td><td>Driver only       </td><td>Front</td><td>⋯</td><td>5</td><td>180</td><td>102</td><td>67</td><td>37</td><td>28.0</td><td>14</td><td>3375</td><td>non-USA</td><td>Audi 90      </td></tr>\n",
              "\t<tr><th scope=row>4</th><td>Audi </td><td><span style=white-space:pre-wrap>100    </span></td><td>Midsize</td><td>30.8</td><td>37.7</td><td>44.6</td><td>19</td><td>26</td><td>Driver &amp; Passenger</td><td>Front</td><td>⋯</td><td>6</td><td>193</td><td>106</td><td>70</td><td>37</td><td>31.0</td><td>17</td><td>3405</td><td>non-USA</td><td><span style=white-space:pre-wrap>Audi 100     </span></td></tr>\n",
              "\t<tr><th scope=row>5</th><td>BMW  </td><td>535i   </td><td>Midsize</td><td>23.7</td><td>30.0</td><td>36.2</td><td>22</td><td>30</td><td>Driver only       </td><td>Rear </td><td>⋯</td><td>4</td><td>186</td><td>109</td><td>69</td><td>39</td><td>27.0</td><td>13</td><td>3640</td><td>non-USA</td><td>BMW 535i     </td></tr>\n",
              "\t<tr><th scope=row>6</th><td>Buick</td><td>Century</td><td>Midsize</td><td>14.2</td><td>15.7</td><td>17.3</td><td>22</td><td>31</td><td>Driver only       </td><td>Front</td><td>⋯</td><td>6</td><td>189</td><td>105</td><td>69</td><td>41</td><td>28.0</td><td>16</td><td>2880</td><td>USA    </td><td>Buick Century</td></tr>\n",
              "</tbody>\n",
              "</table>\n"
            ]
          },
          "metadata": {}
        }
      ]
    },
    {
      "cell_type": "markdown",
      "metadata": {
        "id": "c06f0dd2"
      },
      "source": [
        "Os comandos abaixo exploram características da estrutura dos dados como número de linhas, atributos e os tipos de dados."
      ]
    },
    {
      "cell_type": "code",
      "metadata": {
        "kernel": "R",
        "tags": [
          "report_cell"
        ],
        "id": "77cdc614",
        "colab": {
          "base_uri": "https://localhost:8080/",
          "height": 51
        },
        "outputId": "755a90a4-49f7-4f03-8811-8b7c62498877"
      },
      "source": [
        "# execute cada um dos comandos isoladamente\n",
        "\n",
        "nrow(Cars93) # nr de linhas\n",
        "ncol(Cars93) # nr de atributos ou colunas"
      ],
      "execution_count": 2,
      "outputs": [
        {
          "output_type": "display_data",
          "data": {
            "text/plain": [
              "[1] 93"
            ],
            "text/latex": "93",
            "text/markdown": "93",
            "text/html": [
              "93"
            ]
          },
          "metadata": {}
        },
        {
          "output_type": "display_data",
          "data": {
            "text/plain": [
              "[1] 27"
            ],
            "text/latex": "27",
            "text/markdown": "27",
            "text/html": [
              "27"
            ]
          },
          "metadata": {}
        }
      ]
    },
    {
      "cell_type": "markdown",
      "metadata": {
        "id": "234da0a8"
      },
      "source": [
        "Examinando estrutura e tipos de dados."
      ]
    },
    {
      "cell_type": "code",
      "metadata": {
        "kernel": "R",
        "tags": [
          "report_cell"
        ],
        "id": "dde93056",
        "colab": {
          "base_uri": "https://localhost:8080/",
          "height": 561
        },
        "outputId": "428cbf2d-666f-4135-b85b-aab07c531fd4"
      },
      "source": [
        "str(Cars93) # estrutura dos dados como exibido na área 'Environment' do RStudio\n",
        "\n",
        "class(Cars93$Model) # tipo dos dados\n",
        "class(Cars93$Price)\n",
        "\n",
        "names(Cars93) # nome dos atributos"
      ],
      "execution_count": 3,
      "outputs": [
        {
          "output_type": "stream",
          "name": "stdout",
          "text": [
            "'data.frame':\t93 obs. of  27 variables:\n",
            " $ Manufacturer      : Factor w/ 32 levels \"Acura\",\"Audi\",..: 1 1 2 2 3 4 4 4 4 5 ...\n",
            " $ Model             : Factor w/ 93 levels \"100\",\"190E\",\"240\",..: 49 56 9 1 6 24 54 74 73 35 ...\n",
            " $ Type              : Factor w/ 6 levels \"Compact\",\"Large\",..: 4 3 1 3 3 3 2 2 3 2 ...\n",
            " $ Min.Price         : num  12.9 29.2 25.9 30.8 23.7 14.2 19.9 22.6 26.3 33 ...\n",
            " $ Price             : num  15.9 33.9 29.1 37.7 30 15.7 20.8 23.7 26.3 34.7 ...\n",
            " $ Max.Price         : num  18.8 38.7 32.3 44.6 36.2 17.3 21.7 24.9 26.3 36.3 ...\n",
            " $ MPG.city          : int  25 18 20 19 22 22 19 16 19 16 ...\n",
            " $ MPG.highway       : int  31 25 26 26 30 31 28 25 27 25 ...\n",
            " $ AirBags           : Factor w/ 3 levels \"Driver & Passenger\",..: 3 1 2 1 2 2 2 2 2 2 ...\n",
            " $ DriveTrain        : Factor w/ 3 levels \"4WD\",\"Front\",..: 2 2 2 2 3 2 2 3 2 2 ...\n",
            " $ Cylinders         : Factor w/ 6 levels \"3\",\"4\",\"5\",\"6\",..: 2 4 4 4 2 2 4 4 4 5 ...\n",
            " $ EngineSize        : num  1.8 3.2 2.8 2.8 3.5 2.2 3.8 5.7 3.8 4.9 ...\n",
            " $ Horsepower        : int  140 200 172 172 208 110 170 180 170 200 ...\n",
            " $ RPM               : int  6300 5500 5500 5500 5700 5200 4800 4000 4800 4100 ...\n",
            " $ Rev.per.mile      : int  2890 2335 2280 2535 2545 2565 1570 1320 1690 1510 ...\n",
            " $ Man.trans.avail   : Factor w/ 2 levels \"No\",\"Yes\": 2 2 2 2 2 1 1 1 1 1 ...\n",
            " $ Fuel.tank.capacity: num  13.2 18 16.9 21.1 21.1 16.4 18 23 18.8 18 ...\n",
            " $ Passengers        : int  5 5 5 6 4 6 6 6 5 6 ...\n",
            " $ Length            : int  177 195 180 193 186 189 200 216 198 206 ...\n",
            " $ Wheelbase         : int  102 115 102 106 109 105 111 116 108 114 ...\n",
            " $ Width             : int  68 71 67 70 69 69 74 78 73 73 ...\n",
            " $ Turn.circle       : int  37 38 37 37 39 41 42 45 41 43 ...\n",
            " $ Rear.seat.room    : num  26.5 30 28 31 27 28 30.5 30.5 26.5 35 ...\n",
            " $ Luggage.room      : int  11 15 14 17 13 16 17 21 14 18 ...\n",
            " $ Weight            : int  2705 3560 3375 3405 3640 2880 3470 4105 3495 3620 ...\n",
            " $ Origin            : Factor w/ 2 levels \"USA\",\"non-USA\": 2 2 2 2 2 1 1 1 1 1 ...\n",
            " $ Make              : Factor w/ 93 levels \"Acura Integra\",..: 1 2 4 3 5 6 7 9 8 10 ...\n"
          ]
        },
        {
          "output_type": "display_data",
          "data": {
            "text/plain": [
              "[1] \"factor\""
            ],
            "text/latex": "'factor'",
            "text/markdown": "'factor'",
            "text/html": [
              "'factor'"
            ]
          },
          "metadata": {}
        },
        {
          "output_type": "display_data",
          "data": {
            "text/plain": [
              "[1] \"numeric\""
            ],
            "text/latex": "'numeric'",
            "text/markdown": "'numeric'",
            "text/html": [
              "'numeric'"
            ]
          },
          "metadata": {}
        },
        {
          "output_type": "display_data",
          "data": {
            "text/plain": [
              " [1] \"Manufacturer\"       \"Model\"              \"Type\"              \n",
              " [4] \"Min.Price\"          \"Price\"              \"Max.Price\"         \n",
              " [7] \"MPG.city\"           \"MPG.highway\"        \"AirBags\"           \n",
              "[10] \"DriveTrain\"         \"Cylinders\"          \"EngineSize\"        \n",
              "[13] \"Horsepower\"         \"RPM\"                \"Rev.per.mile\"      \n",
              "[16] \"Man.trans.avail\"    \"Fuel.tank.capacity\" \"Passengers\"        \n",
              "[19] \"Length\"             \"Wheelbase\"          \"Width\"             \n",
              "[22] \"Turn.circle\"        \"Rear.seat.room\"     \"Luggage.room\"      \n",
              "[25] \"Weight\"             \"Origin\"             \"Make\"              "
            ],
            "text/latex": "\\begin{enumerate*}\n\\item 'Manufacturer'\n\\item 'Model'\n\\item 'Type'\n\\item 'Min.Price'\n\\item 'Price'\n\\item 'Max.Price'\n\\item 'MPG.city'\n\\item 'MPG.highway'\n\\item 'AirBags'\n\\item 'DriveTrain'\n\\item 'Cylinders'\n\\item 'EngineSize'\n\\item 'Horsepower'\n\\item 'RPM'\n\\item 'Rev.per.mile'\n\\item 'Man.trans.avail'\n\\item 'Fuel.tank.capacity'\n\\item 'Passengers'\n\\item 'Length'\n\\item 'Wheelbase'\n\\item 'Width'\n\\item 'Turn.circle'\n\\item 'Rear.seat.room'\n\\item 'Luggage.room'\n\\item 'Weight'\n\\item 'Origin'\n\\item 'Make'\n\\end{enumerate*}\n",
            "text/markdown": "1. 'Manufacturer'\n2. 'Model'\n3. 'Type'\n4. 'Min.Price'\n5. 'Price'\n6. 'Max.Price'\n7. 'MPG.city'\n8. 'MPG.highway'\n9. 'AirBags'\n10. 'DriveTrain'\n11. 'Cylinders'\n12. 'EngineSize'\n13. 'Horsepower'\n14. 'RPM'\n15. 'Rev.per.mile'\n16. 'Man.trans.avail'\n17. 'Fuel.tank.capacity'\n18. 'Passengers'\n19. 'Length'\n20. 'Wheelbase'\n21. 'Width'\n22. 'Turn.circle'\n23. 'Rear.seat.room'\n24. 'Luggage.room'\n25. 'Weight'\n26. 'Origin'\n27. 'Make'\n\n\n",
            "text/html": [
              "<style>\n",
              ".list-inline {list-style: none; margin:0; padding: 0}\n",
              ".list-inline>li {display: inline-block}\n",
              ".list-inline>li:not(:last-child)::after {content: \"\\00b7\"; padding: 0 .5ex}\n",
              "</style>\n",
              "<ol class=list-inline><li>'Manufacturer'</li><li>'Model'</li><li>'Type'</li><li>'Min.Price'</li><li>'Price'</li><li>'Max.Price'</li><li>'MPG.city'</li><li>'MPG.highway'</li><li>'AirBags'</li><li>'DriveTrain'</li><li>'Cylinders'</li><li>'EngineSize'</li><li>'Horsepower'</li><li>'RPM'</li><li>'Rev.per.mile'</li><li>'Man.trans.avail'</li><li>'Fuel.tank.capacity'</li><li>'Passengers'</li><li>'Length'</li><li>'Wheelbase'</li><li>'Width'</li><li>'Turn.circle'</li><li>'Rear.seat.room'</li><li>'Luggage.room'</li><li>'Weight'</li><li>'Origin'</li><li>'Make'</li></ol>\n"
            ]
          },
          "metadata": {}
        }
      ]
    },
    {
      "cell_type": "markdown",
      "metadata": {
        "id": "d21a85f8"
      },
      "source": [
        "### Selecionando linhas e colunas\n",
        "\n",
        "Em geral a seleção de dados de interesse ocorre depois que você já tem uma ideia das variáveis e seus valores para efetuar a seleção. Os exemplos abaixo são, portanto, apenas para que você tenha mais exemplos de seleção de dados e se familiarize com a seleção de dados com dataframes em R. Lembre-se aqui da sintaxe dos dataframes:\n",
        "\n",
        "```\n",
        "dataframe [ linhas , colunas ]\n",
        "```"
      ]
    },
    {
      "cell_type": "markdown",
      "metadata": {
        "id": "f2ebf673"
      },
      "source": [
        "#### Selecionando linhas de `Cars93`"
      ]
    },
    {
      "cell_type": "code",
      "metadata": {
        "kernel": "R",
        "tags": [
          "report_cell"
        ],
        "id": "59e544b2",
        "colab": {
          "base_uri": "https://localhost:8080/",
          "height": 1000
        },
        "outputId": "ffa09198-a49d-4000-f94f-76193c394c48"
      },
      "source": [
        "head(Cars93[Cars93$Price < 20,])\n",
        "head(Cars93[Cars93$Price < 20 & Cars93$Type == 'Small',])\n",
        "\n",
        "myCars = Cars93[Cars93$Price < 20 & Cars93$Type == 'Small',]\n",
        "head(myCars)"
      ],
      "execution_count": 4,
      "outputs": [
        {
          "output_type": "display_data",
          "data": {
            "text/plain": [
              "   Manufacturer Model    Type    Min.Price Price Max.Price MPG.city MPG.highway\n",
              "1  Acura        Integra  Small   12.9      15.9  18.8      25       31         \n",
              "6  Buick        Century  Midsize 14.2      15.7  17.3      22       31         \n",
              "12 Chevrolet    Cavalier Compact  8.5      13.4  18.3      25       36         \n",
              "13 Chevrolet    Corsica  Compact 11.4      11.4  11.4      25       34         \n",
              "14 Chevrolet    Camaro   Sporty  13.4      15.1  16.8      19       28         \n",
              "15 Chevrolet    Lumina   Midsize 13.4      15.9  18.4      21       29         \n",
              "   AirBags            DriveTrain ⋯ Passengers Length Wheelbase Width\n",
              "1  None               Front      ⋯ 5          177    102       68   \n",
              "6  Driver only        Front      ⋯ 6          189    105       69   \n",
              "12 None               Front      ⋯ 5          182    101       66   \n",
              "13 Driver only        Front      ⋯ 5          184    103       68   \n",
              "14 Driver & Passenger Rear       ⋯ 4          193    101       74   \n",
              "15 None               Front      ⋯ 6          198    108       71   \n",
              "   Turn.circle Rear.seat.room Luggage.room Weight Origin  Make              \n",
              "1  37          26.5           11           2705   non-USA Acura Integra     \n",
              "6  41          28.0           16           2880   USA     Buick Century     \n",
              "12 38          25.0           13           2490   USA     Chevrolet Cavalier\n",
              "13 39          26.0           14           2785   USA     Chevrolet Corsica \n",
              "14 43          25.0           13           3240   USA     Chevrolet Camaro  \n",
              "15 40          28.5           16           3195   USA     Chevrolet Lumina  "
            ],
            "text/latex": "A data.frame: 6 × 27\n\\begin{tabular}{r|lllllllllllllllllllll}\n  & Manufacturer & Model & Type & Min.Price & Price & Max.Price & MPG.city & MPG.highway & AirBags & DriveTrain & ⋯ & Passengers & Length & Wheelbase & Width & Turn.circle & Rear.seat.room & Luggage.room & Weight & Origin & Make\\\\\n  & <fct> & <fct> & <fct> & <dbl> & <dbl> & <dbl> & <int> & <int> & <fct> & <fct> & ⋯ & <int> & <int> & <int> & <int> & <int> & <dbl> & <int> & <int> & <fct> & <fct>\\\\\n\\hline\n\t1 & Acura     & Integra  & Small   & 12.9 & 15.9 & 18.8 & 25 & 31 & None               & Front & ⋯ & 5 & 177 & 102 & 68 & 37 & 26.5 & 11 & 2705 & non-USA & Acura Integra     \\\\\n\t6 & Buick     & Century  & Midsize & 14.2 & 15.7 & 17.3 & 22 & 31 & Driver only        & Front & ⋯ & 6 & 189 & 105 & 69 & 41 & 28.0 & 16 & 2880 & USA     & Buick Century     \\\\\n\t12 & Chevrolet & Cavalier & Compact &  8.5 & 13.4 & 18.3 & 25 & 36 & None               & Front & ⋯ & 5 & 182 & 101 & 66 & 38 & 25.0 & 13 & 2490 & USA     & Chevrolet Cavalier\\\\\n\t13 & Chevrolet & Corsica  & Compact & 11.4 & 11.4 & 11.4 & 25 & 34 & Driver only        & Front & ⋯ & 5 & 184 & 103 & 68 & 39 & 26.0 & 14 & 2785 & USA     & Chevrolet Corsica \\\\\n\t14 & Chevrolet & Camaro   & Sporty  & 13.4 & 15.1 & 16.8 & 19 & 28 & Driver \\& Passenger & Rear  & ⋯ & 4 & 193 & 101 & 74 & 43 & 25.0 & 13 & 3240 & USA     & Chevrolet Camaro  \\\\\n\t15 & Chevrolet & Lumina   & Midsize & 13.4 & 15.9 & 18.4 & 21 & 29 & None               & Front & ⋯ & 6 & 198 & 108 & 71 & 40 & 28.5 & 16 & 3195 & USA     & Chevrolet Lumina  \\\\\n\\end{tabular}\n",
            "text/markdown": "\nA data.frame: 6 × 27\n\n| <!--/--> | Manufacturer &lt;fct&gt; | Model &lt;fct&gt; | Type &lt;fct&gt; | Min.Price &lt;dbl&gt; | Price &lt;dbl&gt; | Max.Price &lt;dbl&gt; | MPG.city &lt;int&gt; | MPG.highway &lt;int&gt; | AirBags &lt;fct&gt; | DriveTrain &lt;fct&gt; | ⋯ ⋯ | Passengers &lt;int&gt; | Length &lt;int&gt; | Wheelbase &lt;int&gt; | Width &lt;int&gt; | Turn.circle &lt;int&gt; | Rear.seat.room &lt;dbl&gt; | Luggage.room &lt;int&gt; | Weight &lt;int&gt; | Origin &lt;fct&gt; | Make &lt;fct&gt; |\n|---|---|---|---|---|---|---|---|---|---|---|---|---|---|---|---|---|---|---|---|---|---|\n| 1 | Acura     | Integra  | Small   | 12.9 | 15.9 | 18.8 | 25 | 31 | None               | Front | ⋯ | 5 | 177 | 102 | 68 | 37 | 26.5 | 11 | 2705 | non-USA | Acura Integra      |\n| 6 | Buick     | Century  | Midsize | 14.2 | 15.7 | 17.3 | 22 | 31 | Driver only        | Front | ⋯ | 6 | 189 | 105 | 69 | 41 | 28.0 | 16 | 2880 | USA     | Buick Century      |\n| 12 | Chevrolet | Cavalier | Compact |  8.5 | 13.4 | 18.3 | 25 | 36 | None               | Front | ⋯ | 5 | 182 | 101 | 66 | 38 | 25.0 | 13 | 2490 | USA     | Chevrolet Cavalier |\n| 13 | Chevrolet | Corsica  | Compact | 11.4 | 11.4 | 11.4 | 25 | 34 | Driver only        | Front | ⋯ | 5 | 184 | 103 | 68 | 39 | 26.0 | 14 | 2785 | USA     | Chevrolet Corsica  |\n| 14 | Chevrolet | Camaro   | Sporty  | 13.4 | 15.1 | 16.8 | 19 | 28 | Driver &amp; Passenger | Rear  | ⋯ | 4 | 193 | 101 | 74 | 43 | 25.0 | 13 | 3240 | USA     | Chevrolet Camaro   |\n| 15 | Chevrolet | Lumina   | Midsize | 13.4 | 15.9 | 18.4 | 21 | 29 | None               | Front | ⋯ | 6 | 198 | 108 | 71 | 40 | 28.5 | 16 | 3195 | USA     | Chevrolet Lumina   |\n\n",
            "text/html": [
              "<table class=\"dataframe\">\n",
              "<caption>A data.frame: 6 × 27</caption>\n",
              "<thead>\n",
              "\t<tr><th></th><th scope=col>Manufacturer</th><th scope=col>Model</th><th scope=col>Type</th><th scope=col>Min.Price</th><th scope=col>Price</th><th scope=col>Max.Price</th><th scope=col>MPG.city</th><th scope=col>MPG.highway</th><th scope=col>AirBags</th><th scope=col>DriveTrain</th><th scope=col>⋯</th><th scope=col>Passengers</th><th scope=col>Length</th><th scope=col>Wheelbase</th><th scope=col>Width</th><th scope=col>Turn.circle</th><th scope=col>Rear.seat.room</th><th scope=col>Luggage.room</th><th scope=col>Weight</th><th scope=col>Origin</th><th scope=col>Make</th></tr>\n",
              "\t<tr><th></th><th scope=col>&lt;fct&gt;</th><th scope=col>&lt;fct&gt;</th><th scope=col>&lt;fct&gt;</th><th scope=col>&lt;dbl&gt;</th><th scope=col>&lt;dbl&gt;</th><th scope=col>&lt;dbl&gt;</th><th scope=col>&lt;int&gt;</th><th scope=col>&lt;int&gt;</th><th scope=col>&lt;fct&gt;</th><th scope=col>&lt;fct&gt;</th><th scope=col>⋯</th><th scope=col>&lt;int&gt;</th><th scope=col>&lt;int&gt;</th><th scope=col>&lt;int&gt;</th><th scope=col>&lt;int&gt;</th><th scope=col>&lt;int&gt;</th><th scope=col>&lt;dbl&gt;</th><th scope=col>&lt;int&gt;</th><th scope=col>&lt;int&gt;</th><th scope=col>&lt;fct&gt;</th><th scope=col>&lt;fct&gt;</th></tr>\n",
              "</thead>\n",
              "<tbody>\n",
              "\t<tr><th scope=row>1</th><td>Acura    </td><td>Integra </td><td>Small  </td><td>12.9</td><td>15.9</td><td>18.8</td><td>25</td><td>31</td><td>None              </td><td>Front</td><td>⋯</td><td>5</td><td>177</td><td>102</td><td>68</td><td>37</td><td>26.5</td><td>11</td><td>2705</td><td>non-USA</td><td>Acura Integra     </td></tr>\n",
              "\t<tr><th scope=row>6</th><td>Buick    </td><td>Century </td><td>Midsize</td><td>14.2</td><td>15.7</td><td>17.3</td><td>22</td><td>31</td><td>Driver only       </td><td>Front</td><td>⋯</td><td>6</td><td>189</td><td>105</td><td>69</td><td>41</td><td>28.0</td><td>16</td><td>2880</td><td>USA    </td><td>Buick Century     </td></tr>\n",
              "\t<tr><th scope=row>12</th><td>Chevrolet</td><td>Cavalier</td><td>Compact</td><td> 8.5</td><td>13.4</td><td>18.3</td><td>25</td><td>36</td><td>None              </td><td>Front</td><td>⋯</td><td>5</td><td>182</td><td>101</td><td>66</td><td>38</td><td>25.0</td><td>13</td><td>2490</td><td>USA    </td><td>Chevrolet Cavalier</td></tr>\n",
              "\t<tr><th scope=row>13</th><td>Chevrolet</td><td>Corsica </td><td>Compact</td><td>11.4</td><td>11.4</td><td>11.4</td><td>25</td><td>34</td><td>Driver only       </td><td>Front</td><td>⋯</td><td>5</td><td>184</td><td>103</td><td>68</td><td>39</td><td>26.0</td><td>14</td><td>2785</td><td>USA    </td><td>Chevrolet Corsica </td></tr>\n",
              "\t<tr><th scope=row>14</th><td>Chevrolet</td><td><span style=white-space:pre-wrap>Camaro  </span></td><td>Sporty </td><td>13.4</td><td>15.1</td><td>16.8</td><td>19</td><td>28</td><td>Driver &amp; Passenger</td><td>Rear </td><td>⋯</td><td>4</td><td>193</td><td>101</td><td>74</td><td>43</td><td>25.0</td><td>13</td><td>3240</td><td><span style=white-space:pre-wrap>USA    </span></td><td><span style=white-space:pre-wrap>Chevrolet Camaro  </span></td></tr>\n",
              "\t<tr><th scope=row>15</th><td>Chevrolet</td><td>Lumina  </td><td>Midsize</td><td>13.4</td><td>15.9</td><td>18.4</td><td>21</td><td>29</td><td>None              </td><td>Front</td><td>⋯</td><td>6</td><td>198</td><td>108</td><td>71</td><td>40</td><td>28.5</td><td>16</td><td>3195</td><td>USA    </td><td>Chevrolet Lumina  </td></tr>\n",
              "</tbody>\n",
              "</table>\n"
            ]
          },
          "metadata": {}
        },
        {
          "output_type": "display_data",
          "data": {
            "text/plain": [
              "   Manufacturer Model   Type  Min.Price Price Max.Price MPG.city MPG.highway\n",
              "1  Acura        Integra Small 12.9      15.9  18.8      25       31         \n",
              "23 Dodge        Colt    Small  7.9       9.2  10.6      29       33         \n",
              "24 Dodge        Shadow  Small  8.4      11.3  14.2      23       29         \n",
              "29 Eagle        Summit  Small  7.9      12.2  16.5      29       33         \n",
              "31 Ford         Festiva Small  6.9       7.4   7.9      31       33         \n",
              "32 Ford         Escort  Small  8.4      10.1  11.9      23       30         \n",
              "   AirBags     DriveTrain ⋯ Passengers Length Wheelbase Width Turn.circle\n",
              "1  None        Front      ⋯ 5          177    102       68    37         \n",
              "23 None        Front      ⋯ 5          174     98       66    32         \n",
              "24 Driver only Front      ⋯ 5          172     97       67    38         \n",
              "29 None        Front      ⋯ 5          174     98       66    36         \n",
              "31 None        Front      ⋯ 4          141     90       63    33         \n",
              "32 None        Front      ⋯ 5          171     98       67    36         \n",
              "   Rear.seat.room Luggage.room Weight Origin  Make         \n",
              "1  26.5           11           2705   non-USA Acura Integra\n",
              "23 26.5           11           2270   USA     Dodge Colt   \n",
              "24 26.5           13           2670   USA     Dodge Shadow \n",
              "29 26.5           11           2295   USA     Eagle Summit \n",
              "31 26.0           12           1845   USA     Ford Festiva \n",
              "32 28.0           12           2530   USA     Ford Escort  "
            ],
            "text/latex": "A data.frame: 6 × 27\n\\begin{tabular}{r|lllllllllllllllllllll}\n  & Manufacturer & Model & Type & Min.Price & Price & Max.Price & MPG.city & MPG.highway & AirBags & DriveTrain & ⋯ & Passengers & Length & Wheelbase & Width & Turn.circle & Rear.seat.room & Luggage.room & Weight & Origin & Make\\\\\n  & <fct> & <fct> & <fct> & <dbl> & <dbl> & <dbl> & <int> & <int> & <fct> & <fct> & ⋯ & <int> & <int> & <int> & <int> & <int> & <dbl> & <int> & <int> & <fct> & <fct>\\\\\n\\hline\n\t1 & Acura & Integra & Small & 12.9 & 15.9 & 18.8 & 25 & 31 & None        & Front & ⋯ & 5 & 177 & 102 & 68 & 37 & 26.5 & 11 & 2705 & non-USA & Acura Integra\\\\\n\t23 & Dodge & Colt    & Small &  7.9 &  9.2 & 10.6 & 29 & 33 & None        & Front & ⋯ & 5 & 174 &  98 & 66 & 32 & 26.5 & 11 & 2270 & USA     & Dodge Colt   \\\\\n\t24 & Dodge & Shadow  & Small &  8.4 & 11.3 & 14.2 & 23 & 29 & Driver only & Front & ⋯ & 5 & 172 &  97 & 67 & 38 & 26.5 & 13 & 2670 & USA     & Dodge Shadow \\\\\n\t29 & Eagle & Summit  & Small &  7.9 & 12.2 & 16.5 & 29 & 33 & None        & Front & ⋯ & 5 & 174 &  98 & 66 & 36 & 26.5 & 11 & 2295 & USA     & Eagle Summit \\\\\n\t31 & Ford  & Festiva & Small &  6.9 &  7.4 &  7.9 & 31 & 33 & None        & Front & ⋯ & 4 & 141 &  90 & 63 & 33 & 26.0 & 12 & 1845 & USA     & Ford Festiva \\\\\n\t32 & Ford  & Escort  & Small &  8.4 & 10.1 & 11.9 & 23 & 30 & None        & Front & ⋯ & 5 & 171 &  98 & 67 & 36 & 28.0 & 12 & 2530 & USA     & Ford Escort  \\\\\n\\end{tabular}\n",
            "text/markdown": "\nA data.frame: 6 × 27\n\n| <!--/--> | Manufacturer &lt;fct&gt; | Model &lt;fct&gt; | Type &lt;fct&gt; | Min.Price &lt;dbl&gt; | Price &lt;dbl&gt; | Max.Price &lt;dbl&gt; | MPG.city &lt;int&gt; | MPG.highway &lt;int&gt; | AirBags &lt;fct&gt; | DriveTrain &lt;fct&gt; | ⋯ ⋯ | Passengers &lt;int&gt; | Length &lt;int&gt; | Wheelbase &lt;int&gt; | Width &lt;int&gt; | Turn.circle &lt;int&gt; | Rear.seat.room &lt;dbl&gt; | Luggage.room &lt;int&gt; | Weight &lt;int&gt; | Origin &lt;fct&gt; | Make &lt;fct&gt; |\n|---|---|---|---|---|---|---|---|---|---|---|---|---|---|---|---|---|---|---|---|---|---|\n| 1 | Acura | Integra | Small | 12.9 | 15.9 | 18.8 | 25 | 31 | None        | Front | ⋯ | 5 | 177 | 102 | 68 | 37 | 26.5 | 11 | 2705 | non-USA | Acura Integra |\n| 23 | Dodge | Colt    | Small |  7.9 |  9.2 | 10.6 | 29 | 33 | None        | Front | ⋯ | 5 | 174 |  98 | 66 | 32 | 26.5 | 11 | 2270 | USA     | Dodge Colt    |\n| 24 | Dodge | Shadow  | Small |  8.4 | 11.3 | 14.2 | 23 | 29 | Driver only | Front | ⋯ | 5 | 172 |  97 | 67 | 38 | 26.5 | 13 | 2670 | USA     | Dodge Shadow  |\n| 29 | Eagle | Summit  | Small |  7.9 | 12.2 | 16.5 | 29 | 33 | None        | Front | ⋯ | 5 | 174 |  98 | 66 | 36 | 26.5 | 11 | 2295 | USA     | Eagle Summit  |\n| 31 | Ford  | Festiva | Small |  6.9 |  7.4 |  7.9 | 31 | 33 | None        | Front | ⋯ | 4 | 141 |  90 | 63 | 33 | 26.0 | 12 | 1845 | USA     | Ford Festiva  |\n| 32 | Ford  | Escort  | Small |  8.4 | 10.1 | 11.9 | 23 | 30 | None        | Front | ⋯ | 5 | 171 |  98 | 67 | 36 | 28.0 | 12 | 2530 | USA     | Ford Escort   |\n\n",
            "text/html": [
              "<table class=\"dataframe\">\n",
              "<caption>A data.frame: 6 × 27</caption>\n",
              "<thead>\n",
              "\t<tr><th></th><th scope=col>Manufacturer</th><th scope=col>Model</th><th scope=col>Type</th><th scope=col>Min.Price</th><th scope=col>Price</th><th scope=col>Max.Price</th><th scope=col>MPG.city</th><th scope=col>MPG.highway</th><th scope=col>AirBags</th><th scope=col>DriveTrain</th><th scope=col>⋯</th><th scope=col>Passengers</th><th scope=col>Length</th><th scope=col>Wheelbase</th><th scope=col>Width</th><th scope=col>Turn.circle</th><th scope=col>Rear.seat.room</th><th scope=col>Luggage.room</th><th scope=col>Weight</th><th scope=col>Origin</th><th scope=col>Make</th></tr>\n",
              "\t<tr><th></th><th scope=col>&lt;fct&gt;</th><th scope=col>&lt;fct&gt;</th><th scope=col>&lt;fct&gt;</th><th scope=col>&lt;dbl&gt;</th><th scope=col>&lt;dbl&gt;</th><th scope=col>&lt;dbl&gt;</th><th scope=col>&lt;int&gt;</th><th scope=col>&lt;int&gt;</th><th scope=col>&lt;fct&gt;</th><th scope=col>&lt;fct&gt;</th><th scope=col>⋯</th><th scope=col>&lt;int&gt;</th><th scope=col>&lt;int&gt;</th><th scope=col>&lt;int&gt;</th><th scope=col>&lt;int&gt;</th><th scope=col>&lt;int&gt;</th><th scope=col>&lt;dbl&gt;</th><th scope=col>&lt;int&gt;</th><th scope=col>&lt;int&gt;</th><th scope=col>&lt;fct&gt;</th><th scope=col>&lt;fct&gt;</th></tr>\n",
              "</thead>\n",
              "<tbody>\n",
              "\t<tr><th scope=row>1</th><td>Acura</td><td>Integra</td><td>Small</td><td>12.9</td><td>15.9</td><td>18.8</td><td>25</td><td>31</td><td>None       </td><td>Front</td><td>⋯</td><td>5</td><td>177</td><td>102</td><td>68</td><td>37</td><td>26.5</td><td>11</td><td>2705</td><td>non-USA</td><td>Acura Integra</td></tr>\n",
              "\t<tr><th scope=row>23</th><td>Dodge</td><td>Colt   </td><td>Small</td><td> 7.9</td><td> 9.2</td><td>10.6</td><td>29</td><td>33</td><td>None       </td><td>Front</td><td>⋯</td><td>5</td><td>174</td><td> 98</td><td>66</td><td>32</td><td>26.5</td><td>11</td><td>2270</td><td>USA    </td><td>Dodge Colt   </td></tr>\n",
              "\t<tr><th scope=row>24</th><td>Dodge</td><td>Shadow </td><td>Small</td><td> 8.4</td><td>11.3</td><td>14.2</td><td>23</td><td>29</td><td>Driver only</td><td>Front</td><td>⋯</td><td>5</td><td>172</td><td> 97</td><td>67</td><td>38</td><td>26.5</td><td>13</td><td>2670</td><td>USA    </td><td>Dodge Shadow </td></tr>\n",
              "\t<tr><th scope=row>29</th><td>Eagle</td><td>Summit </td><td>Small</td><td> 7.9</td><td>12.2</td><td>16.5</td><td>29</td><td>33</td><td>None       </td><td>Front</td><td>⋯</td><td>5</td><td>174</td><td> 98</td><td>66</td><td>36</td><td>26.5</td><td>11</td><td>2295</td><td>USA    </td><td>Eagle Summit </td></tr>\n",
              "\t<tr><th scope=row>31</th><td>Ford </td><td>Festiva</td><td>Small</td><td> 6.9</td><td> 7.4</td><td> 7.9</td><td>31</td><td>33</td><td>None       </td><td>Front</td><td>⋯</td><td>4</td><td>141</td><td> 90</td><td>63</td><td>33</td><td>26.0</td><td>12</td><td>1845</td><td>USA    </td><td>Ford Festiva </td></tr>\n",
              "\t<tr><th scope=row>32</th><td>Ford </td><td>Escort </td><td>Small</td><td> 8.4</td><td>10.1</td><td>11.9</td><td>23</td><td>30</td><td>None       </td><td>Front</td><td>⋯</td><td>5</td><td>171</td><td> 98</td><td>67</td><td>36</td><td>28.0</td><td>12</td><td>2530</td><td>USA    </td><td>Ford Escort  </td></tr>\n",
              "</tbody>\n",
              "</table>\n"
            ]
          },
          "metadata": {}
        },
        {
          "output_type": "display_data",
          "data": {
            "text/plain": [
              "   Manufacturer Model   Type  Min.Price Price Max.Price MPG.city MPG.highway\n",
              "1  Acura        Integra Small 12.9      15.9  18.8      25       31         \n",
              "23 Dodge        Colt    Small  7.9       9.2  10.6      29       33         \n",
              "24 Dodge        Shadow  Small  8.4      11.3  14.2      23       29         \n",
              "29 Eagle        Summit  Small  7.9      12.2  16.5      29       33         \n",
              "31 Ford         Festiva Small  6.9       7.4   7.9      31       33         \n",
              "32 Ford         Escort  Small  8.4      10.1  11.9      23       30         \n",
              "   AirBags     DriveTrain ⋯ Passengers Length Wheelbase Width Turn.circle\n",
              "1  None        Front      ⋯ 5          177    102       68    37         \n",
              "23 None        Front      ⋯ 5          174     98       66    32         \n",
              "24 Driver only Front      ⋯ 5          172     97       67    38         \n",
              "29 None        Front      ⋯ 5          174     98       66    36         \n",
              "31 None        Front      ⋯ 4          141     90       63    33         \n",
              "32 None        Front      ⋯ 5          171     98       67    36         \n",
              "   Rear.seat.room Luggage.room Weight Origin  Make         \n",
              "1  26.5           11           2705   non-USA Acura Integra\n",
              "23 26.5           11           2270   USA     Dodge Colt   \n",
              "24 26.5           13           2670   USA     Dodge Shadow \n",
              "29 26.5           11           2295   USA     Eagle Summit \n",
              "31 26.0           12           1845   USA     Ford Festiva \n",
              "32 28.0           12           2530   USA     Ford Escort  "
            ],
            "text/latex": "A data.frame: 6 × 27\n\\begin{tabular}{r|lllllllllllllllllllll}\n  & Manufacturer & Model & Type & Min.Price & Price & Max.Price & MPG.city & MPG.highway & AirBags & DriveTrain & ⋯ & Passengers & Length & Wheelbase & Width & Turn.circle & Rear.seat.room & Luggage.room & Weight & Origin & Make\\\\\n  & <fct> & <fct> & <fct> & <dbl> & <dbl> & <dbl> & <int> & <int> & <fct> & <fct> & ⋯ & <int> & <int> & <int> & <int> & <int> & <dbl> & <int> & <int> & <fct> & <fct>\\\\\n\\hline\n\t1 & Acura & Integra & Small & 12.9 & 15.9 & 18.8 & 25 & 31 & None        & Front & ⋯ & 5 & 177 & 102 & 68 & 37 & 26.5 & 11 & 2705 & non-USA & Acura Integra\\\\\n\t23 & Dodge & Colt    & Small &  7.9 &  9.2 & 10.6 & 29 & 33 & None        & Front & ⋯ & 5 & 174 &  98 & 66 & 32 & 26.5 & 11 & 2270 & USA     & Dodge Colt   \\\\\n\t24 & Dodge & Shadow  & Small &  8.4 & 11.3 & 14.2 & 23 & 29 & Driver only & Front & ⋯ & 5 & 172 &  97 & 67 & 38 & 26.5 & 13 & 2670 & USA     & Dodge Shadow \\\\\n\t29 & Eagle & Summit  & Small &  7.9 & 12.2 & 16.5 & 29 & 33 & None        & Front & ⋯ & 5 & 174 &  98 & 66 & 36 & 26.5 & 11 & 2295 & USA     & Eagle Summit \\\\\n\t31 & Ford  & Festiva & Small &  6.9 &  7.4 &  7.9 & 31 & 33 & None        & Front & ⋯ & 4 & 141 &  90 & 63 & 33 & 26.0 & 12 & 1845 & USA     & Ford Festiva \\\\\n\t32 & Ford  & Escort  & Small &  8.4 & 10.1 & 11.9 & 23 & 30 & None        & Front & ⋯ & 5 & 171 &  98 & 67 & 36 & 28.0 & 12 & 2530 & USA     & Ford Escort  \\\\\n\\end{tabular}\n",
            "text/markdown": "\nA data.frame: 6 × 27\n\n| <!--/--> | Manufacturer &lt;fct&gt; | Model &lt;fct&gt; | Type &lt;fct&gt; | Min.Price &lt;dbl&gt; | Price &lt;dbl&gt; | Max.Price &lt;dbl&gt; | MPG.city &lt;int&gt; | MPG.highway &lt;int&gt; | AirBags &lt;fct&gt; | DriveTrain &lt;fct&gt; | ⋯ ⋯ | Passengers &lt;int&gt; | Length &lt;int&gt; | Wheelbase &lt;int&gt; | Width &lt;int&gt; | Turn.circle &lt;int&gt; | Rear.seat.room &lt;dbl&gt; | Luggage.room &lt;int&gt; | Weight &lt;int&gt; | Origin &lt;fct&gt; | Make &lt;fct&gt; |\n|---|---|---|---|---|---|---|---|---|---|---|---|---|---|---|---|---|---|---|---|---|---|\n| 1 | Acura | Integra | Small | 12.9 | 15.9 | 18.8 | 25 | 31 | None        | Front | ⋯ | 5 | 177 | 102 | 68 | 37 | 26.5 | 11 | 2705 | non-USA | Acura Integra |\n| 23 | Dodge | Colt    | Small |  7.9 |  9.2 | 10.6 | 29 | 33 | None        | Front | ⋯ | 5 | 174 |  98 | 66 | 32 | 26.5 | 11 | 2270 | USA     | Dodge Colt    |\n| 24 | Dodge | Shadow  | Small |  8.4 | 11.3 | 14.2 | 23 | 29 | Driver only | Front | ⋯ | 5 | 172 |  97 | 67 | 38 | 26.5 | 13 | 2670 | USA     | Dodge Shadow  |\n| 29 | Eagle | Summit  | Small |  7.9 | 12.2 | 16.5 | 29 | 33 | None        | Front | ⋯ | 5 | 174 |  98 | 66 | 36 | 26.5 | 11 | 2295 | USA     | Eagle Summit  |\n| 31 | Ford  | Festiva | Small |  6.9 |  7.4 |  7.9 | 31 | 33 | None        | Front | ⋯ | 4 | 141 |  90 | 63 | 33 | 26.0 | 12 | 1845 | USA     | Ford Festiva  |\n| 32 | Ford  | Escort  | Small |  8.4 | 10.1 | 11.9 | 23 | 30 | None        | Front | ⋯ | 5 | 171 |  98 | 67 | 36 | 28.0 | 12 | 2530 | USA     | Ford Escort   |\n\n",
            "text/html": [
              "<table class=\"dataframe\">\n",
              "<caption>A data.frame: 6 × 27</caption>\n",
              "<thead>\n",
              "\t<tr><th></th><th scope=col>Manufacturer</th><th scope=col>Model</th><th scope=col>Type</th><th scope=col>Min.Price</th><th scope=col>Price</th><th scope=col>Max.Price</th><th scope=col>MPG.city</th><th scope=col>MPG.highway</th><th scope=col>AirBags</th><th scope=col>DriveTrain</th><th scope=col>⋯</th><th scope=col>Passengers</th><th scope=col>Length</th><th scope=col>Wheelbase</th><th scope=col>Width</th><th scope=col>Turn.circle</th><th scope=col>Rear.seat.room</th><th scope=col>Luggage.room</th><th scope=col>Weight</th><th scope=col>Origin</th><th scope=col>Make</th></tr>\n",
              "\t<tr><th></th><th scope=col>&lt;fct&gt;</th><th scope=col>&lt;fct&gt;</th><th scope=col>&lt;fct&gt;</th><th scope=col>&lt;dbl&gt;</th><th scope=col>&lt;dbl&gt;</th><th scope=col>&lt;dbl&gt;</th><th scope=col>&lt;int&gt;</th><th scope=col>&lt;int&gt;</th><th scope=col>&lt;fct&gt;</th><th scope=col>&lt;fct&gt;</th><th scope=col>⋯</th><th scope=col>&lt;int&gt;</th><th scope=col>&lt;int&gt;</th><th scope=col>&lt;int&gt;</th><th scope=col>&lt;int&gt;</th><th scope=col>&lt;int&gt;</th><th scope=col>&lt;dbl&gt;</th><th scope=col>&lt;int&gt;</th><th scope=col>&lt;int&gt;</th><th scope=col>&lt;fct&gt;</th><th scope=col>&lt;fct&gt;</th></tr>\n",
              "</thead>\n",
              "<tbody>\n",
              "\t<tr><th scope=row>1</th><td>Acura</td><td>Integra</td><td>Small</td><td>12.9</td><td>15.9</td><td>18.8</td><td>25</td><td>31</td><td>None       </td><td>Front</td><td>⋯</td><td>5</td><td>177</td><td>102</td><td>68</td><td>37</td><td>26.5</td><td>11</td><td>2705</td><td>non-USA</td><td>Acura Integra</td></tr>\n",
              "\t<tr><th scope=row>23</th><td>Dodge</td><td>Colt   </td><td>Small</td><td> 7.9</td><td> 9.2</td><td>10.6</td><td>29</td><td>33</td><td>None       </td><td>Front</td><td>⋯</td><td>5</td><td>174</td><td> 98</td><td>66</td><td>32</td><td>26.5</td><td>11</td><td>2270</td><td>USA    </td><td>Dodge Colt   </td></tr>\n",
              "\t<tr><th scope=row>24</th><td>Dodge</td><td>Shadow </td><td>Small</td><td> 8.4</td><td>11.3</td><td>14.2</td><td>23</td><td>29</td><td>Driver only</td><td>Front</td><td>⋯</td><td>5</td><td>172</td><td> 97</td><td>67</td><td>38</td><td>26.5</td><td>13</td><td>2670</td><td>USA    </td><td>Dodge Shadow </td></tr>\n",
              "\t<tr><th scope=row>29</th><td>Eagle</td><td>Summit </td><td>Small</td><td> 7.9</td><td>12.2</td><td>16.5</td><td>29</td><td>33</td><td>None       </td><td>Front</td><td>⋯</td><td>5</td><td>174</td><td> 98</td><td>66</td><td>36</td><td>26.5</td><td>11</td><td>2295</td><td>USA    </td><td>Eagle Summit </td></tr>\n",
              "\t<tr><th scope=row>31</th><td>Ford </td><td>Festiva</td><td>Small</td><td> 6.9</td><td> 7.4</td><td> 7.9</td><td>31</td><td>33</td><td>None       </td><td>Front</td><td>⋯</td><td>4</td><td>141</td><td> 90</td><td>63</td><td>33</td><td>26.0</td><td>12</td><td>1845</td><td>USA    </td><td>Ford Festiva </td></tr>\n",
              "\t<tr><th scope=row>32</th><td>Ford </td><td>Escort </td><td>Small</td><td> 8.4</td><td>10.1</td><td>11.9</td><td>23</td><td>30</td><td>None       </td><td>Front</td><td>⋯</td><td>5</td><td>171</td><td> 98</td><td>67</td><td>36</td><td>28.0</td><td>12</td><td>2530</td><td>USA    </td><td>Ford Escort  </td></tr>\n",
              "</tbody>\n",
              "</table>\n"
            ]
          },
          "metadata": {}
        }
      ]
    },
    {
      "cell_type": "markdown",
      "metadata": {
        "id": "101b7ed5"
      },
      "source": [
        "#### Selecionando colunas de `Cars93`"
      ]
    },
    {
      "cell_type": "code",
      "metadata": {
        "kernel": "R",
        "tags": [
          "report_cell"
        ],
        "id": "aab30210",
        "colab": {
          "base_uri": "https://localhost:8080/",
          "height": 832
        },
        "outputId": "d3dd5466-a8d1-48d5-f0d5-6a2915da3b68"
      },
      "source": [
        "head(Cars93$Price)\n",
        "head(Cars93[,c('Price','Type')])\n",
        "head(Cars93[,c(3,5)])\n",
        "\n",
        "myCars = Cars93[,c('Price','Type')]\n",
        "head(myCars)"
      ],
      "execution_count": 5,
      "outputs": [
        {
          "output_type": "display_data",
          "data": {
            "text/plain": [
              "[1] 15.9 33.9 29.1 37.7 30.0 15.7"
            ],
            "text/latex": "\\begin{enumerate*}\n\\item 15.9\n\\item 33.9\n\\item 29.1\n\\item 37.7\n\\item 30\n\\item 15.7\n\\end{enumerate*}\n",
            "text/markdown": "1. 15.9\n2. 33.9\n3. 29.1\n4. 37.7\n5. 30\n6. 15.7\n\n\n",
            "text/html": [
              "<style>\n",
              ".list-inline {list-style: none; margin:0; padding: 0}\n",
              ".list-inline>li {display: inline-block}\n",
              ".list-inline>li:not(:last-child)::after {content: \"\\00b7\"; padding: 0 .5ex}\n",
              "</style>\n",
              "<ol class=list-inline><li>15.9</li><li>33.9</li><li>29.1</li><li>37.7</li><li>30</li><li>15.7</li></ol>\n"
            ]
          },
          "metadata": {}
        },
        {
          "output_type": "display_data",
          "data": {
            "text/plain": [
              "  Price Type   \n",
              "1 15.9  Small  \n",
              "2 33.9  Midsize\n",
              "3 29.1  Compact\n",
              "4 37.7  Midsize\n",
              "5 30.0  Midsize\n",
              "6 15.7  Midsize"
            ],
            "text/latex": "A data.frame: 6 × 2\n\\begin{tabular}{r|ll}\n  & Price & Type\\\\\n  & <dbl> & <fct>\\\\\n\\hline\n\t1 & 15.9 & Small  \\\\\n\t2 & 33.9 & Midsize\\\\\n\t3 & 29.1 & Compact\\\\\n\t4 & 37.7 & Midsize\\\\\n\t5 & 30.0 & Midsize\\\\\n\t6 & 15.7 & Midsize\\\\\n\\end{tabular}\n",
            "text/markdown": "\nA data.frame: 6 × 2\n\n| <!--/--> | Price &lt;dbl&gt; | Type &lt;fct&gt; |\n|---|---|---|\n| 1 | 15.9 | Small   |\n| 2 | 33.9 | Midsize |\n| 3 | 29.1 | Compact |\n| 4 | 37.7 | Midsize |\n| 5 | 30.0 | Midsize |\n| 6 | 15.7 | Midsize |\n\n",
            "text/html": [
              "<table class=\"dataframe\">\n",
              "<caption>A data.frame: 6 × 2</caption>\n",
              "<thead>\n",
              "\t<tr><th></th><th scope=col>Price</th><th scope=col>Type</th></tr>\n",
              "\t<tr><th></th><th scope=col>&lt;dbl&gt;</th><th scope=col>&lt;fct&gt;</th></tr>\n",
              "</thead>\n",
              "<tbody>\n",
              "\t<tr><th scope=row>1</th><td>15.9</td><td>Small  </td></tr>\n",
              "\t<tr><th scope=row>2</th><td>33.9</td><td>Midsize</td></tr>\n",
              "\t<tr><th scope=row>3</th><td>29.1</td><td>Compact</td></tr>\n",
              "\t<tr><th scope=row>4</th><td>37.7</td><td>Midsize</td></tr>\n",
              "\t<tr><th scope=row>5</th><td>30.0</td><td>Midsize</td></tr>\n",
              "\t<tr><th scope=row>6</th><td>15.7</td><td>Midsize</td></tr>\n",
              "</tbody>\n",
              "</table>\n"
            ]
          },
          "metadata": {}
        },
        {
          "output_type": "display_data",
          "data": {
            "text/plain": [
              "  Type    Price\n",
              "1 Small   15.9 \n",
              "2 Midsize 33.9 \n",
              "3 Compact 29.1 \n",
              "4 Midsize 37.7 \n",
              "5 Midsize 30.0 \n",
              "6 Midsize 15.7 "
            ],
            "text/latex": "A data.frame: 6 × 2\n\\begin{tabular}{r|ll}\n  & Type & Price\\\\\n  & <fct> & <dbl>\\\\\n\\hline\n\t1 & Small   & 15.9\\\\\n\t2 & Midsize & 33.9\\\\\n\t3 & Compact & 29.1\\\\\n\t4 & Midsize & 37.7\\\\\n\t5 & Midsize & 30.0\\\\\n\t6 & Midsize & 15.7\\\\\n\\end{tabular}\n",
            "text/markdown": "\nA data.frame: 6 × 2\n\n| <!--/--> | Type &lt;fct&gt; | Price &lt;dbl&gt; |\n|---|---|---|\n| 1 | Small   | 15.9 |\n| 2 | Midsize | 33.9 |\n| 3 | Compact | 29.1 |\n| 4 | Midsize | 37.7 |\n| 5 | Midsize | 30.0 |\n| 6 | Midsize | 15.7 |\n\n",
            "text/html": [
              "<table class=\"dataframe\">\n",
              "<caption>A data.frame: 6 × 2</caption>\n",
              "<thead>\n",
              "\t<tr><th></th><th scope=col>Type</th><th scope=col>Price</th></tr>\n",
              "\t<tr><th></th><th scope=col>&lt;fct&gt;</th><th scope=col>&lt;dbl&gt;</th></tr>\n",
              "</thead>\n",
              "<tbody>\n",
              "\t<tr><th scope=row>1</th><td>Small  </td><td>15.9</td></tr>\n",
              "\t<tr><th scope=row>2</th><td>Midsize</td><td>33.9</td></tr>\n",
              "\t<tr><th scope=row>3</th><td>Compact</td><td>29.1</td></tr>\n",
              "\t<tr><th scope=row>4</th><td>Midsize</td><td>37.7</td></tr>\n",
              "\t<tr><th scope=row>5</th><td>Midsize</td><td>30.0</td></tr>\n",
              "\t<tr><th scope=row>6</th><td>Midsize</td><td>15.7</td></tr>\n",
              "</tbody>\n",
              "</table>\n"
            ]
          },
          "metadata": {}
        },
        {
          "output_type": "display_data",
          "data": {
            "text/plain": [
              "  Price Type   \n",
              "1 15.9  Small  \n",
              "2 33.9  Midsize\n",
              "3 29.1  Compact\n",
              "4 37.7  Midsize\n",
              "5 30.0  Midsize\n",
              "6 15.7  Midsize"
            ],
            "text/latex": "A data.frame: 6 × 2\n\\begin{tabular}{r|ll}\n  & Price & Type\\\\\n  & <dbl> & <fct>\\\\\n\\hline\n\t1 & 15.9 & Small  \\\\\n\t2 & 33.9 & Midsize\\\\\n\t3 & 29.1 & Compact\\\\\n\t4 & 37.7 & Midsize\\\\\n\t5 & 30.0 & Midsize\\\\\n\t6 & 15.7 & Midsize\\\\\n\\end{tabular}\n",
            "text/markdown": "\nA data.frame: 6 × 2\n\n| <!--/--> | Price &lt;dbl&gt; | Type &lt;fct&gt; |\n|---|---|---|\n| 1 | 15.9 | Small   |\n| 2 | 33.9 | Midsize |\n| 3 | 29.1 | Compact |\n| 4 | 37.7 | Midsize |\n| 5 | 30.0 | Midsize |\n| 6 | 15.7 | Midsize |\n\n",
            "text/html": [
              "<table class=\"dataframe\">\n",
              "<caption>A data.frame: 6 × 2</caption>\n",
              "<thead>\n",
              "\t<tr><th></th><th scope=col>Price</th><th scope=col>Type</th></tr>\n",
              "\t<tr><th></th><th scope=col>&lt;dbl&gt;</th><th scope=col>&lt;fct&gt;</th></tr>\n",
              "</thead>\n",
              "<tbody>\n",
              "\t<tr><th scope=row>1</th><td>15.9</td><td>Small  </td></tr>\n",
              "\t<tr><th scope=row>2</th><td>33.9</td><td>Midsize</td></tr>\n",
              "\t<tr><th scope=row>3</th><td>29.1</td><td>Compact</td></tr>\n",
              "\t<tr><th scope=row>4</th><td>37.7</td><td>Midsize</td></tr>\n",
              "\t<tr><th scope=row>5</th><td>30.0</td><td>Midsize</td></tr>\n",
              "\t<tr><th scope=row>6</th><td>15.7</td><td>Midsize</td></tr>\n",
              "</tbody>\n",
              "</table>\n"
            ]
          },
          "metadata": {}
        }
      ]
    },
    {
      "cell_type": "markdown",
      "metadata": {
        "id": "811b1548"
      },
      "source": [
        "#### Selecionando conjuntos de dados de `Cars93`"
      ]
    },
    {
      "cell_type": "code",
      "metadata": {
        "kernel": "R",
        "tags": [
          "report_cell"
        ],
        "id": "285bb40f",
        "colab": {
          "base_uri": "https://localhost:8080/",
          "height": 300
        },
        "outputId": "3abfcff5-28d8-4e1e-cab4-af5f5f7fc3d0"
      },
      "source": [
        "myCars = Cars93[ Cars93$Price < 20 & Cars93$Type == 'Small', c('Price','Type','MPG.city')]\n",
        "head(myCars)\n",
        "nrow(myCars)"
      ],
      "execution_count": 6,
      "outputs": [
        {
          "output_type": "display_data",
          "data": {
            "text/plain": [
              "   Price Type  MPG.city\n",
              "1  15.9  Small 25      \n",
              "23  9.2  Small 29      \n",
              "24 11.3  Small 23      \n",
              "29 12.2  Small 29      \n",
              "31  7.4  Small 31      \n",
              "32 10.1  Small 23      "
            ],
            "text/latex": "A data.frame: 6 × 3\n\\begin{tabular}{r|lll}\n  & Price & Type & MPG.city\\\\\n  & <dbl> & <fct> & <int>\\\\\n\\hline\n\t1 & 15.9 & Small & 25\\\\\n\t23 &  9.2 & Small & 29\\\\\n\t24 & 11.3 & Small & 23\\\\\n\t29 & 12.2 & Small & 29\\\\\n\t31 &  7.4 & Small & 31\\\\\n\t32 & 10.1 & Small & 23\\\\\n\\end{tabular}\n",
            "text/markdown": "\nA data.frame: 6 × 3\n\n| <!--/--> | Price &lt;dbl&gt; | Type &lt;fct&gt; | MPG.city &lt;int&gt; |\n|---|---|---|---|\n| 1 | 15.9 | Small | 25 |\n| 23 |  9.2 | Small | 29 |\n| 24 | 11.3 | Small | 23 |\n| 29 | 12.2 | Small | 29 |\n| 31 |  7.4 | Small | 31 |\n| 32 | 10.1 | Small | 23 |\n\n",
            "text/html": [
              "<table class=\"dataframe\">\n",
              "<caption>A data.frame: 6 × 3</caption>\n",
              "<thead>\n",
              "\t<tr><th></th><th scope=col>Price</th><th scope=col>Type</th><th scope=col>MPG.city</th></tr>\n",
              "\t<tr><th></th><th scope=col>&lt;dbl&gt;</th><th scope=col>&lt;fct&gt;</th><th scope=col>&lt;int&gt;</th></tr>\n",
              "</thead>\n",
              "<tbody>\n",
              "\t<tr><th scope=row>1</th><td>15.9</td><td>Small</td><td>25</td></tr>\n",
              "\t<tr><th scope=row>23</th><td> 9.2</td><td>Small</td><td>29</td></tr>\n",
              "\t<tr><th scope=row>24</th><td>11.3</td><td>Small</td><td>23</td></tr>\n",
              "\t<tr><th scope=row>29</th><td>12.2</td><td>Small</td><td>29</td></tr>\n",
              "\t<tr><th scope=row>31</th><td> 7.4</td><td>Small</td><td>31</td></tr>\n",
              "\t<tr><th scope=row>32</th><td>10.1</td><td>Small</td><td>23</td></tr>\n",
              "</tbody>\n",
              "</table>\n"
            ]
          },
          "metadata": {}
        },
        {
          "output_type": "display_data",
          "data": {
            "text/plain": [
              "[1] 21"
            ],
            "text/latex": "21",
            "text/markdown": "21",
            "text/html": [
              "21"
            ]
          },
          "metadata": {}
        }
      ]
    },
    {
      "cell_type": "markdown",
      "metadata": {
        "id": "73947ba0"
      },
      "source": [
        "# Estatísticas dos Valores"
      ]
    },
    {
      "cell_type": "markdown",
      "metadata": {
        "id": "d707d2ac"
      },
      "source": [
        "O quadro a seguir sumariza alguns comandos básicos de R empregados para se obter estatísticas dos dados.\n",
        "\n",
        "<br>\n",
        "<br> \n",
        "\n",
        "| Univariada     | Descrição                                 |\n",
        "|----------------|-------------------------------------------|\n",
        "| min(x)         | Mínimo elemento em x                      |\n",
        "| max(x)         | Máximo elemento em x                      |\n",
        "| range(x)       | Range (min to max) elementos em x         |\n",
        "| length(x)      | número de elementos em x                  |\n",
        "| mean(x)        | Média dos valores em x                    |\n",
        "| median(x)      | Mediana dos valores em x                  |\n",
        "| var(x)         | Variância dos elementos em x              |\n",
        "| sd(x)          | Desvio padrão dos elementos em x          |\n",
        "| quantile(x,p)  | O percentual p quartil dos elementos de x |\n",
        "| table(x)       | Frequ~encias de valores de x              |\n",
        "\n",
        "<br>\n",
        "<br> \n",
        "\n",
        "| Multivariada   | Descrição                                 |\n",
        "|----------------|-------------------------------------------|\n",
        "| cor(x,y)       | Correlação entre os elementos x e y       |\n",
        "| cov(x,y)       | cov(x,y) Covariance between x and y       |\n",
        "\n",
        "<br>\n",
        "<br> \n",
        "\n",
        "A análise univariada refere-se a estatísticas que explicam uma única variável enquanto a análise multivariada são estatísticas que buscam explorar a relação entre duas ou mais variáveis."
      ]
    },
    {
      "cell_type": "markdown",
      "metadata": {
        "id": "397481cb"
      },
      "source": [
        "# Frequência de valores `table()`"
      ]
    },
    {
      "cell_type": "markdown",
      "metadata": {
        "id": "6ff56f5a"
      },
      "source": [
        "Para dados categóricos uma característica importante é quantidade de instâncias (linhas ou registros) que aparecem de cada valor. Em estatística chamamos isso de **frequencia dos dados** e mais adiante vamos ampliar esse conceito para variáveis contínuas e estudar distribuições dos dados.\n",
        "\n",
        "O comando `table()` em R pode ser empregado para exibir a frequência de valores de uma variável discreta (categórica ou numérica). No momento, você não precisa se preocupar com os comandos para exibir o gráfico aqui. Simplesmente estamos apresentando a informação da frequência dos valores de forma gráfica."
      ]
    },
    {
      "cell_type": "code",
      "metadata": {
        "kernel": "R",
        "tags": [
          "report_cell"
        ],
        "id": "af7f660e",
        "colab": {
          "base_uri": "https://localhost:8080/",
          "height": 539
        },
        "outputId": "84bf72cc-8957-4ede-c33c-88da878d13ba"
      },
      "source": [
        "table(Cars93$Type)\n",
        "table(Cars93$Origin)\n",
        "\n",
        "par(mfrow = c(1, 2))\n",
        "barplot(table(Cars93$Type), main='Qde de Veículos por Tipo',col='orange')\n",
        "barplot(table(Cars93$Origin), main='Qde de Veículos por Origem',col=c('green','blue'))"
      ],
      "execution_count": 7,
      "outputs": [
        {
          "output_type": "display_data",
          "data": {
            "text/plain": [
              "\n",
              "Compact   Large Midsize   Small  Sporty     Van \n",
              "     16      11      22      21      14       9 "
            ]
          },
          "metadata": {}
        },
        {
          "output_type": "display_data",
          "data": {
            "text/plain": [
              "\n",
              "    USA non-USA \n",
              "     48      45 "
            ]
          },
          "metadata": {}
        },
        {
          "output_type": "display_data",
          "data": {
            "image/png": "[encoded data removed]",
            "text/plain": [
              "Plot with title “Qde de Veículos por Origem”"
            ]
          },
          "metadata": {
            "image/png": {
              "width": 420,
              "height": 420
            }
          }
        }
      ]
    },
    {
      "cell_type": "markdown",
      "metadata": {
        "id": "b680aa16"
      },
      "source": [
        "# Medidas de Centralidade"
      ]
    },
    {
      "cell_type": "markdown",
      "metadata": {
        "id": "244a48dc"
      },
      "source": [
        "Média, Mediana e Moda são as principais medidas de Centralidade ou medida de tendência central dos dados.\n",
        "\n",
        "A **Média** é calculada somando-se todos os valores de um conjunto de dados e dividindo-se pelo número de elementos deste conjunto, resumidamente:\n",
        "\n",
        "$$ \\bar{x} = \\frac{\\sum_{i}^{n} x_i}{n} $$\n",
        "\n",
        "A **Moda** é o valor mais frequente de um conjunto de dados, sendo assim, para defini-la basta observar a frequência com que os valores aparecem, e um conjunto de dados é chamado de bimodal quando apresenta dois valores igualmente mais frequentes. Não há um comando específico em R para a moda. Então, empregamos abaixo uma função para retornar a moda. Vários pacotes estatísticos, entretanto, implementam essa função e você pode, se quiser, empregar a função de algum pacote estatístico como o `DescTools`."
      ]
    },
    {
      "cell_type": "code",
      "metadata": {
        "kernel": "R",
        "tags": [
          "report_cell"
        ],
        "id": "54dce014",
        "colab": {
          "base_uri": "https://localhost:8080/"
        },
        "outputId": "d3ff1902-462d-4b8b-e0ff-a90011236f0c"
      },
      "source": [
        "x = c(rep(1,2),rep(2,3),rep('a',5))\n",
        "cat('x: ', x)\n",
        "\n",
        "moda = names(table(x))[table(x)==max(table(x))]\n",
        "\n",
        "cat('\\nModa de x: ', moda)"
      ],
      "execution_count": 8,
      "outputs": [
        {
          "output_type": "stream",
          "name": "stdout",
          "text": [
            "x:  1 1 2 2 2 a a a a a\n",
            "Moda de x:  a"
          ]
        }
      ]
    },
    {
      "cell_type": "markdown",
      "metadata": {
        "id": "wdXMbxlc1Rat"
      },
      "source": [
        "Se você estiver empregando o Colab, a instalação do pacote pode ser bastante demorada... rs."
      ]
    },
    {
      "cell_type": "code",
      "metadata": {
        "kernel": "R",
        "tags": [
          "report_cell"
        ],
        "id": "897a4f64",
        "colab": {
          "base_uri": "https://localhost:8080/"
        },
        "outputId": "232ab428-ed30-4495-b957-cedc6e70790c"
      },
      "source": [
        "install.packages(\"DescTools\")\n",
        "library(DescTools)\n",
        "\n",
        "cat('\\nModa de x: ', Mode(x))"
      ],
      "execution_count": 11,
      "outputs": [
        {
          "output_type": "stream",
          "name": "stderr",
          "text": [
            "Installing package into ‘/usr/local/lib/R/site-library’\n",
            "(as ‘lib’ is unspecified)\n",
            "\n",
            "also installing the dependencies ‘proxy’, ‘rootSolve’, ‘e1071’, ‘lmom’, ‘mvtnorm’, ‘expm’, ‘Exact’, ‘gld’, ‘BH’\n",
            "\n",
            "\n"
          ]
        },
        {
          "output_type": "stream",
          "name": "stdout",
          "text": [
            "\n",
            "Moda de x:  a"
          ]
        }
      ]
    },
    {
      "cell_type": "markdown",
      "metadata": {
        "id": "97446970"
      },
      "source": [
        "**Mediana** é definido como o valor central de um conjunto de dados. Para encontrar o valor da mediana os dados são colocados em ordem ordem crescente buscando-se assim o dados central (ou na posição de 50% dos dados, e isso será útil para você entender os quartis mais adiante). Quando o número elementos é par, a mediana é obtida pela média dos dois valores centrais. Note abaixo como se diferenciam os valores de média e mediana."
      ]
    },
    {
      "cell_type": "code",
      "metadata": {
        "kernel": "R",
        "tags": [
          "report_cell"
        ],
        "id": "df7171dc",
        "colab": {
          "base_uri": "https://localhost:8080/"
        },
        "outputId": "33b64be5-fecd-4afc-dc84-d7c20d8f558e"
      },
      "source": [
        "a = c(1,2,3,4,10)\n",
        "b = c(1,2,3,10)\n",
        "c = c(1,1,1,3,10)\n",
        "cat('\\nMediana de a: ', median(a), '\\nMediana de b: ', median(b),  '\\nMediana de c: ', median(c))\n",
        "cat('\\nMédia de a: ', mean(a), '\\nMédia de b: ', mean(b),  '\\nMédia de c: ', mean(c))"
      ],
      "execution_count": 12,
      "outputs": [
        {
          "output_type": "stream",
          "name": "stdout",
          "text": [
            "\n",
            "Mediana de a:  3 \n",
            "Mediana de b:  2.5 \n",
            "Mediana de c:  1\n",
            "Média de a:  4 \n",
            "Média de b:  4 \n",
            "Média de c:  3.2"
          ]
        }
      ]
    },
    {
      "cell_type": "markdown",
      "metadata": {
        "id": "7c866b9f"
      },
      "source": [
        "Existem outro tipos de média, como médias geométricas e médias harmônicas, mas que não trataremos aqui. Você deve notar ainda que as medidas de centralidade não se aplicam para valores categóricos pois sua natureza não inclui uma ideia de valor e ou necessariamente de ordem. O mesmo ocorre com as medidas de dispersão a seguir."
      ]
    },
    {
      "cell_type": "markdown",
      "metadata": {
        "id": "9869e67b"
      },
      "source": [
        "## Sensibilidade de Médias e Medianas\n",
        "\n",
        "Em geral a média é uma boa medida para caracterizar dados mais uniformemente distribuídos sendo mais sensível que a mediana para dados na presença de *outliers*. *Outliers* são valores que  se diferenciam muito da maior parte dos dados. Por exemplo, imagine a média de renda dos alunos do nosso curso e imagine agora que Jeff Bezos venha a ser seu colega de turma. A média de renda dos alunos será bastante modificada, o valor da mediana, entretanto, tende a ficar pouco alterado."
      ]
    },
    {
      "cell_type": "code",
      "metadata": {
        "kernel": "R",
        "tags": [
          "report_cell"
        ],
        "id": "aa39cd92",
        "colab": {
          "base_uri": "https://localhost:8080/"
        },
        "outputId": "38ee3df3-2078-4c1c-e6ca-b624c93a3866"
      },
      "source": [
        "a = c(rep(2000,5),rep(2500,4),rep(5000,2))\n",
        "b = c(rep(2000,5),rep(2500,4),rep(5000,2),1000000000) # incluindo o outlier 'Jeff Bezos'\n",
        "\n",
        "cat('\\nMediana de a: ', median(a), '\\nMediana de b: ', median(b))\n",
        "cat('\\nMédia de a: ', mean(a), '\\nMédia de b: ', mean(b))"
      ],
      "execution_count": 13,
      "outputs": [
        {
          "output_type": "stream",
          "name": "stdout",
          "text": [
            "\n",
            "Mediana de a:  2500 \n",
            "Mediana de b:  2500\n",
            "Média de a:  2727.273 \n",
            "Média de b:  83335833"
          ]
        }
      ]
    },
    {
      "cell_type": "markdown",
      "metadata": {
        "id": "d4be88c6"
      },
      "source": [
        "# Medidas de Dispersão"
      ]
    },
    {
      "cell_type": "markdown",
      "metadata": {
        "id": "3357a3f9"
      },
      "source": [
        "Medidas de dispersão são usadas para determinar o grau de variabilidade dos dados de um conjunto de valores.\n",
        "As estatísticas de tendência central (média, mediana, moda) não permite avaliar a homogeneidade ou uniformidade dos dados. O intervalo de valores (range), variância, desvio padrão e os quartis são as medidas de dispersão mais frequentemente usadas.\n",
        "\n",
        "Inspecionar os valores min, max e o intervalo de valores é importante para quaisquer conjuntos de dados (mas lembre-se que essas medidas não se aplicam a dados categóricos)."
      ]
    },
    {
      "cell_type": "code",
      "metadata": {
        "kernel": "R",
        "tags": [
          "report_cell"
        ],
        "id": "9ecc28ed",
        "colab": {
          "base_uri": "https://localhost:8080/",
          "height": 85
        },
        "outputId": "3155a897-2567-43be-f6af-d2bcdbec621f"
      },
      "source": [
        "min(myCars$Price)\n",
        "max(myCars$Price)\n",
        "range(myCars$Price)\n",
        "max(myCars$Price) - min(myCars$Price) # chamamos essa diferença de amplitude total"
      ],
      "execution_count": 14,
      "outputs": [
        {
          "output_type": "display_data",
          "data": {
            "text/plain": [
              "[1] 7.4"
            ],
            "text/latex": "7.4",
            "text/markdown": "7.4",
            "text/html": [
              "7.4"
            ]
          },
          "metadata": {}
        },
        {
          "output_type": "display_data",
          "data": {
            "text/plain": [
              "[1] 15.9"
            ],
            "text/latex": "15.9",
            "text/markdown": "15.9",
            "text/html": [
              "15.9"
            ]
          },
          "metadata": {}
        },
        {
          "output_type": "display_data",
          "data": {
            "text/plain": [
              "[1]  7.4 15.9"
            ],
            "text/latex": "\\begin{enumerate*}\n\\item 7.4\n\\item 15.9\n\\end{enumerate*}\n",
            "text/markdown": "1. 7.4\n2. 15.9\n\n\n",
            "text/html": [
              "<style>\n",
              ".list-inline {list-style: none; margin:0; padding: 0}\n",
              ".list-inline>li {display: inline-block}\n",
              ".list-inline>li:not(:last-child)::after {content: \"\\00b7\"; padding: 0 .5ex}\n",
              "</style>\n",
              "<ol class=list-inline><li>7.4</li><li>15.9</li></ol>\n"
            ]
          },
          "metadata": {}
        },
        {
          "output_type": "display_data",
          "data": {
            "text/plain": [
              "[1] 8.5"
            ],
            "text/latex": "8.5",
            "text/markdown": "8.5",
            "text/html": [
              "8.5"
            ]
          },
          "metadata": {}
        }
      ]
    },
    {
      "cell_type": "markdown",
      "metadata": {
        "id": "bf92796a"
      },
      "source": [
        "## Variância e Desvio Padrão\n",
        "A variação é uma medida numérica de como os valores dos dados estão dispersos em torno da média . Em particular, a variação da amostra é definida como:\n",
        "\n",
        "$$  s^2(x) = \\sum_i^n \\frac{( x_i -  \\bar{x})^2 }{n - 1} $$\n",
        "\n",
        "\n",
        "\n",
        "Da mesma forma, a variância de uma população é definida em termos da média da população $\\mu$ e tamanho da população N :\n",
        "\n",
        "$$  \\sigma^2(x) = \\sum_i^n  \\frac{( x_i -  \\mu)^2 }{N} $$\n",
        "Em R, a variação da amostra é calculada com a função `var()`. Observe que, quando o tamanho da amostra é  grande, a variância da amostra converge para a variância da população. Desse modo não faremos na maior parte dos casos distinção entre os cálculos de amostras e população, empregando diretamente as funções do R. Note ainda que, independente de uma ou outra forma de cálculo, a ordem do valor obtido é mantida e um valor maior de variância de amostra corresponde também a um maior valor de variância da população o que permite empregarmos quaisquer desses valores para identificar dados mais e menos dispersos. Mas se você precisar de uma variação da população poderá empregar o cálculo direto."
      ]
    },
    {
      "cell_type": "code",
      "metadata": {
        "kernel": "R",
        "tags": [
          "report_cell"
        ],
        "id": "e8fed3fd",
        "colab": {
          "base_uri": "https://localhost:8080/",
          "height": 68
        },
        "outputId": "df4a84ad-7d38-4151-ae5a-8dc22828aeb6"
      },
      "source": [
        "x = c(1,2,3,4)\n",
        "var(x)\n",
        "\n",
        "sum((x - mean(x))^2) / length(x)\n",
        "sum((x - mean(x))^2) / (length(x) - 1) # este é o cálculo que corresponde a função var()"
      ],
      "execution_count": 15,
      "outputs": [
        {
          "output_type": "display_data",
          "data": {
            "text/plain": [
              "[1] 1.666667"
            ],
            "text/latex": "1.66666666666667",
            "text/markdown": "1.66666666666667",
            "text/html": [
              "1.66666666666667"
            ]
          },
          "metadata": {}
        },
        {
          "output_type": "display_data",
          "data": {
            "text/plain": [
              "[1] 1.25"
            ],
            "text/latex": "1.25",
            "text/markdown": "1.25",
            "text/html": [
              "1.25"
            ]
          },
          "metadata": {}
        },
        {
          "output_type": "display_data",
          "data": {
            "text/plain": [
              "[1] 1.666667"
            ],
            "text/latex": "1.66666666666667",
            "text/markdown": "1.66666666666667",
            "text/html": [
              "1.66666666666667"
            ]
          },
          "metadata": {}
        }
      ]
    },
    {
      "cell_type": "markdown",
      "metadata": {
        "id": "1f362e00"
      },
      "source": [
        "O desvio padrão, de uma amostra ou população, pode ser obtido pela raiz quadrada da correspondente variância. Assim,\n",
        "\n",
        "$$  s(x) =  \\sqrt{ \\sum_i^n \\frac{( x_i -  \\bar{x})^2 }{n - 1}} $$\n",
        "Ou simplesmente\n",
        "\n",
        "$$  s(x) = \\sqrt{ s^2(x) } $$\n",
        "e, igualmente\n",
        "\n",
        "$$  \\sigma(x) =   \\sqrt{  \\sum_i^n  \\frac{( x_i -  \\mu)^2 }{N} } $$\n",
        "ou\n",
        "\n",
        "$$  \\sigma(x) =   \\sqrt{  \\sigma^2(x)  } $$\n",
        "Um valor alto para a variância (ou desvio padrão) indicará que os valores encontram-se mais distantes da média – ou seja, a distribuição é mais dispersa.\n",
        "\n",
        "Você pode notar ainda que a variância emprega o quadrado da diferença dos valores com relação à média. Já o desvio padrão, como a raiz quadrada da variação, fornece um valor que está nas mesmas unidades que os valores o que será útil em uma série de situações que empream os dados originais. Em princípio, ambas medidas fornecem uma medida de dispersão, usando-se uma ou outra dependendo da necessidade."
      ]
    },
    {
      "cell_type": "code",
      "metadata": {
        "kernel": "R",
        "tags": [
          "report_cell"
        ],
        "id": "a174b940",
        "colab": {
          "base_uri": "https://localhost:8080/",
          "height": 85
        },
        "outputId": "3eda56dc-743c-4955-c601-d15415a40be3"
      },
      "source": [
        "suppressMessages(attach(Cars93))\n",
        "\n",
        "mean(Price)\n",
        "\n",
        "var(Price)\n",
        "sd(Price)\n",
        "\n",
        "cat(mean(Price) - sd(Price), mean(Price) + sd(Price))\n",
        "\n",
        "detach(Cars93)"
      ],
      "execution_count": 16,
      "outputs": [
        {
          "output_type": "display_data",
          "data": {
            "text/plain": [
              "[1] 19.50968"
            ],
            "text/latex": "19.5096774193548",
            "text/markdown": "19.5096774193548",
            "text/html": [
              "19.5096774193548"
            ]
          },
          "metadata": {}
        },
        {
          "output_type": "display_data",
          "data": {
            "text/plain": [
              "[1] 93.30458"
            ],
            "text/latex": "93.3045792426367",
            "text/markdown": "93.3045792426367",
            "text/html": [
              "93.3045792426367"
            ]
          },
          "metadata": {}
        },
        {
          "output_type": "display_data",
          "data": {
            "text/plain": [
              "[1] 9.65943"
            ],
            "text/latex": "9.65942955058096",
            "text/markdown": "9.65942955058096",
            "text/html": [
              "9.65942955058096"
            ]
          },
          "metadata": {}
        },
        {
          "output_type": "stream",
          "name": "stdout",
          "text": [
            "9.850248 29.16911"
          ]
        }
      ]
    },
    {
      "cell_type": "markdown",
      "metadata": {
        "id": "a2207dcf"
      },
      "source": [
        "O comando `attach` permite aqui omitir o nome do dataframe simplificando a codificação e o `sd()`, estando na mesma unidade da variável original, permite fazer operações como cálculo do intervalo acima."
      ]
    },
    {
      "cell_type": "markdown",
      "metadata": {
        "id": "ad641a9c"
      },
      "source": [
        "## Escore padrão e *Outliers*\n",
        "\n",
        "Outra medida de dispersão importante é o escore padronizado. Ele fornece uma medida de quanto um valor se desvia da média e é dado por:\n",
        "\n",
        "\n",
        "$$  Z(x_i) =   \\frac{ x_i -  \\bar{x} }{s(x)} $$\n",
        "Valores negativos indicam que o valor de $x_i$ encontra-se à esquerda da média e valores positivos indicam que o valor de $x_i$ encontra-se à direita da média.\n",
        "\n",
        "Essa medida é útil para vários propósitos e aqui você pode empregá-la para detectar *outliers* dos dados, isto é, dados que se diferenciam demais da amostra. O escore padronizado pode ser obtido para os valores todos os valores dos dados aplicando-se a função `scale()`.\n",
        "\n",
        "Neste exemplo calculamos o valor do escore padronizado para o preço do 5o veículo de nosso conjunto de dados Cars93."
      ]
    },
    {
      "cell_type": "code",
      "metadata": {
        "kernel": "R",
        "tags": [
          "report_cell"
        ],
        "id": "5869d25d",
        "colab": {
          "base_uri": "https://localhost:8080/"
        },
        "outputId": "59f9125f-d067-4bfa-dfcc-90d8afe30c04"
      },
      "source": [
        "suppressMessages(attach(Cars93))\n",
        "\n",
        "cat('\\nPreço do 5o veículo: ', Price[5])\n",
        "\n",
        "cat('\\nCálculo do escore padronizado (empregando a definição):', ( Price[5] - mean(Price) ) / sd(Price))\n",
        "\n",
        "cat('\\nCálculo do escore padronizado (empregando a função scale):', scale(Price)[5])\n",
        "\n",
        "detach(Cars93)"
      ],
      "execution_count": 17,
      "outputs": [
        {
          "output_type": "stream",
          "name": "stdout",
          "text": [
            "\n",
            "Preço do 5o veículo:  30\n",
            "Cálculo do escore padronizado (empregando a definição): 1.086019\n",
            "Cálculo do escore padronizado (empregando a função scale): 1.086019"
          ]
        }
      ]
    },
    {
      "cell_type": "markdown",
      "metadata": {
        "id": "1ed4c325"
      },
      "source": [
        "Outliers podem surgir por erros de medida, 'sujeira' nos dados ou serem medidas de fato que apenas desviam do padrão dos demais dados, e é importante você entender a natureza desses dados para tomar a decisão do que fazer com esses dados (por exemplo, excluir da amostra). Existem algumas técnicas para a detecção de outliers e uma delas é empregar escore padronizado. Valores com escore padrão superior a 3 são, então, considerados outliers. Note que muitas vezes você pode pensar que um determinado valor está *fora da curva*, mas o que define estatisticamente um valor fora do padrão dos dados é um cálculo bem definido, como por exemplo do escore padrão > 3. Assim, você deve notar que o preço do veículo acima, 30, com escore padrão de 1.08 é um preço dentro do padrão de dados. Veja mais sobre *outliers* na seção abaixo sobre Quartis.\n",
        "\n",
        "Você pode, então, empregar a função `scale()` para determinar outliers nos dados."
      ]
    },
    {
      "cell_type": "code",
      "metadata": {
        "kernel": "R",
        "tags": [
          "report_cell"
        ],
        "id": "e15bf1cb",
        "colab": {
          "base_uri": "https://localhost:8080/",
          "height": 204
        },
        "outputId": "c93b7bc1-986a-4d10-e2b0-43c4e80088d9"
      },
      "source": [
        "suppressMessages(attach(Cars93))\n",
        "\n",
        "scale(Price, center=FALSE)[1:6] # uma amostra dos escores padrão\n",
        "\n",
        "L = scale(Price) > 3 # selecionando escores maiores que 3\n",
        "\n",
        "print(Cars93[L,])\n",
        "\n",
        "detach(Cars93)"
      ],
      "execution_count": 18,
      "outputs": [
        {
          "output_type": "display_data",
          "data": {
            "text/plain": [
              "[1] 0.7271963 1.5504374 1.3309065 1.7242328 1.3720685 0.7180492"
            ],
            "text/latex": "\\begin{enumerate*}\n\\item 0.727196323863321\n\\item 1.55043744521802\n\\item 1.33090647952344\n\\item 1.72423279305957\n\\item 1.37206853559117\n\\item 0.718049200292713\n\\end{enumerate*}\n",
            "text/markdown": "1. 0.727196323863321\n2. 1.55043744521802\n3. 1.33090647952344\n4. 1.72423279305957\n5. 1.37206853559117\n6. 0.718049200292713\n\n\n",
            "text/html": [
              "<style>\n",
              ".list-inline {list-style: none; margin:0; padding: 0}\n",
              ".list-inline>li {display: inline-block}\n",
              ".list-inline>li:not(:last-child)::after {content: \"\\00b7\"; padding: 0 .5ex}\n",
              "</style>\n",
              "<ol class=list-inline><li>0.727196323863321</li><li>1.55043744521802</li><li>1.33090647952344</li><li>1.72423279305957</li><li>1.37206853559117</li><li>0.718049200292713</li></ol>\n"
            ]
          },
          "metadata": {}
        },
        {
          "output_type": "stream",
          "name": "stdout",
          "text": [
            "    Manufacturer Model    Type Min.Price Price Max.Price MPG.city MPG.highway\n",
            "59 Mercedes-Benz  300E Midsize      43.8  61.9        80       19          25\n",
            "              AirBags DriveTrain Cylinders EngineSize Horsepower  RPM\n",
            "59 Driver & Passenger       Rear         6        3.2        217 5500\n",
            "   Rev.per.mile Man.trans.avail Fuel.tank.capacity Passengers Length Wheelbase\n",
            "59         2220              No               18.5          5    187       110\n",
            "   Width Turn.circle Rear.seat.room Luggage.room Weight  Origin\n",
            "59    69          37             27           15   3525 non-USA\n",
            "                 Make\n",
            "59 Mercedes-Benz 300E\n"
          ]
        }
      ]
    },
    {
      "cell_type": "markdown",
      "metadata": {
        "id": "UQIJvh1j2mVG"
      },
      "source": [
        "<small>\n",
        "No código acima empregamos as funções `attach` e `detach` que permitem associar um dataframe e referenciarmos diretamente os atributos. Uma boa técnica para simplificar a programação, mas você pode claramente programar e sobreviver sem ela ;-)."
      ]
    },
    {
      "cell_type": "markdown",
      "metadata": {
        "id": "a34e7d23"
      },
      "source": [
        "Não é supresa que um Mercedes-Benz seja o veículo com preço outlier, sendo 61.9 o único preço outlier desse conjunto de dados."
      ]
    },
    {
      "cell_type": "markdown",
      "metadata": {
        "id": "785f182f"
      },
      "source": [
        "## Interpretando o Escore Padrão\n",
        "\n",
        "Você aprenderá mais sobre isso e os comandos abaixo nas aulas seguintes. Mas neste ponto, talvez seja importante você notar que em dados com uma distribuição normal, aquela com uma curva em forma de sino e que inclui um grande número de casos de interesse, é esperado que 68% dos dados estejam dentro de 1 desvio padrão da média, 95% dos dados dentro de 2 desvios padrão da média e 99,7% dos dados dentro de 3 desvios padrão da média.\n",
        "\n",
        "$$[ \\bar{x} - 1\\sigma(x), \\bar{x} + 1\\sigma(x)] \\rightarrow 68\\% \\ dos \\ dados$$\n",
        "$$[ \\bar{x} - 2\\sigma(x), \\bar{x} + 2\\sigma(x)] \\rightarrow 95\\% \\ dos \\ dados$$\n",
        "\n",
        "$$[ \\bar{x} - 3\\sigma(x), \\bar{x} + 3\\sigma(x)] \\rightarrow 99.7\\% \\ dos \\ dados$$\n",
        "Os comandos `pnorm` e `qnorm` que você aprenderá quando estudarmos a distribuição normal são empregados para obter respectivamente o 'percentil' dos dados a partir de um valor (`pnorm`) ou o valor para um dado percentil (`qnorm`), e você pode notar que o preço do quinto veículo corresponde a um percentil inferior a 99.7% (e portanto um valor esperado), enquanto o preço do modelo Mercedez aparece  encontra-se em percentil 99.9%, e portanto fora do intervalo de 99.7%, caracterizando um outlier."
      ]
    },
    {
      "cell_type": "code",
      "metadata": {
        "kernel": "R",
        "tags": [
          "report_cell"
        ],
        "id": "c8308b0d",
        "colab": {
          "base_uri": "https://localhost:8080/",
          "height": 119
        },
        "outputId": "31d87af7-ad60-4a0c-db7f-ffbd5ab6abac"
      },
      "source": [
        "suppressMessages(attach(Cars93))\n",
        "\n",
        "Price[5] # um preço normal\n",
        "pnorm(Price[5],mean=mean(Price),sd=sd(Price))\n",
        "qnorm(pnorm(Cars93$Price[5],mean=mean(Price),sd=sd(Price)),mean=mean(Price),sd=sd(Price))\n",
        "\n",
        "Price[59] # um outlier\n",
        "pnorm(Price[59],mean=mean(Price),sd=sd(Price))\n",
        "qnorm(pnorm(Cars93$Price[59],mean=mean(Price),sd=sd(Price)),mean=mean(Price),sd=sd(Price))\n",
        "\n",
        "detach(Cars93)"
      ],
      "execution_count": 19,
      "outputs": [
        {
          "output_type": "display_data",
          "data": {
            "text/plain": [
              "[1] 30"
            ],
            "text/latex": "30",
            "text/markdown": "30",
            "text/html": [
              "30"
            ]
          },
          "metadata": {}
        },
        {
          "output_type": "display_data",
          "data": {
            "text/plain": [
              "[1] 0.8612647"
            ],
            "text/latex": "0.861264673863146",
            "text/markdown": "0.861264673863146",
            "text/html": [
              "0.861264673863146"
            ]
          },
          "metadata": {}
        },
        {
          "output_type": "display_data",
          "data": {
            "text/plain": [
              "[1] 30"
            ],
            "text/latex": "30",
            "text/markdown": "30",
            "text/html": [
              "30"
            ]
          },
          "metadata": {}
        },
        {
          "output_type": "display_data",
          "data": {
            "text/plain": [
              "[1] 61.9"
            ],
            "text/latex": "61.9",
            "text/markdown": "61.9",
            "text/html": [
              "61.9"
            ]
          },
          "metadata": {}
        },
        {
          "output_type": "display_data",
          "data": {
            "text/plain": [
              "[1] 0.9999943"
            ],
            "text/latex": "0.999994293015105",
            "text/markdown": "0.999994293015105",
            "text/html": [
              "0.999994293015105"
            ]
          },
          "metadata": {}
        },
        {
          "output_type": "display_data",
          "data": {
            "text/plain": [
              "[1] 61.9"
            ],
            "text/latex": "61.8999999999936",
            "text/markdown": "61.8999999999936",
            "text/html": [
              "61.8999999999936"
            ]
          },
          "metadata": {}
        }
      ]
    },
    {
      "cell_type": "markdown",
      "metadata": {
        "id": "8cf7878c"
      },
      "source": [
        "A figura a seguir mostra como estão relacionados esses intervalos às quantidades de ocorrências da amostra para uma distribuição normal introduzindo também o conceito de quartis e distância inter quartis que você verá a seguir.\n",
        "\n",
        "<img src=\"http://meusite.mackenzie.br/rogerio/TIC/boxplotIQR.png\" width=500, align=\"center\">"
      ]
    },
    {
      "cell_type": "markdown",
      "metadata": {
        "id": "397306b6"
      },
      "source": [
        "# Quartis"
      ]
    },
    {
      "cell_type": "markdown",
      "metadata": {
        "id": "f01d4882"
      },
      "source": [
        "O percentil é o valor que corresponde a um certo percentual dos dados da amostra quando encontram-se ordenados. Desse modo, os percentis 0%, 50% e 100% correspondem, respectivamente, ao valor mímino, a mediana e o valor máximo dos dados."
      ]
    },
    {
      "cell_type": "code",
      "metadata": {
        "kernel": "R",
        "tags": [
          "report_cell"
        ],
        "id": "3496b76d",
        "colab": {
          "base_uri": "https://localhost:8080/"
        },
        "outputId": "81e6ea4d-fced-4664-f315-abccb8530250"
      },
      "source": [
        "suppressMessages(attach(Cars93))\n",
        "\n",
        "cat('\\n',min(Price), quantile(Price,prob=0))\n",
        "cat('\\n',median(Price), quantile(Price,prob=0.5))\n",
        "cat('\\n',max(Price), quantile(Price,prob=1))\n",
        "\n",
        "detach(Cars93)"
      ],
      "execution_count": 20,
      "outputs": [
        {
          "output_type": "stream",
          "name": "stdout",
          "text": [
            "\n",
            " 7.4 7.4\n",
            " 17.7 17.7\n",
            " 61.9 61.9"
          ]
        }
      ]
    },
    {
      "cell_type": "markdown",
      "metadata": {
        "id": "585aea49"
      },
      "source": [
        "E os quartis, os valores que correspondem a 0, 0.25, 0.5, 0.75 e 1 do percentual ordenado das amostras, pela sua importância, acabam recebendo denominação próprias. Os valores correspondentes a 25% e 75% dos dados são chamados de 1º e 3º quartis, e os demais mínimo (0), mediana (0.5) e máximo (1)."
      ]
    },
    {
      "cell_type": "code",
      "metadata": {
        "kernel": "R",
        "tags": [
          "report_cell"
        ],
        "id": "116f4e0e",
        "colab": {
          "base_uri": "https://localhost:8080/"
        },
        "outputId": "4a5f417c-ca6a-420b-f78e-fa49614a0d6b"
      },
      "source": [
        "print(quantile(Cars93$Price))"
      ],
      "execution_count": 21,
      "outputs": [
        {
          "output_type": "stream",
          "name": "stdout",
          "text": [
            "  0%  25%  50%  75% 100% \n",
            " 7.4 12.2 17.7 23.3 61.9 \n"
          ]
        }
      ]
    },
    {
      "cell_type": "markdown",
      "metadata": {
        "id": "de98d008"
      },
      "source": [
        "Esses dados também podem ser obtidos com o comando `summary()` que apresenta um conjunto de estatísticas resumidas dos dados."
      ]
    },
    {
      "cell_type": "code",
      "metadata": {
        "kernel": "R",
        "tags": [
          "report_cell"
        ],
        "id": "987790c1",
        "colab": {
          "base_uri": "https://localhost:8080/",
          "height": 153
        },
        "outputId": "6611f418-eaec-4594-f432-9cf4bfbccfc2"
      },
      "source": [
        "summary(Cars93[ , c('Type','Make','Price','Cylinders','Horsepower')])"
      ],
      "execution_count": 22,
      "outputs": [
        {
          "output_type": "display_data",
          "data": {
            "text/plain": [
              "      Type               Make        Price        Cylinders    Horsepower   \n",
              " Compact:16   Acura Integra: 1   Min.   : 7.40   3     : 3   Min.   : 55.0  \n",
              " Large  :11   Acura Legend : 1   1st Qu.:12.20   4     :49   1st Qu.:103.0  \n",
              " Midsize:22   Audi 100     : 1   Median :17.70   5     : 2   Median :140.0  \n",
              " Small  :21   Audi 90      : 1   Mean   :19.51   6     :31   Mean   :143.8  \n",
              " Sporty :14   BMW 535i     : 1   3rd Qu.:23.30   8     : 7   3rd Qu.:170.0  \n",
              " Van    : 9   Buick Century: 1   Max.   :61.90   rotary: 1   Max.   :300.0  \n",
              "              (Other)      :87                                              "
            ]
          },
          "metadata": {}
        }
      ]
    },
    {
      "cell_type": "markdown",
      "metadata": {
        "id": "ce11f4bd"
      },
      "source": [
        "Um gráfico de caixa, ou `boxplot` é um gráfico que representa esses valores. Você aprenderá na próxima aula como produzir esses gráficos e, por hora, basta observar como esses valores são representados."
      ]
    },
    {
      "cell_type": "code",
      "metadata": {
        "kernel": "R",
        "tags": [
          "report_cell"
        ],
        "id": "c318f7a7",
        "colab": {
          "base_uri": "https://localhost:8080/",
          "height": 437
        },
        "outputId": "e8772712-4bd0-425e-ef5e-dec27557888b"
      },
      "source": [
        "suppressMessages(attach(Cars93))\n",
        "\n",
        "boxplot(Price,data=Cars93,main=\"Preços por Tipo\",col='Blue')\n",
        "\n",
        "detach(Cars93)"
      ],
      "execution_count": 23,
      "outputs": [
        {
          "output_type": "display_data",
          "data": {
            "image/png": "[encoded data removed]",
            "text/plain": [
              "Plot with title “Preços por Tipo”"
            ]
          },
          "metadata": {
            "image/png": {
              "width": 420,
              "height": 420
            }
          }
        }
      ]
    },
    {
      "cell_type": "markdown",
      "metadata": {
        "id": "8f181b0e"
      },
      "source": [
        "## Distância interquartis e Outliers\n",
        "\n",
        "Os quartis oferecem uma outra técnica para detecção de outliers e, embora aqui apresentem outliers diferentes, em geral a técnica do escore padrão e das distâncias interquartis tendem a convergir para uma grande quantidade de dados. A técnica interquartis, entretanto, é mais comum e é a que empregaremos aqui.\n",
        "\n",
        "Nessa técnica (veja a figura anterior) são considerados outliers os dados que ultrapassam a distância de $1.5 \\times IQR$, a distância entre o 3o e o 1o quartil."
      ]
    },
    {
      "cell_type": "code",
      "metadata": {
        "kernel": "R",
        "tags": [
          "report_cell"
        ],
        "id": "0042a0bf",
        "colab": {
          "base_uri": "https://localhost:8080/"
        },
        "outputId": "723cae3e-0716-4b9a-9dfe-4092e0bb707f"
      },
      "source": [
        "iqr = IQR(Cars93$Price)\n",
        "\n",
        "# ou ainda...\n",
        "#\n",
        "# Q1 = quantile(Cars93$Price, probs=c(.25))\n",
        "# Q3 = quantile(Cars93$Price, probs=c(.75))\n",
        "# iqr = Q3 - Q1\n",
        "\n",
        "print(Cars93[ (Cars93$Price > quantile(Cars93$Price, probs=c(.75)) + 1.5*iqr) | (Cars93$Price < quantile(Cars93$Price, probs=c(.25)) - 1.5*iqr), ])"
      ],
      "execution_count": 24,
      "outputs": [
        {
          "output_type": "stream",
          "name": "stdout",
          "text": [
            "    Manufacturer   Model    Type Min.Price Price Max.Price MPG.city MPG.highway\n",
            "11      Cadillac Seville Midsize      37.5  40.1      42.7       16          25\n",
            "48      Infiniti     Q45 Midsize      45.4  47.9      50.4       17          22\n",
            "59 Mercedes-Benz    300E Midsize      43.8  61.9      80.0       19          25\n",
            "              AirBags DriveTrain Cylinders EngineSize Horsepower  RPM\n",
            "11 Driver & Passenger      Front         8        4.6        295 6000\n",
            "48        Driver only       Rear         8        4.5        278 6000\n",
            "59 Driver & Passenger       Rear         6        3.2        217 5500\n",
            "   Rev.per.mile Man.trans.avail Fuel.tank.capacity Passengers Length Wheelbase\n",
            "11         1985              No               20.0          5    204       111\n",
            "48         1955              No               22.5          5    200       113\n",
            "59         2220              No               18.5          5    187       110\n",
            "   Width Turn.circle Rear.seat.room Luggage.room Weight  Origin\n",
            "11    74          44             31           14   3935     USA\n",
            "48    72          42             29           15   4000 non-USA\n",
            "59    69          37             27           15   3525 non-USA\n",
            "                 Make\n",
            "11   Cadillac Seville\n",
            "48       Infiniti Q45\n",
            "59 Mercedes-Benz 300E\n"
          ]
        }
      ]
    },
    {
      "cell_type": "markdown",
      "metadata": {
        "id": "e30750ca"
      },
      "source": [
        "# Covariância e Correlação"
      ]
    },
    {
      "cell_type": "markdown",
      "metadata": {
        "id": "3df83f3c"
      },
      "source": [
        "Entendidas as características de uma variável isolada do nosso conjunto de dados (por exemplo o Preço dos veículos), estamos interessados agora em compreender como se relacionam duas variáveis de interesse. Por exemplo, você pode estar interessado em saber o preço de um veículo se relaciona com o consumo de combustível.\n",
        "\n",
        "A Covariância mede a relação linear entre duas variáveis. A covariância é semelhante à correlação entre duas variáveis, no entanto, elas diferem nas seguintes maneiras:\n",
        "\n",
        "1. Coeficientes de correlação são normalizados, sendo um valor no intervalo entre $[-1, 1]$ onde, um relacionamento linear perfeito resulta em um coeficiente de correlação $|1|$. Ele mede tanto a força (valor absoluto) como a direção da relação linear entre duas variáveis (positivo para mesma direção).\n",
        "\n",
        "2. 2.\tValores de covariância podem variar de menos infinito a mais infinito e, portanto, o valor para uma relação linear ideal dependerá dos dados. Assim, é difícil determinar a força da relação entre as variáveis. De qualquer modo, valores de covariância positivos indicam que valores acima da média de uma variável estão associados, também, a valores acima da média da segunda variável. E de modo equivalente, valores negativos de covariância indicam que valores acima da média de uma variável associam-se a valores abaixo da média para segunda variável.\n",
        "\n",
        "Embora represente uma relação linear entre os dados a correlação é uma relação bastante importante e, em geral, a primeira que buscamos. Mas você deve saber que dados podem estar bastante relacionados sem que, entretanto, exibam uma relação linear."
      ]
    },
    {
      "cell_type": "code",
      "metadata": {
        "kernel": "R",
        "tags": [
          "report_cell"
        ],
        "id": "eba48711",
        "colab": {
          "base_uri": "https://localhost:8080/",
          "height": 34
        },
        "outputId": "89351e9e-dec1-4d2c-d0de-3a829b81f726"
      },
      "source": [
        "x = c(1:100)\n",
        "y = sin(x)*x\n",
        "cor(x,y)"
      ],
      "execution_count": 25,
      "outputs": [
        {
          "output_type": "display_data",
          "data": {
            "text/plain": [
              "[1] -0.04414844"
            ],
            "text/latex": "-0.0441484368914559",
            "text/markdown": "-0.0441484368914559",
            "text/html": [
              "-0.0441484368914559"
            ]
          },
          "metadata": {}
        }
      ]
    },
    {
      "cell_type": "markdown",
      "metadata": {
        "id": "3fd7a907"
      },
      "source": [
        "Nos dados acima $x$ e $y$ têm uma dependência direta e, entretanto, exibem uma correlação próxima de zero.\n",
        "\n",
        "Além disso você correlação não significa necessariamente uma relação de causa efeito. Ela pode ser um indício dessa relação, mas em princípio, ela apenas indica o quanto os valores esperados de uma variável estão relacionados ao valor da outra. Duas variáveis, entretanto, podem apresentar correlação sem uma relação de causa efeito entre elas, mas por que ambas são o resultado de uma terceira variável.\n",
        "\n",
        "O coeficiente de correlação é uma função direta da covariância e obtido pela divisão da covariância pelo produto dos desvios padrão das variáveis.\n",
        "\n",
        "A covariância de uma amostra é definida como:\n",
        "\n",
        "$$ s_{xy} = COV(x,y) =\\frac{1}{n-1} \\sum_{i}^{n}  (x_i - \\bar{x})(y_i - \\bar{y}) $$\n",
        "e, da mesma forma, a covariância populacional é dada por:\n",
        "\n",
        "$$ \\sigma_{xy} = COV(x,y) = \\frac{1}{n} \\sum_{i}^{n} (x_i - \\mu_{x})(y_i - \\mu_{y}) $$\n",
        "e talvez você tenha notado a semelhança dos cálculos de covariância e variância de uma única variável. A variância sendo idêntica a covariância de uma variável com ela mesma.\n",
        "\n",
        "O **coeficiente de determinação**, ou mais exatamente o **coeficiente de determinação de Pearson** pode ser então calculado como:\n",
        "\n",
        "$$ r_{xy} = \\frac{COV(x,y)}{\\sigma(x) \\sigma(y)} $$\n",
        "E empregamos as funções `cov()` e `cor()` para obter esses valores com R."
      ]
    },
    {
      "cell_type": "code",
      "metadata": {
        "kernel": "R",
        "tags": [
          "report_cell"
        ],
        "id": "0f0e038e",
        "colab": {
          "base_uri": "https://localhost:8080/",
          "height": 85
        },
        "outputId": "76c8132e-8406-4e23-8f03-d2480de329d7"
      },
      "source": [
        "cov(Cars93$Price, Cars93$Horsepower)\n",
        "cor(Cars93$Price, Cars93$Horsepower)\n",
        "\n",
        "cov(Cars93$Price, Cars93$MPG.city)\n",
        "cor(Cars93$Price, Cars93$MPG.city)"
      ],
      "execution_count": 26,
      "outputs": [
        {
          "output_type": "display_data",
          "data": {
            "text/plain": [
              "[1] 398.7647"
            ],
            "text/latex": "398.764726507714",
            "text/markdown": "398.764726507714",
            "text/html": [
              "398.764726507714"
            ]
          },
          "metadata": {}
        },
        {
          "output_type": "display_data",
          "data": {
            "text/plain": [
              "[1] 0.7882176"
            ],
            "text/latex": "0.788217577851333",
            "text/markdown": "0.788217577851333",
            "text/html": [
              "0.788217577851333"
            ]
          },
          "metadata": {}
        },
        {
          "output_type": "display_data",
          "data": {
            "text/plain": [
              "[1] -32.27532"
            ],
            "text/latex": "-32.2753155680224",
            "text/markdown": "-32.2753155680224",
            "text/html": [
              "-32.2753155680224"
            ]
          },
          "metadata": {}
        },
        {
          "output_type": "display_data",
          "data": {
            "text/plain": [
              "[1] -0.5945622"
            ],
            "text/latex": "-0.594562163314947",
            "text/markdown": "-0.594562163314947",
            "text/html": [
              "-0.594562163314947"
            ]
          },
          "metadata": {}
        }
      ]
    },
    {
      "cell_type": "markdown",
      "metadata": {
        "id": "c0b1cc47"
      },
      "source": [
        "E não ver ser surpresa para você que o preço dos veículos tenha uma correlação positiva para potência dos motores (isto é, carros mais potentes são mais caros) e uma correlação negativa para o maior consumo de combustível (note que MPG, ou *Milhas por Galão* tem valores menores para um maior consumo de combustível).\n",
        "\n",
        "Você pode observar a relação de duas variáveis graficamente e exploraremos mais isso na próxima aula."
      ]
    },
    {
      "cell_type": "code",
      "metadata": {
        "kernel": "R",
        "tags": [
          "report_cell"
        ],
        "id": "e64f3c9e",
        "colab": {
          "base_uri": "https://localhost:8080/",
          "height": 437
        },
        "outputId": "a849cab2-19eb-4c60-ea71-6b21f9a46c63"
      },
      "source": [
        "myCars = Cars93[ , c('Price',\"MPG.city\", 'Horsepower')]\n",
        "pairs(myCars)"
      ],
      "execution_count": 27,
      "outputs": [
        {
          "output_type": "display_data",
          "data": {
            "image/png": "[encoded data removed]",
            "text/plain": [
              "plot without title"
            ]
          },
          "metadata": {
            "image/png": {
              "width": 420,
              "height": 420
            }
          }
        }
      ]
    },
    {
      "cell_type": "markdown",
      "metadata": {
        "id": "k4noMRT_YUd7"
      },
      "source": [
        "# Para Saber Mais\n",
        "\n",
        "1. Acesse Navarro, Danielle, **Learning Statistics with R**, Chapter 5: Descriptive statistics em https://learningstatisticswithr.com/book/. Você vai aprender mais sobre estatística descritiva e como empregar o R para fazer suas análises. Se quiser ir mais fundo tente entender o que é **Kurtosis** e **Skewness**, medidas descritivas que não tratamos aqui.\n",
        "\n",
        "1. Quer fazer uma breve revisão do que é a Estatística Descritiva e seu propósito? Acesse **Descriptive Statistics** em https://www.investopedia.com/terms/d/descriptive_statistics.asp (se precisar empregue o Google translator na página). Depois de ler o texto, será que você saberia dizer a diferença entre **Estatística Descritiva e Inferencial**?\n",
        "\n",
        "1. Mais uma revisão de conceitos de Estatística Descritiva? Assista ao vídeo **Introdução à Estatística Descritiva** em https://youtu.be/pnpq0w7d5Mw. São menos de 10min e você vai revisar conceitos bastante importantes.\n"
      ]
    },
    {
      "cell_type": "markdown",
      "metadata": {
        "id": "a15f28af"
      },
      "source": [
        "# Referências"
      ]
    },
    {
      "cell_type": "markdown",
      "metadata": {
        "id": "2c446e48"
      },
      "source": [
        "1. Devore, Jay L. **Probabilidade e Estatística para Engenharia e Ciências**. Trad. Solange Aparecida Visconte. Cengage, 2018.\n",
        "\n",
        "2. Navarro, Danielle, **Learning Statistics with R**, disponível em: https://learningstatisticswithr.com/ ( LSR version 0.6 (pdf) ) ou ainda em https://learningstatisticswithr.com/book/. Acesso: 26/02/2021.\n",
        "\n",
        "3. Wickham, H., Grolemund, G. **R for Data Science**. O'Reilly Media, Inc., 2016."
      ]
    }
  ]
}