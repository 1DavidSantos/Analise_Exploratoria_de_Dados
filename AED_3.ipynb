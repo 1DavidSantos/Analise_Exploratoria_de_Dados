{
  "nbformat": 4,
  "nbformat_minor": 0,
  "metadata": {
    "colab": {
      "name": "AED_3.ipynb",
      "provenance": [],
      "authorship_tag": "ABX9TyMopy8hgEFcHwqgs8e1gpUb",
      "include_colab_link": true
    },
    "kernelspec": {
      "name": "ir",
      "display_name": "R"
    },
    "language_info": {
      "name": "R"
    }
  },
  "cells": [
    {
      "cell_type": "markdown",
      "metadata": {
        "id": "view-in-github",
        "colab_type": "text"
      },
      "source": [
        "<a href=\"https://colab.research.google.com/github/Rogerio-mack/Analise_Exploratoria_de_Dados/blob/main/AED_3.ipynb\" target=\"_parent\"><img src=\"https://colab.research.google.com/assets/colab-badge.svg\" alt=\"Open In Colab\"/></a>"
      ]
    },
    {
      "cell_type": "markdown",
      "metadata": {
        "id": "40b90843"
      },
      "source": [
        "<img src=\"http://meusite.mackenzie.br/rogerio/mackenzie_logo/UPM.2_horizontal_vermelho.jpg\"  width=300, align=\"right\">\n",
        "<br>\n",
        "<br>\n",
        "<br>\n",
        "<br>\n",
        "<br>\n",
        "\n",
        "# Visualização dos Dados\n",
        "---"
      ]
    },
    {
      "cell_type": "markdown",
      "metadata": {
        "id": "d8a2c300"
      },
      "source": [
        "Aqui você aprenderá comandos básicos de R para diferentes visualizações dos dados. Aprenderá a produzir gráficos como de tendência (linha), de distribuição (histograma, boxplot e densidade), relações (dispersão) e proporção (barras, pizza) dos dados. Você aprenderá também como interpretar esses dados e, em conjunto com seleções de dados e a estatística descritiva que viu anteriormente, elaborar explorações importantes dos dados (EDA, Exploratory Data Analysis)."
      ]
    },
    {
      "cell_type": "markdown",
      "metadata": {
        "id": "eb51610e"
      },
      "source": [
        "## Introdução"
      ]
    },
    {
      "cell_type": "markdown",
      "metadata": {
        "id": "1a528b84"
      },
      "source": [
        "**Por que visualizar os dados?** O **Quarteto de Anscombe** (F.J. Anscombe, 1973) talvez seja o exemplo mais conhecido que ilustra o valor da visualização dos dados.\n",
        "\n",
        "Os quatro conjuntos de dados exibidos abaixo, pares $(x,y)$, apresentam com até 3 casas decimais as mesmas médias e variâncias de $x$ e $y$ e correlação de 0.816, levando todos a uma mesma regressão linear. Você aprenderá sobre Regressão Linear na Aula 7, e por hora é suficiente que você entenda que a regressão linear é uma aproximação de pontos por uma reta.\n",
        "\n",
        "$$y = 3 + 0.5 x$$"
      ]
    },
    {
      "cell_type": "code",
      "metadata": {
        "Rmd_chunk_options": "echo=FALSE",
        "jupyter": {
          "output_hidden": false,
          "source_hidden": true
        },
        "kernel": "R",
        "tags": [
          "report_output"
        ],
        "id": "87c3860d"
      },
      "source": [
        "# note, não é necessário você compreender os detalhes deste código aqui,\n",
        "# o interesse está no gráfico produzido\n",
        "\n",
        "require(stats); require(graphics)\n",
        "summary(anscombe)\n",
        "\n",
        "##-- now some \"magic\" to do the 4 regressions in a loop:\n",
        "ff <- y ~ x\n",
        "mods <- setNames(as.list(1:4), paste0(\"lm\", 1:4))\n",
        "for(i in 1:4) {\n",
        "  ff[2:3] <- lapply(paste0(c(\"y\",\"x\"), i), as.name)\n",
        "  ## or   ff[[2]] <- as.name(paste0(\"y\", i))\n",
        "  ##      ff[[3]] <- as.name(paste0(\"x\", i))\n",
        "  mods[[i]] <- lmi <- lm(ff, data = anscombe)\n",
        "  print(anova(lmi))\n",
        "}\n",
        "\n",
        "## See how close they are (numerically!)\n",
        "sapply(mods, coef)\n",
        "lapply(mods, function(fm) coef(summary(fm)))\n",
        "\n",
        "## Now, do what you should have done in the first place: PLOTS\n",
        "op <- par(mfrow = c(2, 2), mar = 0.1+c(4,4,1,1), oma =  c(0, 0, 2, 0))\n",
        "for(i in 1:4) {\n",
        "  ff[2:3] <- lapply(paste0(c(\"y\",\"x\"), i), as.name)\n",
        "  plot(ff, data = anscombe, col = \"red\", pch = 21, bg = \"orange\", cex = 1.2,\n",
        "       xlim = c(3, 19), ylim = c(3, 13))\n",
        "  abline(mods[[i]], col = \"blue\")\n",
        "}\n",
        "mtext(\"Anscombe's 4 Regression data sets\", outer = TRUE, cex = 1.5)\n",
        "par(op)"
      ],
      "execution_count": null,
      "outputs": []
    },
    {
      "cell_type": "markdown",
      "metadata": {
        "id": "e5a6b963"
      },
      "source": [
        "Você pode notar que, apesar dos quatro conjuntos de pontos poderem ser aproximados por mesma reta eles estão muito diferentemente organizados.\n",
        "\n",
        "Quê conclusão pode tirar disso? Embora as estatísticas descritivas dos dados forneça uma ferramenta útil para descrever conjuntos de dados, ela não é suficiente para observarmos todos os padrões dos dados. É aqui que a visualização dos dados entra para colaborar no entendimento dos dados e você poder observar padrões e características dos dados que não são facilmente observáveis diretamente ou por estatísticas sobre os dados."
      ]
    },
    {
      "cell_type": "markdown",
      "metadata": {
        "id": "3dfdb9a3"
      },
      "source": [
        "## Gráficos de Apresentação e de Exploração"
      ]
    },
    {
      "cell_type": "markdown",
      "metadata": {
        "id": "3537208e"
      },
      "source": [
        "Existe uma série de questões sobre a visaulização de dados, mas em primeiro lugar, há a questão de que fazemos *gráficos de apresentação* e *gráficos de exploração*. Criamos gráficos de apresentação quando queremos exibir os dados de uma forma limpa, atraente, e às vezes impactante, para torna mais fácil a comunicação de uma ideia ou resultado ao leitor, ou mesmo quando queremos convencê-lo de um resultado que o gráfico representa. Você pode pensar, por exemplo, nos inúmeros gráficos produzidos para 'explicar' a Pandemia de Covid-19 em 2020 ao público em geral, ou ainda nos gráficos produzidos para apresentar os resultados de uma empresa aos acionistas.\n",
        "\n",
        "Igualmente importante, mas para nós aqui ainda mais importante, é produzir gráficos que irão ajudar você a entender melhor os dados. Produzir gráficos exploratórios ajudam você a aprender sobre os dados à medida que os analisa. Embora passamos dar bastante qualidade a esses gráficos, não daremos ênfase aqui na forma de 'apresentação' dos gráficos como cores, organização dos dados, combinação de múltiplos gráficos em uma única página, inserção de textos como títulos e rótulos, que são mais importantes quando produzimos gráficos de apresentação. Nosso foco será mais na exploração dos dados, mas você pode consultar as referências para a produção de gráficos mais elegantes se quiser."
      ]
    },
    {
      "cell_type": "markdown",
      "metadata": {
        "id": "24e53143"
      },
      "source": [
        "## Buscando gráficos corretos"
      ]
    },
    {
      "cell_type": "markdown",
      "metadata": {
        "id": "145f7b44"
      },
      "source": [
        "Antes de entrarmos nos comandos de R e você aprender a fazer diferentes tipos de gráficos, vamos entender o quê exatamente estamos buscando nos dados. Essa é uma pergunta essencial pois, a partir dela, é que podemos buscar o tipo de gráfico que queremos produzir e, então, buscar a melhor forma de produzir esse gráfico , seja em R ou qualquer outra linguagem (que comandos, parâmetros do gráfico etc.)\n",
        "\n",
        "Quando você analisa um conjunto de dados você em geral vai estar buscando responder algumas perguntas. Por exemplo, você estar buscando entender a distribuição de renda ou de escolaridade entre os brasileiros a partir dos dados do IBGE, ou buscar a tendência das ações de bitcoin para os próximos anos. A visualização desses dados em gráficos permite, então, dar uma primeira resposta a essas perguntas que você poderá em seguida se aprofundar.\n",
        "\n",
        "As perguntas que podemos fazer sobre os dados podem ser agrupadas em algumas categorias, cada uma delas tendo gráficos que são *mais frequentemente usados* para você obter e apresentar respostas à sua questão:\n",
        "\n",
        "> **Evolução** (ou *Tendência dos Dados*): gráficos de linha, área, séries múltiplas\n",
        "\n",
        "> **Distribuição**: histogramas, gráficos de distribuição de densidade, *boxplot*\n",
        "\n",
        "> **Composição**: gráficos de barras, *word cloud*, *spider*, *pie chart*\n",
        "\n",
        "> **Relações**: gráficos de dispersão, *heat map*, *density 2D*\n",
        "\n",
        "Havendo ainda gráficos mais especializados que envolvem para análises geográficas (*maps*), fluxo de dados em redes sociais e outros. Mas para estatística, vamos nos concentrar apenas nesse conjunto de gráficos que já serão tremendamente úteis.\n",
        "\n",
        "Note que falamos em gráficos *mais frequentemente usados*, o quê não impede que empreguemos um gráfico de uma categoria para análise de outra em alguns casos.\n",
        "\n",
        "Vamos ver alguns exemplos que mostrarão para você a importância dessas perguntas e da análise gráfica."
      ]
    },
    {
      "cell_type": "markdown",
      "metadata": {
        "id": "f1c1821f"
      },
      "source": [
        "### Evolução\n",
        "\n",
        "Em muitos dados nos interessam a evolução de uma variável com relação a outra. Por exemplo, a evolução da renda de um indivíduo ao longo dos anos, o descréscimo de fumantes (ou o aumento de veganos ;-)) ao longo do tempo, ou ainda o aumento do preço com relação ao aumento da demanda de um produto. Quando uma dessas variáveis é uma variável de tempo, temos uma série temporal. Nesses casos, frequentemente, você quer saber sobre a tendência dessa evolução, sobre a probabilidade de se alcançar um valor, ou ainda comparar a forma de evolução de duas variáveis no tempo.\n",
        "\n",
        "Quando essas variáveis são numéricas, um gráfico de linhas é frequentemente usado para visualizar a tendência dos dados e responder essas perguntas.\n",
        "\n",
        "O gráfico a seguir exibe o comportamento de um conjunto de índices da bolsa de São Paulo nos primeiros meses de 2020 e você pode notar a tendência de perda de valor das ações VALE3, PETR4 e IBOV ao longo do tempo em virtude da pandemia de COVID 19 neste ano, e a consequente valorização do Dólar no período.\n",
        "\n",
        "Aproveite para examinar a sintaxe e o uso do comando plot:\n",
        "\n",
        "`plot(df$x, df$y, main='titulo', xlim=c(min,max), xlabel='rotulo x' ylim=c(min,max), ylabel='rotulo x', type = 'l')`\n",
        "\n",
        "O `plot()` produz um gráfico de linhas $x \\times y$ e os parâmetros indicam os limites de cada eixo, título do gráfico e rótulos. O parâmetro `type` indicando o tipo de linha a empregado e você pode querer experimentar os seus diferentes valores `c(\"p\",\"l\",\"o\",\"b\",\"c\",\"s\",\"S\",\"h\")`.\n",
        "\n",
        "Considere a base."
      ]
    },
    {
      "cell_type": "code",
      "metadata": {
        "kernel": "R",
        "tags": [
          "report_cell"
        ],
        "id": "85e36715"
      },
      "source": [
        "df = read.csv('http://meusite.mackenzie.br/rogerio/TIC/mystocksn.csv')\n",
        "head(df)"
      ],
      "execution_count": null,
      "outputs": []
    },
    {
      "cell_type": "markdown",
      "metadata": {
        "id": "ae0a7214"
      },
      "source": [
        "Antes de plotar os valores vamos converter os dados de data para formato data."
      ]
    },
    {
      "cell_type": "code",
      "metadata": {
        "kernel": "R",
        "tags": [
          "report_cell"
        ],
        "id": "d0410621"
      },
      "source": [
        "df$data = as.Date(df$data)"
      ],
      "execution_count": null,
      "outputs": []
    },
    {
      "cell_type": "markdown",
      "metadata": {
        "id": "38c36dee"
      },
      "source": [
        "plot dos valores (x,y)"
      ]
    },
    {
      "cell_type": "code",
      "metadata": {
        "kernel": "R",
        "tags": [
          "report_cell"
        ],
        "id": "e1493b91"
      },
      "source": [
        "par(mfrow = c(2, 2))     # este comando apenas permite exibir os 4 gráficos em uma única página\n",
        "\n",
        "plot(df$data,df$IBOV,type='l',main='IBOV')\n",
        "plot(df$data,df$VALE3,type='l',main='VALE3')\n",
        "plot(df$data,df$PETR4,type='l',main='PETR4')\n",
        "plot(df$data,df$DOLAR,type='l',main='DOLAR')"
      ],
      "execution_count": null,
      "outputs": []
    },
    {
      "cell_type": "code",
      "metadata": {
        "kernel": "R",
        "tags": [
          "report_cell"
        ],
        "id": "a7a184a5"
      },
      "source": [
        "plot(df$data,df$DOLAR, main='Evolução do Dólar',xlab='Tempo',ylab='Dólar',type='l',col='red')\n",
        "help(plot)"
      ],
      "execution_count": null,
      "outputs": []
    },
    {
      "cell_type": "markdown",
      "metadata": {
        "id": "192d364b"
      },
      "source": [
        "Você pode querer também exibir mais um gráfico de linha no mesmo gráfico e comparar diferentes séries de dados. Para isso você pode empregar o comando `lines`, que adiciona linhas a um comando `plot` anterior, mas sem criar um novo gráfico. Veja também a adição de cores e legendas que podem ser úteis em gráficos de apresentação mais elaborados."
      ]
    },
    {
      "cell_type": "code",
      "metadata": {
        "kernel": "R",
        "tags": [
          "report_cell"
        ],
        "id": "4b6e6872"
      },
      "source": [
        "plot(df$data,df$VALE3, type='l',col='blue',ylim=c(4,18),xlab='Tempo',ylab='Dólar')\n",
        "\n",
        "lines(df$data,df$PETR4, type='l',col='green')\n",
        "lines(df$data,df$DOLAR, type='l',col='red')\n",
        "\n",
        "title(\"VALE3, PETR4 e DÓLAR\")\n",
        "\n",
        "legend(as.Date('2020-01-02'), 10,               # posição x, y da lengenda no gráfico\n",
        "       legend=c('VALE3','PETR4','DOLAR'),       # lengendas\n",
        "       col=c('blue','green','red'),\n",
        "       lty=1:3,\n",
        "       cex=0.8)"
      ],
      "execution_count": null,
      "outputs": []
    },
    {
      "cell_type": "markdown",
      "metadata": {
        "id": "229c494d"
      },
      "source": [
        "Como você pode ver gráficos de linha são úteis para observarmos a evolução, ou tendência dos dados, de uma variável com relação a outra, ou mesmo para compararmos a evolução de duas ou mais variáveis."
      ]
    },
    {
      "cell_type": "markdown",
      "metadata": {
        "id": "c29709e6"
      },
      "source": [
        "## Distribuição"
      ]
    },
    {
      "cell_type": "markdown",
      "metadata": {
        "id": "1e631215"
      },
      "source": [
        "Veremos mais sobre distribuições no próximo capítulo mas, basicamente, a distribuição de uma variável refere-se a quantidade de vezes que uma dos valores dessa variável aparece nos dados."
      ]
    },
    {
      "cell_type": "code",
      "metadata": {
        "kernel": "R",
        "tags": [
          "report_cell"
        ],
        "id": "66ad6adf"
      },
      "source": [
        "head(mtcars)\n",
        "hist(mtcars$mpg, main='Histograma de mpg',col='lightblue')"
      ],
      "execution_count": null,
      "outputs": []
    },
    {
      "cell_type": "markdown",
      "metadata": {
        "id": "a1ff491f"
      },
      "source": [
        "O gráfico acima mostra a distribuição dos valores de `mtcars$mpg` em `mtcars`. Existem 6 veículos com valores de `mpg` entre $]10,15[$, 12 veículos entre $[15,20[$, 8 entre $[20,2[$ etc. Esse gráfico é um histograma e denominamos as quantidades de um valor, ou intervalo de valores, de **frequência dos valores**.\n",
        "\n",
        "Uma outra forma bastante comum de exibir essas distribuições é empregarmos gráficos de *densidade de probabilidade*. `mtcars` tem 32 casos e você pode notar então que a probabilidade de veículos com valores de `mpg` entre $]10,15[$ é 6/32, veículos entre $[15,20[ 12/32$, veículos entre $[20,2[$ 8/32 etc. e a probabilidade de todos esse valores tem soma 1. Um gráfico de densidade de probabilidade é um gráfico que, no lugar da frequencia dos valores, exibe essas probabilidades e tem sua área sob o gráfico igual a 1 (a soma de todas probabilidades)."
      ]
    },
    {
      "cell_type": "code",
      "metadata": {
        "kernel": "R",
        "tags": [
          "report_cell"
        ],
        "id": "8f3d41fd"
      },
      "source": [
        "# densityplot(mtcars$mpg, main='Densidade de Probabilidades de mpg',lwd=2)  # lwd é line witdh, a largura da linha"
      ],
      "execution_count": null,
      "outputs": []
    },
    {
      "cell_type": "markdown",
      "metadata": {
        "id": "72e87ce1"
      },
      "source": [
        "Você deve estar acostumado a gráficos de duas dimensões do tipo $x \\times y$, como aparecem frequentemente na matemática. É exatamente o que vimos no `plot()` em que empregamos duas variáveis, ou duas dimensões, `plot(x,y)`. Note que nos histogramas, ou nos gráficos de densidade, *uma única variável é informada*. De fato, histogramas e gráficos de densidade são gráficos em que exibimos uma *única variável em duas dimensões*: seus valores e sua frequencia ou probabilidade de valores. Isso é particularmente importante para que você diferencie principalmente histogramas de outros gráficos de barras (uma confusão bastante comum).\n",
        "\n",
        "Agora que você entendeu o que é a distribuição de uma variável podemos partir para um exemplo mais interessante. O conjunto Os dados a seguir foram obtidos da **WHO World Health Organization** - Life expectancy and Healthy life expectancy. Eles apresentam indicadores de saúde de diversos países como o índice de massa corpórea médio da população (BMI), a expectativa de vida e índices de mortalidade. Uma pergunta relevante sobre a saúde global que você poderia fazer é sobre a distribuição desses índices entre os países.\n",
        "\n",
        "Vamos considerar no conjunto de dados apenas os dados do ano mais recente."
      ]
    },
    {
      "cell_type": "code",
      "metadata": {
        "kernel": "R",
        "tags": [
          "report_cell"
        ],
        "id": "bbe216d8"
      },
      "source": [
        "df = read.csv('https://meusite.mackenzie.br/rogerio/TIC/Life_Expectancy_Data.csv')\n",
        "df = df[df$Year == max(df$Year),]\n",
        "head(df)"
      ],
      "execution_count": null,
      "outputs": []
    },
    {
      "cell_type": "markdown",
      "metadata": {
        "id": "c4a43770"
      },
      "source": [
        "Podemos notar então, por exemplo, que a expectativa de vida mais frequente entre os países está entre 70 e 75 anos, ou ainda que a maior parte dos países tem expectativa de vida acima de 70 anos."
      ]
    },
    {
      "cell_type": "code",
      "metadata": {
        "kernel": "R",
        "tags": [
          "report_cell"
        ],
        "id": "0eb2a956"
      },
      "source": [
        "library(lattice)\n",
        "par(mfrow = c(2, 1))\n",
        "\n",
        "hist(df$Life.expectancy, main='Expectativa de Vida dos Países' ,\n",
        "     xlab='expectativa de vida em anos', col = \"lightgreen\",)\n",
        "hist(df$Life.expectancy, main='Expectativa de Vida dos Países',\n",
        "     breaks = 100, col = \"lightblue\",                             # cria 100 faixas de dados no histograma\n",
        "     xlab='expectativa de vida em anos')\n",
        "\n",
        "densityplot(df$Life.expectancy, main='Expectativa de Vida dos Países',\n",
        "            xlab='expectativa de vida em anos')"
      ],
      "execution_count": null,
      "outputs": []
    },
    {
      "cell_type": "markdown",
      "metadata": {
        "id": "2b2c887a"
      },
      "source": [
        "Uma forma comum de exibirmos gráficos de densidade é preenchendo a área sob a curva e, dentre muitas outras formas, podemos fazer isso do seguinte modo."
      ]
    },
    {
      "cell_type": "code",
      "metadata": {
        "kernel": "R",
        "tags": [
          "report_cell"
        ],
        "id": "f521c0f0"
      },
      "source": [
        "d = density(df$Life.expectancy,na.rm = TRUE)             # na.rm remove dados faltantes da base\n",
        "plot(d, main='Expectativa de Vida dos Países')\n",
        "polygon(d, col=\"lightblue\", border=\"black\")"
      ],
      "execution_count": null,
      "outputs": []
    },
    {
      "cell_type": "markdown",
      "metadata": {
        "id": "8cb6a6d6"
      },
      "source": [
        "E podemos ainda comparar a distribuição de expectativa de vida entre os países desenvolvidos e em desenvolvimento, e não será surpresa para você observar que a expectativa de vida nos países desenvolvidos é cerca de 10 anos superior a dos países em desenvolvimento!"
      ]
    },
    {
      "cell_type": "code",
      "metadata": {
        "kernel": "R",
        "tags": [
          "report_cell"
        ],
        "id": "11ef181d"
      },
      "source": [
        "densityplot(df[df$Status == 'Developing',]$Life.expectancy, main='Expectativa de Vida dos Países',\n",
        "            xlab='expectativa de vida em anos')\n",
        "densityplot(df[df$Status != 'Developing',]$Life.expectancy, main='Expectativa de Vida dos Países',\n",
        "            xlab='expectativa de vida em anos')"
      ],
      "execution_count": null,
      "outputs": []
    },
    {
      "cell_type": "markdown",
      "metadata": {
        "id": "3eb82ed0"
      },
      "source": [
        "Uma forma sintética de exibir essas distribuições é a partir dos gráficos de caixa ou *boxplot*. Os quartis, que você estudou no capítulo anterior, são uma forma sintética de representar as distribuições dos dados e é basicamente o que exibem os gráficos de caixa."
      ]
    },
    {
      "cell_type": "code",
      "metadata": {
        "kernel": "R",
        "tags": [
          "report_cell"
        ],
        "id": "075c24a6"
      },
      "source": [
        "par(mfrow = c(1, 3))\n",
        "boxplot(df$Life.expectancy,main='Expectativa de Vida')\n",
        "boxplot(df$BMI,main='BMI')\n",
        "boxplot(Life.expectancy ~ Status,data=df,main=\"Expectativa de Vida \")"
      ],
      "execution_count": null,
      "outputs": []
    },
    {
      "cell_type": "markdown",
      "metadata": {
        "id": "f2440d77"
      },
      "source": [
        "E para entender o gráfico acima podemos recorrer a figura que empregamos no capítulo 2:\n",
        "\n",
        "<img src=\"http://meusite.mackenzie.br/rogerio/TIC/boxplotIQR.png\" width=500, align=\"center\"></a>\n",
        "\n",
        "e gráficos de caixa também são úteis para detecção de outliers (eles aparecem como pontos acima/abaixo das linhas dos valores máximo/mínimo dos dados).\n",
        "\n",
        "Como você pôde notar aqui a distribuição dos dados diz muito sobre uma variável. Aqui você aprendeu somente a exibir e analisar graficamente essas distribuições e você ira aprender muito mais no capítulo seguinte."
      ]
    },
    {
      "cell_type": "markdown",
      "metadata": {
        "id": "9bfda1c9"
      },
      "source": [
        "### Composição\n",
        "\n",
        "Aqui estamos interessados em entender a 'composição' ou as partes de um conjunto de dados. Entender as quantidades e proporções de cada parte, as diferentes categorias de uma variável, os diferentes valores de variáveis para diferentes categorias etc. Gráficos de barras e *pizza* são particularmente úteis para isso.\n",
        "\n",
        "Considere a base `mtcars."
      ]
    },
    {
      "cell_type": "code",
      "metadata": {
        "kernel": "R",
        "tags": [
          "report_cell"
        ],
        "id": "1679b7fc"
      },
      "source": [
        "library(MASS)\n",
        "help(Cars93)\n",
        "head(Cars93)"
      ],
      "execution_count": null,
      "outputs": []
    },
    {
      "cell_type": "markdown",
      "metadata": {
        "id": "683f51e8"
      },
      "source": [
        "O comando `table()` fornece a frequencia de valores (quantidades) para cada um dos pares de valores informados. Podemos exibir, então, cada um desses valores representados pela altura das barras no gráfico."
      ]
    },
    {
      "cell_type": "code",
      "metadata": {
        "kernel": "R",
        "tags": [
          "report_cell"
        ],
        "id": "54960852"
      },
      "source": [
        "par(mfrow = c(1, 2))\n",
        "\n",
        "counts1 = table( Cars93$Origin, Cars93$Cylinders)\n",
        "\n",
        "print(counts1)\n",
        "\n",
        "barplot(counts1, main=\"Cyl X Origem\",\n",
        "  xlab=\"Número de Cyl\",\n",
        "  legend = rownames(counts1),\n",
        "  beside=TRUE) # barras uma do lado da outra\n",
        "\n",
        "counts2 = table(Cars93$Cylinders , Cars93$DriveTrain)\n",
        "\n",
        "print(counts2)\n",
        "\n",
        "barplot(counts2, main=\"Tipo de Tração X Cyl\",\n",
        "  xlab=\"Tipo de Tração\",\n",
        "  legend = rownames(counts2),\n",
        "  beside=TRUE,\n",
        "  col=rainbow(6)) # fornece 6 cores diferentes"
      ],
      "execution_count": null,
      "outputs": []
    },
    {
      "cell_type": "markdown",
      "metadata": {
        "id": "1b1bc1b9"
      },
      "source": [
        "Você pode, então, explorar a 'composição' desse conjunto de veículos notando, por exemplo, que somente encontramos veículos fabricados fora dos Estados Unidos para com número de cilindros ímpares (ou ainda do tipo *rotary*), ou que a maior predomiância nos dados é de veículos de 4 cilindros com tração dianteira.\n",
        "\n",
        "E a mesma informação pode ser exibida com barras sobrepostas (*stacked bar plot*) o que pode ser interessante e alguns casos. Para isso basta você tirar o parâmetro `beside` dos comandos acima."
      ]
    },
    {
      "cell_type": "code",
      "metadata": {
        "kernel": "R",
        "tags": [
          "report_cell"
        ],
        "id": "d2f16e5e"
      },
      "source": [
        "par(mfrow = c(1, 2))\n",
        "\n",
        "counts1 = table( Cars93$Origin, Cars93$Cylinders)\n",
        "barplot(counts1, main=\"Cyl X Origem\",\n",
        "  xlab=\"Número de Cyl\",\n",
        "  legend = rownames(counts1))\n",
        "\n",
        "counts2 = table(Cars93$Cylinders , Cars93$DriveTrain)\n",
        "barplot(counts2, main=\"Tipo de Tração X Cyl\",\n",
        "  xlab=\"Tipo de Tração\",\n",
        "  legend = rownames(counts2),\n",
        "  col=rainbow(6)) # fornece 6 cores diferentes"
      ],
      "execution_count": null,
      "outputs": []
    },
    {
      "cell_type": "markdown",
      "metadata": {
        "id": "56857f00"
      },
      "source": [
        "Gráficos de barras não exibem somente frequência de valores (que obtevemos com o comando `table()`acima), eles podem ser empregados para exibir quaiquer quantidades e  são particularmente úteis na comparação de valores. Abaixo produzimos os valores médios dos veículos por tipo de tração e origem, e podemos então exibir e comparar esses valores."
      ]
    },
    {
      "cell_type": "code",
      "metadata": {
        "kernel": "R",
        "tags": [
          "report_cell"
        ],
        "id": "76e53a79"
      },
      "source": [
        "par(mfrow = c(1, 2))\n",
        "\n",
        "valoresUS = c(mean( Cars93[Cars93$Origin == 'USA',]$Price ),\n",
        "            mean( Cars93[Cars93$Origin != 'USA',]$Price ))\n",
        "\n",
        "barplot(valoresUS, main=\"Origem X Preço Médio\",\n",
        "  xlab=\"Origem\",\n",
        "  names.arg = c('USA','non-USA'),\n",
        "  col='lightblue')\n",
        "\n",
        "\n",
        "valoresTracao = c(mean( Cars93[Cars93$DriveTrain == '4WD',]$Price ),\n",
        "            mean( Cars93[Cars93$DriveTrain == 'Front',]$Price ),\n",
        "            mean( Cars93[Cars93$DriveTrain == 'Rear',]$Price ))\n",
        "\n",
        "barplot(valoresTracao, main=\"Tipo de Tração X Preço Médio\",\n",
        "  xlab=\"Tipo de Tração\",\n",
        "  names.arg = c('4WD','Front','Rear'),\n",
        "  col=rainbow(3))"
      ],
      "execution_count": null,
      "outputs": []
    },
    {
      "cell_type": "markdown",
      "metadata": {
        "id": "7af0c630"
      },
      "source": [
        "Existem formas mais simples em R de se obter os valores por grupos de dados, mas aqui nos limitamos a empregar comandos que você já conhece.\n",
        "\n",
        "Os gráficos de *pizza* também podem ser empregados mas, em geral, gráficos de barra desempenham a mesma função e são mais fáceis de serem interpretados."
      ]
    },
    {
      "cell_type": "code",
      "metadata": {
        "kernel": "R",
        "tags": [
          "report_cell"
        ],
        "id": "40041c0a"
      },
      "source": [
        "par(mfrow = c(1, 3))\n",
        "\n",
        "pie(table(Cars93$Cylinders), main='Cilindros')\n",
        "pie(table(Cars93$Origin), main='Origem')\n",
        "pie(table(Cars93$DriveTrain), main='Tipo de Tração')"
      ],
      "execution_count": null,
      "outputs": []
    },
    {
      "cell_type": "markdown",
      "metadata": {
        "id": "fd3e1984"
      },
      "source": [
        "O `dotchart` é um gráfico bastante especializado mas que pode substituir um gráfico de barras nos casos em que muitos valores são exibidos. Você pode comparar os dois gráficos abaixo e notar que para um maior número de casos o `dotchart` fornece uma visualização mais limpa."
      ]
    },
    {
      "cell_type": "code",
      "metadata": {
        "kernel": "R",
        "tags": [
          "report_cell"
        ],
        "id": "8c5f20bd"
      },
      "source": [
        "par(mfrow = c(1, 2))\n",
        "\n",
        "barplot(Cars93[Cars93$Manufacturer %in% c('Ford','Chevrolet'),]$Horsepower,\n",
        "         names.arg = Cars93[Cars93$Manufacturer %in% c('Ford','Chevrolet'),]$Model,\n",
        "         col='blue',\n",
        "         horiz = T, las=1, # barras e seus labels na horizontal\n",
        "         main=\"Potência dos Modelos\",\n",
        "         cex.names = 0.8)\n",
        "\n",
        "dotchart(Cars93[Cars93$Manufacturer %in% c('Ford','Chevrolet'),]$Horsepower,\n",
        "         labels=Cars93[Cars93$Manufacturer %in% c('Ford','Chevrolet'),]$Model,\n",
        "         cex=0.8,col='blue',\n",
        "   main=\"Potência dos Modelos\",\n",
        "   xlab=\"hp\")"
      ],
      "execution_count": null,
      "outputs": []
    },
    {
      "cell_type": "markdown",
      "metadata": {
        "id": "aaaeda9f"
      },
      "source": [
        "### Relações\n",
        "\n",
        "Relações entre os dados são muitas vezes a parte mais importante dentre as descobertas que buscamos nos dados. Essas relações são denominadas de modo geral como correlações. Mas, como você viu no capítulo anterior, a correlação estatística tem um significado muito mais específico e, em geral, está associada a correlação linear. Essa é em geral a primeira relação que buscamos entre variáveis numéricas pois permite, como veremos no capítulo 7 mais adiante, aplicarmos métodos de regressão linear para inferência de valores. Graficamente, entretanto, estamos livres para buscar quaisquer relações entre os dados, sejam elas lineares ou não.\n",
        "\n",
        "O gráfico `pairs()` do R é útil por exibir um *gráfico de dispersão* de todos os pares de variáveis de um dataframe. Um gráfico de dispersão, ou *scatter plot*, é um gráfico $x \\times y$ onde, diferentemente de uma função podemos ter vários valores de $y$ para um mesmo valor de $x$. Um gráfico de dispersão é obtido com o mesmo comando `plot(x,y)`, mas sem produzir uma *linha* entre os pontos (pois haveria vários pontos para um mesmo $x$). Ele representa assim como se distribuem os valores de uma variável com relação a outra, ou sua dispersão.\n",
        "\n",
        "Vamos empregar o mesmo conjunto de dados anterior, da **WHO World Health Organization** - Life expectancy and Healthy life expectancy e selecionar somente os dados mais recentes."
      ]
    },
    {
      "cell_type": "code",
      "metadata": {
        "kernel": "R",
        "tags": [
          "report_cell"
        ],
        "id": "8a3a312c"
      },
      "source": [
        "df = read.csv('https://meusite.mackenzie.br/rogerio/TIC/Life_Expectancy_Data.csv')\n",
        "df = df[df$Year == max(df$Year),]\n",
        "head(df)\n",
        "\n",
        "pairs(df[ ,c('BMI','Life.expectancy','Income.composition.of.resources','Schooling')])"
      ],
      "execution_count": null,
      "outputs": []
    },
    {
      "cell_type": "markdown",
      "metadata": {
        "id": "1f88d757"
      },
      "source": [
        "A rigor esse não é um gráfico, mas vários gráficos combinados, e você pode notar, por exemplo, a proximidade de uma reta para a relação entre Expectativa de Vida e Renda (por simplicidade chamaremos income.composition.of.resource simplesmente de Renda), ou ainda Renda e Escolaridade. O que não ocorre em nenhum caso para o BMI (índice de massa corporal médio das populações).\n",
        "\n",
        "Você pode notar, por exemplo, a proximidade de uma reta para a relação entre Expectativa de Vida e Renda (por simplicidade chamaremos income.composition.of.resource simplesmente de Renda), ou ainda Renda e Escolaridade. O que não ocorre em nenhum caso para o BMI (índice de massa corporal médio das populações).\n",
        "\n",
        "Uma vez identificados um ou mais pares de interesse, podemos empregar o comando `plot()` para exibir o gráfico de dispersão dessas variáveis. Você pode ainda adicionar uma linha de regressão para enfatizar a relação das variáveis, mas você não precisa se preocupar com isso agora."
      ]
    },
    {
      "cell_type": "code",
      "metadata": {
        "Rmd_chunk_options": "warning=FALSE",
        "kernel": "R",
        "tags": [
          "report_cell"
        ],
        "id": "5457753d"
      },
      "source": [
        "par(mfrow = c(1, 2))\n",
        "\n",
        "plot(df$Income.composition.of.resources, df$Life.expectancy,\n",
        "     main='Expectativa X Renda',xlab='Renda',ylab='Expectativa de Vida', col='red')\n",
        "\n",
        "plot(df$Income.composition.of.resources, df$Life.expectancy,\n",
        "     main='Expectativa X Renda',xlab='Renda',ylab='Expectativa de Vida')\n",
        "\n",
        "abline(lsfit(df$Income.composition.of.resources, df$Life.expectancy),col='red')"
      ],
      "execution_count": null,
      "outputs": []
    },
    {
      "cell_type": "markdown",
      "metadata": {
        "id": "6d016941"
      },
      "source": [
        "E como falamos, muitas vezes podemos empregar um gráfico mais frequentemente empregado para uma categoria de perguntas em outra. Aqui empregamos um `boxplot()` para examinar a relação entre Renda e Escolaridade. A sintaxe $y \\leftarrow x$ no comando indica a variável preditora $x$ e variável dependente $y$."
      ]
    },
    {
      "cell_type": "code",
      "metadata": {
        "kernel": "R",
        "tags": [
          "report_cell"
        ],
        "id": "4a07471b"
      },
      "source": [
        "boxplot(df$Income.composition.of.resources ~ df$Schooling,\n",
        "        xlab=\"Escolaridade\", ylab=\"Renda\",main='Escolaridade X Renda',\n",
        "        col='blue')"
      ],
      "execution_count": null,
      "outputs": []
    },
    {
      "cell_type": "markdown",
      "metadata": {
        "id": "f249e6dc"
      },
      "source": [
        "Uma outra forma útil e comum de buscarmos essas relações é o uso de um mapa de calor (*heat map*) do valor da correlações entre as variáveis de interesse. Antes de fazermo com os dados de WHO veja aqui um exemplo simples."
      ]
    },
    {
      "cell_type": "code",
      "metadata": {
        "kernel": "R",
        "tags": [
          "report_cell"
        ],
        "id": "e77a3042"
      },
      "source": [
        "data = signif(cor(mtcars),2)\n",
        "heatmap(data)"
      ],
      "execution_count": null,
      "outputs": []
    },
    {
      "cell_type": "markdown",
      "metadata": {
        "id": "5c02d6a5"
      },
      "source": [
        "O comando `cor()`, como vimos no capítulo anterior, retorna a correlação (coeficiente de Pearson) para todos os pares de valores. O `heat map()` então, exibe em um gráfico, a intensidade dos valores de correlação para cada par. Você pode notar, por exemplo, que hp, cyl e carb, todos atributos associados a uma maior potência dos veículos apresentam uma correlação bastante maior representado por cores mais escuras no gráfico.\n",
        "\n",
        "Do mesmo modo podemos exibir a correlação dos dados da base WHO e notar a maior correlação de Renda e Escolaridade por exemplo."
      ]
    },
    {
      "cell_type": "code",
      "metadata": {
        "kernel": "R",
        "tags": [
          "report_cell"
        ],
        "id": "d9c10b1b"
      },
      "source": [
        "data = signif(cor(na.omit( df[ ,c('BMI','Life.expectancy','Income.composition.of.resources','Schooling')]) ),2)\n",
        "\n",
        "heatmap(data, cexRow=0.8, cexCol=0.5)"
      ],
      "execution_count": null,
      "outputs": []
    },
    {
      "cell_type": "markdown",
      "metadata": {
        "id": "6977e941"
      },
      "source": [
        "Agora você já sabe como buscar relações lineares e não lineares em um conjunto de dados!"
      ]
    },
    {
      "cell_type": "markdown",
      "metadata": {
        "id": "36235f5d"
      },
      "source": [
        "## Melhores Gráficos"
      ]
    },
    {
      "cell_type": "markdown",
      "metadata": {
        "id": "8b047938"
      },
      "source": [
        "Para os nossos propósitos os gráficos acima serão suficientes. Mas se você se interessa por gráficos com uma apresentação mais profissional pode empregar a biblioteca `ggplot2`."
      ]
    },
    {
      "cell_type": "code",
      "metadata": {
        "kernel": "R",
        "tags": [
          "report_cell"
        ],
        "id": "0e5621b8"
      },
      "source": [
        "# install.packages('ggplot2')\n",
        "# Loading\n",
        "# library(ggplot2)"
      ],
      "execution_count": null,
      "outputs": []
    },
    {
      "cell_type": "markdown",
      "metadata": {
        "id": "8b998536"
      },
      "source": [
        "Ela é uma das bibliotecas mais empregadas para produzir visualizações profissionais dos dados, mas exige um pouco mais de conhecimento para o uso de suas funções e você pode consultar alguma das referências abaixo para empregar o `ggplot`."
      ]
    },
    {
      "cell_type": "markdown",
      "metadata": {
        "id": "56230a04"
      },
      "source": [
        "## Referências"
      ]
    },
    {
      "cell_type": "markdown",
      "metadata": {
        "id": "4fd6b3f5"
      },
      "source": [
        "Navarro, Danielle, **Learning Statistics with R**, disponível em: https://learningstatisticswithr.com/ ( LSR version 0.6 (pdf) ). Acesso: 26/02/2021.\n",
        "Alternativamente em formato bookdown: https://learningstatisticswithr.com/book/ Acesso: 07/03/2021.\n",
        "\n",
        "Wickham, H., Grolemund, G. **R for Data Science**. O'Reilly Media, Inc., 2016.\n",
        "\n",
        "Chang, W. **R Graphics Cookbook**. O'Reilly Media, Inc. 2nd edition, 2021. Alternativamente em formato eletrônico: https://r-graphics.org/index.html. Acesso: 07/03/2021."
      ]
    }
  ]
}