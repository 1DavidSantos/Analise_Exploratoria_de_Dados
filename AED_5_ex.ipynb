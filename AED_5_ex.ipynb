{
  "nbformat": 4,
  "nbformat_minor": 0,
  "metadata": {
    "colab": {
      "name": "AED_5_ex.ipynb",
      "provenance": [],
      "authorship_tag": "ABX9TyP8bCtIk55hmPi2WsX21OC6",
      "include_colab_link": true
    },
    "kernelspec": {
      "name": "ir",
      "display_name": "R"
    },
    "language_info": {
      "name": "R"
    }
  },
  "cells": [
    {
      "cell_type": "markdown",
      "metadata": {
        "id": "view-in-github",
        "colab_type": "text"
      },
      "source": [
        "<a href=\"https://colab.research.google.com/github/Rogerio-mack/Analise_Exploratoria_de_Dados/blob/main/AED_5_ex.ipynb\" target=\"_parent\"><img src=\"https://colab.research.google.com/assets/colab-badge.svg\" alt=\"Open In Colab\"/></a>"
      ]
    },
    {
      "cell_type": "markdown",
      "metadata": {
        "id": "40b90843"
      },
      "source": [
        "<img src=\"http://meusite.mackenzie.br/rogerio/mackenzie_logo/UPM.2_horizontal_vermelho.jpg\"  width=300, align=\"right\">\n",
        "<br>\n",
        "<br>\n",
        "<br>\n",
        "<br>\n",
        "<br>\n",
        "\n",
        "# Conceitos de Probabilidade e Distribuições\n",
        "---"
      ]
    },
    {
      "cell_type": "markdown",
      "metadata": {
        "id": "29a85f58"
      },
      "source": [
        "# Exercícios"
      ]
    },
    {
      "cell_type": "markdown",
      "metadata": {
        "id": "4ab18812"
      },
      "source": [
        "## Exercício 1\n",
        "\n",
        "1.1. Em uma companhia de Seguros 80% das pessoas que compram seguro de veículos são homens. Se 100 proprietários de seguros forem selecionados aleatoriamente, encontre a probabilidade de que exatamente 12 sejam mulheres.\n",
        "\n",
        "**Dica** Empregue a distribuição binomial\n",
        "\n",
        "**Solução**"
      ]
    },
    {
      "cell_type": "code",
      "metadata": {
        "kernel": "R",
        "tags": [
          "report_cell"
        ],
        "id": "34a75c53",
        "colab": {
          "base_uri": "https://localhost:8080/",
          "height": 68
        },
        "outputId": "85918e8e-e734-4910-ed6a-e7cbcd3ef430"
      },
      "source": [
        "dbinom(12,size=100,prob=0.2)   # probabilidade de serem mulheres = 1 - 0.8\n",
        "\n",
        "# a probabilidade de x <= 12\n",
        "pbinom(12,size=100,prob=0.2)   # probabilidade de serem mulheres = 1 - 0.8\n",
        "\n",
        "p = 0\n",
        "for (i in c(0:12)) p = p + dbinom(i,size=100,prob=0.2)\n",
        "p"
      ],
      "execution_count": 1,
      "outputs": [
        {
          "output_type": "display_data",
          "data": {
            "text/plain": [
              "[1] 0.01275388"
            ],
            "text/latex": "0.0127538768732753",
            "text/markdown": "0.0127538768732753",
            "text/html": [
              "0.0127538768732753"
            ]
          },
          "metadata": {}
        },
        {
          "output_type": "display_data",
          "data": {
            "text/plain": [
              "[1] 0.02532875"
            ],
            "text/latex": "0.025328753221397",
            "text/markdown": "0.025328753221397",
            "text/html": [
              "0.025328753221397"
            ]
          },
          "metadata": {}
        },
        {
          "output_type": "display_data",
          "data": {
            "text/plain": [
              "[1] 0.02532875"
            ],
            "text/latex": "0.025328753221397",
            "text/markdown": "0.025328753221397",
            "text/html": [
              "0.025328753221397"
            ]
          },
          "metadata": {}
        }
      ]
    },
    {
      "cell_type": "markdown",
      "metadata": {
        "id": "4befd60c"
      },
      "source": [
        "1.2. Mensalmente a empresa vai sortear grupos de 100 clientes e enviar brindes para as clientes do sexo feminino. Quantos brindes para mulheres devem ser comprados para garantir em 95% dos grupos sorteados?\n",
        "\n",
        "**Solução**"
      ]
    },
    {
      "cell_type": "code",
      "metadata": {
        "kernel": "R",
        "tags": [
          "report_cell"
        ],
        "id": "f19d5614",
        "colab": {
          "base_uri": "https://localhost:8080/",
          "height": 34
        },
        "outputId": "d27845c3-ab57-45f4-b0c8-85bd722dc57c"
      },
      "source": [
        "qbinom(0.95,size=100,prob=0.2) # probibalidade de serem mulheres = 1 - 0.8"
      ],
      "execution_count": 2,
      "outputs": [
        {
          "output_type": "display_data",
          "data": {
            "text/plain": [
              "[1] 27"
            ],
            "text/latex": "27",
            "text/markdown": "27",
            "text/html": [
              "27"
            ]
          },
          "metadata": {}
        }
      ]
    },
    {
      "cell_type": "markdown",
      "metadata": {
        "id": "685a0322"
      },
      "source": [
        "1.3.* Mensalmente a empresa vai sortear grupos de 100 clientes e enviar brindes para as clientes do sexo feminino. Dentre os brindes haverá viagem em grupo. Há entretanto uma limitação de 18 passageiros para o pacote de viagem. Qual o percentual de grupos deve ser atendido com esse número?\n",
        "\n"
      ]
    },
    {
      "cell_type": "markdown",
      "metadata": {
        "id": "96fb4985"
      },
      "source": [
        "1.4.* A empresa deveria rever a campanha de viagens, por exemplo incluindo mais um transporte para 18 passageiros? Se sim, qual o percentual passaria a ser atendido.\n",
        "\n"
      ]
    },
    {
      "cell_type": "markdown",
      "metadata": {
        "id": "3b6fec91"
      },
      "source": [
        "## Exercício 2\n",
        "\n",
        "2.1. Uma bateria (pilha) tem duração média de 60 horas com uma distribuição normal desvio padrão de 3 horas. Qual é a probabilidade de uma bateria durar menos de 65 horas?\n",
        "\n",
        "**Dica** menos de 65h = até 65h (estamos trabalhando com dados contínuos)\n",
        "\n",
        "**Solução**"
      ]
    },
    {
      "cell_type": "code",
      "metadata": {
        "kernel": "R",
        "tags": [
          "report_cell"
        ],
        "id": "d9997e9a",
        "colab": {
          "base_uri": "https://localhost:8080/",
          "height": 34
        },
        "outputId": "d267e8e6-0dd5-475b-c097-3e00136b3e60"
      },
      "source": [
        "pnorm(65,mean=60,sd=3)"
      ],
      "execution_count": 6,
      "outputs": [
        {
          "output_type": "display_data",
          "data": {
            "text/plain": [
              "[1] 0.9522096"
            ],
            "text/latex": "0.952209647727185",
            "text/markdown": "0.952209647727185",
            "text/html": [
              "0.952209647727185"
            ]
          },
          "metadata": {}
        }
      ]
    },
    {
      "cell_type": "markdown",
      "metadata": {
        "id": "4a595dd5"
      },
      "source": [
        "2.2. Qual a probabilidade da pilha durar mais que a média?\n",
        "\n",
        "**Solução**"
      ]
    },
    {
      "cell_type": "code",
      "metadata": {
        "kernel": "R",
        "tags": [
          "report_cell"
        ],
        "id": "218a6e83",
        "colab": {
          "base_uri": "https://localhost:8080/",
          "height": 34
        },
        "outputId": "6504ba1f-c2dd-48b0-cb1f-e348f0b14dc8"
      },
      "source": [
        "1 - pnorm(60,mean=60,sd=3)"
      ],
      "execution_count": 7,
      "outputs": [
        {
          "output_type": "display_data",
          "data": {
            "text/plain": [
              "[1] 0.5"
            ],
            "text/latex": "0.5",
            "text/markdown": "0.5",
            "text/html": [
              "0.5"
            ]
          },
          "metadata": {}
        }
      ]
    },
    {
      "cell_type": "markdown",
      "metadata": {
        "id": "fd3942c6"
      },
      "source": [
        "2.3.* Qual a probabilidade da pilha durar mais que 65h?\n",
        "\n"
      ]
    },
    {
      "cell_type": "markdown",
      "metadata": {
        "id": "fc42d84f"
      },
      "source": [
        "## Exercício 3\n",
        "\n",
        "3.1.* Um servidor tem duração média de 18000 horas ininterruptas de operação, sem falhas de Hardware, com uma distribuição normal de desvio padrão de 500 horas. Em um novo Data Center foram instalados 1000 desses servidores. A empresa quer fazer uma reserva para as manutenções. Quantos servidores é esperado apresentar falhas até o segundo ano?\n",
        "\n",
        "**Dica** 1 ano = 365*24 horas\n",
        "\n"
      ]
    },
    {
      "cell_type": "markdown",
      "metadata": {
        "id": "23efa25b"
      },
      "source": [
        "3.2.* Quantos servidores devem apresentar falha no terceiro ano?\n",
        "\n"
      ]
    },
    {
      "cell_type": "markdown",
      "metadata": {
        "id": "5ae95555"
      },
      "source": [
        "## Exercício 4\n",
        "\n",
        "4.1. Notas de rendimento escolar, vestibulares e concursos em geral seguem uma distribuição normal, do mesmo modo que o QI. Neste ano a pontuação média para uma determinada carreira foi de 72 pontos com um desvio padrão de 12. Qual o percentual de de alunos com 84 ou mais pontos nesse exame?\n",
        "\n",
        "**Solução**"
      ]
    },
    {
      "cell_type": "code",
      "metadata": {
        "kernel": "R",
        "tags": [
          "report_cell"
        ],
        "id": "685ea49f",
        "colab": {
          "base_uri": "https://localhost:8080/",
          "height": 51
        },
        "outputId": "3b30da52-b533-4b8e-b9d1-4ee95ebe9f57"
      },
      "source": [
        "1 - pnorm(84, mean=72, sd=12)\n",
        "\n",
        "# Ou alternativamente esta sintaxe\n",
        "pnorm(84, mean=72, sd=12, lower.tail=FALSE)"
      ],
      "execution_count": 11,
      "outputs": [
        {
          "output_type": "display_data",
          "data": {
            "text/plain": [
              "[1] 0.1586553"
            ],
            "text/latex": "0.158655253931457",
            "text/markdown": "0.158655253931457",
            "text/html": [
              "0.158655253931457"
            ]
          },
          "metadata": {}
        },
        {
          "output_type": "display_data",
          "data": {
            "text/plain": [
              "[1] 0.1586553"
            ],
            "text/latex": "0.158655253931457",
            "text/markdown": "0.158655253931457",
            "text/html": [
              "0.158655253931457"
            ]
          },
          "metadata": {}
        }
      ]
    },
    {
      "cell_type": "markdown",
      "metadata": {
        "id": "d0632394"
      },
      "source": [
        "4.2.* Qual é a porcentagem de alunos com até 70 pontos no exame?\n",
        "\n"
      ]
    },
    {
      "cell_type": "markdown",
      "metadata": {
        "id": "b4b08964"
      },
      "source": [
        "4.3.* Qual a nota dos alunos abaixo e acima dos percentis de 10% e 90% de notas?"
      ]
    },
    {
      "cell_type": "markdown",
      "metadata": {
        "id": "DhrplxFPU2YP"
      },
      "source": [
        "**Dica** empregue `round()` para arredondar o valor para pontos inteiros\n",
        "\n"
      ]
    },
    {
      "cell_type": "markdown",
      "metadata": {
        "id": "f295f42b"
      },
      "source": [
        "4.4.* Qual a nota de corte para abranger 75% dos candidatos para uma segunda fase?"
      ]
    },
    {
      "cell_type": "markdown",
      "metadata": {
        "id": "0gQ9S8ZiU70v"
      },
      "source": [
        "**Dica** empregue `round()` para arredondar o valor para pontos inteiros\n",
        "\n",
        "**Dica** veja que a nota de corte permite que mais alunos participem da segunda fase. É, portanto, em geral um valor abaixo da média!\n",
        "\n"
      ]
    },
    {
      "cell_type": "markdown",
      "metadata": {
        "id": "a438399e"
      },
      "source": [
        "## Exercício 5"
      ]
    },
    {
      "cell_type": "markdown",
      "metadata": {
        "id": "Lb76vdQoVBIX"
      },
      "source": [
        "5.1.* Nos gráficos abaixo você encontra valores aleatórios gerados para diferentes distribuições que, assim como a distribuição binomial e normal, aparecem para um grande número de problemas. Note que empregamos a função `r-<nome-da-distribuição>` e para cada uma delas você encontrará também as funções de densidade de probabilidade (`d-<nome-da-distribuição>`), probabilidade acumulada (`p-<nome-da-distribuição>`) e quartis (`q-<nome-da-distribuição>`).\n",
        "\n",
        "Agora, observe as distribuições abaixo e responda: que 3 distribuições estariam mais próximas de representar (a) a distribuição de renda entre os brasileiros e (b) a altura em cm dos brasileiros? (considere apenas a forma das curvas, os valores empregados foram aleatórios e não estão centrados na renda ou altura dos brasileiros)."
      ]
    },
    {
      "cell_type": "code",
      "metadata": {
        "jupyter": {
          "source_hidden": true
        },
        "kernel": "R",
        "tags": [
          "report_cell"
        ],
        "id": "1c19404c",
        "colab": {
          "base_uri": "https://localhost:8080/",
          "height": 437
        },
        "outputId": "95ff6edc-dd7c-4792-f9f8-9fc50b99cd0d"
      },
      "source": [
        "par(mfrow = c(2, 3))\n",
        "set.seed(1234)\n",
        "plot(density(rexp(n=1000,rate=1/3)),main='exp')\n",
        "plot(density(rf(n=1000,df1=100,df2=10)),main='F')\n",
        "plot(density(rgamma(n=1000,shape=1)),main='gamma')\n",
        "plot(density(rpois(n=1000,lambda=10)),main='poisson')\n",
        "plot(density(rchisq(n=1000,df=20)),main='Chi 2')\n",
        "plot(density(rt(n=1000,df=10)),main='t-Student')"
      ],
      "execution_count": 19,
      "outputs": [
        {
          "output_type": "display_data",
          "data": {
            "image/png": "[encoded data removed]",
            "text/plain": [
              "Plot with title “t-Student”"
            ]
          },
          "metadata": {
            "image/png": {
              "width": 420,
              "height": 420
            }
          }
        }
      ]
    },
    {
      "cell_type": "markdown",
      "metadata": {
        "id": "ShLwDcznEA3I"
      },
      "source": [
        "## Exercício 6\n",
        "\n",
        "6.1.* Uma distribuição uniforme é aquela em que todos os valores tem a mesma probabilidade de ocorrer. Entretanto, não existem quaisquer situações práticas em que isso ocorre. Verdadeiro ou Falso?\n",
        "\n"
      ]
    },
    {
      "cell_type": "markdown",
      "metadata": {
        "id": "ftpc1LAYE4JG"
      },
      "source": [
        "6.2.* Considere sucessivas jogadas de um dado. De acordo com a lei dos grandes números podemos afirmar que: \n",
        "\n",
        "a. A probabilidade de termos o número 6 é mais próxima de 1/6 a medida que mais vezes repetimos as jogadas\n",
        "\n",
        "b. A razão de vezes que o número 6 aparece é mais próxima de 1/6 a medida que mais vezes repetimos as jogadas\n",
        "\n",
        "c. A probabilidade de termos o número 6 é mais próxima de 1/2 a medida que mais vezes repetimos as jogadas\n",
        "\n",
        "d. A razão de vezes que o número 6 aparece é mais próxima de 1/2 a medida que mais vezes repetimos as jogadas\n",
        "\n",
        "e. Nenhuma das alternativas, isso está mais relacionado ao teorema central do limite\n",
        "\n",
        "\n",
        "<br>\n",
        "<br>\n",
        "\n",
        "\n",
        "6.3.* Considere o teorema central do limite. Podemos afirmar que: \n",
        "\n",
        "  i. É um outro nome dado à lei dos grandes números\n",
        "  \n",
        "  ii. Ele é importante por que relaciona a distribuição normal a uma série de problemas\n",
        "  \n",
        "  iii. Ele se aplica somente a dados com distribuição normal\n",
        "\n",
        "Estão corretas:\n",
        "\n",
        "a. Todas as alternativas\n",
        "\n",
        "b. Somente ii\n",
        "\n",
        "c. Somente iii\n",
        "\n",
        "d. Somente i, iii\n",
        "\n",
        "e. Somente ii, iii\n",
        " \n",
        "<br>\n",
        "<br>\n",
        "\n",
        "\n",
        "6.4.* Considere o teorema central do limite. Podemos afirmar que: \n",
        "\n",
        "  i. Ele associa a média de variáveis à distribuição normal para quaisquer distribuições dessas variáveis \n",
        "\n",
        "  ii. Ele relaciona as distribuições normal e t-Student para grandes amostras  \n",
        "\n",
        "  iii. Ele permite afirmar que a média dos resultados dos lançamentos de uma dado terá uma distribuição com média 3.5\n",
        "\n",
        "Estão corretas:\n",
        "\n",
        "a. Todas as alternativas\n",
        "\n",
        "b. Somente ii\n",
        "\n",
        "c. Somente iii\n",
        "\n",
        "d. Somente i, iii\n",
        "\n",
        "e. Somente ii, iii\n",
        " \n",
        "<br>\n",
        "<br>\n",
        "\n",
        "\n",
        "6.5.* Considere as seguintes afirmativas sobre o z-score: \n",
        "\n",
        "  i. É uma medida de dispersão de uma variável aleatória\n",
        "\n",
        "  ii. Fornece quantos desvios padrão um dado valor está distante em relação à média \n",
        "  \n",
        "  iii. Pode ser empregado para compararmos diferentes conjuntos de dados\n",
        " \n",
        "Estão corretas:\n",
        "\n",
        "a. Todas as alternativas\n",
        "\n",
        "b. Somente ii\n",
        "\n",
        "c. Somente iii\n",
        "\n",
        "d. Somente i, iii\n",
        "\n",
        "e. Somente ii, iii\n",
        " \n",
        "<br>\n",
        "<br>\n",
        "\n",
        "\n",
        "6.6.* Assinale a alternativa que contenha somente distribuições simétricas:\n",
        "\n",
        "a. normal, t-Student, chi-quadrado, poisson\n",
        "\n",
        "b. normal, t-Student, chi-quadrado, binomial\n",
        "\n",
        "c. normal, t-Student, uniforme, binomial\n",
        "\n",
        "d. normal, t-Student, poisson\n",
        "\n",
        "e. normal, t-Student, uniforme, binomial, poisson\n",
        "\n",
        "<br>\n",
        "<br> \n",
        "\n"
      ]
    }
  ]
}