{
  "nbformat": 4,
  "nbformat_minor": 0,
  "metadata": {
    "colab": {
      "name": "AED_3_Prof_Resolve",
      "provenance": [],
      "authorship_tag": "ABX9TyOQ8QDrtQ9AxBtYnUB8n3zc",
      "include_colab_link": true
    },
    "kernelspec": {
      "name": "ir",
      "display_name": "R"
    },
    "language_info": {
      "name": "R"
    }
  },
  "cells": [
    {
      "cell_type": "markdown",
      "metadata": {
        "id": "view-in-github",
        "colab_type": "text"
      },
      "source": [
        "<a href=\"https://colab.research.google.com/github/Rogerio-mack/Analise_Exploratoria_de_Dados/blob/main/AED_3_Prof_Resolve.ipynb\" target=\"_parent\"><img src=\"https://colab.research.google.com/assets/colab-badge.svg\" alt=\"Open In Colab\"/></a>"
      ]
    },
    {
      "cell_type": "markdown",
      "metadata": {
        "id": "40b90843"
      },
      "source": [
        "<img src=\"http://meusite.mackenzie.br/rogerio/mackenzie_logo/UPM.2_horizontal_vermelho.jpg\"  width=300, align=\"right\">\n",
        "<br>\n",
        "<br>\n",
        "<br>\n",
        "<br>\n",
        "<br>\n",
        "\n",
        "# Quartis\n",
        "---"
      ]
    },
    {
      "cell_type": "code",
      "metadata": {
        "id": "aQ4mlclV5bkr"
      },
      "source": [
        "x = c(1,1,1,1,2,3,4,5,6,7,8,9,10,10,10)"
      ],
      "execution_count": 4,
      "outputs": []
    },
    {
      "cell_type": "code",
      "metadata": {
        "id": "P3Z8XMiQ5nOl",
        "colab": {
          "base_uri": "https://localhost:8080/",
          "height": 51
        },
        "outputId": "6da3cf05-9108-48ed-9ab4-e3fe3608e852"
      },
      "source": [
        "summary(x)"
      ],
      "execution_count": 2,
      "outputs": [
        {
          "output_type": "display_data",
          "data": {
            "text/plain": [
              "   Min. 1st Qu.  Median    Mean 3rd Qu.    Max. \n",
              "  1.000   1.000   1.000   4.692   9.000  10.000 "
            ]
          },
          "metadata": {}
        }
      ]
    },
    {
      "cell_type": "code",
      "metadata": {
        "colab": {
          "base_uri": "https://localhost:8080/",
          "height": 34
        },
        "id": "zHIWibjO9G8x",
        "outputId": "5d9bfa61-06ca-4755-875c-4167e6373171"
      },
      "source": [
        "quantile(x)[2]"
      ],
      "execution_count": 6,
      "outputs": [
        {
          "output_type": "display_data",
          "data": {
            "text/plain": [
              "25% \n",
              "1.5 "
            ],
            "text/latex": "\\textbf{25\\textbackslash{}\\%:} 1.5",
            "text/markdown": "**25%:** 1.5",
            "text/html": [
              "<strong>25%:</strong> 1.5"
            ]
          },
          "metadata": {}
        }
      ]
    },
    {
      "cell_type": "code",
      "metadata": {
        "id": "65BEAXbI7dC8",
        "colab": {
          "base_uri": "https://localhost:8080/",
          "height": 34
        },
        "outputId": "bb7e661f-ed63-4900-96e8-f5ff27cf6c48"
      },
      "source": [
        "quantile(x, probs=c(.9))"
      ],
      "execution_count": 8,
      "outputs": [
        {
          "output_type": "display_data",
          "data": {
            "text/plain": [
              "90% \n",
              " 10 "
            ],
            "text/latex": "\\textbf{90\\textbackslash{}\\%:} 10",
            "text/markdown": "**90%:** 10",
            "text/html": [
              "<strong>90%:</strong> 10"
            ]
          },
          "metadata": {}
        }
      ]
    },
    {
      "cell_type": "code",
      "metadata": {
        "id": "SC-7VBiN5262",
        "colab": {
          "base_uri": "https://localhost:8080/",
          "height": 51
        },
        "outputId": "dda5ca82-b09d-414c-8b75-ef45ea4be118"
      },
      "source": [
        "library(MASS)\n",
        "summary(Cars93$Price)"
      ],
      "execution_count": 13,
      "outputs": [
        {
          "output_type": "display_data",
          "data": {
            "text/plain": [
              "   Min. 1st Qu.  Median    Mean 3rd Qu.    Max. \n",
              "   7.40   12.20   17.70   19.51   23.30   61.90 "
            ]
          },
          "metadata": {}
        }
      ]
    },
    {
      "cell_type": "code",
      "metadata": {
        "colab": {
          "base_uri": "https://localhost:8080/",
          "height": 405
        },
        "id": "d9VWgYzx9dNA",
        "outputId": "7169f0bf-387e-4f22-caa1-376b02e94915"
      },
      "source": [
        "head(Cars93)"
      ],
      "execution_count": 10,
      "outputs": [
        {
          "output_type": "display_data",
          "data": {
            "text/plain": [
              "  Manufacturer Model   Type    Min.Price Price Max.Price MPG.city MPG.highway\n",
              "1 Acura        Integra Small   12.9      15.9  18.8      25       31         \n",
              "2 Acura        Legend  Midsize 29.2      33.9  38.7      18       25         \n",
              "3 Audi         90      Compact 25.9      29.1  32.3      20       26         \n",
              "4 Audi         100     Midsize 30.8      37.7  44.6      19       26         \n",
              "5 BMW          535i    Midsize 23.7      30.0  36.2      22       30         \n",
              "6 Buick        Century Midsize 14.2      15.7  17.3      22       31         \n",
              "  AirBags            DriveTrain ⋯ Passengers Length Wheelbase Width Turn.circle\n",
              "1 None               Front      ⋯ 5          177    102       68    37         \n",
              "2 Driver & Passenger Front      ⋯ 5          195    115       71    38         \n",
              "3 Driver only        Front      ⋯ 5          180    102       67    37         \n",
              "4 Driver & Passenger Front      ⋯ 6          193    106       70    37         \n",
              "5 Driver only        Rear       ⋯ 4          186    109       69    39         \n",
              "6 Driver only        Front      ⋯ 6          189    105       69    41         \n",
              "  Rear.seat.room Luggage.room Weight Origin  Make         \n",
              "1 26.5           11           2705   non-USA Acura Integra\n",
              "2 30.0           15           3560   non-USA Acura Legend \n",
              "3 28.0           14           3375   non-USA Audi 90      \n",
              "4 31.0           17           3405   non-USA Audi 100     \n",
              "5 27.0           13           3640   non-USA BMW 535i     \n",
              "6 28.0           16           2880   USA     Buick Century"
            ],
            "text/latex": "A data.frame: 6 × 27\n\\begin{tabular}{r|lllllllllllllllllllll}\n  & Manufacturer & Model & Type & Min.Price & Price & Max.Price & MPG.city & MPG.highway & AirBags & DriveTrain & ⋯ & Passengers & Length & Wheelbase & Width & Turn.circle & Rear.seat.room & Luggage.room & Weight & Origin & Make\\\\\n  & <fct> & <fct> & <fct> & <dbl> & <dbl> & <dbl> & <int> & <int> & <fct> & <fct> & ⋯ & <int> & <int> & <int> & <int> & <int> & <dbl> & <int> & <int> & <fct> & <fct>\\\\\n\\hline\n\t1 & Acura & Integra & Small   & 12.9 & 15.9 & 18.8 & 25 & 31 & None               & Front & ⋯ & 5 & 177 & 102 & 68 & 37 & 26.5 & 11 & 2705 & non-USA & Acura Integra\\\\\n\t2 & Acura & Legend  & Midsize & 29.2 & 33.9 & 38.7 & 18 & 25 & Driver \\& Passenger & Front & ⋯ & 5 & 195 & 115 & 71 & 38 & 30.0 & 15 & 3560 & non-USA & Acura Legend \\\\\n\t3 & Audi  & 90      & Compact & 25.9 & 29.1 & 32.3 & 20 & 26 & Driver only        & Front & ⋯ & 5 & 180 & 102 & 67 & 37 & 28.0 & 14 & 3375 & non-USA & Audi 90      \\\\\n\t4 & Audi  & 100     & Midsize & 30.8 & 37.7 & 44.6 & 19 & 26 & Driver \\& Passenger & Front & ⋯ & 6 & 193 & 106 & 70 & 37 & 31.0 & 17 & 3405 & non-USA & Audi 100     \\\\\n\t5 & BMW   & 535i    & Midsize & 23.7 & 30.0 & 36.2 & 22 & 30 & Driver only        & Rear  & ⋯ & 4 & 186 & 109 & 69 & 39 & 27.0 & 13 & 3640 & non-USA & BMW 535i     \\\\\n\t6 & Buick & Century & Midsize & 14.2 & 15.7 & 17.3 & 22 & 31 & Driver only        & Front & ⋯ & 6 & 189 & 105 & 69 & 41 & 28.0 & 16 & 2880 & USA     & Buick Century\\\\\n\\end{tabular}\n",
            "text/markdown": "\nA data.frame: 6 × 27\n\n| <!--/--> | Manufacturer &lt;fct&gt; | Model &lt;fct&gt; | Type &lt;fct&gt; | Min.Price &lt;dbl&gt; | Price &lt;dbl&gt; | Max.Price &lt;dbl&gt; | MPG.city &lt;int&gt; | MPG.highway &lt;int&gt; | AirBags &lt;fct&gt; | DriveTrain &lt;fct&gt; | ⋯ ⋯ | Passengers &lt;int&gt; | Length &lt;int&gt; | Wheelbase &lt;int&gt; | Width &lt;int&gt; | Turn.circle &lt;int&gt; | Rear.seat.room &lt;dbl&gt; | Luggage.room &lt;int&gt; | Weight &lt;int&gt; | Origin &lt;fct&gt; | Make &lt;fct&gt; |\n|---|---|---|---|---|---|---|---|---|---|---|---|---|---|---|---|---|---|---|---|---|---|\n| 1 | Acura | Integra | Small   | 12.9 | 15.9 | 18.8 | 25 | 31 | None               | Front | ⋯ | 5 | 177 | 102 | 68 | 37 | 26.5 | 11 | 2705 | non-USA | Acura Integra |\n| 2 | Acura | Legend  | Midsize | 29.2 | 33.9 | 38.7 | 18 | 25 | Driver &amp; Passenger | Front | ⋯ | 5 | 195 | 115 | 71 | 38 | 30.0 | 15 | 3560 | non-USA | Acura Legend  |\n| 3 | Audi  | 90      | Compact | 25.9 | 29.1 | 32.3 | 20 | 26 | Driver only        | Front | ⋯ | 5 | 180 | 102 | 67 | 37 | 28.0 | 14 | 3375 | non-USA | Audi 90       |\n| 4 | Audi  | 100     | Midsize | 30.8 | 37.7 | 44.6 | 19 | 26 | Driver &amp; Passenger | Front | ⋯ | 6 | 193 | 106 | 70 | 37 | 31.0 | 17 | 3405 | non-USA | Audi 100      |\n| 5 | BMW   | 535i    | Midsize | 23.7 | 30.0 | 36.2 | 22 | 30 | Driver only        | Rear  | ⋯ | 4 | 186 | 109 | 69 | 39 | 27.0 | 13 | 3640 | non-USA | BMW 535i      |\n| 6 | Buick | Century | Midsize | 14.2 | 15.7 | 17.3 | 22 | 31 | Driver only        | Front | ⋯ | 6 | 189 | 105 | 69 | 41 | 28.0 | 16 | 2880 | USA     | Buick Century |\n\n",
            "text/html": [
              "<table class=\"dataframe\">\n",
              "<caption>A data.frame: 6 × 27</caption>\n",
              "<thead>\n",
              "\t<tr><th></th><th scope=col>Manufacturer</th><th scope=col>Model</th><th scope=col>Type</th><th scope=col>Min.Price</th><th scope=col>Price</th><th scope=col>Max.Price</th><th scope=col>MPG.city</th><th scope=col>MPG.highway</th><th scope=col>AirBags</th><th scope=col>DriveTrain</th><th scope=col>⋯</th><th scope=col>Passengers</th><th scope=col>Length</th><th scope=col>Wheelbase</th><th scope=col>Width</th><th scope=col>Turn.circle</th><th scope=col>Rear.seat.room</th><th scope=col>Luggage.room</th><th scope=col>Weight</th><th scope=col>Origin</th><th scope=col>Make</th></tr>\n",
              "\t<tr><th></th><th scope=col>&lt;fct&gt;</th><th scope=col>&lt;fct&gt;</th><th scope=col>&lt;fct&gt;</th><th scope=col>&lt;dbl&gt;</th><th scope=col>&lt;dbl&gt;</th><th scope=col>&lt;dbl&gt;</th><th scope=col>&lt;int&gt;</th><th scope=col>&lt;int&gt;</th><th scope=col>&lt;fct&gt;</th><th scope=col>&lt;fct&gt;</th><th scope=col>⋯</th><th scope=col>&lt;int&gt;</th><th scope=col>&lt;int&gt;</th><th scope=col>&lt;int&gt;</th><th scope=col>&lt;int&gt;</th><th scope=col>&lt;int&gt;</th><th scope=col>&lt;dbl&gt;</th><th scope=col>&lt;int&gt;</th><th scope=col>&lt;int&gt;</th><th scope=col>&lt;fct&gt;</th><th scope=col>&lt;fct&gt;</th></tr>\n",
              "</thead>\n",
              "<tbody>\n",
              "\t<tr><th scope=row>1</th><td>Acura</td><td>Integra</td><td>Small  </td><td>12.9</td><td>15.9</td><td>18.8</td><td>25</td><td>31</td><td>None              </td><td>Front</td><td>⋯</td><td>5</td><td>177</td><td>102</td><td>68</td><td>37</td><td>26.5</td><td>11</td><td>2705</td><td>non-USA</td><td>Acura Integra</td></tr>\n",
              "\t<tr><th scope=row>2</th><td>Acura</td><td>Legend </td><td>Midsize</td><td>29.2</td><td>33.9</td><td>38.7</td><td>18</td><td>25</td><td>Driver &amp; Passenger</td><td>Front</td><td>⋯</td><td>5</td><td>195</td><td>115</td><td>71</td><td>38</td><td>30.0</td><td>15</td><td>3560</td><td>non-USA</td><td>Acura Legend </td></tr>\n",
              "\t<tr><th scope=row>3</th><td>Audi </td><td>90     </td><td>Compact</td><td>25.9</td><td>29.1</td><td>32.3</td><td>20</td><td>26</td><td>Driver only       </td><td>Front</td><td>⋯</td><td>5</td><td>180</td><td>102</td><td>67</td><td>37</td><td>28.0</td><td>14</td><td>3375</td><td>non-USA</td><td>Audi 90      </td></tr>\n",
              "\t<tr><th scope=row>4</th><td>Audi </td><td><span style=white-space:pre-wrap>100    </span></td><td>Midsize</td><td>30.8</td><td>37.7</td><td>44.6</td><td>19</td><td>26</td><td>Driver &amp; Passenger</td><td>Front</td><td>⋯</td><td>6</td><td>193</td><td>106</td><td>70</td><td>37</td><td>31.0</td><td>17</td><td>3405</td><td>non-USA</td><td><span style=white-space:pre-wrap>Audi 100     </span></td></tr>\n",
              "\t<tr><th scope=row>5</th><td>BMW  </td><td>535i   </td><td>Midsize</td><td>23.7</td><td>30.0</td><td>36.2</td><td>22</td><td>30</td><td>Driver only       </td><td>Rear </td><td>⋯</td><td>4</td><td>186</td><td>109</td><td>69</td><td>39</td><td>27.0</td><td>13</td><td>3640</td><td>non-USA</td><td>BMW 535i     </td></tr>\n",
              "\t<tr><th scope=row>6</th><td>Buick</td><td>Century</td><td>Midsize</td><td>14.2</td><td>15.7</td><td>17.3</td><td>22</td><td>31</td><td>Driver only       </td><td>Front</td><td>⋯</td><td>6</td><td>189</td><td>105</td><td>69</td><td>41</td><td>28.0</td><td>16</td><td>2880</td><td>USA    </td><td>Buick Century</td></tr>\n",
              "</tbody>\n",
              "</table>\n"
            ]
          },
          "metadata": {}
        }
      ]
    },
    {
      "cell_type": "code",
      "metadata": {
        "id": "lwgdpOLx66c3"
      },
      "source": [
        "iqr = IQR(Cars93$Price)\n",
        "\n",
        "Q1 = quantile(Cars93$Price, probs=c(.25))\n",
        "Q3 = quantile(Cars93$Price, probs=c(.75))\n",
        "# iqr = Q3 - Q1"
      ],
      "execution_count": 11,
      "outputs": []
    },
    {
      "cell_type": "code",
      "metadata": {
        "id": "44dCNLD_7Z9g",
        "colab": {
          "base_uri": "https://localhost:8080/",
          "height": 34
        },
        "outputId": "ee530a40-14c3-4dc5-c1fc-c7d05d7206ce"
      },
      "source": [
        "Q3 + 1.5*iqr"
      ],
      "execution_count": 12,
      "outputs": [
        {
          "output_type": "display_data",
          "data": {
            "text/plain": [
              "  75% \n",
              "39.95 "
            ],
            "text/latex": "\\textbf{75\\textbackslash{}\\%:} 39.95",
            "text/markdown": "**75%:** 39.95",
            "text/html": [
              "<strong>75%:</strong> 39.95"
            ]
          },
          "metadata": {}
        }
      ]
    },
    {
      "cell_type": "code",
      "metadata": {
        "colab": {
          "base_uri": "https://localhost:8080/",
          "height": 278
        },
        "id": "hqgcZhP3-jyG",
        "outputId": "626f525d-da1a-4029-943f-a29076593f9c"
      },
      "source": [
        "Cars93[ Cars93$Price > Q3 + 1.5*iqr , ]"
      ],
      "execution_count": 14,
      "outputs": [
        {
          "output_type": "display_data",
          "data": {
            "text/plain": [
              "   Manufacturer  Model   Type    Min.Price Price Max.Price MPG.city MPG.highway\n",
              "11 Cadillac      Seville Midsize 37.5      40.1  42.7      16       25         \n",
              "48 Infiniti      Q45     Midsize 45.4      47.9  50.4      17       22         \n",
              "59 Mercedes-Benz 300E    Midsize 43.8      61.9  80.0      19       25         \n",
              "   AirBags            DriveTrain ⋯ Passengers Length Wheelbase Width\n",
              "11 Driver & Passenger Front      ⋯ 5          204    111       74   \n",
              "48 Driver only        Rear       ⋯ 5          200    113       72   \n",
              "59 Driver & Passenger Rear       ⋯ 5          187    110       69   \n",
              "   Turn.circle Rear.seat.room Luggage.room Weight Origin  Make              \n",
              "11 44          31             14           3935   USA     Cadillac Seville  \n",
              "48 42          29             15           4000   non-USA Infiniti Q45      \n",
              "59 37          27             15           3525   non-USA Mercedes-Benz 300E"
            ],
            "text/latex": "A data.frame: 3 × 27\n\\begin{tabular}{r|lllllllllllllllllllll}\n  & Manufacturer & Model & Type & Min.Price & Price & Max.Price & MPG.city & MPG.highway & AirBags & DriveTrain & ⋯ & Passengers & Length & Wheelbase & Width & Turn.circle & Rear.seat.room & Luggage.room & Weight & Origin & Make\\\\\n  & <fct> & <fct> & <fct> & <dbl> & <dbl> & <dbl> & <int> & <int> & <fct> & <fct> & ⋯ & <int> & <int> & <int> & <int> & <int> & <dbl> & <int> & <int> & <fct> & <fct>\\\\\n\\hline\n\t11 & Cadillac      & Seville & Midsize & 37.5 & 40.1 & 42.7 & 16 & 25 & Driver \\& Passenger & Front & ⋯ & 5 & 204 & 111 & 74 & 44 & 31 & 14 & 3935 & USA     & Cadillac Seville  \\\\\n\t48 & Infiniti      & Q45     & Midsize & 45.4 & 47.9 & 50.4 & 17 & 22 & Driver only        & Rear  & ⋯ & 5 & 200 & 113 & 72 & 42 & 29 & 15 & 4000 & non-USA & Infiniti Q45      \\\\\n\t59 & Mercedes-Benz & 300E    & Midsize & 43.8 & 61.9 & 80.0 & 19 & 25 & Driver \\& Passenger & Rear  & ⋯ & 5 & 187 & 110 & 69 & 37 & 27 & 15 & 3525 & non-USA & Mercedes-Benz 300E\\\\\n\\end{tabular}\n",
            "text/markdown": "\nA data.frame: 3 × 27\n\n| <!--/--> | Manufacturer &lt;fct&gt; | Model &lt;fct&gt; | Type &lt;fct&gt; | Min.Price &lt;dbl&gt; | Price &lt;dbl&gt; | Max.Price &lt;dbl&gt; | MPG.city &lt;int&gt; | MPG.highway &lt;int&gt; | AirBags &lt;fct&gt; | DriveTrain &lt;fct&gt; | ⋯ ⋯ | Passengers &lt;int&gt; | Length &lt;int&gt; | Wheelbase &lt;int&gt; | Width &lt;int&gt; | Turn.circle &lt;int&gt; | Rear.seat.room &lt;dbl&gt; | Luggage.room &lt;int&gt; | Weight &lt;int&gt; | Origin &lt;fct&gt; | Make &lt;fct&gt; |\n|---|---|---|---|---|---|---|---|---|---|---|---|---|---|---|---|---|---|---|---|---|---|\n| 11 | Cadillac      | Seville | Midsize | 37.5 | 40.1 | 42.7 | 16 | 25 | Driver &amp; Passenger | Front | ⋯ | 5 | 204 | 111 | 74 | 44 | 31 | 14 | 3935 | USA     | Cadillac Seville   |\n| 48 | Infiniti      | Q45     | Midsize | 45.4 | 47.9 | 50.4 | 17 | 22 | Driver only        | Rear  | ⋯ | 5 | 200 | 113 | 72 | 42 | 29 | 15 | 4000 | non-USA | Infiniti Q45       |\n| 59 | Mercedes-Benz | 300E    | Midsize | 43.8 | 61.9 | 80.0 | 19 | 25 | Driver &amp; Passenger | Rear  | ⋯ | 5 | 187 | 110 | 69 | 37 | 27 | 15 | 3525 | non-USA | Mercedes-Benz 300E |\n\n",
            "text/html": [
              "<table class=\"dataframe\">\n",
              "<caption>A data.frame: 3 × 27</caption>\n",
              "<thead>\n",
              "\t<tr><th></th><th scope=col>Manufacturer</th><th scope=col>Model</th><th scope=col>Type</th><th scope=col>Min.Price</th><th scope=col>Price</th><th scope=col>Max.Price</th><th scope=col>MPG.city</th><th scope=col>MPG.highway</th><th scope=col>AirBags</th><th scope=col>DriveTrain</th><th scope=col>⋯</th><th scope=col>Passengers</th><th scope=col>Length</th><th scope=col>Wheelbase</th><th scope=col>Width</th><th scope=col>Turn.circle</th><th scope=col>Rear.seat.room</th><th scope=col>Luggage.room</th><th scope=col>Weight</th><th scope=col>Origin</th><th scope=col>Make</th></tr>\n",
              "\t<tr><th></th><th scope=col>&lt;fct&gt;</th><th scope=col>&lt;fct&gt;</th><th scope=col>&lt;fct&gt;</th><th scope=col>&lt;dbl&gt;</th><th scope=col>&lt;dbl&gt;</th><th scope=col>&lt;dbl&gt;</th><th scope=col>&lt;int&gt;</th><th scope=col>&lt;int&gt;</th><th scope=col>&lt;fct&gt;</th><th scope=col>&lt;fct&gt;</th><th scope=col>⋯</th><th scope=col>&lt;int&gt;</th><th scope=col>&lt;int&gt;</th><th scope=col>&lt;int&gt;</th><th scope=col>&lt;int&gt;</th><th scope=col>&lt;int&gt;</th><th scope=col>&lt;dbl&gt;</th><th scope=col>&lt;int&gt;</th><th scope=col>&lt;int&gt;</th><th scope=col>&lt;fct&gt;</th><th scope=col>&lt;fct&gt;</th></tr>\n",
              "</thead>\n",
              "<tbody>\n",
              "\t<tr><th scope=row>11</th><td><span style=white-space:pre-wrap>Cadillac     </span></td><td>Seville</td><td>Midsize</td><td>37.5</td><td>40.1</td><td>42.7</td><td>16</td><td>25</td><td>Driver &amp; Passenger</td><td>Front</td><td>⋯</td><td>5</td><td>204</td><td>111</td><td>74</td><td>44</td><td>31</td><td>14</td><td>3935</td><td><span style=white-space:pre-wrap>USA    </span></td><td><span style=white-space:pre-wrap>Cadillac Seville  </span></td></tr>\n",
              "\t<tr><th scope=row>48</th><td>Infiniti     </td><td>Q45    </td><td>Midsize</td><td>45.4</td><td>47.9</td><td>50.4</td><td>17</td><td>22</td><td>Driver only       </td><td>Rear </td><td>⋯</td><td>5</td><td>200</td><td>113</td><td>72</td><td>42</td><td>29</td><td>15</td><td>4000</td><td>non-USA</td><td>Infiniti Q45      </td></tr>\n",
              "\t<tr><th scope=row>59</th><td>Mercedes-Benz</td><td><span style=white-space:pre-wrap>300E   </span></td><td>Midsize</td><td>43.8</td><td>61.9</td><td>80.0</td><td>19</td><td>25</td><td>Driver &amp; Passenger</td><td>Rear </td><td>⋯</td><td>5</td><td>187</td><td>110</td><td>69</td><td>37</td><td>27</td><td>15</td><td>3525</td><td>non-USA</td><td>Mercedes-Benz 300E</td></tr>\n",
              "</tbody>\n",
              "</table>\n"
            ]
          },
          "metadata": {}
        }
      ]
    }
  ]
}