{
  "nbformat": 4,
  "nbformat_minor": 0,
  "metadata": {
    "colab": {
      "name": "AED_0.ipynb",
      "provenance": [],
      "authorship_tag": "ABX9TyMLzQxivNc5K2IRo7WHMG9L",
      "include_colab_link": true
    },
    "kernelspec": {
      "name": "ir",
      "display_name": "R"
    },
    "language_info": {
      "name": "R"
    }
  },
  "cells": [
    {
      "cell_type": "markdown",
      "metadata": {
        "id": "view-in-github",
        "colab_type": "text"
      },
      "source": [
        "<a href=\"https://colab.research.google.com/github/Rogerio-mack/Analise_Exploratoria_de_Dados/blob/main/AED_0.ipynb\" target=\"_parent\"><img src=\"https://colab.research.google.com/assets/colab-badge.svg\" alt=\"Open In Colab\"/></a>"
      ]
    },
    {
      "cell_type": "markdown",
      "metadata": {
        "id": "7y78COGOHLXy"
      },
      "source": [
        "<img src=\"http://meusite.mackenzie.br/rogerio/mackenzie_logo/UPM.2_horizontal_vermelho.jpg\"  width=300, align=\"right\">\n",
        "<br>\n",
        "<br>\n",
        "<br>\n",
        "<br>\n",
        "<br>\n",
        "\n",
        "# Análise Exploratória de Dados\n",
        "---"
      ]
    },
    {
      "cell_type": "markdown",
      "metadata": {
        "id": "YhT5sd4yHLcQ"
      },
      "source": [
        "# Introdução \n",
        "\n",
        "Você já deve ter notado que nos últimos anos os investimentos na infraestrutura de negócios, a transformação digital e o surgimento de novos negócios melhoraram muito a capacidade das empresas em coletar dados surgindo um grande volume de dados para a tomada de decisões. Praticamente todos os aspectos dos negócios hoje podem ser coletados e transformados em dados: da manufatura aos serviços financeiros; dos serviços de saúde aos dados de comportamento dos clientes em um site de vendas ou serviços; dos dados de campanhas eleitorais aos dados de desmatamento; dos jogos esportivos à performance dos atletas. E há ainda uma grande disponibilidade de dados externos, como dados abertos de governos ou, ainda, informações de previsão do tempo ou tráfego que podem ser obtidas a partir de uma API à serviços em nuvem. A Ciência de Dados é ciência que busca transformar todo esse grande volume de dados em informações e conhecimentos úteis à tomada de decisões, e a Análise Exploratória dos Dados, que você vai estudar aqui é, em geral, a primeira fase desse processo. \n",
        "\n",
        "Nesta disciplina você entenderá os conceitos de dado, informação e conhecimento. Aprenderá os principais conceitos e resultados da Probabilidade e Estatística empregados na Análise Exploratória, como estatísticas descritivas, distribuições de probabilidade e probabilidade condicionais, e também fará Análises de Dados empregando R e Python. \n",
        "\n",
        "Esses conteúdos estão divididos em 8 distribuídas como abaixo:\n",
        "\n",
        "1. **Introdução à Análise Exploratória e os Ambiente R**\n",
        "\n",
        "2. **Programação em R**\n",
        "\n",
        "3. **Estatísticas Descritivas em R**\n",
        "\n",
        "4. **Visualização de Dados em R**\n",
        "\n",
        "5. **Conceitos de Probabilidade e Distribuições**\n",
        "\n",
        "6. **Analisando Dados com Python**\n",
        "\n",
        "7. **Casos de Análise Exploratória**\n",
        "\n",
        "8. **Probabilidade Condicionada e Bayes**\n",
        "\n",
        "\n",
        "\n",
        "\n",
        "\n",
        "\n",
        "\n",
        "\n",
        "\n",
        "\n"
      ]
    }
  ]
}