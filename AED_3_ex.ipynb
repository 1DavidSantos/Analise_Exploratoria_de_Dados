{
  "nbformat": 4,
  "nbformat_minor": 0,
  "metadata": {
    "colab": {
      "name": "AED_3_ex.ipynb",
      "provenance": [],
      "authorship_tag": "ABX9TyM9tra5Pqyc+OmNo3Nr+xPN",
      "include_colab_link": true
    },
    "kernelspec": {
      "name": "ir",
      "display_name": "R"
    },
    "language_info": {
      "name": "R"
    }
  },
  "cells": [
    {
      "cell_type": "markdown",
      "metadata": {
        "id": "view-in-github",
        "colab_type": "text"
      },
      "source": [
        "<a href=\"https://colab.research.google.com/github/Rogerio-mack/Analise_Exploratoria_de_Dados/blob/main/AED_3_ex.ipynb\" target=\"_parent\"><img src=\"https://colab.research.google.com/assets/colab-badge.svg\" alt=\"Open In Colab\"/></a>"
      ]
    },
    {
      "cell_type": "code",
      "metadata": {
        "id": "RWRstrIq7Teu"
      },
      "source": [
        ""
      ],
      "execution_count": null,
      "outputs": []
    },
    {
      "cell_type": "markdown",
      "metadata": {
        "id": "40b90843"
      },
      "source": [
        "<img src=\"http://meusite.mackenzie.br/rogerio/mackenzie_logo/UPM.2_horizontal_vermelho.jpg\"  width=300, align=\"right\">\n",
        "<br>\n",
        "<br>\n",
        "<br>\n",
        "<br>\n",
        "<br>\n",
        "\n",
        "# Estatística Descritiva em R\n",
        "---"
      ]
    },
    {
      "cell_type": "markdown",
      "metadata": {
        "id": "f59d854c"
      },
      "source": [
        "# Exercícios"
      ]
    },
    {
      "cell_type": "markdown",
      "metadata": {
        "id": "6a28cc58"
      },
      "source": [
        "## Exercício 1\n",
        "\n",
        "Considere a base."
      ]
    },
    {
      "cell_type": "code",
      "metadata": {
        "kernel": "R",
        "tags": [
          "report_cell"
        ],
        "id": "272f6582",
        "colab": {
          "base_uri": "https://localhost:8080/",
          "height": 303
        },
        "outputId": "0f083945-fde0-47df-c457-102205a56a1e"
      },
      "source": [
        "df = read.csv('http://meusite.mackenzie.br/rogerio/TIC/Life_Expectancy_Data.csv')\n",
        "df = na.omit(df)\n",
        "head(df)"
      ],
      "execution_count": null,
      "outputs": [
        {
          "output_type": "display_data",
          "data": {
            "text/plain": [
              "  Country     Year Status     Life.expectancy Adult.Mortality infant.deaths\n",
              "1 Afghanistan 2015 Developing 65.0            263             62           \n",
              "2 Afghanistan 2014 Developing 59.9            271             64           \n",
              "3 Afghanistan 2013 Developing 59.9            268             66           \n",
              "4 Afghanistan 2012 Developing 59.5            272             69           \n",
              "5 Afghanistan 2011 Developing 59.2            275             71           \n",
              "6 Afghanistan 2010 Developing 58.8            279             74           \n",
              "  Alcohol percentage.expenditure Hepatitis.B Measles ⋯ Polio Total.expenditure\n",
              "1 0.01    71.279624              65          1154    ⋯  6    8.16             \n",
              "2 0.01    73.523582              62           492    ⋯ 58    8.18             \n",
              "3 0.01    73.219243              64           430    ⋯ 62    8.13             \n",
              "4 0.01    78.184215              67          2787    ⋯ 67    8.52             \n",
              "5 0.01     7.097109              68          3013    ⋯ 68    7.87             \n",
              "6 0.01    79.679367              66          1989    ⋯ 66    9.20             \n",
              "  Diphtheria HIV.AIDS GDP       Population thinness..1.19.years\n",
              "1 65         0.1      584.25921 33736494   17.2                \n",
              "2 62         0.1      612.69651   327582   17.5                \n",
              "3 64         0.1      631.74498 31731688   17.7                \n",
              "4 67         0.1      669.95900  3696958   17.9                \n",
              "5 68         0.1       63.53723  2978599   18.2                \n",
              "6 66         0.1      553.32894  2883167   18.4                \n",
              "  thinness.5.9.years Income.composition.of.resources Schooling\n",
              "1 17.3               0.479                           10.1     \n",
              "2 17.5               0.476                           10.0     \n",
              "3 17.7               0.470                            9.9     \n",
              "4 18.0               0.463                            9.8     \n",
              "5 18.2               0.454                            9.5     \n",
              "6 18.4               0.448                            9.2     "
            ],
            "text/latex": "A data.frame: 6 × 22\n\\begin{tabular}{r|lllllllllllllllllllll}\n  & Country & Year & Status & Life.expectancy & Adult.Mortality & infant.deaths & Alcohol & percentage.expenditure & Hepatitis.B & Measles & ⋯ & Polio & Total.expenditure & Diphtheria & HIV.AIDS & GDP & Population & thinness..1.19.years & thinness.5.9.years & Income.composition.of.resources & Schooling\\\\\n  & <chr> & <int> & <chr> & <dbl> & <int> & <int> & <dbl> & <dbl> & <int> & <int> & ⋯ & <int> & <dbl> & <int> & <dbl> & <dbl> & <dbl> & <dbl> & <dbl> & <dbl> & <dbl>\\\\\n\\hline\n\t1 & Afghanistan & 2015 & Developing & 65.0 & 263 & 62 & 0.01 & 71.279624 & 65 & 1154 & ⋯ &  6 & 8.16 & 65 & 0.1 & 584.25921 & 33736494 & 17.2 & 17.3 & 0.479 & 10.1\\\\\n\t2 & Afghanistan & 2014 & Developing & 59.9 & 271 & 64 & 0.01 & 73.523582 & 62 &  492 & ⋯ & 58 & 8.18 & 62 & 0.1 & 612.69651 &   327582 & 17.5 & 17.5 & 0.476 & 10.0\\\\\n\t3 & Afghanistan & 2013 & Developing & 59.9 & 268 & 66 & 0.01 & 73.219243 & 64 &  430 & ⋯ & 62 & 8.13 & 64 & 0.1 & 631.74498 & 31731688 & 17.7 & 17.7 & 0.470 &  9.9\\\\\n\t4 & Afghanistan & 2012 & Developing & 59.5 & 272 & 69 & 0.01 & 78.184215 & 67 & 2787 & ⋯ & 67 & 8.52 & 67 & 0.1 & 669.95900 &  3696958 & 17.9 & 18.0 & 0.463 &  9.8\\\\\n\t5 & Afghanistan & 2011 & Developing & 59.2 & 275 & 71 & 0.01 &  7.097109 & 68 & 3013 & ⋯ & 68 & 7.87 & 68 & 0.1 &  63.53723 &  2978599 & 18.2 & 18.2 & 0.454 &  9.5\\\\\n\t6 & Afghanistan & 2010 & Developing & 58.8 & 279 & 74 & 0.01 & 79.679367 & 66 & 1989 & ⋯ & 66 & 9.20 & 66 & 0.1 & 553.32894 &  2883167 & 18.4 & 18.4 & 0.448 &  9.2\\\\\n\\end{tabular}\n",
            "text/markdown": "\nA data.frame: 6 × 22\n\n| <!--/--> | Country &lt;chr&gt; | Year &lt;int&gt; | Status &lt;chr&gt; | Life.expectancy &lt;dbl&gt; | Adult.Mortality &lt;int&gt; | infant.deaths &lt;int&gt; | Alcohol &lt;dbl&gt; | percentage.expenditure &lt;dbl&gt; | Hepatitis.B &lt;int&gt; | Measles &lt;int&gt; | ⋯ ⋯ | Polio &lt;int&gt; | Total.expenditure &lt;dbl&gt; | Diphtheria &lt;int&gt; | HIV.AIDS &lt;dbl&gt; | GDP &lt;dbl&gt; | Population &lt;dbl&gt; | thinness..1.19.years &lt;dbl&gt; | thinness.5.9.years &lt;dbl&gt; | Income.composition.of.resources &lt;dbl&gt; | Schooling &lt;dbl&gt; |\n|---|---|---|---|---|---|---|---|---|---|---|---|---|---|---|---|---|---|---|---|---|---|\n| 1 | Afghanistan | 2015 | Developing | 65.0 | 263 | 62 | 0.01 | 71.279624 | 65 | 1154 | ⋯ |  6 | 8.16 | 65 | 0.1 | 584.25921 | 33736494 | 17.2 | 17.3 | 0.479 | 10.1 |\n| 2 | Afghanistan | 2014 | Developing | 59.9 | 271 | 64 | 0.01 | 73.523582 | 62 |  492 | ⋯ | 58 | 8.18 | 62 | 0.1 | 612.69651 |   327582 | 17.5 | 17.5 | 0.476 | 10.0 |\n| 3 | Afghanistan | 2013 | Developing | 59.9 | 268 | 66 | 0.01 | 73.219243 | 64 |  430 | ⋯ | 62 | 8.13 | 64 | 0.1 | 631.74498 | 31731688 | 17.7 | 17.7 | 0.470 |  9.9 |\n| 4 | Afghanistan | 2012 | Developing | 59.5 | 272 | 69 | 0.01 | 78.184215 | 67 | 2787 | ⋯ | 67 | 8.52 | 67 | 0.1 | 669.95900 |  3696958 | 17.9 | 18.0 | 0.463 |  9.8 |\n| 5 | Afghanistan | 2011 | Developing | 59.2 | 275 | 71 | 0.01 |  7.097109 | 68 | 3013 | ⋯ | 68 | 7.87 | 68 | 0.1 |  63.53723 |  2978599 | 18.2 | 18.2 | 0.454 |  9.5 |\n| 6 | Afghanistan | 2010 | Developing | 58.8 | 279 | 74 | 0.01 | 79.679367 | 66 | 1989 | ⋯ | 66 | 9.20 | 66 | 0.1 | 553.32894 |  2883167 | 18.4 | 18.4 | 0.448 |  9.2 |\n\n",
            "text/html": [
              "<table class=\"dataframe\">\n",
              "<caption>A data.frame: 6 × 22</caption>\n",
              "<thead>\n",
              "\t<tr><th></th><th scope=col>Country</th><th scope=col>Year</th><th scope=col>Status</th><th scope=col>Life.expectancy</th><th scope=col>Adult.Mortality</th><th scope=col>infant.deaths</th><th scope=col>Alcohol</th><th scope=col>percentage.expenditure</th><th scope=col>Hepatitis.B</th><th scope=col>Measles</th><th scope=col>⋯</th><th scope=col>Polio</th><th scope=col>Total.expenditure</th><th scope=col>Diphtheria</th><th scope=col>HIV.AIDS</th><th scope=col>GDP</th><th scope=col>Population</th><th scope=col>thinness..1.19.years</th><th scope=col>thinness.5.9.years</th><th scope=col>Income.composition.of.resources</th><th scope=col>Schooling</th></tr>\n",
              "\t<tr><th></th><th scope=col>&lt;chr&gt;</th><th scope=col>&lt;int&gt;</th><th scope=col>&lt;chr&gt;</th><th scope=col>&lt;dbl&gt;</th><th scope=col>&lt;int&gt;</th><th scope=col>&lt;int&gt;</th><th scope=col>&lt;dbl&gt;</th><th scope=col>&lt;dbl&gt;</th><th scope=col>&lt;int&gt;</th><th scope=col>&lt;int&gt;</th><th scope=col>⋯</th><th scope=col>&lt;int&gt;</th><th scope=col>&lt;dbl&gt;</th><th scope=col>&lt;int&gt;</th><th scope=col>&lt;dbl&gt;</th><th scope=col>&lt;dbl&gt;</th><th scope=col>&lt;dbl&gt;</th><th scope=col>&lt;dbl&gt;</th><th scope=col>&lt;dbl&gt;</th><th scope=col>&lt;dbl&gt;</th><th scope=col>&lt;dbl&gt;</th></tr>\n",
              "</thead>\n",
              "<tbody>\n",
              "\t<tr><th scope=row>1</th><td>Afghanistan</td><td>2015</td><td>Developing</td><td>65.0</td><td>263</td><td>62</td><td>0.01</td><td>71.279624</td><td>65</td><td>1154</td><td>⋯</td><td> 6</td><td>8.16</td><td>65</td><td>0.1</td><td>584.25921</td><td>33736494</td><td>17.2</td><td>17.3</td><td>0.479</td><td>10.1</td></tr>\n",
              "\t<tr><th scope=row>2</th><td>Afghanistan</td><td>2014</td><td>Developing</td><td>59.9</td><td>271</td><td>64</td><td>0.01</td><td>73.523582</td><td>62</td><td> 492</td><td>⋯</td><td>58</td><td>8.18</td><td>62</td><td>0.1</td><td>612.69651</td><td>  327582</td><td>17.5</td><td>17.5</td><td>0.476</td><td>10.0</td></tr>\n",
              "\t<tr><th scope=row>3</th><td>Afghanistan</td><td>2013</td><td>Developing</td><td>59.9</td><td>268</td><td>66</td><td>0.01</td><td>73.219243</td><td>64</td><td> 430</td><td>⋯</td><td>62</td><td>8.13</td><td>64</td><td>0.1</td><td>631.74498</td><td>31731688</td><td>17.7</td><td>17.7</td><td>0.470</td><td> 9.9</td></tr>\n",
              "\t<tr><th scope=row>4</th><td>Afghanistan</td><td>2012</td><td>Developing</td><td>59.5</td><td>272</td><td>69</td><td>0.01</td><td>78.184215</td><td>67</td><td>2787</td><td>⋯</td><td>67</td><td>8.52</td><td>67</td><td>0.1</td><td>669.95900</td><td> 3696958</td><td>17.9</td><td>18.0</td><td>0.463</td><td> 9.8</td></tr>\n",
              "\t<tr><th scope=row>5</th><td>Afghanistan</td><td>2011</td><td>Developing</td><td>59.2</td><td>275</td><td>71</td><td>0.01</td><td> 7.097109</td><td>68</td><td>3013</td><td>⋯</td><td>68</td><td>7.87</td><td>68</td><td>0.1</td><td> 63.53723</td><td> 2978599</td><td>18.2</td><td>18.2</td><td>0.454</td><td> 9.5</td></tr>\n",
              "\t<tr><th scope=row>6</th><td>Afghanistan</td><td>2010</td><td>Developing</td><td>58.8</td><td>279</td><td>74</td><td>0.01</td><td>79.679367</td><td>66</td><td>1989</td><td>⋯</td><td>66</td><td>9.20</td><td>66</td><td>0.1</td><td>553.32894</td><td> 2883167</td><td>18.4</td><td>18.4</td><td>0.448</td><td> 9.2</td></tr>\n",
              "</tbody>\n",
              "</table>\n"
            ]
          },
          "metadata": {}
        }
      ]
    },
    {
      "cell_type": "markdown",
      "metadata": {
        "id": "a753b0a8"
      },
      "source": [
        "1.1. Explore os dados. Quantos registros, quantidade de atributos, período etc.\n",
        "\n",
        "**Solução**"
      ]
    },
    {
      "cell_type": "markdown",
      "metadata": {
        "id": "e787ab6a"
      },
      "source": [
        "1.2. Selecione somente os dados de 2014 e empregue eles nos exercícios a seguir. Verifique a quantidade de registros resultante.\n",
        "\n",
        "**Solução**"
      ]
    },
    {
      "cell_type": "markdown",
      "metadata": {
        "id": "8639f6db"
      },
      "source": [
        "1.3. Qual a média de Expectativa de Vida para os países em desenvolvimento e desenvolvidos em 2014?\n",
        "\n",
        "**Solução**"
      ]
    },
    {
      "cell_type": "markdown",
      "metadata": {
        "id": "f416dd8f"
      },
      "source": [
        "1.4. Qual a média, mediana e quartis de BMI e Expectativa de Vida para os países desenvolvidos em 2014?\n",
        "\n",
        "**Solução**"
      ]
    },
    {
      "cell_type": "markdown",
      "metadata": {
        "id": "205b69b7"
      },
      "source": [
        "1.5. Qual a média e desvio padrão para os valores de BMI e Expectativa de Vida para os países em desenvolvimento e desenvolvidos em 2014?\n",
        "\n",
        "**Solução**"
      ]
    },
    {
      "cell_type": "markdown",
      "metadata": {
        "id": "8c9ba974"
      },
      "source": [
        "1.6. Existe correlação significativa entre BMI e Expectativa de Vida para os desenvolvidos em 2014?\n",
        "\n",
        "**Solução**"
      ]
    },
    {
      "cell_type": "markdown",
      "metadata": {
        "id": "410a2c2b"
      },
      "source": [
        "1.7. E para países em desenvolvimento, existe correlação significativa entre BMI e Expectativa de Vida em 2014?\n",
        "\n",
        "**Solução**"
      ]
    },
    {
      "cell_type": "markdown",
      "metadata": {
        "id": "e9193695"
      },
      "source": [
        "1.8. Leia os dados novamente com todos os anos. Existem *outliers* de BMI e Expectativa de Vida no conjunto de todos os países? Se sim, quantos dados são outliers? (empregue o critério dos interquartis)\n",
        "\n",
        "DICA: empregue o comando `df = na.omit(df)` para eliminar valores ausentes nos dados como fizemos no início do exercício.\n",
        "\n",
        "**Solução**"
      ]
    },
    {
      "cell_type": "code",
      "metadata": {
        "kernel": "R",
        "tags": [
          "report_cell"
        ],
        "id": "88523863"
      },
      "source": [
        "df = read.csv('http://meusite.mackenzie.br/rogerio/TIC/Life_Expectancy_Data.csv')\n",
        "df = na.omit(df)\n",
        "head(df)\n",
        "\n",
        "..."
      ],
      "execution_count": null,
      "outputs": []
    },
    {
      "cell_type": "markdown",
      "metadata": {
        "id": "5ea04792"
      },
      "source": [
        "1.9. Qual a média de Expectativa de Vida com e sem *outliers* (lembre-se de considerar aqui a base completa)?\n",
        "\n",
        "**Solução**"
      ]
    },
    {
      "cell_type": "markdown",
      "metadata": {
        "id": "d7d98fd4"
      },
      "source": [
        "## Exercício 2\n",
        "Considere a base."
      ]
    },
    {
      "cell_type": "code",
      "metadata": {
        "kernel": "R",
        "tags": [
          "report_cell"
        ],
        "id": "c5aeb361",
        "colab": {
          "base_uri": "https://localhost:8080/",
          "height": 283
        },
        "outputId": "b6b52473-c2fa-478c-a23a-7a960d288f77"
      },
      "source": [
        "library(MASS)\n",
        "# help(painters)\n",
        "painters = na.omit(painters)\n",
        "head(painters)"
      ],
      "execution_count": null,
      "outputs": [
        {
          "output_type": "display_data",
          "data": {
            "text/plain": [
              "              Composition Drawing Colour Expression School\n",
              "Da Udine      10           8      16      3         A     \n",
              "Da Vinci      15          16       4     14         A     \n",
              "Del Piombo     8          13      16      7         A     \n",
              "Del Sarto     12          16       9      8         A     \n",
              "Fr. Penni      0          15       8      0         A     \n",
              "Guilio Romano 15          16       4     14         A     "
            ],
            "text/latex": "A data.frame: 6 × 5\n\\begin{tabular}{r|lllll}\n  & Composition & Drawing & Colour & Expression & School\\\\\n  & <int> & <int> & <int> & <int> & <fct>\\\\\n\\hline\n\tDa Udine & 10 &  8 & 16 &  3 & A\\\\\n\tDa Vinci & 15 & 16 &  4 & 14 & A\\\\\n\tDel Piombo &  8 & 13 & 16 &  7 & A\\\\\n\tDel Sarto & 12 & 16 &  9 &  8 & A\\\\\n\tFr. Penni &  0 & 15 &  8 &  0 & A\\\\\n\tGuilio Romano & 15 & 16 &  4 & 14 & A\\\\\n\\end{tabular}\n",
            "text/markdown": "\nA data.frame: 6 × 5\n\n| <!--/--> | Composition &lt;int&gt; | Drawing &lt;int&gt; | Colour &lt;int&gt; | Expression &lt;int&gt; | School &lt;fct&gt; |\n|---|---|---|---|---|---|\n| Da Udine | 10 |  8 | 16 |  3 | A |\n| Da Vinci | 15 | 16 |  4 | 14 | A |\n| Del Piombo |  8 | 13 | 16 |  7 | A |\n| Del Sarto | 12 | 16 |  9 |  8 | A |\n| Fr. Penni |  0 | 15 |  8 |  0 | A |\n| Guilio Romano | 15 | 16 |  4 | 14 | A |\n\n",
            "text/html": [
              "<table class=\"dataframe\">\n",
              "<caption>A data.frame: 6 × 5</caption>\n",
              "<thead>\n",
              "\t<tr><th></th><th scope=col>Composition</th><th scope=col>Drawing</th><th scope=col>Colour</th><th scope=col>Expression</th><th scope=col>School</th></tr>\n",
              "\t<tr><th></th><th scope=col>&lt;int&gt;</th><th scope=col>&lt;int&gt;</th><th scope=col>&lt;int&gt;</th><th scope=col>&lt;int&gt;</th><th scope=col>&lt;fct&gt;</th></tr>\n",
              "</thead>\n",
              "<tbody>\n",
              "\t<tr><th scope=row>Da Udine</th><td>10</td><td> 8</td><td>16</td><td> 3</td><td>A</td></tr>\n",
              "\t<tr><th scope=row>Da Vinci</th><td>15</td><td>16</td><td> 4</td><td>14</td><td>A</td></tr>\n",
              "\t<tr><th scope=row>Del Piombo</th><td> 8</td><td>13</td><td>16</td><td> 7</td><td>A</td></tr>\n",
              "\t<tr><th scope=row>Del Sarto</th><td>12</td><td>16</td><td> 9</td><td> 8</td><td>A</td></tr>\n",
              "\t<tr><th scope=row>Fr. Penni</th><td> 0</td><td>15</td><td> 8</td><td> 0</td><td>A</td></tr>\n",
              "\t<tr><th scope=row>Guilio Romano</th><td>15</td><td>16</td><td> 4</td><td>14</td><td>A</td></tr>\n",
              "</tbody>\n",
              "</table>\n"
            ]
          },
          "metadata": {}
        }
      ]
    },
    {
      "cell_type": "markdown",
      "metadata": {
        "id": "a5925025"
      },
      "source": [
        "2.1. Quantos tipos de escolas de pintores existem?\n",
        "\n",
        "**Solução**"
      ]
    },
    {
      "cell_type": "markdown",
      "metadata": {
        "id": "f34b2b9c"
      },
      "source": [
        "2.2. Qual a *moda* das escolas de pintores?\n",
        "\n",
        "**Solução**"
      ]
    },
    {
      "cell_type": "markdown",
      "metadata": {
        "id": "7c3ba180"
      },
      "source": [
        "2.3. Quantos pintores estão acima da média em composição?\n",
        "\n",
        "**Solução**"
      ]
    },
    {
      "cell_type": "markdown",
      "metadata": {
        "id": "c947d621"
      },
      "source": [
        "2.4. Qual o pintor ou pintores com maior pontuação considerando todos os critérios? Não há muita surpresa aqui não?\n",
        "\n",
        "DICA: crie uma nota com a soma de todas as pontuações dos pintores.\n",
        "\n",
        "**Solução**"
      ]
    },
    {
      "cell_type": "markdown",
      "metadata": {
        "id": "dd395e34"
      },
      "source": [
        "2.5. Explore a mediana e média através das notas de Composição e Colour dos pintores.\n",
        "\n",
        "**Solução**"
      ]
    },
    {
      "cell_type": "code",
      "metadata": {
        "kernel": "R",
        "tags": [
          "report_cell"
        ],
        "id": "5ed86236"
      },
      "source": [
        "# Faremos uma exploração gráfica empregando vários recursos avançados aqui apenas para \n",
        "# você 'visualizar' as relações entre a média e mediana, o que pode ser bastante útil \n",
        "# para você. Mas sua solução solução pode mesmo ser simples e apenas comparar os valores. ;-)\n",
        "\n"
      ],
      "execution_count": null,
      "outputs": []
    },
    {
      "cell_type": "markdown",
      "metadata": {
        "id": "a79ecaa2"
      },
      "source": [
        "## Exercício 3\n",
        "\n",
        "> *Os exercícios a seguir são conceituais e não requerem qualquer código.*\n",
        "\n",
        "3.1. A mediana e desvio padrão são estatísticas que ajudam a compreender:\n",
        "\n",
        "  a. A centralidade e dispersão dos dados\n",
        "\n",
        "  b. A centralidade dos dados\n",
        "\n",
        "  c. A dispersão dos dados\n",
        "\n",
        "  d. A posição dos dados\n",
        "\n",
        "  e. Nenhuma das alternativas\n",
        "\n",
        "**Solução**"
      ]
    },
    {
      "cell_type": "markdown",
      "metadata": {
        "id": "2a80438f"
      },
      "source": [
        "3.2. Um conjunto de dados com um desvio padrão alto:\n",
        "\n",
        "  a. Está mais concentrado\n",
        "\n",
        "  b. É mais disperso\n",
        "\n",
        "  c. Apresenta média e medianas próximas\n",
        "\n",
        "  d. Apresenta média e medianas distantes\n",
        "  \n",
        "  e. Nenhuma das alternativas\n",
        "\n",
        "**Solução**"
      ]
    },
    {
      "cell_type": "markdown",
      "metadata": {
        "id": "4e00fcb2"
      },
      "source": [
        "3.3. Uma correlação, entre duas variáveis, próxima de zero indica que:\n",
        "\n",
        "  a. As variáveis são independentes\n",
        "\n",
        "  b. As variáveis não tem relação\n",
        "\n",
        "  c. As variáveis não tem relação linear\n",
        "\n",
        "  d. As variáveis apresentam valores muito iguais\n",
        "  \n",
        "  e. Nenhuma das alternativas\n",
        "\n",
        "**Solução**"
      ]
    },
    {
      "cell_type": "markdown",
      "metadata": {
        "id": "fa9238ca"
      },
      "source": [
        "3.4. Outliers nos dados ser encontrados por:\n",
        "\n",
        "  a. Erros de medida\n",
        "\n",
        "  b. Erro na entrada dos dados\n",
        "\n",
        "  c. Ruído nos dados (interferências)\n",
        "\n",
        "  d. Valores legítimos mas que de fato se destacam do padrão dos dados\n",
        "\n",
        "  e. Todas as alternativas\n",
        "\n",
        "**Solução**"
      ]
    },
    {
      "cell_type": "markdown",
      "metadata": {
        "id": "010143b6"
      },
      "source": [
        "3.5. Sobre o desvio padrão:\n",
        "\n",
        "  i. Diferentemente da variância encontra-se na mesma unidade que os dados\n",
        "\n",
        "  ii. É igual ao quadrado da variância\n",
        "\n",
        "  iii. É uma medida de dispersão dos dados\n",
        "\n",
        "  São corretas:\n",
        "\n",
        "  a. Somente i\n",
        "\n",
        "  b. Somente i, ii\n",
        "\n",
        "  c. Somente i, iii\n",
        "\n",
        "  d. Somente ii, iii\n",
        "\n",
        "  e. Todas\n",
        "\n",
        "**Solução**"
      ]
    }
  ]
}